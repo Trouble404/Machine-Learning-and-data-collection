{
 "cells": [
  {
   "cell_type": "code",
   "execution_count": 27,
   "metadata": {},
   "outputs": [],
   "source": [
    "import  numpy as np\n",
    "import pandas as pd"
   ]
  },
  {
   "cell_type": "code",
   "execution_count": 28,
   "metadata": {},
   "outputs": [],
   "source": [
    "df = pd.read_excel('@CarisLeVert .xlsx')\n",
    "DA = df['V1']\n",
    "DB = df['V2']\n",
    "\n",
    "table = pd.read_excel('Country.xlsx')\n",
    "table.columns = ['A','B']\n",
    "smp_name = table['A'].tolist()\n",
    "full_name = table['B'].tolist()"
   ]
  },
  {
   "cell_type": "code",
   "execution_count": 29,
   "metadata": {},
   "outputs": [],
   "source": [
    "dict = {\n",
    "        'V1':[],\n",
    "        'V2':[],\n",
    "        'V3':[]\n",
    "    }"
   ]
  },
  {
   "cell_type": "code",
   "execution_count": 30,
   "metadata": {},
   "outputs": [],
   "source": [
    "    for idx,place in enumerate(DB):\n",
    "        try:\n",
    "            name = place.split(',')[-1].strip()\n",
    "\n",
    "            where = smp_name.index(name)\n",
    "\n",
    "            v1 = DA[idx]\n",
    "            v2 = place\n",
    "            v3 = full_name[where]\n",
    "            dict['V1'].append(v1)\n",
    "            dict['V2'].append(v2)\n",
    "            dict['V3'].append(v3)\n",
    "\n",
    "        except Exception as e:\n",
    "            # print(e)\n",
    "            pass"
   ]
  },
  {
   "cell_type": "code",
   "execution_count": 31,
   "metadata": {},
   "outputs": [
    {
     "name": "stdout",
     "output_type": "stream",
     "text": [
      "(6839, 3)\n"
     ]
    }
   ],
   "source": [
    "    data = pd.DataFrame(dict)\n",
    "    print(data.shape)\n",
    "    data.to_csv('clean1.csv',index=None, encoding='utf-8')"
   ]
  },
  {
   "cell_type": "code",
   "execution_count": null,
   "metadata": {},
   "outputs": [],
   "source": []
  }
 ],
 "metadata": {
  "kernelspec": {
   "display_name": "Python 2",
   "language": "python",
   "name": "python2"
  },
  "language_info": {
   "codemirror_mode": {
    "name": "ipython",
    "version": 2
   },
   "file_extension": ".py",
   "mimetype": "text/x-python",
   "name": "python",
   "nbconvert_exporter": "python",
   "pygments_lexer": "ipython2",
   "version": "2.7.14"
  }
 },
 "nbformat": 4,
 "nbformat_minor": 2
}
