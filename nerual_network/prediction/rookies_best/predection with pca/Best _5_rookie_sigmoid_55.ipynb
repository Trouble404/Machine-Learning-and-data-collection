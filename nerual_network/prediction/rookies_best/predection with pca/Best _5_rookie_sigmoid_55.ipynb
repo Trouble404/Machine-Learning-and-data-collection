{
 "cells": [
  {
   "cell_type": "code",
   "execution_count": 1,
   "metadata": {
    "ExecuteTime": {
     "end_time": "2018-01-07T23:05:54.241228Z",
     "start_time": "2018-01-07T23:05:51.951638Z"
    }
   },
   "outputs": [
    {
     "name": "stderr",
     "output_type": "stream",
     "text": [
      "Using TensorFlow backend.\n",
      "/usr/lib/python3.6/importlib/_bootstrap.py:219: RuntimeWarning: compiletime version 3.5 of module 'tensorflow.python.framework.fast_tensor_util' does not match runtime version 3.6\n",
      "  return f(*args, **kwds)\n"
     ]
    }
   ],
   "source": [
    "import numpy as np\n",
    "import pandas\n",
    "from keras.layers import *\n",
    "from keras.models import Sequential, Model\n",
    "import keras\n",
    "import matplotlib.pyplot as plt"
   ]
  },
  {
   "cell_type": "code",
   "execution_count": 2,
   "metadata": {
    "ExecuteTime": {
     "end_time": "2018-01-07T23:05:54.276490Z",
     "start_time": "2018-01-07T23:05:54.242821Z"
    }
   },
   "outputs": [],
   "source": [
    "def zeroMean(dataMat):        \n",
    "    meanVal=np.mean(dataMat,axis=0)     #get mean by columns\n",
    "    newData=dataMat-meanVal  \n",
    "    return newData,meanVal\n",
    "\n",
    "\n",
    "def percentage2n(eigVals,percentage):  \n",
    "    sortArray=np.sort(eigVals)          #ascend order \n",
    "    sortArray=sortArray[-1::-1]           \n",
    "    arraySum=sum(sortArray)  \n",
    "    tmpSum=0  \n",
    "    num=0  \n",
    "    for i in sortArray:  \n",
    "        tmpSum+=i  \n",
    "        num+=1  \n",
    "        if tmpSum>=arraySum*percentage:  \n",
    "            return num  \n",
    "\n",
    "\n",
    "def pca(dataMat,percentage=0.99):  \n",
    "    newData,meanVal=zeroMean(dataMat)  \n",
    "    covMat=np.cov(newData,rowvar=0)      #covariance  \n",
    "    eigVals,eigVects=np.linalg.eig(np.mat(covMat))      \n",
    "    n=percentage2n(eigVals,percentage)                 #need n dimensionol data to get the convariance percentage\n",
    "    n = 6   # pca of 2017 rookies data is 6 dimentional \n",
    "    eigValIndice=np.argsort(eigVals)            #ascend order \n",
    "    n_eigValIndice=eigValIndice[-1:-(n+1):-1]   \n",
    "    n_eigVect=eigVects[:,n_eigValIndice]        \n",
    "    lowDDataMat=newData*n_eigVect               #lower dimensional data  \n",
    "    reconMat=(lowDDataMat*n_eigVect.T)+meanVal  #reconstruct data  \n",
    "    return lowDDataMat,reconMat"
   ]
  },
  {
   "cell_type": "code",
   "execution_count": 3,
   "metadata": {
    "ExecuteTime": {
     "end_time": "2018-01-07T23:05:54.310095Z",
     "start_time": "2018-01-07T23:05:54.278110Z"
    }
   },
   "outputs": [],
   "source": [
    "df = pandas.read_csv(\"04-16_NBA_rookies_data.csv\", header=None)\n",
    "df1 = pandas.read_csv(\"04-16_NBA_rookies_label.csv\",header=None)\n",
    "df_test = pandas.read_csv(\"2017rookies_data.csv\",header=None)\n",
    "df1_test = pandas.read_csv(\"2017rookies_name.csv\",header=None)\n",
    "ds = df.values\n",
    "ds1 = df1.values\n",
    "lowDDataMat,reconMat=pca(ds)  #pca\n",
    "ds_test = df_test.values\n",
    "lowDDataMat1,reconMat1=pca(ds_test)  #pca\n",
    "ds1_test = df1_test.values"
   ]
  },
  {
   "cell_type": "code",
   "execution_count": 4,
   "metadata": {
    "ExecuteTime": {
     "end_time": "2018-01-07T23:05:54.396997Z",
     "start_time": "2018-01-07T23:05:54.311744Z"
    }
   },
   "outputs": [],
   "source": [
    "x_train = lowDDataMat[:,0:6]\n",
    "y_train = ds1[:,1]\n",
    "x_test = lowDDataMat1[:,0:6]\n",
    "y_test = ds1_test[:,0]\n",
    "\n",
    "dim = x_train.shape[1]\n",
    "model = Sequential()\n",
    "model.add(Dense(100, input_dim=dim, activation='sigmoid'))\n",
    "model.add(Dropout(0.5))\n",
    "model.add(Dense(2, activation='softmax'))\n",
    "\n",
    "model.compile(loss='sparse_categorical_crossentropy', optimizer='rmsprop',metrics=[\"accuracy\"])"
   ]
  },
  {
   "cell_type": "code",
   "execution_count": 5,
   "metadata": {
    "ExecuteTime": {
     "end_time": "2018-01-07T23:05:55.183087Z",
     "start_time": "2018-01-07T23:05:54.398729Z"
    }
   },
   "outputs": [],
   "source": [
    "# Change log_dir for differnt activation function, change the number for every run.\n",
    "tbCallBack = keras.callbacks.TensorBoard(log_dir='tensorboard/sigmoid/1', histogram_freq=0, write_graph=True, write_images=True)"
   ]
  },
  {
   "cell_type": "code",
   "execution_count": 6,
   "metadata": {
    "ExecuteTime": {
     "end_time": "2018-01-07T23:05:57.745180Z",
     "start_time": "2018-01-07T23:05:55.184768Z"
    }
   },
   "outputs": [
    {
     "name": "stdout",
     "output_type": "stream",
     "text": [
      "Train on 359 samples, validate on 90 samples\n",
      "Epoch 1/55\n",
      "359/359 [==============================] - 0s 825us/step - loss: 1.1157 - acc: 0.3983 - val_loss: 0.5570 - val_acc: 0.7778\n",
      "Epoch 2/55\n",
      "359/359 [==============================] - 0s 47us/step - loss: 0.5757 - acc: 0.6936 - val_loss: 0.3450 - val_acc: 0.8778\n",
      "Epoch 3/55\n",
      "359/359 [==============================] - 0s 49us/step - loss: 0.3734 - acc: 0.8384 - val_loss: 0.2766 - val_acc: 0.8778\n",
      "Epoch 4/55\n",
      "359/359 [==============================] - 0s 58us/step - loss: 0.2962 - acc: 0.8719 - val_loss: 0.2545 - val_acc: 0.8778\n",
      "Epoch 5/55\n",
      "359/359 [==============================] - 0s 43us/step - loss: 0.2536 - acc: 0.8942 - val_loss: 0.2457 - val_acc: 0.8778\n",
      "Epoch 6/55\n",
      "359/359 [==============================] - 0s 46us/step - loss: 0.2405 - acc: 0.8942 - val_loss: 0.2360 - val_acc: 0.8778\n",
      "Epoch 7/55\n",
      "359/359 [==============================] - 0s 50us/step - loss: 0.2283 - acc: 0.8997 - val_loss: 0.2360 - val_acc: 0.8778\n",
      "Epoch 8/55\n",
      "359/359 [==============================] - 0s 46us/step - loss: 0.1981 - acc: 0.8997 - val_loss: 0.2252 - val_acc: 0.8667\n",
      "Epoch 9/55\n",
      "359/359 [==============================] - 0s 48us/step - loss: 0.2043 - acc: 0.8969 - val_loss: 0.2226 - val_acc: 0.8778\n",
      "Epoch 10/55\n",
      "359/359 [==============================] - 0s 48us/step - loss: 0.2009 - acc: 0.8969 - val_loss: 0.2239 - val_acc: 0.8778\n",
      "Epoch 11/55\n",
      "359/359 [==============================] - 0s 603us/step - loss: 0.1867 - acc: 0.9192 - val_loss: 0.2280 - val_acc: 0.8778\n",
      "Epoch 12/55\n",
      "359/359 [==============================] - 0s 44us/step - loss: 0.1898 - acc: 0.8969 - val_loss: 0.2277 - val_acc: 0.8889\n",
      "Epoch 13/55\n",
      "359/359 [==============================] - 0s 47us/step - loss: 0.1796 - acc: 0.9304 - val_loss: 0.2326 - val_acc: 0.8889\n",
      "Epoch 14/55\n",
      "359/359 [==============================] - 0s 48us/step - loss: 0.1838 - acc: 0.9053 - val_loss: 0.2346 - val_acc: 0.8889\n",
      "Epoch 15/55\n",
      "359/359 [==============================] - 0s 42us/step - loss: 0.1732 - acc: 0.9081 - val_loss: 0.2286 - val_acc: 0.8889\n",
      "Epoch 16/55\n",
      "359/359 [==============================] - 0s 45us/step - loss: 0.1690 - acc: 0.9109 - val_loss: 0.2286 - val_acc: 0.8889\n",
      "Epoch 17/55\n",
      "359/359 [==============================] - 0s 45us/step - loss: 0.1576 - acc: 0.9192 - val_loss: 0.2297 - val_acc: 0.8889\n",
      "Epoch 18/55\n",
      "359/359 [==============================] - 0s 44us/step - loss: 0.1512 - acc: 0.9081 - val_loss: 0.2172 - val_acc: 0.9000\n",
      "Epoch 19/55\n",
      "359/359 [==============================] - 0s 42us/step - loss: 0.1572 - acc: 0.9276 - val_loss: 0.2174 - val_acc: 0.9000\n",
      "Epoch 20/55\n",
      "359/359 [==============================] - 0s 511us/step - loss: 0.1576 - acc: 0.9136 - val_loss: 0.2226 - val_acc: 0.9111\n",
      "Epoch 21/55\n",
      "359/359 [==============================] - 0s 46us/step - loss: 0.1496 - acc: 0.9248 - val_loss: 0.2253 - val_acc: 0.9000\n",
      "Epoch 22/55\n",
      "359/359 [==============================] - 0s 45us/step - loss: 0.1695 - acc: 0.9331 - val_loss: 0.2267 - val_acc: 0.9000\n",
      "Epoch 23/55\n",
      "359/359 [==============================] - 0s 41us/step - loss: 0.1451 - acc: 0.9248 - val_loss: 0.2191 - val_acc: 0.9000\n",
      "Epoch 24/55\n",
      "359/359 [==============================] - 0s 41us/step - loss: 0.1239 - acc: 0.9415 - val_loss: 0.2166 - val_acc: 0.9111\n",
      "Epoch 25/55\n",
      "359/359 [==============================] - 0s 42us/step - loss: 0.1537 - acc: 0.9192 - val_loss: 0.2141 - val_acc: 0.9222\n",
      "Epoch 26/55\n",
      "359/359 [==============================] - 0s 45us/step - loss: 0.1341 - acc: 0.9415 - val_loss: 0.2231 - val_acc: 0.9111\n",
      "Epoch 27/55\n",
      "359/359 [==============================] - 0s 47us/step - loss: 0.1559 - acc: 0.9220 - val_loss: 0.2302 - val_acc: 0.9000\n",
      "Epoch 28/55\n",
      "359/359 [==============================] - 0s 45us/step - loss: 0.1328 - acc: 0.9331 - val_loss: 0.2329 - val_acc: 0.9000\n",
      "Epoch 29/55\n",
      "359/359 [==============================] - 0s 46us/step - loss: 0.1593 - acc: 0.9304 - val_loss: 0.2303 - val_acc: 0.9000\n",
      "Epoch 30/55\n",
      "359/359 [==============================] - 0s 44us/step - loss: 0.1243 - acc: 0.9359 - val_loss: 0.2348 - val_acc: 0.9000\n",
      "Epoch 31/55\n",
      "359/359 [==============================] - 0s 40us/step - loss: 0.1460 - acc: 0.9304 - val_loss: 0.2357 - val_acc: 0.9000\n",
      "Epoch 32/55\n",
      "359/359 [==============================] - 0s 46us/step - loss: 0.1268 - acc: 0.9443 - val_loss: 0.2348 - val_acc: 0.9000\n",
      "Epoch 33/55\n",
      "359/359 [==============================] - 0s 46us/step - loss: 0.1297 - acc: 0.9387 - val_loss: 0.2307 - val_acc: 0.9000\n",
      "Epoch 34/55\n",
      "359/359 [==============================] - 0s 45us/step - loss: 0.1545 - acc: 0.9276 - val_loss: 0.2280 - val_acc: 0.9000\n",
      "Epoch 35/55\n",
      "359/359 [==============================] - 0s 48us/step - loss: 0.1491 - acc: 0.9276 - val_loss: 0.2310 - val_acc: 0.9111\n",
      "Epoch 36/55\n",
      "359/359 [==============================] - 0s 43us/step - loss: 0.1413 - acc: 0.9443 - val_loss: 0.2295 - val_acc: 0.9111\n",
      "Epoch 37/55\n",
      "359/359 [==============================] - 0s 487us/step - loss: 0.1189 - acc: 0.9387 - val_loss: 0.2332 - val_acc: 0.9000\n",
      "Epoch 38/55\n",
      "359/359 [==============================] - 0s 59us/step - loss: 0.1193 - acc: 0.9471 - val_loss: 0.2342 - val_acc: 0.9000\n",
      "Epoch 39/55\n",
      "359/359 [==============================] - 0s 52us/step - loss: 0.1339 - acc: 0.9387 - val_loss: 0.2395 - val_acc: 0.9000\n",
      "Epoch 40/55\n",
      "359/359 [==============================] - 0s 50us/step - loss: 0.1299 - acc: 0.9276 - val_loss: 0.2366 - val_acc: 0.9000\n",
      "Epoch 41/55\n",
      "359/359 [==============================] - 0s 41us/step - loss: 0.1231 - acc: 0.9415 - val_loss: 0.2358 - val_acc: 0.9111\n",
      "Epoch 42/55\n",
      "359/359 [==============================] - 0s 59us/step - loss: 0.1320 - acc: 0.9387 - val_loss: 0.2412 - val_acc: 0.9000\n",
      "Epoch 43/55\n",
      "359/359 [==============================] - 0s 52us/step - loss: 0.1359 - acc: 0.9304 - val_loss: 0.2431 - val_acc: 0.9000\n",
      "Epoch 44/55\n",
      "359/359 [==============================] - 0s 47us/step - loss: 0.1325 - acc: 0.9359 - val_loss: 0.2450 - val_acc: 0.9000\n",
      "Epoch 45/55\n",
      "359/359 [==============================] - 0s 56us/step - loss: 0.1270 - acc: 0.9443 - val_loss: 0.2521 - val_acc: 0.9000\n",
      "Epoch 46/55\n",
      "359/359 [==============================] - 0s 52us/step - loss: 0.1241 - acc: 0.9415 - val_loss: 0.2491 - val_acc: 0.9000\n",
      "Epoch 47/55\n",
      "359/359 [==============================] - 0s 812us/step - loss: 0.1247 - acc: 0.9304 - val_loss: 0.2461 - val_acc: 0.9000\n",
      "Epoch 48/55\n",
      "359/359 [==============================] - 0s 46us/step - loss: 0.1252 - acc: 0.9359 - val_loss: 0.2472 - val_acc: 0.9111\n",
      "Epoch 49/55\n",
      "359/359 [==============================] - 0s 45us/step - loss: 0.1239 - acc: 0.9415 - val_loss: 0.2556 - val_acc: 0.8889\n",
      "Epoch 50/55\n",
      "359/359 [==============================] - 0s 44us/step - loss: 0.1255 - acc: 0.9471 - val_loss: 0.2543 - val_acc: 0.9000\n",
      "Epoch 51/55\n",
      "359/359 [==============================] - 0s 51us/step - loss: 0.1157 - acc: 0.9443 - val_loss: 0.2568 - val_acc: 0.9000\n",
      "Epoch 52/55\n",
      "359/359 [==============================] - 0s 45us/step - loss: 0.1076 - acc: 0.9499 - val_loss: 0.2573 - val_acc: 0.9000\n",
      "Epoch 53/55\n",
      "359/359 [==============================] - 0s 48us/step - loss: 0.1105 - acc: 0.9471 - val_loss: 0.2609 - val_acc: 0.9000\n",
      "Epoch 54/55\n",
      "359/359 [==============================] - 0s 48us/step - loss: 0.1092 - acc: 0.9443 - val_loss: 0.2633 - val_acc: 0.9000\n",
      "Epoch 55/55\n",
      "359/359 [==============================] - 0s 46us/step - loss: 0.1207 - acc: 0.9443 - val_loss: 0.2620 - val_acc: 0.9000\n",
      "3\n",
      "['Donovan Mitchell' 'Kyle Kuzma' 'Ben Simmon']\n"
     ]
    }
   ],
   "source": [
    "idx = list(range(x_train.shape[0]))\n",
    "np.random.shuffle(idx)\n",
    "hist = model.fit(x_train[idx],y_train[idx],validation_split=0.2,epochs=55,shuffle=True, callbacks = [tbCallBack])\n",
    "dnn_predict = model.predict_classes(x_test)\n",
    "print(sum(dnn_predict))\n",
    "print(y_test[dnn_predict == 1])"
   ]
  },
  {
   "cell_type": "code",
   "execution_count": 7,
   "metadata": {
    "ExecuteTime": {
     "end_time": "2018-01-07T23:05:58.047784Z",
     "start_time": "2018-01-07T23:05:57.746823Z"
    }
   },
   "outputs": [
    {
     "data": {
      "image/png": "[encoded data removed]",
      "text/plain": [
       "<matplotlib.figure.Figure at 0x7fc540135908>"
      ]
     },
     "metadata": {},
     "output_type": "display_data"
    }
   ],
   "source": [
    "plt.figure(1)\n",
    "plt.plot(hist.history['acc'])\n",
    "plt.plot(hist.history['val_acc'])\n",
    "plt.title('model accuracy')\n",
    "plt.ylabel('accuracy')\n",
    "plt.xlabel('epoch')\n",
    "plt.legend(['train', 'test'], loc = 'lower right')\n",
    "plt.show()"
   ]
  },
  {
   "cell_type": "code",
   "execution_count": 8,
   "metadata": {
    "ExecuteTime": {
     "end_time": "2018-01-07T23:05:58.164546Z",
     "start_time": "2018-01-07T23:05:58.049208Z"
    }
   },
   "outputs": [
    {
     "data": {
      "image/png": "[encoded data removed]",
      "text/plain": [
       "<matplotlib.figure.Figure at 0x7fc53bfc8908>"
      ]
     },
     "metadata": {},
     "output_type": "display_data"
    }
   ],
   "source": [
    "plt.figure(2)\n",
    "plt.plot(hist.history['loss'])\n",
    "plt.plot(hist.history['val_loss'])\n",
    "plt.title('model loss')\n",
    "plt.ylabel('loss')\n",
    "plt.xlabel('epoch')\n",
    "plt.legend(['train', 'test'], loc = 'upper right')\n",
    "plt.show()"
   ]
  }
 ],
 "metadata": {
  "kernelspec": {
   "display_name": "Python 3",
   "language": "python",
   "name": "python3"
  },
  "language_info": {
   "codemirror_mode": {
    "name": "ipython",
    "version": 3
   },
   "file_extension": ".py",
   "mimetype": "text/x-python",
   "name": "python",
   "nbconvert_exporter": "python",
   "pygments_lexer": "ipython3",
   "version": "3.6.3"
  },
  "latex_envs": {
   "LaTeX_envs_menu_present": true,
   "autoclose": false,
   "autocomplete": true,
   "bibliofile": "biblio.bib",
   "cite_by": "apalike",
   "current_citInitial": 1,
   "eqLabelWithNumbers": true,
   "eqNumInitial": 1,
   "hotkeys": {
    "equation": "Ctrl-E",
    "itemize": "Ctrl-I"
   },
   "labels_anchors": false,
   "latex_user_defs": false,
   "report_style_numbering": false,
   "user_envs_cfg": false
  },
  "toc": {
   "nav_menu": {},
   "number_sections": true,
   "sideBar": true,
   "skip_h1_title": false,
   "toc_cell": false,
   "toc_position": {},
   "toc_section_display": "block",
   "toc_window_display": false
  },
  "varInspector": {
   "cols": {
    "lenName": 16,
    "lenType": 16,
    "lenVar": 40
   },
   "kernels_config": {
    "python": {
     "delete_cmd_postfix": "",
     "delete_cmd_prefix": "del ",
     "library": "var_list.py",
     "varRefreshCmd": "print(var_dic_list())"
    },
    "r": {
     "delete_cmd_postfix": ") ",
     "delete_cmd_prefix": "rm(",
     "library": "var_list.r",
     "varRefreshCmd": "cat(var_dic_list()) "
    }
   },
   "types_to_exclude": [
    "module",
    "function",
    "builtin_function_or_method",
    "instance",
    "_Feature"
   ],
   "window_display": false
  }
 },
 "nbformat": 4,
 "nbformat_minor": 2
}
