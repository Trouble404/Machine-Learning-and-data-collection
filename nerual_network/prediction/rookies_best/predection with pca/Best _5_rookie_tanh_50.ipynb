{
 "cells": [
  {
   "cell_type": "code",
   "execution_count": 1,
   "metadata": {
    "ExecuteTime": {
     "end_time": "2018-01-07T22:45:58.607432Z",
     "start_time": "2018-01-07T22:45:56.262960Z"
    }
   },
   "outputs": [
    {
     "name": "stderr",
     "output_type": "stream",
     "text": [
      "Using TensorFlow backend.\n",
      "/usr/lib/python3.6/importlib/_bootstrap.py:219: RuntimeWarning: compiletime version 3.5 of module 'tensorflow.python.framework.fast_tensor_util' does not match runtime version 3.6\n",
      "  return f(*args, **kwds)\n"
     ]
    }
   ],
   "source": [
    "import numpy as np\n",
    "import pandas\n",
    "from keras.layers import *\n",
    "from keras.models import Sequential, Model\n",
    "import keras\n",
    "import matplotlib.pyplot as plt"
   ]
  },
  {
   "cell_type": "code",
   "execution_count": 2,
   "metadata": {
    "ExecuteTime": {
     "end_time": "2018-01-07T22:45:58.665082Z",
     "start_time": "2018-01-07T22:45:58.609749Z"
    }
   },
   "outputs": [],
   "source": [
    "def zeroMean(dataMat):        \n",
    "    meanVal=np.mean(dataMat,axis=0)     #get mean by columns\n",
    "    newData=dataMat-meanVal  \n",
    "    return newData,meanVal\n",
    "\n",
    "\n",
    "def percentage2n(eigVals,percentage):  \n",
    "    sortArray=np.sort(eigVals)          #ascend order \n",
    "    sortArray=sortArray[-1::-1]           \n",
    "    arraySum=sum(sortArray)  \n",
    "    tmpSum=0  \n",
    "    num=0  \n",
    "    for i in sortArray:  \n",
    "        tmpSum+=i  \n",
    "        num+=1  \n",
    "        if tmpSum>=arraySum*percentage:  \n",
    "            return num  \n",
    "\n",
    "\n",
    "def pca(dataMat,percentage=0.99):  \n",
    "    newData,meanVal=zeroMean(dataMat)  \n",
    "    covMat=np.cov(newData,rowvar=0)      #covariance  \n",
    "    eigVals,eigVects=np.linalg.eig(np.mat(covMat))      \n",
    "    n=percentage2n(eigVals,percentage)                 #need n dimensionol data to get the convariance percentage\n",
    "    n = 6   # pca of 2017 rookies data is 6 dimentional \n",
    "    eigValIndice=np.argsort(eigVals)            #ascend order \n",
    "    n_eigValIndice=eigValIndice[-1:-(n+1):-1]   \n",
    "    n_eigVect=eigVects[:,n_eigValIndice]        \n",
    "    lowDDataMat=newData*n_eigVect               #lower dimensional data  \n",
    "    reconMat=(lowDDataMat*n_eigVect.T)+meanVal  #reconstruct data  \n",
    "    return lowDDataMat,reconMat"
   ]
  },
  {
   "cell_type": "code",
   "execution_count": 3,
   "metadata": {
    "ExecuteTime": {
     "end_time": "2018-01-07T22:45:58.899850Z",
     "start_time": "2018-01-07T22:45:58.667100Z"
    }
   },
   "outputs": [],
   "source": [
    "df = pandas.read_csv(\"04-16_NBA_rookies_data.csv\", header=None)\n",
    "df1 = pandas.read_csv(\"04-16_NBA_rookies_label.csv\",header=None)\n",
    "df_test = pandas.read_csv(\"2017rookies_data.csv\",header=None)\n",
    "df1_test = pandas.read_csv(\"2017rookies_name.csv\",header=None)\n",
    "ds = df.values\n",
    "ds1 = df1.values\n",
    "lowDDataMat,reconMat=pca(ds)  #pca\n",
    "ds_test = df_test.values\n",
    "lowDDataMat1,reconMat1=pca(ds_test)  #pca\n",
    "ds1_test = df1_test.values"
   ]
  },
  {
   "cell_type": "code",
   "execution_count": 4,
   "metadata": {
    "ExecuteTime": {
     "end_time": "2018-01-07T22:45:58.981128Z",
     "start_time": "2018-01-07T22:45:58.901904Z"
    }
   },
   "outputs": [],
   "source": [
    "x_train = lowDDataMat[:,0:6]\n",
    "y_train = ds1[:,1]\n",
    "x_test = lowDDataMat1[:,0:6]\n",
    "y_test = ds1_test[:,0]\n",
    "\n",
    "dim = x_train.shape[1]\n",
    "model = Sequential()\n",
    "model.add(Dense(100, input_dim=dim, activation='tanh'))\n",
    "model.add(Dropout(0.5))\n",
    "model.add(Dense(2, activation='softmax'))\n",
    "\n",
    "model.compile(loss='sparse_categorical_crossentropy', optimizer='rmsprop',metrics=[\"accuracy\"])"
   ]
  },
  {
   "cell_type": "code",
   "execution_count": 5,
   "metadata": {
    "ExecuteTime": {
     "end_time": "2018-01-07T22:45:59.519395Z",
     "start_time": "2018-01-07T22:45:58.982927Z"
    }
   },
   "outputs": [],
   "source": [
    "# Change log_dir for differnt activation function, change the number for every run.\n",
    "tbCallBack = keras.callbacks.TensorBoard(log_dir='tensorboard/tanh/2', histogram_freq=0, write_graph=True, write_images=True)"
   ]
  },
  {
   "cell_type": "code",
   "execution_count": 6,
   "metadata": {
    "ExecuteTime": {
     "end_time": "2018-01-07T22:46:01.592606Z",
     "start_time": "2018-01-07T22:45:59.520948Z"
    }
   },
   "outputs": [
    {
     "name": "stdout",
     "output_type": "stream",
     "text": [
      "Train on 359 samples, validate on 90 samples\n",
      "Epoch 1/50\n",
      "359/359 [==============================] - 0s 120us/step - loss: 1.2349 - acc: 0.4652 - val_loss: 0.5557 - val_acc: 0.7333\n",
      "Epoch 2/50\n",
      "359/359 [==============================] - 0s 43us/step - loss: 0.8711 - acc: 0.6156 - val_loss: 0.4436 - val_acc: 0.8111\n",
      "Epoch 3/50\n",
      "359/359 [==============================] - 0s 44us/step - loss: 0.6243 - acc: 0.7326 - val_loss: 0.4409 - val_acc: 0.8000\n",
      "Epoch 4/50\n",
      "359/359 [==============================] - 0s 45us/step - loss: 0.6375 - acc: 0.7187 - val_loss: 0.4228 - val_acc: 0.8000\n",
      "Epoch 5/50\n",
      "359/359 [==============================] - 0s 46us/step - loss: 0.5268 - acc: 0.7632 - val_loss: 0.3545 - val_acc: 0.8111\n",
      "Epoch 6/50\n",
      "359/359 [==============================] - 0s 44us/step - loss: 0.5241 - acc: 0.7577 - val_loss: 0.3734 - val_acc: 0.7889\n",
      "Epoch 7/50\n",
      "359/359 [==============================] - 0s 47us/step - loss: 0.4423 - acc: 0.7688 - val_loss: 0.3526 - val_acc: 0.8111\n",
      "Epoch 8/50\n",
      "359/359 [==============================] - 0s 42us/step - loss: 0.4406 - acc: 0.8050 - val_loss: 0.3331 - val_acc: 0.8333\n",
      "Epoch 9/50\n",
      "359/359 [==============================] - 0s 588us/step - loss: 0.4795 - acc: 0.8106 - val_loss: 0.3171 - val_acc: 0.8556\n",
      "Epoch 10/50\n",
      "359/359 [==============================] - 0s 45us/step - loss: 0.4172 - acc: 0.8134 - val_loss: 0.3048 - val_acc: 0.8556\n",
      "Epoch 11/50\n",
      "359/359 [==============================] - 0s 47us/step - loss: 0.4261 - acc: 0.8245 - val_loss: 0.3182 - val_acc: 0.8556\n",
      "Epoch 12/50\n",
      "359/359 [==============================] - 0s 51us/step - loss: 0.3891 - acc: 0.8329 - val_loss: 0.2897 - val_acc: 0.8778\n",
      "Epoch 13/50\n",
      "359/359 [==============================] - 0s 49us/step - loss: 0.3902 - acc: 0.8217 - val_loss: 0.2710 - val_acc: 0.8778\n",
      "Epoch 14/50\n",
      "359/359 [==============================] - 0s 50us/step - loss: 0.3475 - acc: 0.8579 - val_loss: 0.2782 - val_acc: 0.8778\n",
      "Epoch 15/50\n",
      "359/359 [==============================] - 0s 49us/step - loss: 0.3505 - acc: 0.8607 - val_loss: 0.2751 - val_acc: 0.8778\n",
      "Epoch 16/50\n",
      "359/359 [==============================] - 0s 49us/step - loss: 0.3259 - acc: 0.8635 - val_loss: 0.2619 - val_acc: 0.8667\n",
      "Epoch 17/50\n",
      "359/359 [==============================] - 0s 46us/step - loss: 0.2958 - acc: 0.8774 - val_loss: 0.2538 - val_acc: 0.8667\n",
      "Epoch 18/50\n",
      "359/359 [==============================] - 0s 47us/step - loss: 0.2910 - acc: 0.8691 - val_loss: 0.2464 - val_acc: 0.8778\n",
      "Epoch 19/50\n",
      "359/359 [==============================] - 0s 45us/step - loss: 0.3090 - acc: 0.8579 - val_loss: 0.2438 - val_acc: 0.8778\n",
      "Epoch 20/50\n",
      "359/359 [==============================] - 0s 46us/step - loss: 0.3735 - acc: 0.8412 - val_loss: 0.2397 - val_acc: 0.8778\n",
      "Epoch 21/50\n",
      "359/359 [==============================] - 0s 45us/step - loss: 0.2596 - acc: 0.8997 - val_loss: 0.2323 - val_acc: 0.8889\n",
      "Epoch 22/50\n",
      "359/359 [==============================] - 0s 577us/step - loss: 0.2447 - acc: 0.8886 - val_loss: 0.2324 - val_acc: 0.8889\n",
      "Epoch 23/50\n",
      "359/359 [==============================] - 0s 46us/step - loss: 0.2859 - acc: 0.8774 - val_loss: 0.2272 - val_acc: 0.8889\n",
      "Epoch 24/50\n",
      "359/359 [==============================] - 0s 43us/step - loss: 0.3228 - acc: 0.8691 - val_loss: 0.2282 - val_acc: 0.8889\n",
      "Epoch 25/50\n",
      "359/359 [==============================] - 0s 41us/step - loss: 0.2614 - acc: 0.8969 - val_loss: 0.2285 - val_acc: 0.9000\n",
      "Epoch 26/50\n",
      "359/359 [==============================] - 0s 42us/step - loss: 0.2693 - acc: 0.8942 - val_loss: 0.2189 - val_acc: 0.9111\n",
      "Epoch 27/50\n",
      "359/359 [==============================] - 0s 44us/step - loss: 0.2664 - acc: 0.8774 - val_loss: 0.2175 - val_acc: 0.9111\n",
      "Epoch 28/50\n",
      "359/359 [==============================] - 0s 46us/step - loss: 0.2850 - acc: 0.8942 - val_loss: 0.2160 - val_acc: 0.9000\n",
      "Epoch 29/50\n",
      "359/359 [==============================] - 0s 44us/step - loss: 0.2149 - acc: 0.9081 - val_loss: 0.2159 - val_acc: 0.8889\n",
      "Epoch 30/50\n",
      "359/359 [==============================] - 0s 42us/step - loss: 0.2638 - acc: 0.8914 - val_loss: 0.2142 - val_acc: 0.9000\n",
      "Epoch 31/50\n",
      "359/359 [==============================] - 0s 44us/step - loss: 0.2132 - acc: 0.9081 - val_loss: 0.2120 - val_acc: 0.8889\n",
      "Epoch 32/50\n",
      "359/359 [==============================] - 0s 42us/step - loss: 0.2294 - acc: 0.9025 - val_loss: 0.2103 - val_acc: 0.8889\n",
      "Epoch 33/50\n",
      "359/359 [==============================] - 0s 47us/step - loss: 0.2282 - acc: 0.8914 - val_loss: 0.2081 - val_acc: 0.9000\n",
      "Epoch 34/50\n",
      "359/359 [==============================] - 0s 45us/step - loss: 0.1805 - acc: 0.9220 - val_loss: 0.2081 - val_acc: 0.8889\n",
      "Epoch 35/50\n",
      "359/359 [==============================] - 0s 42us/step - loss: 0.1997 - acc: 0.9053 - val_loss: 0.2077 - val_acc: 0.8889\n",
      "Epoch 36/50\n",
      "359/359 [==============================] - 0s 703us/step - loss: 0.1952 - acc: 0.9276 - val_loss: 0.2055 - val_acc: 0.9111\n",
      "Epoch 37/50\n",
      "359/359 [==============================] - 0s 41us/step - loss: 0.2012 - acc: 0.9164 - val_loss: 0.2012 - val_acc: 0.8889\n",
      "Epoch 38/50\n",
      "359/359 [==============================] - 0s 44us/step - loss: 0.1891 - acc: 0.9248 - val_loss: 0.2023 - val_acc: 0.8889\n",
      "Epoch 39/50\n",
      "359/359 [==============================] - 0s 42us/step - loss: 0.1861 - acc: 0.9053 - val_loss: 0.1999 - val_acc: 0.9111\n",
      "Epoch 40/50\n",
      "359/359 [==============================] - 0s 49us/step - loss: 0.1668 - acc: 0.9276 - val_loss: 0.1996 - val_acc: 0.9000\n",
      "Epoch 41/50\n",
      "359/359 [==============================] - 0s 43us/step - loss: 0.1957 - acc: 0.9109 - val_loss: 0.2006 - val_acc: 0.9000\n",
      "Epoch 42/50\n",
      "359/359 [==============================] - 0s 46us/step - loss: 0.1902 - acc: 0.9248 - val_loss: 0.2043 - val_acc: 0.8889\n",
      "Epoch 43/50\n",
      "359/359 [==============================] - 0s 41us/step - loss: 0.1671 - acc: 0.9248 - val_loss: 0.1995 - val_acc: 0.8889\n",
      "Epoch 44/50\n",
      "359/359 [==============================] - 0s 48us/step - loss: 0.1490 - acc: 0.9276 - val_loss: 0.2001 - val_acc: 0.8889\n",
      "Epoch 45/50\n",
      "359/359 [==============================] - 0s 46us/step - loss: 0.1798 - acc: 0.9359 - val_loss: 0.2000 - val_acc: 0.8889\n",
      "Epoch 46/50\n",
      "359/359 [==============================] - 0s 48us/step - loss: 0.1947 - acc: 0.9164 - val_loss: 0.1984 - val_acc: 0.8889\n",
      "Epoch 47/50\n",
      "359/359 [==============================] - 0s 54us/step - loss: 0.1657 - acc: 0.9136 - val_loss: 0.1997 - val_acc: 0.8889\n",
      "Epoch 48/50\n",
      "359/359 [==============================] - 0s 718us/step - loss: 0.1624 - acc: 0.9192 - val_loss: 0.1941 - val_acc: 0.8889\n",
      "Epoch 49/50\n",
      "359/359 [==============================] - 0s 43us/step - loss: 0.1854 - acc: 0.9276 - val_loss: 0.1907 - val_acc: 0.9111\n",
      "Epoch 50/50\n",
      "359/359 [==============================] - 0s 43us/step - loss: 0.1667 - acc: 0.9387 - val_loss: 0.1901 - val_acc: 0.8889\n",
      "9\n",
      "['Donovan Mitchell' 'Kyle Kuzma' 'Lauri Markkanen' 'Jayson Tatum'\n",
      " 'Dennis Smith' 'John Collins' 'Frank Ntilikina' 'Semi Ojeleye'\n",
      " 'Ben Simmon']\n"
     ]
    }
   ],
   "source": [
    "idx = list(range(x_train.shape[0]))\n",
    "np.random.shuffle(idx)\n",
    "hist = model.fit(x_train[idx],y_train[idx],validation_split=0.2,epochs=50,shuffle=True, callbacks = [tbCallBack])\n",
    "dnn_predict = model.predict_classes(x_test)\n",
    "print(sum(dnn_predict))\n",
    "print(y_test[dnn_predict == 1])"
   ]
  },
  {
   "cell_type": "code",
   "execution_count": 7,
   "metadata": {
    "ExecuteTime": {
     "end_time": "2018-01-07T22:46:01.719314Z",
     "start_time": "2018-01-07T22:46:01.594185Z"
    }
   },
   "outputs": [
    {
     "data": {
      "image/png": "[encoded data removed]",
      "text/plain": [
       "<matplotlib.figure.Figure at 0x7f93e7663908>"
      ]
     },
     "metadata": {},
     "output_type": "display_data"
    }
   ],
   "source": [
    "plt.figure(1)\n",
    "plt.plot(hist.history['acc'])\n",
    "plt.plot(hist.history['val_acc'])\n",
    "plt.title('model accuracy')\n",
    "plt.ylabel('accuracy')\n",
    "plt.xlabel('epoch')\n",
    "plt.legend(['train', 'test'], loc = 'lower right')\n",
    "plt.show()"
   ]
  },
  {
   "cell_type": "code",
   "execution_count": 8,
   "metadata": {
    "ExecuteTime": {
     "end_time": "2018-01-07T22:46:02.081464Z",
     "start_time": "2018-01-07T22:46:01.720797Z"
    }
   },
   "outputs": [
    {
     "data": {
      "image/png": "[encoded data removed]",
      "text/plain": [
       "<matplotlib.figure.Figure at 0x7f93e4529358>"
      ]
     },
     "metadata": {},
     "output_type": "display_data"
    }
   ],
   "source": [
    "plt.figure(2)\n",
    "plt.plot(hist.history['loss'])\n",
    "plt.plot(hist.history['val_loss'])\n",
    "plt.title('model loss')\n",
    "plt.ylabel('loss')\n",
    "plt.xlabel('epoch')\n",
    "plt.legend(['train', 'test'], loc = 'upper right')\n",
    "plt.show()"
   ]
  }
 ],
 "metadata": {
  "kernelspec": {
   "display_name": "Python 3",
   "language": "python",
   "name": "python3"
  },
  "language_info": {
   "codemirror_mode": {
    "name": "ipython",
    "version": 3
   },
   "file_extension": ".py",
   "mimetype": "text/x-python",
   "name": "python",
   "nbconvert_exporter": "python",
   "pygments_lexer": "ipython3",
   "version": "3.6.3"
  },
  "latex_envs": {
   "LaTeX_envs_menu_present": true,
   "autoclose": false,
   "autocomplete": true,
   "bibliofile": "biblio.bib",
   "cite_by": "apalike",
   "current_citInitial": 1,
   "eqLabelWithNumbers": true,
   "eqNumInitial": 1,
   "hotkeys": {
    "equation": "Ctrl-E",
    "itemize": "Ctrl-I"
   },
   "labels_anchors": false,
   "latex_user_defs": false,
   "report_style_numbering": false,
   "user_envs_cfg": false
  },
  "toc": {
   "nav_menu": {},
   "number_sections": true,
   "sideBar": true,
   "skip_h1_title": false,
   "toc_cell": false,
   "toc_position": {},
   "toc_section_display": "block",
   "toc_window_display": false
  },
  "varInspector": {
   "cols": {
    "lenName": 16,
    "lenType": 16,
    "lenVar": 40
   },
   "kernels_config": {
    "python": {
     "delete_cmd_postfix": "",
     "delete_cmd_prefix": "del ",
     "library": "var_list.py",
     "varRefreshCmd": "print(var_dic_list())"
    },
    "r": {
     "delete_cmd_postfix": ") ",
     "delete_cmd_prefix": "rm(",
     "library": "var_list.r",
     "varRefreshCmd": "cat(var_dic_list()) "
    }
   },
   "types_to_exclude": [
    "module",
    "function",
    "builtin_function_or_method",
    "instance",
    "_Feature"
   ],
   "window_display": false
  }
 },
 "nbformat": 4,
 "nbformat_minor": 2
}
