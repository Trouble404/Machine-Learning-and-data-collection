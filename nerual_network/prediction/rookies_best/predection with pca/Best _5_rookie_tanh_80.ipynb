{
 "cells": [
  {
   "cell_type": "code",
   "execution_count": 1,
   "metadata": {
    "ExecuteTime": {
     "end_time": "2018-01-07T22:45:34.676755Z",
     "start_time": "2018-01-07T22:45:32.192934Z"
    }
   },
   "outputs": [
    {
     "name": "stderr",
     "output_type": "stream",
     "text": [
      "Using TensorFlow backend.\n",
      "/usr/lib/python3.6/importlib/_bootstrap.py:219: RuntimeWarning: compiletime version 3.5 of module 'tensorflow.python.framework.fast_tensor_util' does not match runtime version 3.6\n",
      "  return f(*args, **kwds)\n"
     ]
    }
   ],
   "source": [
    "import numpy as np\n",
    "import pandas\n",
    "from keras.layers import *\n",
    "from keras.models import Sequential, Model\n",
    "import keras\n",
    "import matplotlib.pyplot as plt"
   ]
  },
  {
   "cell_type": "code",
   "execution_count": 2,
   "metadata": {
    "ExecuteTime": {
     "end_time": "2018-01-07T22:45:34.712361Z",
     "start_time": "2018-01-07T22:45:34.678472Z"
    }
   },
   "outputs": [],
   "source": [
    "def zeroMean(dataMat):        \n",
    "    meanVal=np.mean(dataMat,axis=0)     #get mean by columns\n",
    "    newData=dataMat-meanVal  \n",
    "    return newData,meanVal\n",
    "\n",
    "\n",
    "def percentage2n(eigVals,percentage):  \n",
    "    sortArray=np.sort(eigVals)          #ascend order \n",
    "    sortArray=sortArray[-1::-1]           \n",
    "    arraySum=sum(sortArray)  \n",
    "    tmpSum=0  \n",
    "    num=0  \n",
    "    for i in sortArray:  \n",
    "        tmpSum+=i  \n",
    "        num+=1  \n",
    "        if tmpSum>=arraySum*percentage:  \n",
    "            return num  \n",
    "\n",
    "\n",
    "def pca(dataMat,percentage=0.99):  \n",
    "    newData,meanVal=zeroMean(dataMat)  \n",
    "    covMat=np.cov(newData,rowvar=0)      #covariance  \n",
    "    eigVals,eigVects=np.linalg.eig(np.mat(covMat))      \n",
    "    n=percentage2n(eigVals,percentage)                 #need n dimensionol data to get the convariance percentage\n",
    "    n = 6   # pca of 2017 rookies data is 6 dimentional \n",
    "    eigValIndice=np.argsort(eigVals)            #ascend order \n",
    "    n_eigValIndice=eigValIndice[-1:-(n+1):-1]   \n",
    "    n_eigVect=eigVects[:,n_eigValIndice]        \n",
    "    lowDDataMat=newData*n_eigVect               #lower dimensional data  \n",
    "    reconMat=(lowDDataMat*n_eigVect.T)+meanVal  #reconstruct data  \n",
    "    return lowDDataMat,reconMat"
   ]
  },
  {
   "cell_type": "code",
   "execution_count": 3,
   "metadata": {
    "ExecuteTime": {
     "end_time": "2018-01-07T22:45:34.739574Z",
     "start_time": "2018-01-07T22:45:34.714144Z"
    }
   },
   "outputs": [],
   "source": [
    "df = pandas.read_csv(\"04-16_NBA_rookies_data.csv\", header=None)\n",
    "df1 = pandas.read_csv(\"04-16_NBA_rookies_label.csv\",header=None)\n",
    "df_test = pandas.read_csv(\"2017rookies_data.csv\",header=None)\n",
    "df1_test = pandas.read_csv(\"2017rookies_name.csv\",header=None)\n",
    "ds = df.values\n",
    "ds1 = df1.values\n",
    "lowDDataMat,reconMat=pca(ds)  #pca\n",
    "ds_test = df_test.values\n",
    "lowDDataMat1,reconMat1=pca(ds_test)  #pca\n",
    "ds1_test = df1_test.values"
   ]
  },
  {
   "cell_type": "code",
   "execution_count": 4,
   "metadata": {
    "ExecuteTime": {
     "end_time": "2018-01-07T22:45:34.823433Z",
     "start_time": "2018-01-07T22:45:34.741346Z"
    }
   },
   "outputs": [],
   "source": [
    "x_train = lowDDataMat[:,0:6]\n",
    "y_train = ds1[:,1]\n",
    "x_test = lowDDataMat1[:,0:6]\n",
    "y_test = ds1_test[:,0]\n",
    "\n",
    "dim = x_train.shape[1]\n",
    "model = Sequential()\n",
    "model.add(Dense(100, input_dim=dim, activation='tanh'))\n",
    "model.add(Dropout(0.5))\n",
    "model.add(Dense(2, activation='softmax'))\n",
    "\n",
    "model.compile(loss='sparse_categorical_crossentropy', optimizer='rmsprop',metrics=[\"accuracy\"])"
   ]
  },
  {
   "cell_type": "code",
   "execution_count": 5,
   "metadata": {
    "ExecuteTime": {
     "end_time": "2018-01-07T22:45:35.662882Z",
     "start_time": "2018-01-07T22:45:34.825042Z"
    }
   },
   "outputs": [],
   "source": [
    "# Change log_dir for differnt activation function, change the number for every run.\n",
    "tbCallBack = keras.callbacks.TensorBoard(log_dir='tensorboard/tanh/1', histogram_freq=0, write_graph=True, write_images=True)"
   ]
  },
  {
   "cell_type": "code",
   "execution_count": 6,
   "metadata": {
    "ExecuteTime": {
     "end_time": "2018-01-07T22:45:38.722063Z",
     "start_time": "2018-01-07T22:45:35.664669Z"
    }
   },
   "outputs": [
    {
     "name": "stdout",
     "output_type": "stream",
     "text": [
      "Train on 359 samples, validate on 90 samples\n",
      "Epoch 1/80\n",
      "359/359 [==============================] - 0s 137us/step - loss: 0.8946 - acc: 0.6072 - val_loss: 0.4573 - val_acc: 0.8111\n",
      "Epoch 2/80\n",
      "359/359 [==============================] - 0s 47us/step - loss: 0.6780 - acc: 0.7187 - val_loss: 0.4376 - val_acc: 0.8000\n",
      "Epoch 3/80\n",
      "359/359 [==============================] - 0s 55us/step - loss: 0.6611 - acc: 0.7270 - val_loss: 0.4179 - val_acc: 0.8000\n",
      "Epoch 4/80\n",
      "359/359 [==============================] - 0s 44us/step - loss: 0.6332 - acc: 0.7521 - val_loss: 0.3698 - val_acc: 0.8222\n",
      "Epoch 5/80\n",
      "359/359 [==============================] - 0s 49us/step - loss: 0.5818 - acc: 0.7493 - val_loss: 0.3497 - val_acc: 0.8111\n",
      "Epoch 6/80\n",
      "359/359 [==============================] - 0s 43us/step - loss: 0.5587 - acc: 0.7577 - val_loss: 0.3604 - val_acc: 0.8111\n",
      "Epoch 7/80\n",
      "359/359 [==============================] - 0s 47us/step - loss: 0.5079 - acc: 0.7604 - val_loss: 0.3651 - val_acc: 0.8111\n",
      "Epoch 8/80\n",
      "359/359 [==============================] - 0s 51us/step - loss: 0.5005 - acc: 0.8078 - val_loss: 0.3295 - val_acc: 0.8222\n",
      "Epoch 9/80\n",
      "359/359 [==============================] - 0s 51us/step - loss: 0.5209 - acc: 0.7772 - val_loss: 0.3334 - val_acc: 0.8222\n",
      "Epoch 10/80\n",
      "359/359 [==============================] - 0s 55us/step - loss: 0.4381 - acc: 0.7994 - val_loss: 0.2975 - val_acc: 0.8333\n",
      "Epoch 11/80\n",
      "359/359 [==============================] - 0s 45us/step - loss: 0.3998 - acc: 0.8440 - val_loss: 0.2699 - val_acc: 0.8556\n",
      "Epoch 12/80\n",
      "359/359 [==============================] - 0s 51us/step - loss: 0.4289 - acc: 0.8162 - val_loss: 0.2710 - val_acc: 0.8556\n",
      "Epoch 13/80\n",
      "359/359 [==============================] - 0s 50us/step - loss: 0.4124 - acc: 0.8245 - val_loss: 0.2679 - val_acc: 0.8556\n",
      "Epoch 14/80\n",
      "359/359 [==============================] - 0s 45us/step - loss: 0.3789 - acc: 0.8440 - val_loss: 0.2439 - val_acc: 0.9000\n",
      "Epoch 15/80\n",
      "359/359 [==============================] - 0s 42us/step - loss: 0.3754 - acc: 0.8468 - val_loss: 0.2559 - val_acc: 0.8556\n",
      "Epoch 16/80\n",
      "359/359 [==============================] - 0s 46us/step - loss: 0.3721 - acc: 0.8468 - val_loss: 0.2397 - val_acc: 0.9000\n",
      "Epoch 17/80\n",
      "359/359 [==============================] - 0s 45us/step - loss: 0.3988 - acc: 0.8189 - val_loss: 0.2645 - val_acc: 0.8667\n",
      "Epoch 18/80\n",
      "359/359 [==============================] - 0s 51us/step - loss: 0.3170 - acc: 0.8691 - val_loss: 0.2291 - val_acc: 0.9000\n",
      "Epoch 19/80\n",
      "359/359 [==============================] - 0s 41us/step - loss: 0.3303 - acc: 0.8412 - val_loss: 0.2098 - val_acc: 0.9000\n",
      "Epoch 20/80\n",
      "359/359 [==============================] - 0s 44us/step - loss: 0.3112 - acc: 0.8552 - val_loss: 0.2322 - val_acc: 0.9111\n",
      "Epoch 21/80\n",
      "359/359 [==============================] - 0s 615us/step - loss: 0.3241 - acc: 0.8412 - val_loss: 0.2215 - val_acc: 0.9000\n",
      "Epoch 22/80\n",
      "359/359 [==============================] - 0s 48us/step - loss: 0.2664 - acc: 0.8830 - val_loss: 0.2213 - val_acc: 0.9000\n",
      "Epoch 23/80\n",
      "359/359 [==============================] - 0s 47us/step - loss: 0.3056 - acc: 0.8747 - val_loss: 0.2082 - val_acc: 0.8889\n",
      "Epoch 24/80\n",
      "359/359 [==============================] - 0s 44us/step - loss: 0.3064 - acc: 0.8579 - val_loss: 0.1991 - val_acc: 0.8778\n",
      "Epoch 25/80\n",
      "359/359 [==============================] - 0s 44us/step - loss: 0.2726 - acc: 0.8886 - val_loss: 0.2079 - val_acc: 0.9000\n",
      "Epoch 26/80\n",
      "359/359 [==============================] - 0s 45us/step - loss: 0.2496 - acc: 0.8886 - val_loss: 0.1976 - val_acc: 0.9111\n",
      "Epoch 27/80\n",
      "359/359 [==============================] - 0s 46us/step - loss: 0.2649 - acc: 0.8886 - val_loss: 0.1978 - val_acc: 0.9000\n",
      "Epoch 28/80\n",
      "359/359 [==============================] - 0s 47us/step - loss: 0.2808 - acc: 0.8858 - val_loss: 0.1868 - val_acc: 0.9000\n",
      "Epoch 29/80\n",
      "359/359 [==============================] - 0s 41us/step - loss: 0.2743 - acc: 0.8719 - val_loss: 0.1778 - val_acc: 0.8778\n",
      "Epoch 30/80\n",
      "359/359 [==============================] - 0s 47us/step - loss: 0.2322 - acc: 0.8942 - val_loss: 0.1810 - val_acc: 0.8889\n",
      "Epoch 31/80\n",
      "359/359 [==============================] - 0s 44us/step - loss: 0.2224 - acc: 0.9053 - val_loss: 0.1774 - val_acc: 0.8889\n",
      "Epoch 32/80\n",
      "359/359 [==============================] - 0s 52us/step - loss: 0.2288 - acc: 0.8914 - val_loss: 0.1734 - val_acc: 0.9000\n",
      "Epoch 33/80\n",
      "359/359 [==============================] - 0s 543us/step - loss: 0.2365 - acc: 0.8914 - val_loss: 0.1684 - val_acc: 0.8889\n",
      "Epoch 34/80\n",
      "359/359 [==============================] - 0s 46us/step - loss: 0.2503 - acc: 0.9025 - val_loss: 0.1589 - val_acc: 0.9111\n",
      "Epoch 35/80\n",
      "359/359 [==============================] - 0s 46us/step - loss: 0.2568 - acc: 0.8691 - val_loss: 0.1688 - val_acc: 0.9000\n",
      "Epoch 36/80\n",
      "359/359 [==============================] - 0s 52us/step - loss: 0.2064 - acc: 0.9109 - val_loss: 0.1622 - val_acc: 0.9000\n",
      "Epoch 37/80\n",
      "359/359 [==============================] - 0s 48us/step - loss: 0.2458 - acc: 0.8830 - val_loss: 0.1711 - val_acc: 0.9000\n",
      "Epoch 38/80\n",
      "359/359 [==============================] - 0s 42us/step - loss: 0.2271 - acc: 0.9025 - val_loss: 0.1631 - val_acc: 0.9111\n",
      "Epoch 39/80\n",
      "359/359 [==============================] - 0s 42us/step - loss: 0.1943 - acc: 0.9109 - val_loss: 0.1604 - val_acc: 0.9222\n",
      "Epoch 40/80\n",
      "359/359 [==============================] - 0s 44us/step - loss: 0.2203 - acc: 0.8969 - val_loss: 0.1699 - val_acc: 0.9111\n",
      "Epoch 41/80\n",
      "359/359 [==============================] - 0s 268us/step - loss: 0.2069 - acc: 0.9192 - val_loss: 0.1648 - val_acc: 0.9111\n",
      "Epoch 42/80\n",
      "359/359 [==============================] - 0s 54us/step - loss: 0.2161 - acc: 0.9164 - val_loss: 0.1551 - val_acc: 0.9000\n",
      "Epoch 43/80\n",
      "359/359 [==============================] - 0s 110us/step - loss: 0.2051 - acc: 0.9192 - val_loss: 0.1533 - val_acc: 0.9333\n",
      "Epoch 44/80\n",
      "359/359 [==============================] - 0s 55us/step - loss: 0.2010 - acc: 0.9220 - val_loss: 0.1612 - val_acc: 0.9111\n",
      "Epoch 45/80\n",
      "359/359 [==============================] - 0s 58us/step - loss: 0.2133 - acc: 0.9136 - val_loss: 0.1493 - val_acc: 0.9333\n",
      "Epoch 46/80\n",
      "359/359 [==============================] - 0s 72us/step - loss: 0.1821 - acc: 0.9331 - val_loss: 0.1455 - val_acc: 0.9333\n",
      "Epoch 47/80\n",
      "359/359 [==============================] - 0s 55us/step - loss: 0.1723 - acc: 0.9248 - val_loss: 0.1458 - val_acc: 0.9333\n",
      "Epoch 48/80\n",
      "359/359 [==============================] - 0s 50us/step - loss: 0.1685 - acc: 0.9248 - val_loss: 0.1499 - val_acc: 0.9222\n",
      "Epoch 49/80\n",
      "359/359 [==============================] - 0s 45us/step - loss: 0.1893 - acc: 0.9192 - val_loss: 0.1537 - val_acc: 0.9222\n",
      "Epoch 50/80\n",
      "359/359 [==============================] - 0s 52us/step - loss: 0.1936 - acc: 0.9387 - val_loss: 0.1494 - val_acc: 0.9333\n",
      "Epoch 51/80\n",
      "359/359 [==============================] - 0s 45us/step - loss: 0.2116 - acc: 0.9081 - val_loss: 0.1443 - val_acc: 0.9333\n",
      "Epoch 52/80\n",
      "359/359 [==============================] - 0s 43us/step - loss: 0.1772 - acc: 0.9220 - val_loss: 0.1447 - val_acc: 0.9222\n",
      "Epoch 53/80\n",
      "359/359 [==============================] - 0s 42us/step - loss: 0.1554 - acc: 0.9304 - val_loss: 0.1456 - val_acc: 0.9333\n",
      "Epoch 54/80\n",
      "359/359 [==============================] - 0s 43us/step - loss: 0.2016 - acc: 0.9248 - val_loss: 0.1475 - val_acc: 0.9333\n",
      "Epoch 55/80\n",
      "359/359 [==============================] - 0s 52us/step - loss: 0.1565 - acc: 0.9499 - val_loss: 0.1444 - val_acc: 0.9333\n",
      "Epoch 56/80\n",
      "359/359 [==============================] - 0s 725us/step - loss: 0.1536 - acc: 0.9359 - val_loss: 0.1422 - val_acc: 0.9222\n",
      "Epoch 57/80\n",
      "359/359 [==============================] - 0s 59us/step - loss: 0.1701 - acc: 0.9304 - val_loss: 0.1401 - val_acc: 0.9333\n",
      "Epoch 58/80\n",
      "359/359 [==============================] - 0s 61us/step - loss: 0.2020 - acc: 0.9220 - val_loss: 0.1445 - val_acc: 0.9222\n",
      "Epoch 59/80\n",
      "359/359 [==============================] - 0s 47us/step - loss: 0.1593 - acc: 0.9304 - val_loss: 0.1407 - val_acc: 0.9333\n",
      "Epoch 60/80\n",
      "359/359 [==============================] - 0s 48us/step - loss: 0.1819 - acc: 0.9331 - val_loss: 0.1445 - val_acc: 0.9333\n",
      "Epoch 61/80\n",
      "359/359 [==============================] - 0s 45us/step - loss: 0.1552 - acc: 0.9331 - val_loss: 0.1499 - val_acc: 0.9333\n"
     ]
    },
    {
     "name": "stdout",
     "output_type": "stream",
     "text": [
      "Epoch 62/80\n",
      "359/359 [==============================] - 0s 45us/step - loss: 0.1517 - acc: 0.9415 - val_loss: 0.1413 - val_acc: 0.9333\n",
      "Epoch 63/80\n",
      "359/359 [==============================] - 0s 49us/step - loss: 0.1562 - acc: 0.9415 - val_loss: 0.1409 - val_acc: 0.9333\n",
      "Epoch 64/80\n",
      "359/359 [==============================] - 0s 46us/step - loss: 0.1515 - acc: 0.9359 - val_loss: 0.1408 - val_acc: 0.9333\n",
      "Epoch 65/80\n",
      "359/359 [==============================] - 0s 42us/step - loss: 0.1639 - acc: 0.9387 - val_loss: 0.1417 - val_acc: 0.9444\n",
      "Epoch 66/80\n",
      "359/359 [==============================] - 0s 42us/step - loss: 0.1634 - acc: 0.9359 - val_loss: 0.1448 - val_acc: 0.9444\n",
      "Epoch 67/80\n",
      "359/359 [==============================] - 0s 46us/step - loss: 0.1877 - acc: 0.9276 - val_loss: 0.1452 - val_acc: 0.9333\n",
      "Epoch 68/80\n",
      "359/359 [==============================] - 0s 57us/step - loss: 0.1653 - acc: 0.9276 - val_loss: 0.1516 - val_acc: 0.9333\n",
      "Epoch 69/80\n",
      "359/359 [==============================] - 0s 54us/step - loss: 0.1436 - acc: 0.9443 - val_loss: 0.1485 - val_acc: 0.9333\n",
      "Epoch 70/80\n",
      "359/359 [==============================] - 0s 42us/step - loss: 0.1564 - acc: 0.9276 - val_loss: 0.1475 - val_acc: 0.9333\n",
      "Epoch 71/80\n",
      "359/359 [==============================] - 0s 559us/step - loss: 0.1592 - acc: 0.9248 - val_loss: 0.1415 - val_acc: 0.9333\n",
      "Epoch 72/80\n",
      "359/359 [==============================] - 0s 46us/step - loss: 0.1561 - acc: 0.9415 - val_loss: 0.1370 - val_acc: 0.9444\n",
      "Epoch 73/80\n",
      "359/359 [==============================] - 0s 41us/step - loss: 0.1369 - acc: 0.9471 - val_loss: 0.1364 - val_acc: 0.9333\n",
      "Epoch 74/80\n",
      "359/359 [==============================] - 0s 51us/step - loss: 0.1245 - acc: 0.9499 - val_loss: 0.1377 - val_acc: 0.9333\n",
      "Epoch 75/80\n",
      "359/359 [==============================] - 0s 50us/step - loss: 0.1759 - acc: 0.9164 - val_loss: 0.1360 - val_acc: 0.9333\n",
      "Epoch 76/80\n",
      "359/359 [==============================] - 0s 49us/step - loss: 0.1867 - acc: 0.9220 - val_loss: 0.1327 - val_acc: 0.9333\n",
      "Epoch 77/80\n",
      "359/359 [==============================] - 0s 50us/step - loss: 0.1717 - acc: 0.9415 - val_loss: 0.1294 - val_acc: 0.9222\n",
      "Epoch 78/80\n",
      "359/359 [==============================] - 0s 46us/step - loss: 0.1328 - acc: 0.9276 - val_loss: 0.1307 - val_acc: 0.9333\n",
      "Epoch 79/80\n",
      "359/359 [==============================] - 0s 43us/step - loss: 0.1638 - acc: 0.9220 - val_loss: 0.1335 - val_acc: 0.9333\n",
      "Epoch 80/80\n",
      "359/359 [==============================] - 0s 47us/step - loss: 0.1485 - acc: 0.9248 - val_loss: 0.1369 - val_acc: 0.9444\n",
      "8\n",
      "['Donovan Mitchell' 'Kyle Kuzma' 'Lauri Markkanen' 'Jayson Tatum'\n",
      " 'Dennis Smith' 'Frank Ntilikina' 'Jordan Bell' 'Ben Simmon']\n"
     ]
    }
   ],
   "source": [
    "idx = list(range(x_train.shape[0]))\n",
    "np.random.shuffle(idx)\n",
    "hist = model.fit(x_train[idx],y_train[idx],validation_split=0.2,epochs=80,shuffle=True, callbacks = [tbCallBack])\n",
    "dnn_predict = model.predict_classes(x_test)\n",
    "print(sum(dnn_predict))\n",
    "print(y_test[dnn_predict == 1])"
   ]
  },
  {
   "cell_type": "code",
   "execution_count": 7,
   "metadata": {
    "ExecuteTime": {
     "end_time": "2018-01-07T22:45:39.078635Z",
     "start_time": "2018-01-07T22:45:38.725263Z"
    }
   },
   "outputs": [
    {
     "data": {
      "image/png": "[encoded data removed]",
      "text/plain": [
       "<matplotlib.figure.Figure at 0x7f70cb960320>"
      ]
     },
     "metadata": {},
     "output_type": "display_data"
    }
   ],
   "source": [
    "plt.figure(1)\n",
    "plt.plot(hist.history['acc'])\n",
    "plt.plot(hist.history['val_acc'])\n",
    "plt.title('model accuracy')\n",
    "plt.ylabel('accuracy')\n",
    "plt.xlabel('epoch')\n",
    "plt.legend(['train', 'test'], loc = 'lower right')\n",
    "plt.show()"
   ]
  },
  {
   "cell_type": "code",
   "execution_count": 8,
   "metadata": {
    "ExecuteTime": {
     "end_time": "2018-01-07T22:45:39.499759Z",
     "start_time": "2018-01-07T22:45:39.080226Z"
    }
   },
   "outputs": [
    {
     "data": {
      "image/png": "[encoded data removed]",
      "text/plain": [
       "<matplotlib.figure.Figure at 0x7f70c866e978>"
      ]
     },
     "metadata": {},
     "output_type": "display_data"
    }
   ],
   "source": [
    "plt.figure(2)\n",
    "plt.plot(hist.history['loss'])\n",
    "plt.plot(hist.history['val_loss'])\n",
    "plt.title('model loss')\n",
    "plt.ylabel('loss')\n",
    "plt.xlabel('epoch')\n",
    "plt.legend(['train', 'test'], loc = 'upper right')\n",
    "plt.show()"
   ]
  }
 ],
 "metadata": {
  "kernelspec": {
   "display_name": "Python 3",
   "language": "python",
   "name": "python3"
  },
  "language_info": {
   "codemirror_mode": {
    "name": "ipython",
    "version": 3
   },
   "file_extension": ".py",
   "mimetype": "text/x-python",
   "name": "python",
   "nbconvert_exporter": "python",
   "pygments_lexer": "ipython3",
   "version": "3.6.3"
  },
  "latex_envs": {
   "LaTeX_envs_menu_present": true,
   "autoclose": false,
   "autocomplete": true,
   "bibliofile": "biblio.bib",
   "cite_by": "apalike",
   "current_citInitial": 1,
   "eqLabelWithNumbers": true,
   "eqNumInitial": 1,
   "hotkeys": {
    "equation": "Ctrl-E",
    "itemize": "Ctrl-I"
   },
   "labels_anchors": false,
   "latex_user_defs": false,
   "report_style_numbering": false,
   "user_envs_cfg": false
  },
  "toc": {
   "nav_menu": {},
   "number_sections": true,
   "sideBar": true,
   "skip_h1_title": false,
   "toc_cell": false,
   "toc_position": {},
   "toc_section_display": "block",
   "toc_window_display": false
  },
  "varInspector": {
   "cols": {
    "lenName": 16,
    "lenType": 16,
    "lenVar": 40
   },
   "kernels_config": {
    "python": {
     "delete_cmd_postfix": "",
     "delete_cmd_prefix": "del ",
     "library": "var_list.py",
     "varRefreshCmd": "print(var_dic_list())"
    },
    "r": {
     "delete_cmd_postfix": ") ",
     "delete_cmd_prefix": "rm(",
     "library": "var_list.r",
     "varRefreshCmd": "cat(var_dic_list()) "
    }
   },
   "types_to_exclude": [
    "module",
    "function",
    "builtin_function_or_method",
    "instance",
    "_Feature"
   ],
   "window_display": false
  }
 },
 "nbformat": 4,
 "nbformat_minor": 2
}
