{
 "cells": [
  {
   "cell_type": "code",
   "execution_count": 1,
   "metadata": {
    "ExecuteTime": {
     "end_time": "2018-01-07T22:48:34.235784Z",
     "start_time": "2018-01-07T22:48:32.385194Z"
    }
   },
   "outputs": [
    {
     "name": "stderr",
     "output_type": "stream",
     "text": [
      "Using TensorFlow backend.\n",
      "/usr/lib/python3.6/importlib/_bootstrap.py:219: RuntimeWarning: compiletime version 3.5 of module 'tensorflow.python.framework.fast_tensor_util' does not match runtime version 3.6\n",
      "  return f(*args, **kwds)\n"
     ]
    }
   ],
   "source": [
    "import numpy as np\n",
    "import pandas\n",
    "from keras.layers import *\n",
    "from keras.models import Sequential, Model\n",
    "import keras\n",
    "import matplotlib.pyplot as plt"
   ]
  },
  {
   "cell_type": "code",
   "execution_count": 2,
   "metadata": {
    "ExecuteTime": {
     "end_time": "2018-01-07T22:48:34.466582Z",
     "start_time": "2018-01-07T22:48:34.237616Z"
    }
   },
   "outputs": [],
   "source": [
    "def zeroMean(dataMat):        \n",
    "    meanVal=np.mean(dataMat,axis=0)     #get mean by columns\n",
    "    newData=dataMat-meanVal  \n",
    "    return newData,meanVal\n",
    "\n",
    "\n",
    "def percentage2n(eigVals,percentage):  \n",
    "    sortArray=np.sort(eigVals)          #ascend order \n",
    "    sortArray=sortArray[-1::-1]           \n",
    "    arraySum=sum(sortArray)  \n",
    "    tmpSum=0  \n",
    "    num=0  \n",
    "    for i in sortArray:  \n",
    "        tmpSum+=i  \n",
    "        num+=1  \n",
    "        if tmpSum>=arraySum*percentage:  \n",
    "            return num  \n",
    "\n",
    "\n",
    "def pca(dataMat,percentage=0.99):  \n",
    "    newData,meanVal=zeroMean(dataMat)  \n",
    "    covMat=np.cov(newData,rowvar=0)      #covariance  \n",
    "    eigVals,eigVects=np.linalg.eig(np.mat(covMat))      \n",
    "    n=percentage2n(eigVals,percentage)                 #need n dimensionol data to get the convariance percentage\n",
    "    n = 6   # pca of 2017 rookies data is 6 dimentional \n",
    "    eigValIndice=np.argsort(eigVals)            #ascend order \n",
    "    n_eigValIndice=eigValIndice[-1:-(n+1):-1]   \n",
    "    n_eigVect=eigVects[:,n_eigValIndice]        \n",
    "    lowDDataMat=newData*n_eigVect               #lower dimensional data  \n",
    "    reconMat=(lowDDataMat*n_eigVect.T)+meanVal  #reconstruct data  \n",
    "    return lowDDataMat,reconMat"
   ]
  },
  {
   "cell_type": "code",
   "execution_count": 3,
   "metadata": {
    "ExecuteTime": {
     "end_time": "2018-01-07T22:48:34.488360Z",
     "start_time": "2018-01-07T22:48:34.468327Z"
    }
   },
   "outputs": [],
   "source": [
    "df = pandas.read_csv(\"04-16_NBA_rookies_data.csv\", header=None)\n",
    "df1 = pandas.read_csv(\"04-16_NBA_rookies_label.csv\",header=None)\n",
    "df_test = pandas.read_csv(\"2017rookies_data.csv\",header=None)\n",
    "df1_test = pandas.read_csv(\"2017rookies_name.csv\",header=None)\n",
    "ds = df.values\n",
    "ds1 = df1.values\n",
    "lowDDataMat,reconMat=pca(ds)  #pca\n",
    "ds_test = df_test.values\n",
    "lowDDataMat1,reconMat1=pca(ds_test)  #pca\n",
    "ds1_test = df1_test.values"
   ]
  },
  {
   "cell_type": "code",
   "execution_count": 4,
   "metadata": {
    "ExecuteTime": {
     "end_time": "2018-01-07T22:48:34.569931Z",
     "start_time": "2018-01-07T22:48:34.489793Z"
    }
   },
   "outputs": [],
   "source": [
    "x_train = lowDDataMat[:,0:6]\n",
    "y_train = ds1[:,1]\n",
    "x_test = lowDDataMat1[:,0:6]\n",
    "y_test = ds1_test[:,0]\n",
    "\n",
    "dim = x_train.shape[1]\n",
    "model = Sequential()\n",
    "model.add(Dense(100, input_dim=dim, activation='tanh'))\n",
    "model.add(Dropout(0.5))\n",
    "model.add(Dense(2, activation='softmax'))\n",
    "\n",
    "model.compile(loss='sparse_categorical_crossentropy', optimizer='rmsprop',metrics=[\"accuracy\"])"
   ]
  },
  {
   "cell_type": "code",
   "execution_count": 5,
   "metadata": {
    "ExecuteTime": {
     "end_time": "2018-01-07T22:48:35.396125Z",
     "start_time": "2018-01-07T22:48:34.572133Z"
    }
   },
   "outputs": [],
   "source": [
    "# Change log_dir for differnt activation function, change the number for every run.\n",
    "tbCallBack = keras.callbacks.TensorBoard(log_dir='tensorboard/tanh/6', histogram_freq=0, write_graph=True, write_images=True)"
   ]
  },
  {
   "cell_type": "code",
   "execution_count": 6,
   "metadata": {
    "ExecuteTime": {
     "end_time": "2018-01-07T22:48:40.344614Z",
     "start_time": "2018-01-07T22:48:35.397796Z"
    }
   },
   "outputs": [
    {
     "name": "stdout",
     "output_type": "stream",
     "text": [
      "Train on 359 samples, validate on 90 samples\n",
      "Epoch 1/125\n",
      "359/359 [==============================] - 0s 119us/step - loss: 0.8120 - acc: 0.6602 - val_loss: 0.5160 - val_acc: 0.7889\n",
      "Epoch 2/125\n",
      "359/359 [==============================] - 0s 44us/step - loss: 0.6735 - acc: 0.6602 - val_loss: 0.4937 - val_acc: 0.8111\n",
      "Epoch 3/125\n",
      "359/359 [==============================] - 0s 40us/step - loss: 0.6035 - acc: 0.7409 - val_loss: 0.4653 - val_acc: 0.8111\n",
      "Epoch 4/125\n",
      "359/359 [==============================] - 0s 40us/step - loss: 0.5348 - acc: 0.7772 - val_loss: 0.4519 - val_acc: 0.8111\n",
      "Epoch 5/125\n",
      "359/359 [==============================] - 0s 39us/step - loss: 0.5149 - acc: 0.7716 - val_loss: 0.4369 - val_acc: 0.8111\n",
      "Epoch 6/125\n",
      "359/359 [==============================] - 0s 40us/step - loss: 0.5099 - acc: 0.7855 - val_loss: 0.4181 - val_acc: 0.8222\n",
      "Epoch 7/125\n",
      "359/359 [==============================] - 0s 508us/step - loss: 0.4526 - acc: 0.8273 - val_loss: 0.4030 - val_acc: 0.8333\n",
      "Epoch 8/125\n",
      "359/359 [==============================] - 0s 50us/step - loss: 0.4233 - acc: 0.8217 - val_loss: 0.3972 - val_acc: 0.8333\n",
      "Epoch 9/125\n",
      "359/359 [==============================] - 0s 47us/step - loss: 0.4598 - acc: 0.7967 - val_loss: 0.3921 - val_acc: 0.8222\n",
      "Epoch 10/125\n",
      "359/359 [==============================] - 0s 55us/step - loss: 0.4813 - acc: 0.7855 - val_loss: 0.3669 - val_acc: 0.8333\n",
      "Epoch 11/125\n",
      "359/359 [==============================] - 0s 50us/step - loss: 0.4148 - acc: 0.8162 - val_loss: 0.3581 - val_acc: 0.8222\n",
      "Epoch 12/125\n",
      "359/359 [==============================] - 0s 70us/step - loss: 0.4218 - acc: 0.8078 - val_loss: 0.3530 - val_acc: 0.8333\n",
      "Epoch 13/125\n",
      "359/359 [==============================] - 0s 70us/step - loss: 0.3583 - acc: 0.8273 - val_loss: 0.3434 - val_acc: 0.8444\n",
      "Epoch 14/125\n",
      "359/359 [==============================] - 0s 64us/step - loss: 0.3564 - acc: 0.8468 - val_loss: 0.3333 - val_acc: 0.8556\n",
      "Epoch 15/125\n",
      "359/359 [==============================] - 0s 59us/step - loss: 0.3289 - acc: 0.8524 - val_loss: 0.3274 - val_acc: 0.8556\n",
      "Epoch 16/125\n",
      "359/359 [==============================] - 0s 43us/step - loss: 0.3467 - acc: 0.8524 - val_loss: 0.3120 - val_acc: 0.8778\n",
      "Epoch 17/125\n",
      "359/359 [==============================] - 0s 42us/step - loss: 0.2970 - acc: 0.8747 - val_loss: 0.3092 - val_acc: 0.8667\n",
      "Epoch 18/125\n",
      "359/359 [==============================] - 0s 643us/step - loss: 0.2948 - acc: 0.8719 - val_loss: 0.3021 - val_acc: 0.8778\n",
      "Epoch 19/125\n",
      "359/359 [==============================] - 0s 54us/step - loss: 0.3296 - acc: 0.8552 - val_loss: 0.2905 - val_acc: 0.9000\n",
      "Epoch 20/125\n",
      "359/359 [==============================] - 0s 60us/step - loss: 0.3200 - acc: 0.8384 - val_loss: 0.2866 - val_acc: 0.8889\n",
      "Epoch 21/125\n",
      "359/359 [==============================] - 0s 53us/step - loss: 0.2946 - acc: 0.8719 - val_loss: 0.2879 - val_acc: 0.8778\n",
      "Epoch 22/125\n",
      "359/359 [==============================] - 0s 46us/step - loss: 0.2477 - acc: 0.8914 - val_loss: 0.2772 - val_acc: 0.9000\n",
      "Epoch 23/125\n",
      "359/359 [==============================] - 0s 43us/step - loss: 0.2956 - acc: 0.8691 - val_loss: 0.2752 - val_acc: 0.8889\n",
      "Epoch 24/125\n",
      "359/359 [==============================] - 0s 46us/step - loss: 0.2823 - acc: 0.8774 - val_loss: 0.2637 - val_acc: 0.9111\n",
      "Epoch 25/125\n",
      "359/359 [==============================] - 0s 49us/step - loss: 0.2184 - acc: 0.9081 - val_loss: 0.2548 - val_acc: 0.9000\n",
      "Epoch 26/125\n",
      "359/359 [==============================] - 0s 50us/step - loss: 0.2794 - acc: 0.8914 - val_loss: 0.2482 - val_acc: 0.8889\n",
      "Epoch 27/125\n",
      "359/359 [==============================] - 0s 51us/step - loss: 0.2261 - acc: 0.9192 - val_loss: 0.2456 - val_acc: 0.9000\n",
      "Epoch 28/125\n",
      "359/359 [==============================] - 0s 48us/step - loss: 0.2419 - acc: 0.8942 - val_loss: 0.2370 - val_acc: 0.8889\n",
      "Epoch 29/125\n",
      "359/359 [==============================] - 0s 55us/step - loss: 0.2537 - acc: 0.8969 - val_loss: 0.2306 - val_acc: 0.8889\n",
      "Epoch 30/125\n",
      "359/359 [==============================] - 0s 50us/step - loss: 0.2447 - acc: 0.8942 - val_loss: 0.2253 - val_acc: 0.9000\n",
      "Epoch 31/125\n",
      "359/359 [==============================] - 0s 49us/step - loss: 0.2341 - acc: 0.9053 - val_loss: 0.2189 - val_acc: 0.9111\n",
      "Epoch 32/125\n",
      "359/359 [==============================] - 0s 648us/step - loss: 0.1997 - acc: 0.9192 - val_loss: 0.2193 - val_acc: 0.9000\n",
      "Epoch 33/125\n",
      "359/359 [==============================] - 0s 45us/step - loss: 0.2281 - acc: 0.8830 - val_loss: 0.2193 - val_acc: 0.9111\n",
      "Epoch 34/125\n",
      "359/359 [==============================] - 0s 46us/step - loss: 0.2446 - acc: 0.8914 - val_loss: 0.2120 - val_acc: 0.9000\n",
      "Epoch 35/125\n",
      "359/359 [==============================] - 0s 59us/step - loss: 0.2199 - acc: 0.9053 - val_loss: 0.2059 - val_acc: 0.9000\n",
      "Epoch 36/125\n",
      "359/359 [==============================] - 0s 52us/step - loss: 0.1841 - acc: 0.9415 - val_loss: 0.2075 - val_acc: 0.9000\n",
      "Epoch 37/125\n",
      "359/359 [==============================] - 0s 56us/step - loss: 0.2227 - acc: 0.9109 - val_loss: 0.2018 - val_acc: 0.9000\n",
      "Epoch 38/125\n",
      "359/359 [==============================] - 0s 53us/step - loss: 0.2088 - acc: 0.9053 - val_loss: 0.1969 - val_acc: 0.9111\n",
      "Epoch 39/125\n",
      "359/359 [==============================] - 0s 53us/step - loss: 0.2117 - acc: 0.9081 - val_loss: 0.1961 - val_acc: 0.9111\n",
      "Epoch 40/125\n",
      "359/359 [==============================] - 0s 54us/step - loss: 0.1935 - acc: 0.9304 - val_loss: 0.1914 - val_acc: 0.9111\n",
      "Epoch 41/125\n",
      "359/359 [==============================] - 0s 59us/step - loss: 0.2474 - acc: 0.8886 - val_loss: 0.1877 - val_acc: 0.9111\n",
      "Epoch 42/125\n",
      "359/359 [==============================] - 0s 658us/step - loss: 0.1737 - acc: 0.9331 - val_loss: 0.1880 - val_acc: 0.9111\n",
      "Epoch 43/125\n",
      "359/359 [==============================] - 0s 61us/step - loss: 0.1871 - acc: 0.9359 - val_loss: 0.1883 - val_acc: 0.9111\n",
      "Epoch 44/125\n",
      "359/359 [==============================] - 0s 62us/step - loss: 0.1865 - acc: 0.9136 - val_loss: 0.1915 - val_acc: 0.9111\n",
      "Epoch 45/125\n",
      "359/359 [==============================] - 0s 62us/step - loss: 0.1911 - acc: 0.9248 - val_loss: 0.1867 - val_acc: 0.9111\n",
      "Epoch 46/125\n",
      "359/359 [==============================] - 0s 130us/step - loss: 0.1928 - acc: 0.9109 - val_loss: 0.1788 - val_acc: 0.9222\n",
      "Epoch 47/125\n",
      "359/359 [==============================] - 0s 52us/step - loss: 0.2065 - acc: 0.9248 - val_loss: 0.1728 - val_acc: 0.9111\n",
      "Epoch 48/125\n",
      "359/359 [==============================] - 0s 46us/step - loss: 0.2166 - acc: 0.9109 - val_loss: 0.1750 - val_acc: 0.9111\n",
      "Epoch 49/125\n",
      "359/359 [==============================] - 0s 51us/step - loss: 0.1897 - acc: 0.9053 - val_loss: 0.1740 - val_acc: 0.9222\n",
      "Epoch 50/125\n",
      "359/359 [==============================] - 0s 50us/step - loss: 0.1773 - acc: 0.9220 - val_loss: 0.1694 - val_acc: 0.9222\n",
      "Epoch 51/125\n",
      "359/359 [==============================] - 0s 41us/step - loss: 0.1884 - acc: 0.9276 - val_loss: 0.1717 - val_acc: 0.9222\n",
      "Epoch 52/125\n",
      "359/359 [==============================] - 0s 42us/step - loss: 0.1768 - acc: 0.9331 - val_loss: 0.1723 - val_acc: 0.9222\n",
      "Epoch 53/125\n",
      "359/359 [==============================] - 0s 50us/step - loss: 0.1908 - acc: 0.9109 - val_loss: 0.1715 - val_acc: 0.9222\n",
      "Epoch 54/125\n",
      "359/359 [==============================] - 0s 46us/step - loss: 0.1500 - acc: 0.9387 - val_loss: 0.1692 - val_acc: 0.9111\n",
      "Epoch 55/125\n",
      "359/359 [==============================] - 0s 42us/step - loss: 0.2054 - acc: 0.9081 - val_loss: 0.1694 - val_acc: 0.9111\n",
      "Epoch 56/125\n",
      "359/359 [==============================] - 0s 44us/step - loss: 0.1377 - acc: 0.9526 - val_loss: 0.1702 - val_acc: 0.9111\n",
      "Epoch 57/125\n",
      "359/359 [==============================] - 0s 582us/step - loss: 0.1820 - acc: 0.9387 - val_loss: 0.1671 - val_acc: 0.9111\n",
      "Epoch 58/125\n",
      "359/359 [==============================] - 0s 45us/step - loss: 0.1658 - acc: 0.9304 - val_loss: 0.1714 - val_acc: 0.9222\n",
      "Epoch 59/125\n",
      "359/359 [==============================] - 0s 44us/step - loss: 0.1323 - acc: 0.9359 - val_loss: 0.1709 - val_acc: 0.9222\n",
      "Epoch 60/125\n",
      "359/359 [==============================] - 0s 43us/step - loss: 0.1322 - acc: 0.9499 - val_loss: 0.1656 - val_acc: 0.9111\n",
      "Epoch 61/125\n"
     ]
    },
    {
     "name": "stdout",
     "output_type": "stream",
     "text": [
      "359/359 [==============================] - 0s 44us/step - loss: 0.1727 - acc: 0.9304 - val_loss: 0.1635 - val_acc: 0.9222\n",
      "Epoch 62/125\n",
      "359/359 [==============================] - 0s 46us/step - loss: 0.1502 - acc: 0.9582 - val_loss: 0.1667 - val_acc: 0.9222\n",
      "Epoch 63/125\n",
      "359/359 [==============================] - 0s 43us/step - loss: 0.1744 - acc: 0.9359 - val_loss: 0.1667 - val_acc: 0.9222\n",
      "Epoch 64/125\n",
      "359/359 [==============================] - 0s 44us/step - loss: 0.1578 - acc: 0.9471 - val_loss: 0.1687 - val_acc: 0.9222\n",
      "Epoch 65/125\n",
      "359/359 [==============================] - 0s 42us/step - loss: 0.1758 - acc: 0.9164 - val_loss: 0.1711 - val_acc: 0.9222\n",
      "Epoch 66/125\n",
      "359/359 [==============================] - 0s 41us/step - loss: 0.1747 - acc: 0.9359 - val_loss: 0.1742 - val_acc: 0.9111\n",
      "Epoch 67/125\n",
      "359/359 [==============================] - 0s 41us/step - loss: 0.1645 - acc: 0.9331 - val_loss: 0.1694 - val_acc: 0.9111\n",
      "Epoch 68/125\n",
      "359/359 [==============================] - 0s 687us/step - loss: 0.1636 - acc: 0.9304 - val_loss: 0.1691 - val_acc: 0.9222\n",
      "Epoch 69/125\n",
      "359/359 [==============================] - 0s 101us/step - loss: 0.1539 - acc: 0.9276 - val_loss: 0.1677 - val_acc: 0.9222\n",
      "Epoch 70/125\n",
      "359/359 [==============================] - 0s 48us/step - loss: 0.1451 - acc: 0.9471 - val_loss: 0.1675 - val_acc: 0.9222\n",
      "Epoch 71/125\n",
      "359/359 [==============================] - 0s 54us/step - loss: 0.1676 - acc: 0.9415 - val_loss: 0.1661 - val_acc: 0.9222\n",
      "Epoch 72/125\n",
      "359/359 [==============================] - 0s 58us/step - loss: 0.1422 - acc: 0.9248 - val_loss: 0.1648 - val_acc: 0.9222\n",
      "Epoch 73/125\n",
      "359/359 [==============================] - 0s 68us/step - loss: 0.1431 - acc: 0.9387 - val_loss: 0.1637 - val_acc: 0.9222\n",
      "Epoch 74/125\n",
      "359/359 [==============================] - 0s 55us/step - loss: 0.1600 - acc: 0.9276 - val_loss: 0.1641 - val_acc: 0.9111\n",
      "Epoch 75/125\n",
      "359/359 [==============================] - 0s 49us/step - loss: 0.1480 - acc: 0.9387 - val_loss: 0.1618 - val_acc: 0.9222\n",
      "Epoch 76/125\n",
      "359/359 [==============================] - 0s 55us/step - loss: 0.1627 - acc: 0.9387 - val_loss: 0.1614 - val_acc: 0.9222\n",
      "Epoch 77/125\n",
      "359/359 [==============================] - 0s 58us/step - loss: 0.1532 - acc: 0.9248 - val_loss: 0.1535 - val_acc: 0.9222\n",
      "Epoch 78/125\n",
      "359/359 [==============================] - 0s 45us/step - loss: 0.1496 - acc: 0.9415 - val_loss: 0.1587 - val_acc: 0.9222\n",
      "Epoch 79/125\n",
      "359/359 [==============================] - 0s 607us/step - loss: 0.1513 - acc: 0.9304 - val_loss: 0.1556 - val_acc: 0.9222\n",
      "Epoch 80/125\n",
      "359/359 [==============================] - 0s 46us/step - loss: 0.1487 - acc: 0.9359 - val_loss: 0.1591 - val_acc: 0.9222\n",
      "Epoch 81/125\n",
      "359/359 [==============================] - 0s 46us/step - loss: 0.1480 - acc: 0.9304 - val_loss: 0.1596 - val_acc: 0.9111\n",
      "Epoch 82/125\n",
      "359/359 [==============================] - 0s 44us/step - loss: 0.1518 - acc: 0.9359 - val_loss: 0.1580 - val_acc: 0.9222\n",
      "Epoch 83/125\n",
      "359/359 [==============================] - 0s 53us/step - loss: 0.1374 - acc: 0.9415 - val_loss: 0.1633 - val_acc: 0.9222\n",
      "Epoch 84/125\n",
      "359/359 [==============================] - 0s 52us/step - loss: 0.1397 - acc: 0.9359 - val_loss: 0.1586 - val_acc: 0.9222\n",
      "Epoch 85/125\n",
      "359/359 [==============================] - 0s 52us/step - loss: 0.1379 - acc: 0.9387 - val_loss: 0.1582 - val_acc: 0.9222\n",
      "Epoch 86/125\n",
      "359/359 [==============================] - 0s 45us/step - loss: 0.1458 - acc: 0.9331 - val_loss: 0.1544 - val_acc: 0.9222\n",
      "Epoch 87/125\n",
      "359/359 [==============================] - 0s 45us/step - loss: 0.1546 - acc: 0.9304 - val_loss: 0.1541 - val_acc: 0.9222\n",
      "Epoch 88/125\n",
      "359/359 [==============================] - 0s 531us/step - loss: 0.1457 - acc: 0.9331 - val_loss: 0.1558 - val_acc: 0.9222\n",
      "Epoch 89/125\n",
      "359/359 [==============================] - 0s 45us/step - loss: 0.1515 - acc: 0.9359 - val_loss: 0.1594 - val_acc: 0.9222\n",
      "Epoch 90/125\n",
      "359/359 [==============================] - 0s 45us/step - loss: 0.1439 - acc: 0.9220 - val_loss: 0.1584 - val_acc: 0.9222\n",
      "Epoch 91/125\n",
      "359/359 [==============================] - 0s 42us/step - loss: 0.1687 - acc: 0.9331 - val_loss: 0.1562 - val_acc: 0.9222\n",
      "Epoch 92/125\n",
      "359/359 [==============================] - 0s 43us/step - loss: 0.1287 - acc: 0.9582 - val_loss: 0.1523 - val_acc: 0.9222\n",
      "Epoch 93/125\n",
      "359/359 [==============================] - 0s 46us/step - loss: 0.1183 - acc: 0.9554 - val_loss: 0.1621 - val_acc: 0.9222\n",
      "Epoch 94/125\n",
      "359/359 [==============================] - 0s 43us/step - loss: 0.1211 - acc: 0.9526 - val_loss: 0.1629 - val_acc: 0.9222\n",
      "Epoch 95/125\n",
      "359/359 [==============================] - 0s 52us/step - loss: 0.1511 - acc: 0.9471 - val_loss: 0.1589 - val_acc: 0.9222\n",
      "Epoch 96/125\n",
      "359/359 [==============================] - 0s 53us/step - loss: 0.1436 - acc: 0.9415 - val_loss: 0.1566 - val_acc: 0.9222\n",
      "Epoch 97/125\n",
      "359/359 [==============================] - 0s 47us/step - loss: 0.1600 - acc: 0.9276 - val_loss: 0.1604 - val_acc: 0.9222\n",
      "Epoch 98/125\n",
      "359/359 [==============================] - 0s 44us/step - loss: 0.1479 - acc: 0.9443 - val_loss: 0.1554 - val_acc: 0.9222\n",
      "Epoch 99/125\n",
      "359/359 [==============================] - 0s 47us/step - loss: 0.1286 - acc: 0.9499 - val_loss: 0.1555 - val_acc: 0.9222\n",
      "Epoch 100/125\n",
      "359/359 [==============================] - 0s 630us/step - loss: 0.1360 - acc: 0.9471 - val_loss: 0.1540 - val_acc: 0.9222\n",
      "Epoch 101/125\n",
      "359/359 [==============================] - 0s 43us/step - loss: 0.1601 - acc: 0.9359 - val_loss: 0.1550 - val_acc: 0.9222\n",
      "Epoch 102/125\n",
      "359/359 [==============================] - 0s 49us/step - loss: 0.1279 - acc: 0.9387 - val_loss: 0.1509 - val_acc: 0.9222\n",
      "Epoch 103/125\n",
      "359/359 [==============================] - 0s 41us/step - loss: 0.1302 - acc: 0.9443 - val_loss: 0.1535 - val_acc: 0.9222\n",
      "Epoch 104/125\n",
      "359/359 [==============================] - 0s 41us/step - loss: 0.1173 - acc: 0.9387 - val_loss: 0.1554 - val_acc: 0.9222\n",
      "Epoch 105/125\n",
      "359/359 [==============================] - 0s 47us/step - loss: 0.1385 - acc: 0.9526 - val_loss: 0.1580 - val_acc: 0.9111\n",
      "Epoch 106/125\n",
      "359/359 [==============================] - 0s 42us/step - loss: 0.1541 - acc: 0.9387 - val_loss: 0.1580 - val_acc: 0.9222\n",
      "Epoch 107/125\n",
      "359/359 [==============================] - 0s 41us/step - loss: 0.1485 - acc: 0.9359 - val_loss: 0.1607 - val_acc: 0.9222\n",
      "Epoch 108/125\n",
      "359/359 [==============================] - 0s 40us/step - loss: 0.1358 - acc: 0.9415 - val_loss: 0.1547 - val_acc: 0.9222\n",
      "Epoch 109/125\n",
      "359/359 [==============================] - 0s 41us/step - loss: 0.1453 - acc: 0.9331 - val_loss: 0.1545 - val_acc: 0.9222\n",
      "Epoch 110/125\n",
      "359/359 [==============================] - 0s 44us/step - loss: 0.1166 - acc: 0.9499 - val_loss: 0.1591 - val_acc: 0.9222\n",
      "Epoch 111/125\n",
      "359/359 [==============================] - 0s 44us/step - loss: 0.1248 - acc: 0.9471 - val_loss: 0.1571 - val_acc: 0.9222\n",
      "Epoch 112/125\n",
      "359/359 [==============================] - 0s 43us/step - loss: 0.1623 - acc: 0.9359 - val_loss: 0.1578 - val_acc: 0.9222\n",
      "Epoch 113/125\n",
      "359/359 [==============================] - 0s 724us/step - loss: 0.1303 - acc: 0.9359 - val_loss: 0.1610 - val_acc: 0.9222\n",
      "Epoch 114/125\n",
      "359/359 [==============================] - 0s 53us/step - loss: 0.1684 - acc: 0.9359 - val_loss: 0.1648 - val_acc: 0.9222\n",
      "Epoch 115/125\n",
      "359/359 [==============================] - 0s 52us/step - loss: 0.1280 - acc: 0.9387 - val_loss: 0.1661 - val_acc: 0.9222\n",
      "Epoch 116/125\n",
      "359/359 [==============================] - 0s 47us/step - loss: 0.1411 - acc: 0.9415 - val_loss: 0.1636 - val_acc: 0.9222\n",
      "Epoch 117/125\n",
      "359/359 [==============================] - 0s 42us/step - loss: 0.1436 - acc: 0.9415 - val_loss: 0.1622 - val_acc: 0.9222\n",
      "Epoch 118/125\n",
      "359/359 [==============================] - 0s 56us/step - loss: 0.1508 - acc: 0.9248 - val_loss: 0.1671 - val_acc: 0.9222\n",
      "Epoch 119/125\n",
      "359/359 [==============================] - 0s 55us/step - loss: 0.1206 - acc: 0.9499 - val_loss: 0.1625 - val_acc: 0.9222\n",
      "Epoch 120/125\n",
      "359/359 [==============================] - 0s 48us/step - loss: 0.1359 - acc: 0.9499 - val_loss: 0.1608 - val_acc: 0.9222\n",
      "Epoch 121/125\n"
     ]
    },
    {
     "name": "stdout",
     "output_type": "stream",
     "text": [
      "359/359 [==============================] - 0s 607us/step - loss: 0.1414 - acc: 0.9387 - val_loss: 0.1638 - val_acc: 0.9333\n",
      "Epoch 122/125\n",
      "359/359 [==============================] - 0s 54us/step - loss: 0.1411 - acc: 0.9387 - val_loss: 0.1608 - val_acc: 0.9222\n",
      "Epoch 123/125\n",
      "359/359 [==============================] - 0s 45us/step - loss: 0.1323 - acc: 0.9471 - val_loss: 0.1562 - val_acc: 0.9333\n",
      "Epoch 124/125\n",
      "359/359 [==============================] - 0s 41us/step - loss: 0.1457 - acc: 0.9387 - val_loss: 0.1569 - val_acc: 0.9222\n",
      "Epoch 125/125\n",
      "359/359 [==============================] - 0s 41us/step - loss: 0.1297 - acc: 0.9415 - val_loss: 0.1555 - val_acc: 0.9222\n",
      "7\n",
      "['Donovan Mitchell' 'Kyle Kuzma' 'Jayson Tatum' 'Dennis Smith'\n",
      " 'Frank Ntilikina' 'Jordan Bell' 'Ben Simmon']\n"
     ]
    }
   ],
   "source": [
    "idx = list(range(x_train.shape[0]))\n",
    "np.random.shuffle(idx)\n",
    "hist = model.fit(x_train[idx],y_train[idx],validation_split=0.2,epochs=125,shuffle=True, callbacks = [tbCallBack])\n",
    "dnn_predict = model.predict_classes(x_test)\n",
    "print(sum(dnn_predict))\n",
    "print(y_test[dnn_predict == 1])"
   ]
  },
  {
   "cell_type": "code",
   "execution_count": 7,
   "metadata": {
    "ExecuteTime": {
     "end_time": "2018-01-07T22:48:40.745856Z",
     "start_time": "2018-01-07T22:48:40.346118Z"
    }
   },
   "outputs": [
    {
     "data": {
      "image/png": "[encoded data removed]",
      "text/plain": [
       "<matplotlib.figure.Figure at 0x7fda2a153fd0>"
      ]
     },
     "metadata": {},
     "output_type": "display_data"
    }
   ],
   "source": [
    "plt.figure(1)\n",
    "plt.plot(hist.history['acc'])\n",
    "plt.plot(hist.history['val_acc'])\n",
    "plt.title('model accuracy')\n",
    "plt.ylabel('accuracy')\n",
    "plt.xlabel('epoch')\n",
    "plt.legend(['train', 'test'], loc = 'lower right')\n",
    "plt.show()"
   ]
  },
  {
   "cell_type": "code",
   "execution_count": 8,
   "metadata": {
    "ExecuteTime": {
     "end_time": "2018-01-07T22:48:41.103654Z",
     "start_time": "2018-01-07T22:48:40.747550Z"
    }
   },
   "outputs": [
    {
     "data": {
      "image/png": "[encoded data removed]",
      "text/plain": [
       "<matplotlib.figure.Figure at 0x7fda227dd240>"
      ]
     },
     "metadata": {},
     "output_type": "display_data"
    }
   ],
   "source": [
    "plt.figure(2)\n",
    "plt.plot(hist.history['loss'])\n",
    "plt.plot(hist.history['val_loss'])\n",
    "plt.title('model loss')\n",
    "plt.ylabel('loss')\n",
    "plt.xlabel('epoch')\n",
    "plt.legend(['train', 'test'], loc = 'upper right')\n",
    "plt.show()"
   ]
  }
 ],
 "metadata": {
  "kernelspec": {
   "display_name": "Python 3",
   "language": "python",
   "name": "python3"
  },
  "language_info": {
   "codemirror_mode": {
    "name": "ipython",
    "version": 3
   },
   "file_extension": ".py",
   "mimetype": "text/x-python",
   "name": "python",
   "nbconvert_exporter": "python",
   "pygments_lexer": "ipython3",
   "version": "3.6.3"
  },
  "latex_envs": {
   "LaTeX_envs_menu_present": true,
   "autoclose": false,
   "autocomplete": true,
   "bibliofile": "biblio.bib",
   "cite_by": "apalike",
   "current_citInitial": 1,
   "eqLabelWithNumbers": true,
   "eqNumInitial": 1,
   "hotkeys": {
    "equation": "Ctrl-E",
    "itemize": "Ctrl-I"
   },
   "labels_anchors": false,
   "latex_user_defs": false,
   "report_style_numbering": false,
   "user_envs_cfg": false
  },
  "toc": {
   "nav_menu": {},
   "number_sections": true,
   "sideBar": true,
   "skip_h1_title": false,
   "toc_cell": false,
   "toc_position": {},
   "toc_section_display": "block",
   "toc_window_display": false
  },
  "varInspector": {
   "cols": {
    "lenName": 16,
    "lenType": 16,
    "lenVar": 40
   },
   "kernels_config": {
    "python": {
     "delete_cmd_postfix": "",
     "delete_cmd_prefix": "del ",
     "library": "var_list.py",
     "varRefreshCmd": "print(var_dic_list())"
    },
    "r": {
     "delete_cmd_postfix": ") ",
     "delete_cmd_prefix": "rm(",
     "library": "var_list.r",
     "varRefreshCmd": "cat(var_dic_list()) "
    }
   },
   "types_to_exclude": [
    "module",
    "function",
    "builtin_function_or_method",
    "instance",
    "_Feature"
   ],
   "window_display": false
  }
 },
 "nbformat": 4,
 "nbformat_minor": 2
}
