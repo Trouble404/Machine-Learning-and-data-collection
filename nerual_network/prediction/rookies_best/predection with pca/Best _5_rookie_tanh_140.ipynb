{
 "cells": [
  {
   "cell_type": "code",
   "execution_count": 1,
   "metadata": {
    "ExecuteTime": {
     "end_time": "2018-01-07T22:47:42.552777Z",
     "start_time": "2018-01-07T22:47:40.850864Z"
    }
   },
   "outputs": [
    {
     "name": "stderr",
     "output_type": "stream",
     "text": [
      "Using TensorFlow backend.\n",
      "/usr/lib/python3.6/importlib/_bootstrap.py:219: RuntimeWarning: compiletime version 3.5 of module 'tensorflow.python.framework.fast_tensor_util' does not match runtime version 3.6\n",
      "  return f(*args, **kwds)\n"
     ]
    }
   ],
   "source": [
    "import numpy as np\n",
    "import pandas\n",
    "from keras.layers import *\n",
    "from keras.models import Sequential, Model\n",
    "import keras\n",
    "import matplotlib.pyplot as plt"
   ]
  },
  {
   "cell_type": "code",
   "execution_count": 2,
   "metadata": {
    "ExecuteTime": {
     "end_time": "2018-01-07T22:47:42.588382Z",
     "start_time": "2018-01-07T22:47:42.554778Z"
    }
   },
   "outputs": [],
   "source": [
    "def zeroMean(dataMat):        \n",
    "    meanVal=np.mean(dataMat,axis=0)     #get mean by columns\n",
    "    newData=dataMat-meanVal  \n",
    "    return newData,meanVal\n",
    "\n",
    "\n",
    "def percentage2n(eigVals,percentage):  \n",
    "    sortArray=np.sort(eigVals)          #ascend order \n",
    "    sortArray=sortArray[-1::-1]           \n",
    "    arraySum=sum(sortArray)  \n",
    "    tmpSum=0  \n",
    "    num=0  \n",
    "    for i in sortArray:  \n",
    "        tmpSum+=i  \n",
    "        num+=1  \n",
    "        if tmpSum>=arraySum*percentage:  \n",
    "            return num  \n",
    "\n",
    "\n",
    "def pca(dataMat,percentage=0.99):  \n",
    "    newData,meanVal=zeroMean(dataMat)  \n",
    "    covMat=np.cov(newData,rowvar=0)      #covariance  \n",
    "    eigVals,eigVects=np.linalg.eig(np.mat(covMat))      \n",
    "    n=percentage2n(eigVals,percentage)                 #need n dimensionol data to get the convariance percentage\n",
    "    n = 6   # pca of 2017 rookies data is 6 dimentional \n",
    "    eigValIndice=np.argsort(eigVals)            #ascend order \n",
    "    n_eigValIndice=eigValIndice[-1:-(n+1):-1]   \n",
    "    n_eigVect=eigVects[:,n_eigValIndice]        \n",
    "    lowDDataMat=newData*n_eigVect               #lower dimensional data  \n",
    "    reconMat=(lowDDataMat*n_eigVect.T)+meanVal  #reconstruct data  \n",
    "    return lowDDataMat,reconMat"
   ]
  },
  {
   "cell_type": "code",
   "execution_count": 3,
   "metadata": {
    "ExecuteTime": {
     "end_time": "2018-01-07T22:47:42.831671Z",
     "start_time": "2018-01-07T22:47:42.589939Z"
    }
   },
   "outputs": [],
   "source": [
    "df = pandas.read_csv(\"04-16_NBA_rookies_data.csv\", header=None)\n",
    "df1 = pandas.read_csv(\"04-16_NBA_rookies_label.csv\",header=None)\n",
    "df_test = pandas.read_csv(\"2017rookies_data.csv\",header=None)\n",
    "df1_test = pandas.read_csv(\"2017rookies_name.csv\",header=None)\n",
    "ds = df.values\n",
    "ds1 = df1.values\n",
    "lowDDataMat,reconMat=pca(ds)  #pca\n",
    "ds_test = df_test.values\n",
    "lowDDataMat1,reconMat1=pca(ds_test)  #pca\n",
    "ds1_test = df1_test.values"
   ]
  },
  {
   "cell_type": "code",
   "execution_count": 4,
   "metadata": {
    "ExecuteTime": {
     "end_time": "2018-01-07T22:47:42.945437Z",
     "start_time": "2018-01-07T22:47:42.835430Z"
    }
   },
   "outputs": [],
   "source": [
    "x_train = lowDDataMat[:,0:6]\n",
    "y_train = ds1[:,1]\n",
    "x_test = lowDDataMat1[:,0:6]\n",
    "y_test = ds1_test[:,0]\n",
    "\n",
    "dim = x_train.shape[1]\n",
    "model = Sequential()\n",
    "model.add(Dense(100, input_dim=dim, activation='tanh'))\n",
    "model.add(Dropout(0.5))\n",
    "model.add(Dense(2, activation='softmax'))\n",
    "\n",
    "model.compile(loss='sparse_categorical_crossentropy', optimizer='rmsprop',metrics=[\"accuracy\"])"
   ]
  },
  {
   "cell_type": "code",
   "execution_count": 5,
   "metadata": {
    "ExecuteTime": {
     "end_time": "2018-01-07T22:47:43.753081Z",
     "start_time": "2018-01-07T22:47:42.947675Z"
    }
   },
   "outputs": [],
   "source": [
    "# Change log_dir for differnt activation function, change the number for every run.\n",
    "tbCallBack = keras.callbacks.TensorBoard(log_dir='tensorboard/tanh/5', histogram_freq=0, write_graph=True, write_images=True)"
   ]
  },
  {
   "cell_type": "code",
   "execution_count": 6,
   "metadata": {
    "ExecuteTime": {
     "end_time": "2018-01-07T22:47:46.979595Z",
     "start_time": "2018-01-07T22:47:43.754724Z"
    }
   },
   "outputs": [
    {
     "name": "stdout",
     "output_type": "stream",
     "text": [
      "Train on 359 samples, validate on 90 samples\n",
      "Epoch 1/85\n",
      "359/359 [==============================] - 0s 111us/step - loss: 0.8915 - acc: 0.6267 - val_loss: 0.5826 - val_acc: 0.7556\n",
      "Epoch 2/85\n",
      "359/359 [==============================] - 0s 49us/step - loss: 0.6418 - acc: 0.7159 - val_loss: 0.5289 - val_acc: 0.7667\n",
      "Epoch 3/85\n",
      "359/359 [==============================] - 0s 61us/step - loss: 0.6576 - acc: 0.7103 - val_loss: 0.5050 - val_acc: 0.7778\n",
      "Epoch 4/85\n",
      "359/359 [==============================] - 0s 52us/step - loss: 0.5630 - acc: 0.7772 - val_loss: 0.4938 - val_acc: 0.7667\n",
      "Epoch 5/85\n",
      "359/359 [==============================] - 0s 47us/step - loss: 0.5642 - acc: 0.7772 - val_loss: 0.4465 - val_acc: 0.7667\n",
      "Epoch 6/85\n",
      "359/359 [==============================] - 0s 40us/step - loss: 0.4795 - acc: 0.7660 - val_loss: 0.4547 - val_acc: 0.7667\n",
      "Epoch 7/85\n",
      "359/359 [==============================] - 0s 40us/step - loss: 0.4547 - acc: 0.7994 - val_loss: 0.4734 - val_acc: 0.7667\n",
      "Epoch 8/85\n",
      "359/359 [==============================] - 0s 43us/step - loss: 0.4874 - acc: 0.7911 - val_loss: 0.4307 - val_acc: 0.7889\n",
      "Epoch 9/85\n",
      "359/359 [==============================] - 0s 482us/step - loss: 0.4029 - acc: 0.8162 - val_loss: 0.4285 - val_acc: 0.7889\n",
      "Epoch 10/85\n",
      "359/359 [==============================] - 0s 52us/step - loss: 0.3720 - acc: 0.8468 - val_loss: 0.4550 - val_acc: 0.7778\n",
      "Epoch 11/85\n",
      "359/359 [==============================] - 0s 56us/step - loss: 0.4003 - acc: 0.8440 - val_loss: 0.4188 - val_acc: 0.7889\n",
      "Epoch 12/85\n",
      "359/359 [==============================] - 0s 57us/step - loss: 0.4001 - acc: 0.8301 - val_loss: 0.3915 - val_acc: 0.8111\n",
      "Epoch 13/85\n",
      "359/359 [==============================] - 0s 48us/step - loss: 0.3676 - acc: 0.8607 - val_loss: 0.3612 - val_acc: 0.8000\n",
      "Epoch 14/85\n",
      "359/359 [==============================] - 0s 47us/step - loss: 0.3875 - acc: 0.8189 - val_loss: 0.3742 - val_acc: 0.8111\n",
      "Epoch 15/85\n",
      "359/359 [==============================] - 0s 52us/step - loss: 0.3427 - acc: 0.8384 - val_loss: 0.3536 - val_acc: 0.8111\n",
      "Epoch 16/85\n",
      "359/359 [==============================] - 0s 53us/step - loss: 0.3090 - acc: 0.8719 - val_loss: 0.3574 - val_acc: 0.8000\n",
      "Epoch 17/85\n",
      "359/359 [==============================] - 0s 45us/step - loss: 0.2812 - acc: 0.8886 - val_loss: 0.3654 - val_acc: 0.8111\n",
      "Epoch 18/85\n",
      "359/359 [==============================] - 0s 47us/step - loss: 0.3365 - acc: 0.8635 - val_loss: 0.3691 - val_acc: 0.8111\n",
      "Epoch 19/85\n",
      "359/359 [==============================] - 0s 39us/step - loss: 0.2463 - acc: 0.8886 - val_loss: 0.3890 - val_acc: 0.8111\n",
      "Epoch 20/85\n",
      "359/359 [==============================] - 0s 40us/step - loss: 0.2910 - acc: 0.8830 - val_loss: 0.3321 - val_acc: 0.8222\n",
      "Epoch 21/85\n",
      "359/359 [==============================] - 0s 580us/step - loss: 0.2613 - acc: 0.8997 - val_loss: 0.3233 - val_acc: 0.8111\n",
      "Epoch 22/85\n",
      "359/359 [==============================] - 0s 44us/step - loss: 0.2404 - acc: 0.8914 - val_loss: 0.3422 - val_acc: 0.8222\n",
      "Epoch 23/85\n",
      "359/359 [==============================] - 0s 42us/step - loss: 0.2574 - acc: 0.8830 - val_loss: 0.3379 - val_acc: 0.8222\n",
      "Epoch 24/85\n",
      "359/359 [==============================] - 0s 52us/step - loss: 0.2770 - acc: 0.8830 - val_loss: 0.3164 - val_acc: 0.8333\n",
      "Epoch 25/85\n",
      "359/359 [==============================] - 0s 38us/step - loss: 0.2804 - acc: 0.8663 - val_loss: 0.3215 - val_acc: 0.8333\n",
      "Epoch 26/85\n",
      "359/359 [==============================] - 0s 39us/step - loss: 0.2861 - acc: 0.8942 - val_loss: 0.3035 - val_acc: 0.8222\n",
      "Epoch 27/85\n",
      "359/359 [==============================] - 0s 43us/step - loss: 0.2505 - acc: 0.8997 - val_loss: 0.3261 - val_acc: 0.8222\n",
      "Epoch 28/85\n",
      "359/359 [==============================] - 0s 47us/step - loss: 0.2030 - acc: 0.9081 - val_loss: 0.3027 - val_acc: 0.8333\n",
      "Epoch 29/85\n",
      "359/359 [==============================] - 0s 44us/step - loss: 0.2474 - acc: 0.9025 - val_loss: 0.3229 - val_acc: 0.8222\n",
      "Epoch 30/85\n",
      "359/359 [==============================] - 0s 48us/step - loss: 0.2517 - acc: 0.8997 - val_loss: 0.3033 - val_acc: 0.8333\n",
      "Epoch 31/85\n",
      "359/359 [==============================] - 0s 44us/step - loss: 0.2359 - acc: 0.9081 - val_loss: 0.3183 - val_acc: 0.8333\n",
      "Epoch 32/85\n",
      "359/359 [==============================] - 0s 42us/step - loss: 0.2371 - acc: 0.9025 - val_loss: 0.3166 - val_acc: 0.8333\n",
      "Epoch 33/85\n",
      "359/359 [==============================] - 0s 41us/step - loss: 0.2063 - acc: 0.9081 - val_loss: 0.3007 - val_acc: 0.8333\n",
      "Epoch 34/85\n",
      "359/359 [==============================] - 0s 683us/step - loss: 0.1781 - acc: 0.9192 - val_loss: 0.2728 - val_acc: 0.8444\n",
      "Epoch 35/85\n",
      "359/359 [==============================] - 0s 44us/step - loss: 0.2389 - acc: 0.9053 - val_loss: 0.2882 - val_acc: 0.8444\n",
      "Epoch 36/85\n",
      "359/359 [==============================] - 0s 45us/step - loss: 0.2072 - acc: 0.9276 - val_loss: 0.2854 - val_acc: 0.8444\n",
      "Epoch 37/85\n",
      "359/359 [==============================] - 0s 42us/step - loss: 0.2134 - acc: 0.8997 - val_loss: 0.2638 - val_acc: 0.8444\n",
      "Epoch 38/85\n",
      "359/359 [==============================] - 0s 50us/step - loss: 0.1900 - acc: 0.9025 - val_loss: 0.3000 - val_acc: 0.8333\n",
      "Epoch 39/85\n",
      "359/359 [==============================] - 0s 52us/step - loss: 0.1731 - acc: 0.9276 - val_loss: 0.2606 - val_acc: 0.8444\n",
      "Epoch 40/85\n",
      "359/359 [==============================] - 0s 42us/step - loss: 0.2318 - acc: 0.9053 - val_loss: 0.2421 - val_acc: 0.8556\n",
      "Epoch 41/85\n",
      "359/359 [==============================] - 0s 41us/step - loss: 0.2206 - acc: 0.9220 - val_loss: 0.2331 - val_acc: 0.8667\n",
      "Epoch 42/85\n",
      "359/359 [==============================] - 0s 42us/step - loss: 0.2042 - acc: 0.9192 - val_loss: 0.2462 - val_acc: 0.8556\n",
      "Epoch 43/85\n",
      "359/359 [==============================] - 0s 48us/step - loss: 0.1895 - acc: 0.9220 - val_loss: 0.2406 - val_acc: 0.8556\n",
      "Epoch 44/85\n",
      "359/359 [==============================] - 0s 43us/step - loss: 0.1876 - acc: 0.9109 - val_loss: 0.2444 - val_acc: 0.8556\n",
      "Epoch 45/85\n",
      "359/359 [==============================] - 0s 47us/step - loss: 0.2118 - acc: 0.9053 - val_loss: 0.2530 - val_acc: 0.8667\n",
      "Epoch 46/85\n",
      "359/359 [==============================] - 0s 641us/step - loss: 0.1820 - acc: 0.9192 - val_loss: 0.2544 - val_acc: 0.8556\n",
      "Epoch 47/85\n",
      "359/359 [==============================] - 0s 49us/step - loss: 0.2059 - acc: 0.9136 - val_loss: 0.2434 - val_acc: 0.8667\n",
      "Epoch 48/85\n",
      "359/359 [==============================] - 0s 46us/step - loss: 0.1803 - acc: 0.9331 - val_loss: 0.2319 - val_acc: 0.8667\n",
      "Epoch 49/85\n",
      "359/359 [==============================] - 0s 49us/step - loss: 0.1839 - acc: 0.9109 - val_loss: 0.2246 - val_acc: 0.8889\n",
      "Epoch 50/85\n",
      "359/359 [==============================] - 0s 42us/step - loss: 0.1775 - acc: 0.9276 - val_loss: 0.2285 - val_acc: 0.8778\n",
      "Epoch 51/85\n",
      "359/359 [==============================] - 0s 52us/step - loss: 0.1475 - acc: 0.9331 - val_loss: 0.2332 - val_acc: 0.8778\n",
      "Epoch 52/85\n",
      "359/359 [==============================] - 0s 54us/step - loss: 0.1685 - acc: 0.9276 - val_loss: 0.2201 - val_acc: 0.8778\n",
      "Epoch 53/85\n",
      "359/359 [==============================] - 0s 43us/step - loss: 0.1631 - acc: 0.9387 - val_loss: 0.2113 - val_acc: 0.9000\n",
      "Epoch 54/85\n",
      "359/359 [==============================] - 0s 45us/step - loss: 0.1852 - acc: 0.9164 - val_loss: 0.2235 - val_acc: 0.8778\n",
      "Epoch 55/85\n",
      "359/359 [==============================] - 0s 42us/step - loss: 0.1929 - acc: 0.9192 - val_loss: 0.2239 - val_acc: 0.8778\n",
      "Epoch 56/85\n",
      "359/359 [==============================] - 0s 43us/step - loss: 0.1902 - acc: 0.9192 - val_loss: 0.2564 - val_acc: 0.8667\n",
      "Epoch 57/85\n",
      "359/359 [==============================] - 0s 41us/step - loss: 0.1994 - acc: 0.9136 - val_loss: 0.2246 - val_acc: 0.8778\n",
      "Epoch 58/85\n",
      "359/359 [==============================] - 0s 605us/step - loss: 0.1701 - acc: 0.9443 - val_loss: 0.2242 - val_acc: 0.8778\n",
      "Epoch 59/85\n",
      "359/359 [==============================] - 0s 49us/step - loss: 0.1837 - acc: 0.9109 - val_loss: 0.2282 - val_acc: 0.8778\n",
      "Epoch 60/85\n",
      "359/359 [==============================] - 0s 50us/step - loss: 0.1636 - acc: 0.9415 - val_loss: 0.2340 - val_acc: 0.8778\n",
      "Epoch 61/85\n",
      "359/359 [==============================] - 0s 52us/step - loss: 0.1212 - acc: 0.9526 - val_loss: 0.2294 - val_acc: 0.8778\n"
     ]
    },
    {
     "name": "stdout",
     "output_type": "stream",
     "text": [
      "Epoch 62/85\n",
      "359/359 [==============================] - 0s 42us/step - loss: 0.1462 - acc: 0.9331 - val_loss: 0.2348 - val_acc: 0.8778\n",
      "Epoch 63/85\n",
      "359/359 [==============================] - 0s 44us/step - loss: 0.1831 - acc: 0.9220 - val_loss: 0.2110 - val_acc: 0.9000\n",
      "Epoch 64/85\n",
      "359/359 [==============================] - 0s 43us/step - loss: 0.1701 - acc: 0.9276 - val_loss: 0.2200 - val_acc: 0.8778\n",
      "Epoch 65/85\n",
      "359/359 [==============================] - 0s 43us/step - loss: 0.1450 - acc: 0.9387 - val_loss: 0.2017 - val_acc: 0.9000\n",
      "Epoch 66/85\n",
      "359/359 [==============================] - 0s 48us/step - loss: 0.1377 - acc: 0.9499 - val_loss: 0.2083 - val_acc: 0.9000\n",
      "Epoch 67/85\n",
      "359/359 [==============================] - 0s 47us/step - loss: 0.1474 - acc: 0.9443 - val_loss: 0.1905 - val_acc: 0.9000\n",
      "Epoch 68/85\n",
      "359/359 [==============================] - 0s 43us/step - loss: 0.1529 - acc: 0.9387 - val_loss: 0.1966 - val_acc: 0.9000\n",
      "Epoch 69/85\n",
      "359/359 [==============================] - 0s 43us/step - loss: 0.1512 - acc: 0.9415 - val_loss: 0.1827 - val_acc: 0.9000\n",
      "Epoch 70/85\n",
      "359/359 [==============================] - 0s 44us/step - loss: 0.1168 - acc: 0.9471 - val_loss: 0.1932 - val_acc: 0.9000\n",
      "Epoch 71/85\n",
      "359/359 [==============================] - 0s 524us/step - loss: 0.1665 - acc: 0.9443 - val_loss: 0.1783 - val_acc: 0.9111\n",
      "Epoch 72/85\n",
      "359/359 [==============================] - 0s 48us/step - loss: 0.1604 - acc: 0.9359 - val_loss: 0.1911 - val_acc: 0.9000\n",
      "Epoch 73/85\n",
      "359/359 [==============================] - 0s 47us/step - loss: 0.1639 - acc: 0.9443 - val_loss: 0.1940 - val_acc: 0.9000\n",
      "Epoch 74/85\n",
      "359/359 [==============================] - 0s 46us/step - loss: 0.1471 - acc: 0.9331 - val_loss: 0.1915 - val_acc: 0.9000\n",
      "Epoch 75/85\n",
      "359/359 [==============================] - 0s 47us/step - loss: 0.1564 - acc: 0.9276 - val_loss: 0.1951 - val_acc: 0.9000\n",
      "Epoch 76/85\n",
      "359/359 [==============================] - 0s 45us/step - loss: 0.1212 - acc: 0.9554 - val_loss: 0.1823 - val_acc: 0.9000\n",
      "Epoch 77/85\n",
      "359/359 [==============================] - 0s 49us/step - loss: 0.1563 - acc: 0.9304 - val_loss: 0.1975 - val_acc: 0.9000\n",
      "Epoch 78/85\n",
      "359/359 [==============================] - 0s 46us/step - loss: 0.1420 - acc: 0.9387 - val_loss: 0.1995 - val_acc: 0.9000\n",
      "Epoch 79/85\n",
      "359/359 [==============================] - 0s 45us/step - loss: 0.1550 - acc: 0.9471 - val_loss: 0.1971 - val_acc: 0.9000\n",
      "Epoch 80/85\n",
      "359/359 [==============================] - 0s 51us/step - loss: 0.1568 - acc: 0.9304 - val_loss: 0.1907 - val_acc: 0.9000\n",
      "Epoch 81/85\n",
      "359/359 [==============================] - 0s 512us/step - loss: 0.1291 - acc: 0.9499 - val_loss: 0.1951 - val_acc: 0.9000\n",
      "Epoch 82/85\n",
      "359/359 [==============================] - 0s 42us/step - loss: 0.1306 - acc: 0.9554 - val_loss: 0.2003 - val_acc: 0.9000\n",
      "Epoch 83/85\n",
      "359/359 [==============================] - 0s 38us/step - loss: 0.1274 - acc: 0.9499 - val_loss: 0.2012 - val_acc: 0.9000\n",
      "Epoch 84/85\n",
      "359/359 [==============================] - 0s 40us/step - loss: 0.1501 - acc: 0.9359 - val_loss: 0.1932 - val_acc: 0.9000\n",
      "Epoch 85/85\n",
      "359/359 [==============================] - 0s 40us/step - loss: 0.1488 - acc: 0.9415 - val_loss: 0.2218 - val_acc: 0.8667\n",
      "7\n",
      "['Donovan Mitchell' 'Kyle Kuzma' 'Lauri Markkanen' 'Dennis Smith'\n",
      " 'John Collins' 'Frank Ntilikina' 'Ben Simmon']\n"
     ]
    }
   ],
   "source": [
    "idx = list(range(x_train.shape[0]))\n",
    "np.random.shuffle(idx)\n",
    "hist = model.fit(x_train[idx],y_train[idx],validation_split=0.2,epochs=85,shuffle=True, callbacks = [tbCallBack])\n",
    "dnn_predict = model.predict_classes(x_test)\n",
    "print(sum(dnn_predict))\n",
    "print(y_test[dnn_predict == 1])"
   ]
  },
  {
   "cell_type": "code",
   "execution_count": 7,
   "metadata": {
    "ExecuteTime": {
     "end_time": "2018-01-07T22:47:47.351506Z",
     "start_time": "2018-01-07T22:47:46.981071Z"
    }
   },
   "outputs": [
    {
     "data": {
      "image/png": "[encoded data removed]",
      "text/plain": [
       "<matplotlib.figure.Figure at 0x7fdf1396d908>"
      ]
     },
     "metadata": {},
     "output_type": "display_data"
    }
   ],
   "source": [
    "plt.figure(1)\n",
    "plt.plot(hist.history['acc'])\n",
    "plt.plot(hist.history['val_acc'])\n",
    "plt.title('model accuracy')\n",
    "plt.ylabel('accuracy')\n",
    "plt.xlabel('epoch')\n",
    "plt.legend(['train', 'test'], loc = 'lower right')\n",
    "plt.show()"
   ]
  },
  {
   "cell_type": "code",
   "execution_count": 8,
   "metadata": {
    "ExecuteTime": {
     "end_time": "2018-01-07T22:47:47.482583Z",
     "start_time": "2018-01-07T22:47:47.353058Z"
    }
   },
   "outputs": [
    {
     "data": {
      "image/png": "[encoded data removed]",
      "text/plain": [
       "<matplotlib.figure.Figure at 0x7fdf10040898>"
      ]
     },
     "metadata": {},
     "output_type": "display_data"
    }
   ],
   "source": [
    "plt.figure(2)\n",
    "plt.plot(hist.history['loss'])\n",
    "plt.plot(hist.history['val_loss'])\n",
    "plt.title('model loss')\n",
    "plt.ylabel('loss')\n",
    "plt.xlabel('epoch')\n",
    "plt.legend(['train', 'test'], loc = 'upper right')\n",
    "plt.show()"
   ]
  }
 ],
 "metadata": {
  "kernelspec": {
   "display_name": "Python 3",
   "language": "python",
   "name": "python3"
  },
  "language_info": {
   "codemirror_mode": {
    "name": "ipython",
    "version": 3
   },
   "file_extension": ".py",
   "mimetype": "text/x-python",
   "name": "python",
   "nbconvert_exporter": "python",
   "pygments_lexer": "ipython3",
   "version": "3.6.3"
  },
  "latex_envs": {
   "LaTeX_envs_menu_present": true,
   "autoclose": false,
   "autocomplete": true,
   "bibliofile": "biblio.bib",
   "cite_by": "apalike",
   "current_citInitial": 1,
   "eqLabelWithNumbers": true,
   "eqNumInitial": 1,
   "hotkeys": {
    "equation": "Ctrl-E",
    "itemize": "Ctrl-I"
   },
   "labels_anchors": false,
   "latex_user_defs": false,
   "report_style_numbering": false,
   "user_envs_cfg": false
  },
  "toc": {
   "nav_menu": {},
   "number_sections": true,
   "sideBar": true,
   "skip_h1_title": false,
   "toc_cell": false,
   "toc_position": {},
   "toc_section_display": "block",
   "toc_window_display": false
  },
  "varInspector": {
   "cols": {
    "lenName": 16,
    "lenType": 16,
    "lenVar": 40
   },
   "kernels_config": {
    "python": {
     "delete_cmd_postfix": "",
     "delete_cmd_prefix": "del ",
     "library": "var_list.py",
     "varRefreshCmd": "print(var_dic_list())"
    },
    "r": {
     "delete_cmd_postfix": ") ",
     "delete_cmd_prefix": "rm(",
     "library": "var_list.r",
     "varRefreshCmd": "cat(var_dic_list()) "
    }
   },
   "types_to_exclude": [
    "module",
    "function",
    "builtin_function_or_method",
    "instance",
    "_Feature"
   ],
   "window_display": false
  }
 },
 "nbformat": 4,
 "nbformat_minor": 2
}
