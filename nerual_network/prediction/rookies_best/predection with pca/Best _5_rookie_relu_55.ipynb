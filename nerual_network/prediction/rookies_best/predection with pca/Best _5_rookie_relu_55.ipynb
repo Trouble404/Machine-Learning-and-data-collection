{
 "cells": [
  {
   "cell_type": "code",
   "execution_count": 1,
   "metadata": {
    "ExecuteTime": {
     "end_time": "2018-01-07T22:53:31.202898Z",
     "start_time": "2018-01-07T22:53:29.633802Z"
    }
   },
   "outputs": [
    {
     "name": "stderr",
     "output_type": "stream",
     "text": [
      "Using TensorFlow backend.\n",
      "/usr/lib/python3.6/importlib/_bootstrap.py:219: RuntimeWarning: compiletime version 3.5 of module 'tensorflow.python.framework.fast_tensor_util' does not match runtime version 3.6\n",
      "  return f(*args, **kwds)\n"
     ]
    }
   ],
   "source": [
    "import numpy as np\n",
    "import pandas\n",
    "from keras.layers import *\n",
    "from keras.models import Sequential, Model\n",
    "import keras\n",
    "import matplotlib.pyplot as plt"
   ]
  },
  {
   "cell_type": "code",
   "execution_count": 2,
   "metadata": {
    "ExecuteTime": {
     "end_time": "2018-01-07T22:53:31.238484Z",
     "start_time": "2018-01-07T22:53:31.204615Z"
    }
   },
   "outputs": [],
   "source": [
    "def zeroMean(dataMat):        \n",
    "    meanVal=np.mean(dataMat,axis=0)     #get mean by columns\n",
    "    newData=dataMat-meanVal  \n",
    "    return newData,meanVal\n",
    "\n",
    "\n",
    "def percentage2n(eigVals,percentage):  \n",
    "    sortArray=np.sort(eigVals)          #ascend order \n",
    "    sortArray=sortArray[-1::-1]           \n",
    "    arraySum=sum(sortArray)  \n",
    "    tmpSum=0  \n",
    "    num=0  \n",
    "    for i in sortArray:  \n",
    "        tmpSum+=i  \n",
    "        num+=1  \n",
    "        if tmpSum>=arraySum*percentage:  \n",
    "            return num  \n",
    "\n",
    "\n",
    "def pca(dataMat,percentage=0.99):  \n",
    "    newData,meanVal=zeroMean(dataMat)  \n",
    "    covMat=np.cov(newData,rowvar=0)      #covariance  \n",
    "    eigVals,eigVects=np.linalg.eig(np.mat(covMat))      \n",
    "    n=percentage2n(eigVals,percentage)                 #need n dimensionol data to get the convariance percentage\n",
    "    n = 6   # pca of 2017 rookies data is 6 dimentional \n",
    "    eigValIndice=np.argsort(eigVals)            #ascend order \n",
    "    n_eigValIndice=eigValIndice[-1:-(n+1):-1]   \n",
    "    n_eigVect=eigVects[:,n_eigValIndice]        \n",
    "    lowDDataMat=newData*n_eigVect               #lower dimensional data  \n",
    "    reconMat=(lowDDataMat*n_eigVect.T)+meanVal  #reconstruct data  \n",
    "    return lowDDataMat,reconMat"
   ]
  },
  {
   "cell_type": "code",
   "execution_count": 3,
   "metadata": {
    "ExecuteTime": {
     "end_time": "2018-01-07T22:53:31.259944Z",
     "start_time": "2018-01-07T22:53:31.240277Z"
    }
   },
   "outputs": [],
   "source": [
    "df = pandas.read_csv(\"04-16_NBA_rookies_data.csv\", header=None)\n",
    "df1 = pandas.read_csv(\"04-16_NBA_rookies_label.csv\",header=None)\n",
    "df_test = pandas.read_csv(\"2017rookies_data.csv\",header=None)\n",
    "df1_test = pandas.read_csv(\"2017rookies_name.csv\",header=None)\n",
    "ds = df.values\n",
    "ds1 = df1.values\n",
    "lowDDataMat,reconMat=pca(ds)  #pca\n",
    "ds_test = df_test.values\n",
    "lowDDataMat1,reconMat1=pca(ds_test)  #pca\n",
    "ds1_test = df1_test.values"
   ]
  },
  {
   "cell_type": "code",
   "execution_count": 4,
   "metadata": {
    "ExecuteTime": {
     "end_time": "2018-01-07T22:53:31.339049Z",
     "start_time": "2018-01-07T22:53:31.261721Z"
    }
   },
   "outputs": [],
   "source": [
    "x_train = lowDDataMat[:,0:6]\n",
    "y_train = ds1[:,1]\n",
    "x_test = lowDDataMat1[:,0:6]\n",
    "y_test = ds1_test[:,0]\n",
    "\n",
    "dim = x_train.shape[1]\n",
    "model = Sequential()\n",
    "model.add(Dense(100, input_dim=dim, activation='tanh'))\n",
    "model.add(Dropout(0.5))\n",
    "model.add(Dense(2, activation='softmax'))\n",
    "\n",
    "model.compile(loss='sparse_categorical_crossentropy', optimizer='rmsprop',metrics=[\"accuracy\"])"
   ]
  },
  {
   "cell_type": "code",
   "execution_count": 5,
   "metadata": {
    "ExecuteTime": {
     "end_time": "2018-01-07T22:53:31.990669Z",
     "start_time": "2018-01-07T22:53:31.340607Z"
    }
   },
   "outputs": [],
   "source": [
    "# Change log_dir for differnt activation function, change the number for every run.\n",
    "tbCallBack = keras.callbacks.TensorBoard(log_dir='tensorboard/relu/1', histogram_freq=0, write_graph=True, write_images=True)"
   ]
  },
  {
   "cell_type": "code",
   "execution_count": 6,
   "metadata": {
    "ExecuteTime": {
     "end_time": "2018-01-07T22:53:33.849553Z",
     "start_time": "2018-01-07T22:53:31.992254Z"
    }
   },
   "outputs": [
    {
     "name": "stdout",
     "output_type": "stream",
     "text": [
      "Train on 359 samples, validate on 90 samples\n",
      "Epoch 1/55\n",
      "359/359 [==============================] - 0s 122us/step - loss: 0.8374 - acc: 0.5961 - val_loss: 0.6054 - val_acc: 0.6444\n",
      "Epoch 2/55\n",
      "359/359 [==============================] - 0s 46us/step - loss: 0.7265 - acc: 0.6546 - val_loss: 0.5165 - val_acc: 0.7444\n",
      "Epoch 3/55\n",
      "359/359 [==============================] - 0s 41us/step - loss: 0.6306 - acc: 0.7214 - val_loss: 0.4479 - val_acc: 0.7667\n",
      "Epoch 4/55\n",
      "359/359 [==============================] - 0s 45us/step - loss: 0.6215 - acc: 0.7270 - val_loss: 0.4477 - val_acc: 0.7667\n",
      "Epoch 5/55\n",
      "359/359 [==============================] - 0s 42us/step - loss: 0.5769 - acc: 0.7521 - val_loss: 0.4095 - val_acc: 0.8111\n",
      "Epoch 6/55\n",
      "359/359 [==============================] - 0s 52us/step - loss: 0.5801 - acc: 0.7688 - val_loss: 0.4148 - val_acc: 0.8000\n",
      "Epoch 7/55\n",
      "359/359 [==============================] - 0s 51us/step - loss: 0.4808 - acc: 0.7855 - val_loss: 0.3960 - val_acc: 0.8222\n",
      "Epoch 8/55\n",
      "359/359 [==============================] - 0s 287us/step - loss: 0.4401 - acc: 0.7994 - val_loss: 0.3743 - val_acc: 0.8333\n",
      "Epoch 9/55\n",
      "359/359 [==============================] - 0s 47us/step - loss: 0.4030 - acc: 0.8301 - val_loss: 0.3700 - val_acc: 0.8556\n",
      "Epoch 10/55\n",
      "359/359 [==============================] - 0s 44us/step - loss: 0.4116 - acc: 0.7994 - val_loss: 0.3712 - val_acc: 0.8556\n",
      "Epoch 11/55\n",
      "359/359 [==============================] - 0s 56us/step - loss: 0.3819 - acc: 0.8357 - val_loss: 0.3570 - val_acc: 0.8556\n",
      "Epoch 12/55\n",
      "359/359 [==============================] - 0s 46us/step - loss: 0.4614 - acc: 0.7994 - val_loss: 0.3569 - val_acc: 0.8556\n",
      "Epoch 13/55\n",
      "359/359 [==============================] - 0s 44us/step - loss: 0.3822 - acc: 0.8273 - val_loss: 0.3440 - val_acc: 0.8556\n",
      "Epoch 14/55\n",
      "359/359 [==============================] - 0s 49us/step - loss: 0.3901 - acc: 0.8357 - val_loss: 0.3290 - val_acc: 0.8556\n",
      "Epoch 15/55\n",
      "359/359 [==============================] - 0s 49us/step - loss: 0.3683 - acc: 0.8301 - val_loss: 0.3112 - val_acc: 0.8667\n",
      "Epoch 16/55\n",
      "359/359 [==============================] - 0s 45us/step - loss: 0.3413 - acc: 0.8440 - val_loss: 0.3032 - val_acc: 0.8667\n",
      "Epoch 17/55\n",
      "359/359 [==============================] - 0s 45us/step - loss: 0.3606 - acc: 0.8357 - val_loss: 0.2940 - val_acc: 0.8889\n",
      "Epoch 18/55\n",
      "359/359 [==============================] - 0s 48us/step - loss: 0.3042 - acc: 0.8719 - val_loss: 0.2910 - val_acc: 0.8778\n",
      "Epoch 19/55\n",
      "359/359 [==============================] - 0s 45us/step - loss: 0.3222 - acc: 0.8552 - val_loss: 0.2789 - val_acc: 0.8667\n",
      "Epoch 20/55\n",
      "359/359 [==============================] - 0s 43us/step - loss: 0.3107 - acc: 0.8579 - val_loss: 0.2766 - val_acc: 0.8778\n",
      "Epoch 21/55\n",
      "359/359 [==============================] - 0s 41us/step - loss: 0.3508 - acc: 0.8384 - val_loss: 0.2736 - val_acc: 0.8889\n",
      "Epoch 22/55\n",
      "359/359 [==============================] - 0s 48us/step - loss: 0.3373 - acc: 0.8552 - val_loss: 0.2697 - val_acc: 0.9000\n",
      "Epoch 23/55\n",
      "359/359 [==============================] - 0s 462us/step - loss: 0.2783 - acc: 0.8969 - val_loss: 0.2677 - val_acc: 0.9000\n",
      "Epoch 24/55\n",
      "359/359 [==============================] - 0s 60us/step - loss: 0.2863 - acc: 0.8830 - val_loss: 0.2671 - val_acc: 0.8889\n",
      "Epoch 25/55\n",
      "359/359 [==============================] - 0s 50us/step - loss: 0.2961 - acc: 0.8635 - val_loss: 0.2529 - val_acc: 0.9000\n",
      "Epoch 26/55\n",
      "359/359 [==============================] - 0s 50us/step - loss: 0.2806 - acc: 0.8719 - val_loss: 0.2593 - val_acc: 0.8889\n",
      "Epoch 27/55\n",
      "359/359 [==============================] - 0s 47us/step - loss: 0.2502 - acc: 0.8886 - val_loss: 0.2473 - val_acc: 0.9000\n",
      "Epoch 28/55\n",
      "359/359 [==============================] - 0s 47us/step - loss: 0.2261 - acc: 0.9109 - val_loss: 0.2358 - val_acc: 0.9000\n",
      "Epoch 29/55\n",
      "359/359 [==============================] - 0s 47us/step - loss: 0.2464 - acc: 0.8802 - val_loss: 0.2316 - val_acc: 0.9222\n",
      "Epoch 30/55\n",
      "359/359 [==============================] - 0s 43us/step - loss: 0.2268 - acc: 0.9164 - val_loss: 0.2231 - val_acc: 0.9222\n",
      "Epoch 31/55\n",
      "359/359 [==============================] - 0s 47us/step - loss: 0.2203 - acc: 0.9053 - val_loss: 0.2294 - val_acc: 0.9111\n",
      "Epoch 32/55\n",
      "359/359 [==============================] - 0s 40us/step - loss: 0.2827 - acc: 0.8774 - val_loss: 0.2164 - val_acc: 0.9000\n",
      "Epoch 33/55\n",
      "359/359 [==============================] - 0s 46us/step - loss: 0.2363 - acc: 0.9136 - val_loss: 0.2147 - val_acc: 0.9000\n",
      "Epoch 34/55\n",
      "359/359 [==============================] - 0s 46us/step - loss: 0.2334 - acc: 0.9164 - val_loss: 0.2148 - val_acc: 0.9222\n",
      "Epoch 35/55\n",
      "359/359 [==============================] - 0s 51us/step - loss: 0.2308 - acc: 0.8969 - val_loss: 0.2099 - val_acc: 0.9000\n",
      "Epoch 36/55\n",
      "359/359 [==============================] - 0s 50us/step - loss: 0.1991 - acc: 0.9164 - val_loss: 0.2051 - val_acc: 0.9000\n",
      "Epoch 37/55\n",
      "359/359 [==============================] - 0s 47us/step - loss: 0.1842 - acc: 0.9164 - val_loss: 0.2051 - val_acc: 0.9222\n",
      "Epoch 38/55\n",
      "359/359 [==============================] - 0s 46us/step - loss: 0.2050 - acc: 0.9248 - val_loss: 0.2029 - val_acc: 0.9222\n",
      "Epoch 39/55\n",
      "359/359 [==============================] - 0s 363us/step - loss: 0.2290 - acc: 0.8914 - val_loss: 0.2037 - val_acc: 0.9333\n",
      "Epoch 40/55\n",
      "359/359 [==============================] - 0s 43us/step - loss: 0.1922 - acc: 0.9081 - val_loss: 0.1999 - val_acc: 0.9333\n",
      "Epoch 41/55\n",
      "359/359 [==============================] - 0s 41us/step - loss: 0.2098 - acc: 0.9081 - val_loss: 0.2070 - val_acc: 0.9333\n",
      "Epoch 42/55\n",
      "359/359 [==============================] - 0s 46us/step - loss: 0.2137 - acc: 0.9220 - val_loss: 0.1948 - val_acc: 0.9222\n",
      "Epoch 43/55\n",
      "359/359 [==============================] - 0s 47us/step - loss: 0.1916 - acc: 0.9220 - val_loss: 0.1938 - val_acc: 0.9222\n",
      "Epoch 44/55\n",
      "359/359 [==============================] - 0s 46us/step - loss: 0.2065 - acc: 0.9136 - val_loss: 0.1955 - val_acc: 0.9333\n",
      "Epoch 45/55\n",
      "359/359 [==============================] - 0s 44us/step - loss: 0.1809 - acc: 0.9248 - val_loss: 0.1851 - val_acc: 0.9222\n",
      "Epoch 46/55\n",
      "359/359 [==============================] - 0s 40us/step - loss: 0.1840 - acc: 0.9192 - val_loss: 0.1830 - val_acc: 0.9333\n",
      "Epoch 47/55\n",
      "359/359 [==============================] - 0s 45us/step - loss: 0.1973 - acc: 0.9136 - val_loss: 0.1790 - val_acc: 0.9111\n",
      "Epoch 48/55\n",
      "359/359 [==============================] - 0s 51us/step - loss: 0.2030 - acc: 0.9248 - val_loss: 0.1797 - val_acc: 0.9333\n",
      "Epoch 49/55\n",
      "359/359 [==============================] - 0s 44us/step - loss: 0.1958 - acc: 0.9081 - val_loss: 0.1771 - val_acc: 0.9222\n",
      "Epoch 50/55\n",
      "359/359 [==============================] - 0s 45us/step - loss: 0.1861 - acc: 0.9248 - val_loss: 0.1868 - val_acc: 0.9444\n",
      "Epoch 51/55\n",
      "359/359 [==============================] - 0s 49us/step - loss: 0.1920 - acc: 0.9220 - val_loss: 0.1787 - val_acc: 0.9444\n",
      "Epoch 52/55\n",
      "359/359 [==============================] - 0s 468us/step - loss: 0.1993 - acc: 0.9081 - val_loss: 0.1833 - val_acc: 0.9444\n",
      "Epoch 53/55\n",
      "359/359 [==============================] - 0s 54us/step - loss: 0.2113 - acc: 0.9331 - val_loss: 0.1776 - val_acc: 0.9556\n",
      "Epoch 54/55\n",
      "359/359 [==============================] - 0s 48us/step - loss: 0.1998 - acc: 0.9248 - val_loss: 0.1763 - val_acc: 0.9556\n",
      "Epoch 55/55\n",
      "359/359 [==============================] - 0s 60us/step - loss: 0.1900 - acc: 0.9248 - val_loss: 0.1739 - val_acc: 0.9556\n",
      "9\n",
      "['Donovan Mitchell' 'Kyle Kuzma' 'Lauri Markkanen' 'Dennis Smith'\n",
      " 'Frank Ntilikina' 'Malik Monk' 'Jawun Evans' 'Semi Ojeleye' 'Ben Simmon']\n"
     ]
    }
   ],
   "source": [
    "idx = list(range(x_train.shape[0]))\n",
    "np.random.shuffle(idx)\n",
    "hist = model.fit(x_train[idx],y_train[idx],validation_split=0.2,epochs=55,shuffle=True, callbacks = [tbCallBack])\n",
    "dnn_predict = model.predict_classes(x_test)\n",
    "print(sum(dnn_predict))\n",
    "print(y_test[dnn_predict == 1])"
   ]
  },
  {
   "cell_type": "code",
   "execution_count": 7,
   "metadata": {
    "ExecuteTime": {
     "end_time": "2018-01-07T22:53:33.991959Z",
     "start_time": "2018-01-07T22:53:33.851248Z"
    }
   },
   "outputs": [
    {
     "data": {
      "image/png": "[encoded data removed]",
      "text/plain": [
       "<matplotlib.figure.Figure at 0x7fc4b8161048>"
      ]
     },
     "metadata": {},
     "output_type": "display_data"
    }
   ],
   "source": [
    "plt.figure(1)\n",
    "plt.plot(hist.history['acc'])\n",
    "plt.plot(hist.history['val_acc'])\n",
    "plt.title('model accuracy')\n",
    "plt.ylabel('accuracy')\n",
    "plt.xlabel('epoch')\n",
    "plt.legend(['train', 'test'], loc = 'lower right')\n",
    "plt.show()"
   ]
  },
  {
   "cell_type": "code",
   "execution_count": 8,
   "metadata": {
    "ExecuteTime": {
     "end_time": "2018-01-07T22:53:34.116075Z",
     "start_time": "2018-01-07T22:53:33.993657Z"
    }
   },
   "outputs": [
    {
     "data": {
      "image/png": "[encoded data removed]",
      "text/plain": [
       "<matplotlib.figure.Figure at 0x7fc4b46ab9e8>"
      ]
     },
     "metadata": {},
     "output_type": "display_data"
    }
   ],
   "source": [
    "plt.figure(2)\n",
    "plt.plot(hist.history['loss'])\n",
    "plt.plot(hist.history['val_loss'])\n",
    "plt.title('model loss')\n",
    "plt.ylabel('loss')\n",
    "plt.xlabel('epoch')\n",
    "plt.legend(['train', 'test'], loc = 'upper right')\n",
    "plt.show()"
   ]
  }
 ],
 "metadata": {
  "kernelspec": {
   "display_name": "Python 3",
   "language": "python",
   "name": "python3"
  },
  "language_info": {
   "codemirror_mode": {
    "name": "ipython",
    "version": 3
   },
   "file_extension": ".py",
   "mimetype": "text/x-python",
   "name": "python",
   "nbconvert_exporter": "python",
   "pygments_lexer": "ipython3",
   "version": "3.6.3"
  },
  "latex_envs": {
   "LaTeX_envs_menu_present": true,
   "autoclose": false,
   "autocomplete": true,
   "bibliofile": "biblio.bib",
   "cite_by": "apalike",
   "current_citInitial": 1,
   "eqLabelWithNumbers": true,
   "eqNumInitial": 1,
   "hotkeys": {
    "equation": "Ctrl-E",
    "itemize": "Ctrl-I"
   },
   "labels_anchors": false,
   "latex_user_defs": false,
   "report_style_numbering": false,
   "user_envs_cfg": false
  },
  "toc": {
   "nav_menu": {},
   "number_sections": true,
   "sideBar": true,
   "skip_h1_title": false,
   "toc_cell": false,
   "toc_position": {},
   "toc_section_display": "block",
   "toc_window_display": false
  },
  "varInspector": {
   "cols": {
    "lenName": 16,
    "lenType": 16,
    "lenVar": 40
   },
   "kernels_config": {
    "python": {
     "delete_cmd_postfix": "",
     "delete_cmd_prefix": "del ",
     "library": "var_list.py",
     "varRefreshCmd": "print(var_dic_list())"
    },
    "r": {
     "delete_cmd_postfix": ") ",
     "delete_cmd_prefix": "rm(",
     "library": "var_list.r",
     "varRefreshCmd": "cat(var_dic_list()) "
    }
   },
   "types_to_exclude": [
    "module",
    "function",
    "builtin_function_or_method",
    "instance",
    "_Feature"
   ],
   "window_display": false
  }
 },
 "nbformat": 4,
 "nbformat_minor": 2
}
