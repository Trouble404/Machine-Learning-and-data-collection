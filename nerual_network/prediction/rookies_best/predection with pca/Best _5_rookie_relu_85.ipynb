{
 "cells": [
  {
   "cell_type": "code",
   "execution_count": 1,
   "metadata": {
    "ExecuteTime": {
     "end_time": "2018-01-07T23:00:24.376216Z",
     "start_time": "2018-01-07T23:00:20.931496Z"
    }
   },
   "outputs": [
    {
     "name": "stderr",
     "output_type": "stream",
     "text": [
      "Using TensorFlow backend.\n",
      "/usr/lib/python3.6/importlib/_bootstrap.py:219: RuntimeWarning: compiletime version 3.5 of module 'tensorflow.python.framework.fast_tensor_util' does not match runtime version 3.6\n",
      "  return f(*args, **kwds)\n"
     ]
    }
   ],
   "source": [
    "import numpy as np\n",
    "import pandas\n",
    "from keras.layers import *\n",
    "from keras.models import Sequential, Model\n",
    "import keras\n",
    "import matplotlib.pyplot as plt"
   ]
  },
  {
   "cell_type": "code",
   "execution_count": 2,
   "metadata": {
    "ExecuteTime": {
     "end_time": "2018-01-07T23:00:24.429111Z",
     "start_time": "2018-01-07T23:00:24.379032Z"
    }
   },
   "outputs": [],
   "source": [
    "def zeroMean(dataMat):        \n",
    "    meanVal=np.mean(dataMat,axis=0)     #get mean by columns\n",
    "    newData=dataMat-meanVal  \n",
    "    return newData,meanVal\n",
    "\n",
    "\n",
    "def percentage2n(eigVals,percentage):  \n",
    "    sortArray=np.sort(eigVals)          #ascend order \n",
    "    sortArray=sortArray[-1::-1]           \n",
    "    arraySum=sum(sortArray)  \n",
    "    tmpSum=0  \n",
    "    num=0  \n",
    "    for i in sortArray:  \n",
    "        tmpSum+=i  \n",
    "        num+=1  \n",
    "        if tmpSum>=arraySum*percentage:  \n",
    "            return num  \n",
    "\n",
    "\n",
    "def pca(dataMat,percentage=0.99):  \n",
    "    newData,meanVal=zeroMean(dataMat)  \n",
    "    covMat=np.cov(newData,rowvar=0)      #covariance  \n",
    "    eigVals,eigVects=np.linalg.eig(np.mat(covMat))      \n",
    "    n=percentage2n(eigVals,percentage)                 #need n dimensionol data to get the convariance percentage\n",
    "    n = 6   # pca of 2017 rookies data is 6 dimentional \n",
    "    eigValIndice=np.argsort(eigVals)            #ascend order \n",
    "    n_eigValIndice=eigValIndice[-1:-(n+1):-1]   \n",
    "    n_eigVect=eigVects[:,n_eigValIndice]        \n",
    "    lowDDataMat=newData*n_eigVect               #lower dimensional data  \n",
    "    reconMat=(lowDDataMat*n_eigVect.T)+meanVal  #reconstruct data  \n",
    "    return lowDDataMat,reconMat"
   ]
  },
  {
   "cell_type": "code",
   "execution_count": 3,
   "metadata": {
    "ExecuteTime": {
     "end_time": "2018-01-07T23:00:24.643067Z",
     "start_time": "2018-01-07T23:00:24.430653Z"
    }
   },
   "outputs": [],
   "source": [
    "df = pandas.read_csv(\"04-16_NBA_rookies_data.csv\", header=None)\n",
    "df1 = pandas.read_csv(\"04-16_NBA_rookies_label.csv\",header=None)\n",
    "df_test = pandas.read_csv(\"2017rookies_data.csv\",header=None)\n",
    "df1_test = pandas.read_csv(\"2017rookies_name.csv\",header=None)\n",
    "ds = df.values\n",
    "ds1 = df1.values\n",
    "lowDDataMat,reconMat=pca(ds)  #pca\n",
    "ds_test = df_test.values\n",
    "lowDDataMat1,reconMat1=pca(ds_test)  #pca\n",
    "ds1_test = df1_test.values"
   ]
  },
  {
   "cell_type": "code",
   "execution_count": 4,
   "metadata": {
    "ExecuteTime": {
     "end_time": "2018-01-07T23:00:24.756530Z",
     "start_time": "2018-01-07T23:00:24.644741Z"
    }
   },
   "outputs": [],
   "source": [
    "x_train = lowDDataMat[:,0:6]\n",
    "y_train = ds1[:,1]\n",
    "x_test = lowDDataMat1[:,0:6]\n",
    "y_test = ds1_test[:,0]\n",
    "\n",
    "dim = x_train.shape[1]\n",
    "model = Sequential()\n",
    "model.add(Dense(100, input_dim=dim, activation='tanh'))\n",
    "model.add(Dropout(0.5))\n",
    "model.add(Dense(2, activation='softmax'))\n",
    "\n",
    "model.compile(loss='sparse_categorical_crossentropy', optimizer='rmsprop',metrics=[\"accuracy\"])"
   ]
  },
  {
   "cell_type": "code",
   "execution_count": 5,
   "metadata": {
    "ExecuteTime": {
     "end_time": "2018-01-07T23:00:25.959630Z",
     "start_time": "2018-01-07T23:00:24.758800Z"
    }
   },
   "outputs": [],
   "source": [
    "# Change log_dir for differnt activation function, change the number for every run.\n",
    "tbCallBack = keras.callbacks.TensorBoard(log_dir='tensorboard/relu/2', histogram_freq=0, write_graph=True, write_images=True)"
   ]
  },
  {
   "cell_type": "code",
   "execution_count": 6,
   "metadata": {
    "ExecuteTime": {
     "end_time": "2018-01-07T23:00:31.191757Z",
     "start_time": "2018-01-07T23:00:25.961281Z"
    }
   },
   "outputs": [
    {
     "name": "stdout",
     "output_type": "stream",
     "text": [
      "Train on 359 samples, validate on 90 samples\n",
      "Epoch 1/85\n",
      "359/359 [==============================] - 0s 130us/step - loss: 0.9723 - acc: 0.5460 - val_loss: 0.5842 - val_acc: 0.7000\n",
      "Epoch 2/85\n",
      "359/359 [==============================] - 0s 44us/step - loss: 0.7058 - acc: 0.6630 - val_loss: 0.4830 - val_acc: 0.8222\n",
      "Epoch 3/85\n",
      "359/359 [==============================] - 0s 841us/step - loss: 0.6483 - acc: 0.7131 - val_loss: 0.4647 - val_acc: 0.8111\n",
      "Epoch 4/85\n",
      "359/359 [==============================] - 0s 55us/step - loss: 0.5929 - acc: 0.7409 - val_loss: 0.4509 - val_acc: 0.8222\n",
      "Epoch 5/85\n",
      "359/359 [==============================] - 0s 50us/step - loss: 0.5063 - acc: 0.7772 - val_loss: 0.3913 - val_acc: 0.8444\n",
      "Epoch 6/85\n",
      "359/359 [==============================] - 0s 57us/step - loss: 0.5647 - acc: 0.7326 - val_loss: 0.3752 - val_acc: 0.8556\n",
      "Epoch 7/85\n",
      "359/359 [==============================] - 0s 48us/step - loss: 0.4892 - acc: 0.7604 - val_loss: 0.3594 - val_acc: 0.8556\n",
      "Epoch 8/85\n",
      "359/359 [==============================] - 0s 46us/step - loss: 0.4677 - acc: 0.7939 - val_loss: 0.3546 - val_acc: 0.8556\n",
      "Epoch 9/85\n",
      "359/359 [==============================] - 0s 42us/step - loss: 0.4505 - acc: 0.7994 - val_loss: 0.3154 - val_acc: 0.8556\n",
      "Epoch 10/85\n",
      "359/359 [==============================] - 0s 48us/step - loss: 0.4469 - acc: 0.7967 - val_loss: 0.3121 - val_acc: 0.8556\n",
      "Epoch 11/85\n",
      "359/359 [==============================] - 0s 1ms/step - loss: 0.4163 - acc: 0.7994 - val_loss: 0.3408 - val_acc: 0.8556\n",
      "Epoch 12/85\n",
      "359/359 [==============================] - 0s 45us/step - loss: 0.3987 - acc: 0.8245 - val_loss: 0.2844 - val_acc: 0.8556\n",
      "Epoch 13/85\n",
      "359/359 [==============================] - 0s 48us/step - loss: 0.3899 - acc: 0.8245 - val_loss: 0.2952 - val_acc: 0.8556\n",
      "Epoch 14/85\n",
      "359/359 [==============================] - 0s 44us/step - loss: 0.3855 - acc: 0.8301 - val_loss: 0.2570 - val_acc: 0.8667\n",
      "Epoch 15/85\n",
      "359/359 [==============================] - 0s 39us/step - loss: 0.3898 - acc: 0.8412 - val_loss: 0.2734 - val_acc: 0.8556\n",
      "Epoch 16/85\n",
      "359/359 [==============================] - 0s 39us/step - loss: 0.3652 - acc: 0.8579 - val_loss: 0.2666 - val_acc: 0.8556\n",
      "Epoch 17/85\n",
      "359/359 [==============================] - 0s 400us/step - loss: 0.3539 - acc: 0.8384 - val_loss: 0.2867 - val_acc: 0.8556\n",
      "Epoch 18/85\n",
      "359/359 [==============================] - 0s 48us/step - loss: 0.3034 - acc: 0.8663 - val_loss: 0.2437 - val_acc: 0.8778\n",
      "Epoch 19/85\n",
      "359/359 [==============================] - 0s 41us/step - loss: 0.2794 - acc: 0.8719 - val_loss: 0.2450 - val_acc: 0.8778\n",
      "Epoch 20/85\n",
      "359/359 [==============================] - 0s 42us/step - loss: 0.2921 - acc: 0.8607 - val_loss: 0.2342 - val_acc: 0.8778\n",
      "Epoch 21/85\n",
      "359/359 [==============================] - 0s 43us/step - loss: 0.2820 - acc: 0.8719 - val_loss: 0.2335 - val_acc: 0.8778\n",
      "Epoch 22/85\n",
      "359/359 [==============================] - 0s 45us/step - loss: 0.2933 - acc: 0.8635 - val_loss: 0.1979 - val_acc: 0.8778\n",
      "Epoch 23/85\n",
      "359/359 [==============================] - 0s 46us/step - loss: 0.2525 - acc: 0.8886 - val_loss: 0.2073 - val_acc: 0.8778\n",
      "Epoch 24/85\n",
      "359/359 [==============================] - 0s 42us/step - loss: 0.2780 - acc: 0.8969 - val_loss: 0.2299 - val_acc: 0.8667\n",
      "Epoch 25/85\n",
      "359/359 [==============================] - 0s 46us/step - loss: 0.2749 - acc: 0.8802 - val_loss: 0.2407 - val_acc: 0.8667\n",
      "Epoch 26/85\n",
      "359/359 [==============================] - 0s 43us/step - loss: 0.2569 - acc: 0.8886 - val_loss: 0.2212 - val_acc: 0.8778\n",
      "Epoch 27/85\n",
      "359/359 [==============================] - 0s 45us/step - loss: 0.2887 - acc: 0.8830 - val_loss: 0.1804 - val_acc: 0.8889\n",
      "Epoch 28/85\n",
      "359/359 [==============================] - 0s 48us/step - loss: 0.2443 - acc: 0.8969 - val_loss: 0.1858 - val_acc: 0.8889\n",
      "Epoch 29/85\n",
      " 32/359 [=>............................] - ETA: 0s - loss: 0.2293 - acc: 0.9375"
     ]
    },
    {
     "name": "stderr",
     "output_type": "stream",
     "text": [
      "/usr/local/lib/python3.6/dist-packages/keras/callbacks.py:116: UserWarning: Method on_batch_end() is slow compared to the batch update (0.125645). Check your callbacks.\n",
      "  % delta_t_median)\n"
     ]
    },
    {
     "name": "stdout",
     "output_type": "stream",
     "text": [
      "359/359 [==============================] - 0s 1ms/step - loss: 0.2400 - acc: 0.9053 - val_loss: 0.1834 - val_acc: 0.8889\n",
      "Epoch 30/85\n",
      "359/359 [==============================] - 0s 102us/step - loss: 0.2222 - acc: 0.9109 - val_loss: 0.2142 - val_acc: 0.8778\n",
      "Epoch 31/85\n",
      "359/359 [==============================] - 0s 44us/step - loss: 0.2329 - acc: 0.9025 - val_loss: 0.1848 - val_acc: 0.8889\n",
      "Epoch 32/85\n",
      "359/359 [==============================] - 0s 44us/step - loss: 0.2401 - acc: 0.9136 - val_loss: 0.1686 - val_acc: 0.8889\n",
      "Epoch 33/85\n",
      "359/359 [==============================] - 0s 44us/step - loss: 0.2381 - acc: 0.8830 - val_loss: 0.1556 - val_acc: 0.9222\n",
      "Epoch 34/85\n",
      "359/359 [==============================] - 0s 53us/step - loss: 0.2222 - acc: 0.9220 - val_loss: 0.1584 - val_acc: 0.9222\n",
      "Epoch 35/85\n",
      "359/359 [==============================] - 0s 48us/step - loss: 0.2228 - acc: 0.9025 - val_loss: 0.1903 - val_acc: 0.9000\n",
      "Epoch 36/85\n",
      "359/359 [==============================] - 0s 56us/step - loss: 0.2309 - acc: 0.8886 - val_loss: 0.1669 - val_acc: 0.9000\n",
      "Epoch 37/85\n",
      "359/359 [==============================] - 0s 44us/step - loss: 0.2076 - acc: 0.8969 - val_loss: 0.1914 - val_acc: 0.9000\n",
      "Epoch 38/85\n",
      "359/359 [==============================] - 0s 61us/step - loss: 0.2180 - acc: 0.9081 - val_loss: 0.1515 - val_acc: 0.9111\n",
      "Epoch 39/85\n",
      "359/359 [==============================] - 0s 1ms/step - loss: 0.2330 - acc: 0.9025 - val_loss: 0.1381 - val_acc: 0.9333\n",
      "Epoch 40/85\n",
      "359/359 [==============================] - 0s 48us/step - loss: 0.1992 - acc: 0.9109 - val_loss: 0.1323 - val_acc: 0.9444\n",
      "Epoch 41/85\n",
      "359/359 [==============================] - 0s 47us/step - loss: 0.1970 - acc: 0.9164 - val_loss: 0.1567 - val_acc: 0.9000\n",
      "Epoch 42/85\n",
      "359/359 [==============================] - 0s 355us/step - loss: 0.2092 - acc: 0.9025 - val_loss: 0.1442 - val_acc: 0.9444\n",
      "Epoch 43/85\n",
      "359/359 [==============================] - 0s 46us/step - loss: 0.1887 - acc: 0.9220 - val_loss: 0.1414 - val_acc: 0.9444\n",
      "Epoch 44/85\n",
      "359/359 [==============================] - 0s 50us/step - loss: 0.2021 - acc: 0.9304 - val_loss: 0.1765 - val_acc: 0.9000\n",
      "Epoch 45/85\n",
      "359/359 [==============================] - 0s 47us/step - loss: 0.1788 - acc: 0.9359 - val_loss: 0.1553 - val_acc: 0.9111\n",
      "Epoch 46/85\n",
      "359/359 [==============================] - 0s 53us/step - loss: 0.2045 - acc: 0.9276 - val_loss: 0.1638 - val_acc: 0.9000\n",
      "Epoch 47/85\n",
      "359/359 [==============================] - 0s 46us/step - loss: 0.1957 - acc: 0.9248 - val_loss: 0.1242 - val_acc: 0.9444\n",
      "Epoch 48/85\n",
      "359/359 [==============================] - 0s 46us/step - loss: 0.1636 - acc: 0.9276 - val_loss: 0.1464 - val_acc: 0.9111\n",
      "Epoch 49/85\n",
      "359/359 [==============================] - 0s 44us/step - loss: 0.1790 - acc: 0.9331 - val_loss: 0.1374 - val_acc: 0.9222\n",
      "Epoch 50/85\n",
      "359/359 [==============================] - 0s 42us/step - loss: 0.1868 - acc: 0.9331 - val_loss: 0.1421 - val_acc: 0.9222\n",
      "Epoch 51/85\n",
      "359/359 [==============================] - 0s 39us/step - loss: 0.1959 - acc: 0.9192 - val_loss: 0.1310 - val_acc: 0.9444\n",
      "Epoch 52/85\n",
      "359/359 [==============================] - 0s 43us/step - loss: 0.1817 - acc: 0.9220 - val_loss: 0.1326 - val_acc: 0.9444\n",
      "Epoch 53/85\n",
      "359/359 [==============================] - 0s 44us/step - loss: 0.1576 - acc: 0.9304 - val_loss: 0.1273 - val_acc: 0.9444\n",
      "Epoch 54/85\n",
      "359/359 [==============================] - 0s 44us/step - loss: 0.1875 - acc: 0.9220 - val_loss: 0.1284 - val_acc: 0.9444\n",
      "Epoch 55/85\n",
      "359/359 [==============================] - 0s 1ms/step - loss: 0.1823 - acc: 0.9192 - val_loss: 0.1260 - val_acc: 0.9444\n",
      "Epoch 56/85\n",
      "359/359 [==============================] - 0s 52us/step - loss: 0.1692 - acc: 0.9387 - val_loss: 0.1182 - val_acc: 0.9444\n",
      "Epoch 57/85\n",
      "359/359 [==============================] - 0s 51us/step - loss: 0.1639 - acc: 0.9248 - val_loss: 0.1219 - val_acc: 0.9444\n",
      "Epoch 58/85\n",
      "359/359 [==============================] - 0s 59us/step - loss: 0.1519 - acc: 0.9471 - val_loss: 0.1253 - val_acc: 0.9444\n",
      "Epoch 59/85\n",
      "359/359 [==============================] - 0s 49us/step - loss: 0.1979 - acc: 0.9220 - val_loss: 0.1200 - val_acc: 0.9444\n",
      "Epoch 60/85\n",
      "359/359 [==============================] - 0s 42us/step - loss: 0.1559 - acc: 0.9359 - val_loss: 0.0981 - val_acc: 0.9667\n",
      "Epoch 61/85\n",
      "359/359 [==============================] - 0s 42us/step - loss: 0.1597 - acc: 0.9304 - val_loss: 0.1371 - val_acc: 0.9444\n",
      "Epoch 62/85\n",
      "359/359 [==============================] - 0s 40us/step - loss: 0.1330 - acc: 0.9499 - val_loss: 0.1402 - val_acc: 0.9333\n",
      "Epoch 63/85\n",
      "359/359 [==============================] - 0s 40us/step - loss: 0.1330 - acc: 0.9415 - val_loss: 0.1281 - val_acc: 0.9333\n",
      "Epoch 64/85\n",
      "359/359 [==============================] - 0s 44us/step - loss: 0.1559 - acc: 0.9415 - val_loss: 0.1113 - val_acc: 0.9556\n",
      "Epoch 65/85\n",
      "359/359 [==============================] - 0s 44us/step - loss: 0.1434 - acc: 0.9471 - val_loss: 0.1181 - val_acc: 0.9444\n",
      "Epoch 66/85\n",
      "359/359 [==============================] - 0s 1ms/step - loss: 0.1518 - acc: 0.9359 - val_loss: 0.1117 - val_acc: 0.9556\n",
      "Epoch 67/85\n",
      "359/359 [==============================] - 0s 54us/step - loss: 0.1325 - acc: 0.9471 - val_loss: 0.1148 - val_acc: 0.9556\n",
      "Epoch 68/85\n",
      "359/359 [==============================] - 0s 53us/step - loss: 0.1524 - acc: 0.9331 - val_loss: 0.1164 - val_acc: 0.9444\n",
      "Epoch 69/85\n",
      "359/359 [==============================] - 0s 51us/step - loss: 0.1567 - acc: 0.9276 - val_loss: 0.1145 - val_acc: 0.9556\n",
      "Epoch 70/85\n",
      "359/359 [==============================] - 0s 43us/step - loss: 0.1394 - acc: 0.9443 - val_loss: 0.1310 - val_acc: 0.9333\n",
      "Epoch 71/85\n",
      "359/359 [==============================] - 0s 48us/step - loss: 0.1495 - acc: 0.9331 - val_loss: 0.1403 - val_acc: 0.9222\n",
      "Epoch 72/85\n",
      "359/359 [==============================] - 0s 50us/step - loss: 0.1176 - acc: 0.9610 - val_loss: 0.1185 - val_acc: 0.9444\n",
      "Epoch 73/85\n",
      "359/359 [==============================] - 0s 48us/step - loss: 0.1593 - acc: 0.9192 - val_loss: 0.1091 - val_acc: 0.9556\n",
      "Epoch 74/85\n",
      "359/359 [==============================] - 0s 49us/step - loss: 0.1474 - acc: 0.9415 - val_loss: 0.0901 - val_acc: 0.9556\n",
      "Epoch 75/85\n",
      "359/359 [==============================] - 0s 50us/step - loss: 0.1557 - acc: 0.9304 - val_loss: 0.1007 - val_acc: 0.9556\n",
      "Epoch 76/85\n",
      "359/359 [==============================] - 0s 44us/step - loss: 0.1517 - acc: 0.9359 - val_loss: 0.1417 - val_acc: 0.9222\n",
      "Epoch 77/85\n",
      "359/359 [==============================] - 0s 1ms/step - loss: 0.1651 - acc: 0.9276 - val_loss: 0.1104 - val_acc: 0.9444\n",
      "Epoch 78/85\n",
      "359/359 [==============================] - 0s 45us/step - loss: 0.1484 - acc: 0.9387 - val_loss: 0.1254 - val_acc: 0.9333\n",
      "Epoch 79/85\n",
      "359/359 [==============================] - 0s 42us/step - loss: 0.1558 - acc: 0.9331 - val_loss: 0.1157 - val_acc: 0.9333\n",
      "Epoch 80/85\n",
      "359/359 [==============================] - 0s 48us/step - loss: 0.1550 - acc: 0.9387 - val_loss: 0.1254 - val_acc: 0.9444\n",
      "Epoch 81/85\n",
      "359/359 [==============================] - 0s 44us/step - loss: 0.1562 - acc: 0.9220 - val_loss: 0.1177 - val_acc: 0.9444\n",
      "Epoch 82/85\n",
      "359/359 [==============================] - 0s 46us/step - loss: 0.1361 - acc: 0.9415 - val_loss: 0.0984 - val_acc: 0.9556\n",
      "Epoch 83/85\n",
      "359/359 [==============================] - 0s 53us/step - loss: 0.1345 - acc: 0.9526 - val_loss: 0.0923 - val_acc: 0.9556\n",
      "Epoch 84/85\n",
      "359/359 [==============================] - 0s 50us/step - loss: 0.1290 - acc: 0.9471 - val_loss: 0.0903 - val_acc: 0.9556\n",
      "Epoch 85/85\n",
      "359/359 [==============================] - 0s 51us/step - loss: 0.1355 - acc: 0.9331 - val_loss: 0.1049 - val_acc: 0.9444\n",
      "8\n",
      "['Donovan Mitchell' 'Kyle Kuzma' 'Lauri Markkanen' 'Jayson Tatum'\n",
      " 'Dennis Smith' 'Frank Ntilikina' 'Semi Ojeleye' 'Ben Simmon']\n"
     ]
    }
   ],
   "source": [
    "idx = list(range(x_train.shape[0]))\n",
    "np.random.shuffle(idx)\n",
    "hist = model.fit(x_train[idx],y_train[idx],validation_split=0.2,epochs=85,shuffle=True, callbacks = [tbCallBack])\n",
    "dnn_predict = model.predict_classes(x_test)\n",
    "print(sum(dnn_predict))\n",
    "print(y_test[dnn_predict == 1])"
   ]
  },
  {
   "cell_type": "code",
   "execution_count": 7,
   "metadata": {
    "ExecuteTime": {
     "end_time": "2018-01-07T23:00:31.698379Z",
     "start_time": "2018-01-07T23:00:31.193885Z"
    }
   },
   "outputs": [
    {
     "data": {
      "image/png": "[encoded data removed]",
      "text/plain": [
       "<matplotlib.figure.Figure at 0x7ff13f532080>"
      ]
     },
     "metadata": {},
     "output_type": "display_data"
    }
   ],
   "source": [
    "plt.figure(1)\n",
    "plt.plot(hist.history['acc'])\n",
    "plt.plot(hist.history['val_acc'])\n",
    "plt.title('model accuracy')\n",
    "plt.ylabel('accuracy')\n",
    "plt.xlabel('epoch')\n",
    "plt.legend(['train', 'test'], loc = 'lower right')\n",
    "plt.show()"
   ]
  },
  {
   "cell_type": "code",
   "execution_count": 8,
   "metadata": {
    "ExecuteTime": {
     "end_time": "2018-01-07T23:00:31.843923Z",
     "start_time": "2018-01-07T23:00:31.699806Z"
    }
   },
   "outputs": [
    {
     "data": {
      "image/png": "[encoded data removed]",
      "text/plain": [
       "<matplotlib.figure.Figure at 0x7ff13c27e6d8>"
      ]
     },
     "metadata": {},
     "output_type": "display_data"
    }
   ],
   "source": [
    "plt.figure(2)\n",
    "plt.plot(hist.history['loss'])\n",
    "plt.plot(hist.history['val_loss'])\n",
    "plt.title('model loss')\n",
    "plt.ylabel('loss')\n",
    "plt.xlabel('epoch')\n",
    "plt.legend(['train', 'test'], loc = 'upper right')\n",
    "plt.show()"
   ]
  }
 ],
 "metadata": {
  "kernelspec": {
   "display_name": "Python 3",
   "language": "python",
   "name": "python3"
  },
  "language_info": {
   "codemirror_mode": {
    "name": "ipython",
    "version": 3
   },
   "file_extension": ".py",
   "mimetype": "text/x-python",
   "name": "python",
   "nbconvert_exporter": "python",
   "pygments_lexer": "ipython3",
   "version": "3.6.3"
  },
  "latex_envs": {
   "LaTeX_envs_menu_present": true,
   "autoclose": false,
   "autocomplete": true,
   "bibliofile": "biblio.bib",
   "cite_by": "apalike",
   "current_citInitial": 1,
   "eqLabelWithNumbers": true,
   "eqNumInitial": 1,
   "hotkeys": {
    "equation": "Ctrl-E",
    "itemize": "Ctrl-I"
   },
   "labels_anchors": false,
   "latex_user_defs": false,
   "report_style_numbering": false,
   "user_envs_cfg": false
  },
  "toc": {
   "nav_menu": {},
   "number_sections": true,
   "sideBar": true,
   "skip_h1_title": false,
   "toc_cell": false,
   "toc_position": {},
   "toc_section_display": "block",
   "toc_window_display": false
  },
  "varInspector": {
   "cols": {
    "lenName": 16,
    "lenType": 16,
    "lenVar": 40
   },
   "kernels_config": {
    "python": {
     "delete_cmd_postfix": "",
     "delete_cmd_prefix": "del ",
     "library": "var_list.py",
     "varRefreshCmd": "print(var_dic_list())"
    },
    "r": {
     "delete_cmd_postfix": ") ",
     "delete_cmd_prefix": "rm(",
     "library": "var_list.r",
     "varRefreshCmd": "cat(var_dic_list()) "
    }
   },
   "types_to_exclude": [
    "module",
    "function",
    "builtin_function_or_method",
    "instance",
    "_Feature"
   ],
   "window_display": false
  }
 },
 "nbformat": 4,
 "nbformat_minor": 2
}
