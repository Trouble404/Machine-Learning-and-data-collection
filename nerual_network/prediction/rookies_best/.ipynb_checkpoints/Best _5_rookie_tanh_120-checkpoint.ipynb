{
 "cells": [
  {
   "cell_type": "code",
   "execution_count": 1,
   "metadata": {
    "ExecuteTime": {
     "end_time": "2018-01-07T22:46:43.310683Z",
     "start_time": "2018-01-07T22:46:41.480318Z"
    }
   },
   "outputs": [
    {
     "name": "stderr",
     "output_type": "stream",
     "text": [
      "Using TensorFlow backend.\n",
      "/usr/lib/python3.6/importlib/_bootstrap.py:219: RuntimeWarning: compiletime version 3.5 of module 'tensorflow.python.framework.fast_tensor_util' does not match runtime version 3.6\n",
      "  return f(*args, **kwds)\n"
     ]
    }
   ],
   "source": [
    "import numpy as np\n",
    "import pandas\n",
    "from keras.layers import *\n",
    "from keras.models import Sequential, Model\n",
    "import keras\n",
    "import matplotlib.pyplot as plt"
   ]
  },
  {
   "cell_type": "code",
   "execution_count": 2,
   "metadata": {
    "ExecuteTime": {
     "end_time": "2018-01-07T22:46:43.609056Z",
     "start_time": "2018-01-07T22:46:43.313300Z"
    }
   },
   "outputs": [],
   "source": [
    "def zeroMean(dataMat):        \n",
    "    meanVal=np.mean(dataMat,axis=0)     #get mean by columns\n",
    "    newData=dataMat-meanVal  \n",
    "    return newData,meanVal\n",
    "\n",
    "\n",
    "def percentage2n(eigVals,percentage):  \n",
    "    sortArray=np.sort(eigVals)          #ascend order \n",
    "    sortArray=sortArray[-1::-1]           \n",
    "    arraySum=sum(sortArray)  \n",
    "    tmpSum=0  \n",
    "    num=0  \n",
    "    for i in sortArray:  \n",
    "        tmpSum+=i  \n",
    "        num+=1  \n",
    "        if tmpSum>=arraySum*percentage:  \n",
    "            return num  \n",
    "\n",
    "\n",
    "def pca(dataMat,percentage=0.99):  \n",
    "    newData,meanVal=zeroMean(dataMat)  \n",
    "    covMat=np.cov(newData,rowvar=0)      #covariance  \n",
    "    eigVals,eigVects=np.linalg.eig(np.mat(covMat))      \n",
    "    n=percentage2n(eigVals,percentage)                 #need n dimensionol data to get the convariance percentage\n",
    "    n = 6   # pca of 2017 rookies data is 6 dimentional \n",
    "    eigValIndice=np.argsort(eigVals)            #ascend order \n",
    "    n_eigValIndice=eigValIndice[-1:-(n+1):-1]   \n",
    "    n_eigVect=eigVects[:,n_eigValIndice]        \n",
    "    lowDDataMat=newData*n_eigVect               #lower dimensional data  \n",
    "    reconMat=(lowDDataMat*n_eigVect.T)+meanVal  #reconstruct data  \n",
    "    return lowDDataMat,reconMat"
   ]
  },
  {
   "cell_type": "code",
   "execution_count": 3,
   "metadata": {
    "ExecuteTime": {
     "end_time": "2018-01-07T22:46:43.667551Z",
     "start_time": "2018-01-07T22:46:43.610773Z"
    }
   },
   "outputs": [],
   "source": [
    "df = pandas.read_csv(\"04-16_NBA_rookies_data.csv\", header=None)\n",
    "df1 = pandas.read_csv(\"04-16_NBA_rookies_label.csv\",header=None)\n",
    "df_test = pandas.read_csv(\"2017rookies_data.csv\",header=None)\n",
    "df1_test = pandas.read_csv(\"2017rookies_name.csv\",header=None)\n",
    "ds = df.values\n",
    "ds1 = df1.values\n",
    "lowDDataMat,reconMat=pca(ds)  #pca\n",
    "ds_test = df_test.values\n",
    "lowDDataMat1,reconMat1=pca(ds_test)  #pca\n",
    "ds1_test = df1_test.values"
   ]
  },
  {
   "cell_type": "code",
   "execution_count": 4,
   "metadata": {
    "ExecuteTime": {
     "end_time": "2018-01-07T22:46:43.757660Z",
     "start_time": "2018-01-07T22:46:43.669521Z"
    }
   },
   "outputs": [],
   "source": [
    "x_train = lowDDataMat[:,0:6]\n",
    "y_train = ds1[:,1]\n",
    "x_test = lowDDataMat1[:,0:6]\n",
    "y_test = ds1_test[:,0]\n",
    "\n",
    "dim = x_train.shape[1]\n",
    "model = Sequential()\n",
    "model.add(Dense(100, input_dim=dim, activation='tanh'))\n",
    "model.add(Dropout(0.5))\n",
    "model.add(Dense(2, activation='softmax'))\n",
    "\n",
    "model.compile(loss='sparse_categorical_crossentropy', optimizer='rmsprop',metrics=[\"accuracy\"])"
   ]
  },
  {
   "cell_type": "code",
   "execution_count": 5,
   "metadata": {
    "ExecuteTime": {
     "end_time": "2018-01-07T22:46:44.611175Z",
     "start_time": "2018-01-07T22:46:43.759506Z"
    }
   },
   "outputs": [],
   "source": [
    "# Change log_dir for differnt activation function, change the number for every run.\n",
    "tbCallBack = keras.callbacks.TensorBoard(log_dir='tensorboard/tanh/4', histogram_freq=0, write_graph=True, write_images=True)"
   ]
  },
  {
   "cell_type": "code",
   "execution_count": 6,
   "metadata": {
    "ExecuteTime": {
     "end_time": "2018-01-07T22:46:49.866318Z",
     "start_time": "2018-01-07T22:46:44.613394Z"
    }
   },
   "outputs": [
    {
     "name": "stdout",
     "output_type": "stream",
     "text": [
      "Train on 359 samples, validate on 90 samples\n",
      "Epoch 1/120\n",
      "359/359 [==============================] - 0s 585us/step - loss: 0.9265 - acc: 0.5877 - val_loss: 0.5818 - val_acc: 0.7556\n",
      "Epoch 2/120\n",
      "359/359 [==============================] - 0s 46us/step - loss: 0.8010 - acc: 0.6657 - val_loss: 0.5028 - val_acc: 0.7889\n",
      "Epoch 3/120\n",
      "359/359 [==============================] - 0s 51us/step - loss: 0.7587 - acc: 0.6574 - val_loss: 0.4753 - val_acc: 0.8111\n",
      "Epoch 4/120\n",
      "359/359 [==============================] - 0s 52us/step - loss: 0.5495 - acc: 0.7577 - val_loss: 0.4593 - val_acc: 0.7889\n",
      "Epoch 5/120\n",
      "359/359 [==============================] - 0s 45us/step - loss: 0.5836 - acc: 0.7577 - val_loss: 0.4372 - val_acc: 0.7889\n",
      "Epoch 6/120\n",
      "359/359 [==============================] - 0s 45us/step - loss: 0.5508 - acc: 0.7799 - val_loss: 0.4263 - val_acc: 0.8111\n",
      "Epoch 7/120\n",
      "359/359 [==============================] - 0s 74us/step - loss: 0.5488 - acc: 0.7688 - val_loss: 0.4113 - val_acc: 0.8000\n",
      "Epoch 8/120\n",
      "359/359 [==============================] - 0s 54us/step - loss: 0.4562 - acc: 0.7967 - val_loss: 0.4015 - val_acc: 0.8000\n",
      "Epoch 9/120\n",
      "359/359 [==============================] - 0s 44us/step - loss: 0.4980 - acc: 0.8106 - val_loss: 0.3775 - val_acc: 0.8111\n",
      "Epoch 10/120\n",
      "359/359 [==============================] - 0s 46us/step - loss: 0.4323 - acc: 0.8134 - val_loss: 0.3635 - val_acc: 0.8556\n",
      "Epoch 11/120\n",
      "359/359 [==============================] - 0s 54us/step - loss: 0.4187 - acc: 0.8245 - val_loss: 0.3526 - val_acc: 0.8556\n",
      "Epoch 12/120\n",
      "359/359 [==============================] - 0s 566us/step - loss: 0.4161 - acc: 0.8273 - val_loss: 0.3461 - val_acc: 0.8444\n",
      "Epoch 13/120\n",
      "359/359 [==============================] - 0s 46us/step - loss: 0.3960 - acc: 0.8384 - val_loss: 0.3478 - val_acc: 0.8556\n",
      "Epoch 14/120\n",
      "359/359 [==============================] - 0s 44us/step - loss: 0.3911 - acc: 0.8245 - val_loss: 0.3419 - val_acc: 0.8444\n",
      "Epoch 15/120\n",
      "359/359 [==============================] - 0s 46us/step - loss: 0.3220 - acc: 0.8747 - val_loss: 0.3319 - val_acc: 0.8556\n",
      "Epoch 16/120\n",
      "359/359 [==============================] - 0s 51us/step - loss: 0.3604 - acc: 0.8357 - val_loss: 0.3225 - val_acc: 0.8667\n",
      "Epoch 17/120\n",
      "359/359 [==============================] - 0s 48us/step - loss: 0.3345 - acc: 0.8440 - val_loss: 0.3236 - val_acc: 0.8444\n",
      "Epoch 18/120\n",
      "359/359 [==============================] - 0s 42us/step - loss: 0.3147 - acc: 0.8719 - val_loss: 0.3196 - val_acc: 0.8444\n",
      "Epoch 19/120\n",
      "359/359 [==============================] - 0s 47us/step - loss: 0.2727 - acc: 0.8719 - val_loss: 0.3048 - val_acc: 0.8556\n",
      "Epoch 20/120\n",
      "359/359 [==============================] - 0s 41us/step - loss: 0.3407 - acc: 0.8496 - val_loss: 0.3004 - val_acc: 0.8667\n",
      "Epoch 21/120\n",
      "359/359 [==============================] - 0s 43us/step - loss: 0.2843 - acc: 0.8802 - val_loss: 0.2930 - val_acc: 0.8333\n",
      "Epoch 22/120\n",
      "359/359 [==============================] - 0s 39us/step - loss: 0.2928 - acc: 0.8886 - val_loss: 0.2878 - val_acc: 0.8556\n",
      "Epoch 23/120\n",
      "359/359 [==============================] - 0s 41us/step - loss: 0.2706 - acc: 0.8830 - val_loss: 0.2845 - val_acc: 0.8556\n",
      "Epoch 24/120\n",
      "359/359 [==============================] - 0s 43us/step - loss: 0.2867 - acc: 0.8858 - val_loss: 0.2803 - val_acc: 0.8556\n",
      "Epoch 25/120\n",
      "359/359 [==============================] - 0s 732us/step - loss: 0.2688 - acc: 0.8774 - val_loss: 0.2807 - val_acc: 0.8889\n",
      "Epoch 26/120\n",
      "359/359 [==============================] - 0s 47us/step - loss: 0.2556 - acc: 0.8914 - val_loss: 0.2766 - val_acc: 0.8667\n",
      "Epoch 27/120\n",
      "359/359 [==============================] - 0s 49us/step - loss: 0.2470 - acc: 0.9025 - val_loss: 0.2727 - val_acc: 0.8556\n",
      "Epoch 28/120\n",
      "359/359 [==============================] - 0s 46us/step - loss: 0.2163 - acc: 0.9109 - val_loss: 0.2593 - val_acc: 0.8778\n",
      "Epoch 29/120\n",
      "359/359 [==============================] - 0s 49us/step - loss: 0.2766 - acc: 0.8942 - val_loss: 0.2715 - val_acc: 0.8667\n",
      "Epoch 30/120\n",
      "359/359 [==============================] - 0s 50us/step - loss: 0.2134 - acc: 0.9136 - val_loss: 0.2552 - val_acc: 0.8667\n",
      "Epoch 31/120\n",
      "359/359 [==============================] - 0s 50us/step - loss: 0.2477 - acc: 0.8886 - val_loss: 0.2570 - val_acc: 0.8556\n",
      "Epoch 32/120\n",
      "359/359 [==============================] - 0s 48us/step - loss: 0.1773 - acc: 0.9248 - val_loss: 0.2578 - val_acc: 0.8667\n",
      "Epoch 33/120\n",
      "359/359 [==============================] - 0s 47us/step - loss: 0.1889 - acc: 0.9164 - val_loss: 0.2625 - val_acc: 0.8778\n",
      "Epoch 34/120\n",
      "359/359 [==============================] - 0s 613us/step - loss: 0.2281 - acc: 0.9025 - val_loss: 0.2556 - val_acc: 0.8778\n",
      "Epoch 35/120\n",
      "359/359 [==============================] - 0s 46us/step - loss: 0.2145 - acc: 0.8942 - val_loss: 0.2416 - val_acc: 0.8667\n",
      "Epoch 36/120\n",
      "359/359 [==============================] - 0s 45us/step - loss: 0.1866 - acc: 0.9415 - val_loss: 0.2348 - val_acc: 0.8778\n",
      "Epoch 37/120\n",
      "359/359 [==============================] - 0s 44us/step - loss: 0.2005 - acc: 0.9192 - val_loss: 0.2372 - val_acc: 0.8778\n",
      "Epoch 38/120\n",
      "359/359 [==============================] - 0s 49us/step - loss: 0.1776 - acc: 0.9276 - val_loss: 0.2489 - val_acc: 0.8889\n",
      "Epoch 39/120\n",
      "359/359 [==============================] - 0s 44us/step - loss: 0.1989 - acc: 0.9109 - val_loss: 0.2562 - val_acc: 0.9000\n",
      "Epoch 40/120\n",
      "359/359 [==============================] - 0s 57us/step - loss: 0.1723 - acc: 0.9359 - val_loss: 0.2541 - val_acc: 0.9000\n",
      "Epoch 41/120\n",
      "359/359 [==============================] - 0s 69us/step - loss: 0.1615 - acc: 0.9387 - val_loss: 0.2529 - val_acc: 0.9000\n",
      "Epoch 42/120\n",
      "359/359 [==============================] - 0s 48us/step - loss: 0.1919 - acc: 0.9081 - val_loss: 0.2491 - val_acc: 0.9000\n",
      "Epoch 43/120\n",
      "359/359 [==============================] - 0s 55us/step - loss: 0.1848 - acc: 0.9192 - val_loss: 0.2445 - val_acc: 0.9000\n",
      "Epoch 44/120\n",
      "359/359 [==============================] - 0s 51us/step - loss: 0.1814 - acc: 0.9192 - val_loss: 0.2591 - val_acc: 0.9111\n",
      "Epoch 45/120\n",
      "359/359 [==============================] - 0s 66us/step - loss: 0.1769 - acc: 0.9331 - val_loss: 0.2323 - val_acc: 0.9000\n",
      "Epoch 46/120\n",
      "359/359 [==============================] - 0s 622us/step - loss: 0.1744 - acc: 0.9276 - val_loss: 0.2392 - val_acc: 0.9000\n",
      "Epoch 47/120\n",
      "359/359 [==============================] - 0s 49us/step - loss: 0.1874 - acc: 0.9053 - val_loss: 0.2274 - val_acc: 0.8889\n",
      "Epoch 48/120\n",
      "359/359 [==============================] - 0s 57us/step - loss: 0.1898 - acc: 0.9304 - val_loss: 0.2361 - val_acc: 0.9000\n",
      "Epoch 49/120\n",
      "359/359 [==============================] - 0s 55us/step - loss: 0.1635 - acc: 0.9248 - val_loss: 0.2410 - val_acc: 0.9000\n",
      "Epoch 50/120\n",
      "359/359 [==============================] - 0s 47us/step - loss: 0.1753 - acc: 0.9192 - val_loss: 0.2417 - val_acc: 0.9000\n",
      "Epoch 51/120\n",
      "359/359 [==============================] - 0s 42us/step - loss: 0.1637 - acc: 0.9276 - val_loss: 0.2312 - val_acc: 0.9000\n",
      "Epoch 52/120\n",
      "359/359 [==============================] - 0s 40us/step - loss: 0.1846 - acc: 0.9192 - val_loss: 0.2276 - val_acc: 0.9000\n",
      "Epoch 53/120\n",
      "359/359 [==============================] - 0s 47us/step - loss: 0.1528 - acc: 0.9304 - val_loss: 0.2285 - val_acc: 0.9000\n",
      "Epoch 54/120\n",
      "359/359 [==============================] - 0s 48us/step - loss: 0.1655 - acc: 0.9304 - val_loss: 0.2463 - val_acc: 0.9111\n",
      "Epoch 55/120\n",
      "359/359 [==============================] - 0s 42us/step - loss: 0.1858 - acc: 0.9248 - val_loss: 0.2358 - val_acc: 0.9111\n",
      "Epoch 56/120\n",
      "359/359 [==============================] - 0s 669us/step - loss: 0.1538 - acc: 0.9331 - val_loss: 0.2316 - val_acc: 0.9111\n",
      "Epoch 57/120\n",
      "359/359 [==============================] - 0s 55us/step - loss: 0.1511 - acc: 0.9415 - val_loss: 0.2374 - val_acc: 0.9111\n",
      "Epoch 58/120\n",
      "359/359 [==============================] - 0s 55us/step - loss: 0.1420 - acc: 0.9526 - val_loss: 0.2213 - val_acc: 0.9111\n",
      "Epoch 59/120\n",
      "359/359 [==============================] - 0s 43us/step - loss: 0.1653 - acc: 0.9304 - val_loss: 0.2348 - val_acc: 0.9000\n",
      "Epoch 60/120\n",
      "359/359 [==============================] - 0s 44us/step - loss: 0.1304 - acc: 0.9499 - val_loss: 0.2099 - val_acc: 0.9111\n",
      "Epoch 61/120\n"
     ]
    },
    {
     "name": "stdout",
     "output_type": "stream",
     "text": [
      "359/359 [==============================] - 0s 45us/step - loss: 0.1612 - acc: 0.9331 - val_loss: 0.2169 - val_acc: 0.9111\n",
      "Epoch 62/120\n",
      "359/359 [==============================] - 0s 51us/step - loss: 0.1363 - acc: 0.9331 - val_loss: 0.2364 - val_acc: 0.9111\n",
      "Epoch 63/120\n",
      "359/359 [==============================] - 0s 51us/step - loss: 0.1361 - acc: 0.9443 - val_loss: 0.2245 - val_acc: 0.9111\n",
      "Epoch 64/120\n",
      "359/359 [==============================] - 0s 47us/step - loss: 0.1139 - acc: 0.9638 - val_loss: 0.2150 - val_acc: 0.9111\n",
      "Epoch 65/120\n",
      "359/359 [==============================] - 0s 43us/step - loss: 0.1674 - acc: 0.9276 - val_loss: 0.2124 - val_acc: 0.9111\n",
      "Epoch 66/120\n",
      "359/359 [==============================] - 0s 622us/step - loss: 0.1639 - acc: 0.9415 - val_loss: 0.2143 - val_acc: 0.9111\n",
      "Epoch 67/120\n",
      "359/359 [==============================] - 0s 43us/step - loss: 0.1594 - acc: 0.9331 - val_loss: 0.2223 - val_acc: 0.9111\n",
      "Epoch 68/120\n",
      "359/359 [==============================] - 0s 44us/step - loss: 0.1445 - acc: 0.9387 - val_loss: 0.2144 - val_acc: 0.9000\n",
      "Epoch 69/120\n",
      "359/359 [==============================] - 0s 42us/step - loss: 0.1434 - acc: 0.9499 - val_loss: 0.2453 - val_acc: 0.9111\n",
      "Epoch 70/120\n",
      "359/359 [==============================] - 0s 49us/step - loss: 0.1500 - acc: 0.9276 - val_loss: 0.2127 - val_acc: 0.9222\n",
      "Epoch 71/120\n",
      "359/359 [==============================] - 0s 55us/step - loss: 0.1443 - acc: 0.9304 - val_loss: 0.2120 - val_acc: 0.9111\n",
      "Epoch 72/120\n",
      "359/359 [==============================] - 0s 55us/step - loss: 0.1595 - acc: 0.9387 - val_loss: 0.2236 - val_acc: 0.9111\n",
      "Epoch 73/120\n",
      "359/359 [==============================] - 0s 51us/step - loss: 0.1272 - acc: 0.9415 - val_loss: 0.2208 - val_acc: 0.9111\n",
      "Epoch 74/120\n",
      "359/359 [==============================] - 0s 42us/step - loss: 0.1605 - acc: 0.9304 - val_loss: 0.2195 - val_acc: 0.9111\n",
      "Epoch 75/120\n",
      "359/359 [==============================] - 0s 48us/step - loss: 0.1666 - acc: 0.9331 - val_loss: 0.2151 - val_acc: 0.9111\n",
      "Epoch 76/120\n",
      "359/359 [==============================] - 0s 577us/step - loss: 0.1496 - acc: 0.9387 - val_loss: 0.2303 - val_acc: 0.9111\n",
      "Epoch 77/120\n",
      "359/359 [==============================] - 0s 52us/step - loss: 0.1667 - acc: 0.9443 - val_loss: 0.2333 - val_acc: 0.9111\n",
      "Epoch 78/120\n",
      "359/359 [==============================] - 0s 55us/step - loss: 0.1478 - acc: 0.9331 - val_loss: 0.2225 - val_acc: 0.9000\n",
      "Epoch 79/120\n",
      "359/359 [==============================] - 0s 46us/step - loss: 0.1320 - acc: 0.9387 - val_loss: 0.2228 - val_acc: 0.9000\n",
      "Epoch 80/120\n",
      "359/359 [==============================] - 0s 44us/step - loss: 0.1218 - acc: 0.9415 - val_loss: 0.2196 - val_acc: 0.9000\n",
      "Epoch 81/120\n",
      "359/359 [==============================] - 0s 42us/step - loss: 0.1378 - acc: 0.9443 - val_loss: 0.2282 - val_acc: 0.9111\n",
      "Epoch 82/120\n",
      "359/359 [==============================] - 0s 41us/step - loss: 0.1333 - acc: 0.9415 - val_loss: 0.2293 - val_acc: 0.9111\n",
      "Epoch 83/120\n",
      "359/359 [==============================] - 0s 43us/step - loss: 0.1489 - acc: 0.9304 - val_loss: 0.2202 - val_acc: 0.9111\n",
      "Epoch 84/120\n",
      "359/359 [==============================] - 0s 46us/step - loss: 0.1166 - acc: 0.9471 - val_loss: 0.2255 - val_acc: 0.9111\n",
      "Epoch 85/120\n",
      "359/359 [==============================] - 0s 45us/step - loss: 0.1185 - acc: 0.9471 - val_loss: 0.2182 - val_acc: 0.9111\n",
      "Epoch 86/120\n",
      "359/359 [==============================] - 0s 41us/step - loss: 0.1613 - acc: 0.9276 - val_loss: 0.2114 - val_acc: 0.9111\n",
      "Epoch 87/120\n",
      "359/359 [==============================] - 0s 590us/step - loss: 0.1320 - acc: 0.9415 - val_loss: 0.2372 - val_acc: 0.9000\n",
      "Epoch 88/120\n",
      "359/359 [==============================] - 0s 50us/step - loss: 0.1337 - acc: 0.9387 - val_loss: 0.2275 - val_acc: 0.9111\n",
      "Epoch 89/120\n",
      "359/359 [==============================] - 0s 49us/step - loss: 0.1243 - acc: 0.9415 - val_loss: 0.2474 - val_acc: 0.9000\n",
      "Epoch 90/120\n",
      "359/359 [==============================] - 0s 46us/step - loss: 0.1276 - acc: 0.9359 - val_loss: 0.2313 - val_acc: 0.9111\n",
      "Epoch 91/120\n",
      "359/359 [==============================] - 0s 43us/step - loss: 0.1467 - acc: 0.9304 - val_loss: 0.2109 - val_acc: 0.9000\n",
      "Epoch 92/120\n",
      "359/359 [==============================] - 0s 42us/step - loss: 0.1267 - acc: 0.9331 - val_loss: 0.2212 - val_acc: 0.9111\n",
      "Epoch 93/120\n",
      "359/359 [==============================] - 0s 45us/step - loss: 0.1116 - acc: 0.9499 - val_loss: 0.2120 - val_acc: 0.9111\n",
      "Epoch 94/120\n",
      "359/359 [==============================] - 0s 44us/step - loss: 0.1357 - acc: 0.9387 - val_loss: 0.2158 - val_acc: 0.9111\n",
      "Epoch 95/120\n",
      "359/359 [==============================] - 0s 46us/step - loss: 0.1236 - acc: 0.9471 - val_loss: 0.2115 - val_acc: 0.9111\n",
      "Epoch 96/120\n",
      "359/359 [==============================] - 0s 46us/step - loss: 0.1283 - acc: 0.9471 - val_loss: 0.1980 - val_acc: 0.9111\n",
      "Epoch 97/120\n",
      "359/359 [==============================] - 0s 49us/step - loss: 0.1222 - acc: 0.9499 - val_loss: 0.2213 - val_acc: 0.9111\n",
      "Epoch 98/120\n",
      "359/359 [==============================] - 0s 57us/step - loss: 0.1176 - acc: 0.9471 - val_loss: 0.2186 - val_acc: 0.9111\n",
      "Epoch 99/120\n",
      "359/359 [==============================] - 0s 46us/step - loss: 0.1434 - acc: 0.9359 - val_loss: 0.2086 - val_acc: 0.9222\n",
      "Epoch 100/120\n",
      "359/359 [==============================] - 0s 660us/step - loss: 0.1271 - acc: 0.9415 - val_loss: 0.2010 - val_acc: 0.9111\n",
      "Epoch 101/120\n",
      "359/359 [==============================] - 0s 140us/step - loss: 0.1119 - acc: 0.9610 - val_loss: 0.2257 - val_acc: 0.9111\n",
      "Epoch 102/120\n",
      "359/359 [==============================] - 0s 56us/step - loss: 0.1623 - acc: 0.9331 - val_loss: 0.2229 - val_acc: 0.9111\n",
      "Epoch 103/120\n",
      "359/359 [==============================] - 0s 43us/step - loss: 0.1255 - acc: 0.9443 - val_loss: 0.2198 - val_acc: 0.9111\n",
      "Epoch 104/120\n",
      "359/359 [==============================] - 0s 58us/step - loss: 0.1309 - acc: 0.9499 - val_loss: 0.2255 - val_acc: 0.9111\n",
      "Epoch 105/120\n",
      "359/359 [==============================] - 0s 43us/step - loss: 0.1001 - acc: 0.9499 - val_loss: 0.2066 - val_acc: 0.9111\n",
      "Epoch 106/120\n",
      "359/359 [==============================] - 0s 45us/step - loss: 0.1107 - acc: 0.9582 - val_loss: 0.2126 - val_acc: 0.9111\n",
      "Epoch 107/120\n",
      "359/359 [==============================] - 0s 40us/step - loss: 0.1184 - acc: 0.9415 - val_loss: 0.2332 - val_acc: 0.9111\n",
      "Epoch 108/120\n",
      "359/359 [==============================] - 0s 41us/step - loss: 0.0982 - acc: 0.9499 - val_loss: 0.1985 - val_acc: 0.9333\n",
      "Epoch 109/120\n",
      "359/359 [==============================] - 0s 56us/step - loss: 0.1015 - acc: 0.9666 - val_loss: 0.2181 - val_acc: 0.9111\n",
      "Epoch 110/120\n",
      "359/359 [==============================] - 0s 58us/step - loss: 0.1351 - acc: 0.9387 - val_loss: 0.2036 - val_acc: 0.9000\n",
      "Epoch 111/120\n",
      "359/359 [==============================] - 0s 583us/step - loss: 0.1256 - acc: 0.9415 - val_loss: 0.2029 - val_acc: 0.9111\n",
      "Epoch 112/120\n",
      "359/359 [==============================] - 0s 46us/step - loss: 0.1212 - acc: 0.9443 - val_loss: 0.2093 - val_acc: 0.9111\n",
      "Epoch 113/120\n",
      "359/359 [==============================] - 0s 327us/step - loss: 0.1189 - acc: 0.9499 - val_loss: 0.1994 - val_acc: 0.9111\n",
      "Epoch 114/120\n",
      "359/359 [==============================] - 0s 64us/step - loss: 0.1110 - acc: 0.9415 - val_loss: 0.2272 - val_acc: 0.9222\n",
      "Epoch 115/120\n",
      "359/359 [==============================] - 0s 62us/step - loss: 0.1316 - acc: 0.9499 - val_loss: 0.2250 - val_acc: 0.9111\n",
      "Epoch 116/120\n",
      "359/359 [==============================] - 0s 66us/step - loss: 0.1304 - acc: 0.9359 - val_loss: 0.2399 - val_acc: 0.9111\n",
      "Epoch 117/120\n",
      "359/359 [==============================] - 0s 59us/step - loss: 0.1327 - acc: 0.9415 - val_loss: 0.2216 - val_acc: 0.9111\n",
      "Epoch 118/120\n",
      "359/359 [==============================] - 0s 54us/step - loss: 0.1360 - acc: 0.9387 - val_loss: 0.2240 - val_acc: 0.9111\n",
      "Epoch 119/120\n",
      "359/359 [==============================] - 0s 49us/step - loss: 0.1209 - acc: 0.9471 - val_loss: 0.2003 - val_acc: 0.9000\n",
      "Epoch 120/120\n",
      "359/359 [==============================] - 0s 54us/step - loss: 0.1181 - acc: 0.9415 - val_loss: 0.2078 - val_acc: 0.9111\n",
      "3\n",
      "['Donovan Mitchell' 'Kyle Kuzma' 'Ben Simmon']\n"
     ]
    }
   ],
   "source": [
    "idx = list(range(x_train.shape[0]))\n",
    "np.random.shuffle(idx)\n",
    "hist = model.fit(x_train[idx],y_train[idx],validation_split=0.2,epochs=120,shuffle=True, callbacks = [tbCallBack])\n",
    "dnn_predict = model.predict_classes(x_test)\n",
    "print(sum(dnn_predict))\n",
    "print(y_test[dnn_predict == 1])"
   ]
  },
  {
   "cell_type": "code",
   "execution_count": 7,
   "metadata": {
    "ExecuteTime": {
     "end_time": "2018-01-07T22:46:50.012331Z",
     "start_time": "2018-01-07T22:46:49.868062Z"
    }
   },
   "outputs": [
    {
     "data": {
      "image/png": "[encoded data removed]",
      "text/plain": [
       "<matplotlib.figure.Figure at 0x7f7deb46df98>"
      ]
     },
     "metadata": {},
     "output_type": "display_data"
    }
   ],
   "source": [
    "plt.figure(1)\n",
    "plt.plot(hist.history['acc'])\n",
    "plt.plot(hist.history['val_acc'])\n",
    "plt.title('model accuracy')\n",
    "plt.ylabel('accuracy')\n",
    "plt.xlabel('epoch')\n",
    "plt.legend(['train', 'test'], loc = 'lower right')\n",
    "plt.show()"
   ]
  },
  {
   "cell_type": "code",
   "execution_count": 8,
   "metadata": {
    "ExecuteTime": {
     "end_time": "2018-01-07T22:46:50.374073Z",
     "start_time": "2018-01-07T22:46:50.013878Z"
    }
   },
   "outputs": [
    {
     "data": {
      "image/png": "[encoded data removed]",
      "text/plain": [
       "<matplotlib.figure.Figure at 0x7f7de833eac8>"
      ]
     },
     "metadata": {},
     "output_type": "display_data"
    }
   ],
   "source": [
    "plt.figure(2)\n",
    "plt.plot(hist.history['loss'])\n",
    "plt.plot(hist.history['val_loss'])\n",
    "plt.title('model loss')\n",
    "plt.ylabel('loss')\n",
    "plt.xlabel('epoch')\n",
    "plt.legend(['train', 'test'], loc = 'upper right')\n",
    "plt.show()"
   ]
  }
 ],
 "metadata": {
  "kernelspec": {
   "display_name": "Python 3",
   "language": "python",
   "name": "python3"
  },
  "language_info": {
   "codemirror_mode": {
    "name": "ipython",
    "version": 3
   },
   "file_extension": ".py",
   "mimetype": "text/x-python",
   "name": "python",
   "nbconvert_exporter": "python",
   "pygments_lexer": "ipython3",
   "version": "3.6.3"
  },
  "latex_envs": {
   "LaTeX_envs_menu_present": true,
   "autoclose": false,
   "autocomplete": true,
   "bibliofile": "biblio.bib",
   "cite_by": "apalike",
   "current_citInitial": 1,
   "eqLabelWithNumbers": true,
   "eqNumInitial": 1,
   "hotkeys": {
    "equation": "Ctrl-E",
    "itemize": "Ctrl-I"
   },
   "labels_anchors": false,
   "latex_user_defs": false,
   "report_style_numbering": false,
   "user_envs_cfg": false
  },
  "toc": {
   "nav_menu": {},
   "number_sections": true,
   "sideBar": true,
   "skip_h1_title": false,
   "toc_cell": false,
   "toc_position": {},
   "toc_section_display": "block",
   "toc_window_display": false
  },
  "varInspector": {
   "cols": {
    "lenName": 16,
    "lenType": 16,
    "lenVar": 40
   },
   "kernels_config": {
    "python": {
     "delete_cmd_postfix": "",
     "delete_cmd_prefix": "del ",
     "library": "var_list.py",
     "varRefreshCmd": "print(var_dic_list())"
    },
    "r": {
     "delete_cmd_postfix": ") ",
     "delete_cmd_prefix": "rm(",
     "library": "var_list.r",
     "varRefreshCmd": "cat(var_dic_list()) "
    }
   },
   "types_to_exclude": [
    "module",
    "function",
    "builtin_function_or_method",
    "instance",
    "_Feature"
   ],
   "window_display": false
  }
 },
 "nbformat": 4,
 "nbformat_minor": 2
}
