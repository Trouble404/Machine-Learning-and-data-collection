{
 "cells": [
  {
   "cell_type": "code",
   "execution_count": 1,
   "metadata": {
    "ExecuteTime": {
     "end_time": "2018-01-07T22:46:18.515037Z",
     "start_time": "2018-01-07T22:46:16.242718Z"
    }
   },
   "outputs": [
    {
     "name": "stderr",
     "output_type": "stream",
     "text": [
      "Using TensorFlow backend.\n",
      "/usr/lib/python3.6/importlib/_bootstrap.py:219: RuntimeWarning: compiletime version 3.5 of module 'tensorflow.python.framework.fast_tensor_util' does not match runtime version 3.6\n",
      "  return f(*args, **kwds)\n"
     ]
    }
   ],
   "source": [
    "import numpy as np\n",
    "import pandas\n",
    "from keras.layers import *\n",
    "from keras.models import Sequential, Model\n",
    "import keras\n",
    "import matplotlib.pyplot as plt"
   ]
  },
  {
   "cell_type": "code",
   "execution_count": 2,
   "metadata": {
    "ExecuteTime": {
     "end_time": "2018-01-07T22:46:18.549115Z",
     "start_time": "2018-01-07T22:46:18.516689Z"
    }
   },
   "outputs": [],
   "source": [
    "def zeroMean(dataMat):        \n",
    "    meanVal=np.mean(dataMat,axis=0)     #get mean by columns\n",
    "    newData=dataMat-meanVal  \n",
    "    return newData,meanVal\n",
    "\n",
    "\n",
    "def percentage2n(eigVals,percentage):  \n",
    "    sortArray=np.sort(eigVals)          #ascend order \n",
    "    sortArray=sortArray[-1::-1]           \n",
    "    arraySum=sum(sortArray)  \n",
    "    tmpSum=0  \n",
    "    num=0  \n",
    "    for i in sortArray:  \n",
    "        tmpSum+=i  \n",
    "        num+=1  \n",
    "        if tmpSum>=arraySum*percentage:  \n",
    "            return num  \n",
    "\n",
    "\n",
    "def pca(dataMat,percentage=0.99):  \n",
    "    newData,meanVal=zeroMean(dataMat)  \n",
    "    covMat=np.cov(newData,rowvar=0)      #covariance  \n",
    "    eigVals,eigVects=np.linalg.eig(np.mat(covMat))      \n",
    "    n=percentage2n(eigVals,percentage)                 #need n dimensionol data to get the convariance percentage\n",
    "    n = 6   # pca of 2017 rookies data is 6 dimentional \n",
    "    eigValIndice=np.argsort(eigVals)            #ascend order \n",
    "    n_eigValIndice=eigValIndice[-1:-(n+1):-1]   \n",
    "    n_eigVect=eigVects[:,n_eigValIndice]        \n",
    "    lowDDataMat=newData*n_eigVect               #lower dimensional data  \n",
    "    reconMat=(lowDDataMat*n_eigVect.T)+meanVal  #reconstruct data  \n",
    "    return lowDDataMat,reconMat"
   ]
  },
  {
   "cell_type": "code",
   "execution_count": 3,
   "metadata": {
    "ExecuteTime": {
     "end_time": "2018-01-07T22:46:18.795311Z",
     "start_time": "2018-01-07T22:46:18.550459Z"
    }
   },
   "outputs": [],
   "source": [
    "df = pandas.read_csv(\"04-16_NBA_rookies_data.csv\", header=None)\n",
    "df1 = pandas.read_csv(\"04-16_NBA_rookies_label.csv\",header=None)\n",
    "df_test = pandas.read_csv(\"2017rookies_data.csv\",header=None)\n",
    "df1_test = pandas.read_csv(\"2017rookies_name.csv\",header=None)\n",
    "ds = df.values\n",
    "ds1 = df1.values\n",
    "lowDDataMat,reconMat=pca(ds)  #pca\n",
    "ds_test = df_test.values\n",
    "lowDDataMat1,reconMat1=pca(ds_test)  #pca\n",
    "ds1_test = df1_test.values"
   ]
  },
  {
   "cell_type": "code",
   "execution_count": 4,
   "metadata": {
    "ExecuteTime": {
     "end_time": "2018-01-07T22:46:18.891026Z",
     "start_time": "2018-01-07T22:46:18.796826Z"
    }
   },
   "outputs": [],
   "source": [
    "x_train = lowDDataMat[:,0:6]\n",
    "y_train = ds1[:,1]\n",
    "x_test = lowDDataMat1[:,0:6]\n",
    "y_test = ds1_test[:,0]\n",
    "\n",
    "dim = x_train.shape[1]\n",
    "model = Sequential()\n",
    "model.add(Dense(100, input_dim=dim, activation='tanh'))\n",
    "model.add(Dropout(0.5))\n",
    "model.add(Dense(2, activation='softmax'))\n",
    "\n",
    "model.compile(loss='sparse_categorical_crossentropy', optimizer='rmsprop',metrics=[\"accuracy\"])"
   ]
  },
  {
   "cell_type": "code",
   "execution_count": 5,
   "metadata": {
    "ExecuteTime": {
     "end_time": "2018-01-07T22:46:19.641248Z",
     "start_time": "2018-01-07T22:46:18.892545Z"
    }
   },
   "outputs": [],
   "source": [
    "# Change log_dir for differnt activation function, change the number for every run.\n",
    "tbCallBack = keras.callbacks.TensorBoard(log_dir='tensorboard/tanh/3', histogram_freq=0, write_graph=True, write_images=True)"
   ]
  },
  {
   "cell_type": "code",
   "execution_count": 6,
   "metadata": {
    "ExecuteTime": {
     "end_time": "2018-01-07T22:46:23.908869Z",
     "start_time": "2018-01-07T22:46:19.642732Z"
    }
   },
   "outputs": [
    {
     "name": "stdout",
     "output_type": "stream",
     "text": [
      "Train on 359 samples, validate on 90 samples\n",
      "Epoch 1/100\n",
      "359/359 [==============================] - 0s 150us/step - loss: 1.1377 - acc: 0.4763 - val_loss: 0.5747 - val_acc: 0.7222\n",
      "Epoch 2/100\n",
      "359/359 [==============================] - 0s 49us/step - loss: 0.8173 - acc: 0.6267 - val_loss: 0.5244 - val_acc: 0.7889\n",
      "Epoch 3/100\n",
      "359/359 [==============================] - 0s 53us/step - loss: 0.6178 - acc: 0.7242 - val_loss: 0.4828 - val_acc: 0.7778\n",
      "Epoch 4/100\n",
      "359/359 [==============================] - 0s 657us/step - loss: 0.5911 - acc: 0.7409 - val_loss: 0.4238 - val_acc: 0.8000\n",
      "Epoch 5/100\n",
      "359/359 [==============================] - 0s 51us/step - loss: 0.5086 - acc: 0.7549 - val_loss: 0.3891 - val_acc: 0.8222\n",
      "Epoch 6/100\n",
      "359/359 [==============================] - 0s 49us/step - loss: 0.4476 - acc: 0.8050 - val_loss: 0.3639 - val_acc: 0.8444\n",
      "Epoch 7/100\n",
      "359/359 [==============================] - 0s 50us/step - loss: 0.5201 - acc: 0.7772 - val_loss: 0.3415 - val_acc: 0.8444\n",
      "Epoch 8/100\n",
      "359/359 [==============================] - 0s 42us/step - loss: 0.4167 - acc: 0.8412 - val_loss: 0.3310 - val_acc: 0.8444\n",
      "Epoch 9/100\n",
      "359/359 [==============================] - 0s 45us/step - loss: 0.4059 - acc: 0.8440 - val_loss: 0.3134 - val_acc: 0.8667\n",
      "Epoch 10/100\n",
      "359/359 [==============================] - 0s 45us/step - loss: 0.4079 - acc: 0.8078 - val_loss: 0.3142 - val_acc: 0.8667\n",
      "Epoch 11/100\n",
      "359/359 [==============================] - 0s 48us/step - loss: 0.4707 - acc: 0.8134 - val_loss: 0.3005 - val_acc: 0.8667\n",
      "Epoch 12/100\n",
      "359/359 [==============================] - 0s 47us/step - loss: 0.3721 - acc: 0.8357 - val_loss: 0.2901 - val_acc: 0.8667\n",
      "Epoch 13/100\n",
      "359/359 [==============================] - 0s 54us/step - loss: 0.3640 - acc: 0.8384 - val_loss: 0.2737 - val_acc: 0.8667\n",
      "Epoch 14/100\n",
      "359/359 [==============================] - 0s 50us/step - loss: 0.3395 - acc: 0.8691 - val_loss: 0.2684 - val_acc: 0.8778\n",
      "Epoch 15/100\n",
      "359/359 [==============================] - 0s 44us/step - loss: 0.3499 - acc: 0.8579 - val_loss: 0.2620 - val_acc: 0.8667\n",
      "Epoch 16/100\n",
      "359/359 [==============================] - 0s 644us/step - loss: 0.3487 - acc: 0.8412 - val_loss: 0.2596 - val_acc: 0.8667\n",
      "Epoch 17/100\n",
      "359/359 [==============================] - 0s 50us/step - loss: 0.3287 - acc: 0.8496 - val_loss: 0.2580 - val_acc: 0.8667\n",
      "Epoch 18/100\n",
      "359/359 [==============================] - 0s 51us/step - loss: 0.3006 - acc: 0.8747 - val_loss: 0.2636 - val_acc: 0.8667\n",
      "Epoch 19/100\n",
      "359/359 [==============================] - 0s 50us/step - loss: 0.3423 - acc: 0.8524 - val_loss: 0.2583 - val_acc: 0.8778\n",
      "Epoch 20/100\n",
      "359/359 [==============================] - 0s 49us/step - loss: 0.2628 - acc: 0.8802 - val_loss: 0.2512 - val_acc: 0.8889\n",
      "Epoch 21/100\n",
      "359/359 [==============================] - 0s 49us/step - loss: 0.2867 - acc: 0.8830 - val_loss: 0.2445 - val_acc: 0.8778\n",
      "Epoch 22/100\n",
      "359/359 [==============================] - 0s 46us/step - loss: 0.2884 - acc: 0.8774 - val_loss: 0.2463 - val_acc: 0.9000\n",
      "Epoch 23/100\n",
      "359/359 [==============================] - 0s 46us/step - loss: 0.2503 - acc: 0.8997 - val_loss: 0.2331 - val_acc: 0.8889\n",
      "Epoch 24/100\n",
      "359/359 [==============================] - 0s 49us/step - loss: 0.2544 - acc: 0.9109 - val_loss: 0.2388 - val_acc: 0.9111\n",
      "Epoch 25/100\n",
      "359/359 [==============================] - 0s 43us/step - loss: 0.2843 - acc: 0.8663 - val_loss: 0.2349 - val_acc: 0.8889\n",
      "Epoch 26/100\n",
      "359/359 [==============================] - 0s 43us/step - loss: 0.2629 - acc: 0.8886 - val_loss: 0.2257 - val_acc: 0.8889\n",
      "Epoch 27/100\n",
      "359/359 [==============================] - 0s 44us/step - loss: 0.2378 - acc: 0.8997 - val_loss: 0.2231 - val_acc: 0.8889\n",
      "Epoch 28/100\n",
      "359/359 [==============================] - 0s 793us/step - loss: 0.2626 - acc: 0.8886 - val_loss: 0.2181 - val_acc: 0.8889\n",
      "Epoch 29/100\n",
      "359/359 [==============================] - 0s 44us/step - loss: 0.2389 - acc: 0.9109 - val_loss: 0.2187 - val_acc: 0.8889\n",
      "Epoch 30/100\n",
      "359/359 [==============================] - 0s 45us/step - loss: 0.2439 - acc: 0.8914 - val_loss: 0.2150 - val_acc: 0.9000\n",
      "Epoch 31/100\n",
      "359/359 [==============================] - 0s 45us/step - loss: 0.2267 - acc: 0.9220 - val_loss: 0.2105 - val_acc: 0.9000\n",
      "Epoch 32/100\n",
      "359/359 [==============================] - 0s 43us/step - loss: 0.2339 - acc: 0.9053 - val_loss: 0.2085 - val_acc: 0.9111\n",
      "Epoch 33/100\n",
      "359/359 [==============================] - 0s 47us/step - loss: 0.2125 - acc: 0.9164 - val_loss: 0.2070 - val_acc: 0.9222\n",
      "Epoch 34/100\n",
      "359/359 [==============================] - 0s 49us/step - loss: 0.2148 - acc: 0.9025 - val_loss: 0.2117 - val_acc: 0.9000\n",
      "Epoch 35/100\n",
      "359/359 [==============================] - 0s 49us/step - loss: 0.2053 - acc: 0.9109 - val_loss: 0.2086 - val_acc: 0.9000\n",
      "Epoch 36/100\n",
      "359/359 [==============================] - 0s 53us/step - loss: 0.2178 - acc: 0.9136 - val_loss: 0.2032 - val_acc: 0.9333\n",
      "Epoch 37/100\n",
      "359/359 [==============================] - 0s 535us/step - loss: 0.1884 - acc: 0.9276 - val_loss: 0.2016 - val_acc: 0.9333\n",
      "Epoch 38/100\n",
      "359/359 [==============================] - 0s 45us/step - loss: 0.1765 - acc: 0.9359 - val_loss: 0.2010 - val_acc: 0.9444\n",
      "Epoch 39/100\n",
      "359/359 [==============================] - 0s 45us/step - loss: 0.1865 - acc: 0.9164 - val_loss: 0.1981 - val_acc: 0.9333\n",
      "Epoch 40/100\n",
      "359/359 [==============================] - 0s 41us/step - loss: 0.1662 - acc: 0.9304 - val_loss: 0.1995 - val_acc: 0.9111\n",
      "Epoch 41/100\n",
      "359/359 [==============================] - 0s 44us/step - loss: 0.1981 - acc: 0.9164 - val_loss: 0.1988 - val_acc: 0.9222\n",
      "Epoch 42/100\n",
      "359/359 [==============================] - 0s 41us/step - loss: 0.2039 - acc: 0.9192 - val_loss: 0.1987 - val_acc: 0.9333\n",
      "Epoch 43/100\n",
      "359/359 [==============================] - 0s 49us/step - loss: 0.1939 - acc: 0.9192 - val_loss: 0.1921 - val_acc: 0.9333\n",
      "Epoch 44/100\n",
      "359/359 [==============================] - 0s 42us/step - loss: 0.1682 - acc: 0.9415 - val_loss: 0.1910 - val_acc: 0.9222\n",
      "Epoch 45/100\n",
      "359/359 [==============================] - 0s 42us/step - loss: 0.1874 - acc: 0.9248 - val_loss: 0.1885 - val_acc: 0.9222\n",
      "Epoch 46/100\n",
      "359/359 [==============================] - 0s 40us/step - loss: 0.1932 - acc: 0.9164 - val_loss: 0.1850 - val_acc: 0.9222\n",
      "Epoch 47/100\n",
      "359/359 [==============================] - 0s 43us/step - loss: 0.1653 - acc: 0.9220 - val_loss: 0.1868 - val_acc: 0.9222\n",
      "Epoch 48/100\n",
      "359/359 [==============================] - 0s 40us/step - loss: 0.1672 - acc: 0.9331 - val_loss: 0.1871 - val_acc: 0.9444\n",
      "Epoch 49/100\n",
      "359/359 [==============================] - 0s 592us/step - loss: 0.1781 - acc: 0.9164 - val_loss: 0.1958 - val_acc: 0.9222\n",
      "Epoch 50/100\n",
      "359/359 [==============================] - 0s 57us/step - loss: 0.1808 - acc: 0.9109 - val_loss: 0.1848 - val_acc: 0.9222\n",
      "Epoch 51/100\n",
      "359/359 [==============================] - 0s 51us/step - loss: 0.1500 - acc: 0.9471 - val_loss: 0.1797 - val_acc: 0.9222\n",
      "Epoch 52/100\n",
      "359/359 [==============================] - 0s 51us/step - loss: 0.1882 - acc: 0.9136 - val_loss: 0.1789 - val_acc: 0.9222\n",
      "Epoch 53/100\n",
      "359/359 [==============================] - 0s 53us/step - loss: 0.1543 - acc: 0.9304 - val_loss: 0.1827 - val_acc: 0.9222\n",
      "Epoch 54/100\n",
      "359/359 [==============================] - 0s 47us/step - loss: 0.1679 - acc: 0.9359 - val_loss: 0.1840 - val_acc: 0.9333\n",
      "Epoch 55/100\n",
      "359/359 [==============================] - 0s 45us/step - loss: 0.1757 - acc: 0.9192 - val_loss: 0.1827 - val_acc: 0.9444\n",
      "Epoch 56/100\n",
      "359/359 [==============================] - 0s 45us/step - loss: 0.1630 - acc: 0.9304 - val_loss: 0.1839 - val_acc: 0.9222\n",
      "Epoch 57/100\n",
      "359/359 [==============================] - 0s 46us/step - loss: 0.1574 - acc: 0.9359 - val_loss: 0.1820 - val_acc: 0.9222\n",
      "Epoch 58/100\n",
      "359/359 [==============================] - 0s 47us/step - loss: 0.1865 - acc: 0.9276 - val_loss: 0.1789 - val_acc: 0.9222\n",
      "Epoch 59/100\n",
      "359/359 [==============================] - 0s 43us/step - loss: 0.1778 - acc: 0.9276 - val_loss: 0.1783 - val_acc: 0.9222\n",
      "Epoch 60/100\n",
      "359/359 [==============================] - 0s 42us/step - loss: 0.1722 - acc: 0.9359 - val_loss: 0.1799 - val_acc: 0.9222\n",
      "Epoch 61/100\n"
     ]
    },
    {
     "name": "stdout",
     "output_type": "stream",
     "text": [
      "359/359 [==============================] - 0s 567us/step - loss: 0.1348 - acc: 0.9499 - val_loss: 0.1813 - val_acc: 0.9222\n",
      "Epoch 62/100\n",
      "359/359 [==============================] - 0s 314us/step - loss: 0.1698 - acc: 0.9192 - val_loss: 0.1873 - val_acc: 0.9222\n",
      "Epoch 63/100\n",
      "359/359 [==============================] - 0s 65us/step - loss: 0.1681 - acc: 0.9304 - val_loss: 0.1866 - val_acc: 0.9444\n",
      "Epoch 64/100\n",
      "359/359 [==============================] - 0s 42us/step - loss: 0.1698 - acc: 0.9276 - val_loss: 0.1798 - val_acc: 0.9444\n",
      "Epoch 65/100\n",
      "359/359 [==============================] - 0s 39us/step - loss: 0.1643 - acc: 0.9304 - val_loss: 0.1748 - val_acc: 0.9222\n",
      "Epoch 66/100\n",
      "359/359 [==============================] - 0s 46us/step - loss: 0.1521 - acc: 0.9248 - val_loss: 0.1799 - val_acc: 0.9222\n",
      "Epoch 67/100\n",
      "359/359 [==============================] - 0s 45us/step - loss: 0.1541 - acc: 0.9359 - val_loss: 0.1795 - val_acc: 0.9333\n",
      "Epoch 68/100\n",
      "359/359 [==============================] - 0s 55us/step - loss: 0.1693 - acc: 0.9387 - val_loss: 0.1785 - val_acc: 0.9222\n",
      "Epoch 69/100\n",
      "359/359 [==============================] - 0s 57us/step - loss: 0.1244 - acc: 0.9443 - val_loss: 0.1712 - val_acc: 0.9222\n",
      "Epoch 70/100\n",
      "359/359 [==============================] - 0s 54us/step - loss: 0.1349 - acc: 0.9415 - val_loss: 0.1690 - val_acc: 0.9222\n",
      "Epoch 71/100\n",
      "359/359 [==============================] - 0s 54us/step - loss: 0.1461 - acc: 0.9443 - val_loss: 0.1760 - val_acc: 0.9222\n",
      "Epoch 72/100\n",
      "359/359 [==============================] - 0s 48us/step - loss: 0.1450 - acc: 0.9526 - val_loss: 0.1753 - val_acc: 0.9222\n",
      "Epoch 73/100\n",
      "359/359 [==============================] - 0s 639us/step - loss: 0.1285 - acc: 0.9471 - val_loss: 0.1705 - val_acc: 0.9222\n",
      "Epoch 74/100\n",
      "359/359 [==============================] - 0s 61us/step - loss: 0.1262 - acc: 0.9415 - val_loss: 0.1744 - val_acc: 0.9222\n",
      "Epoch 75/100\n",
      "359/359 [==============================] - 0s 56us/step - loss: 0.1173 - acc: 0.9610 - val_loss: 0.1732 - val_acc: 0.9222\n",
      "Epoch 76/100\n",
      "359/359 [==============================] - 0s 59us/step - loss: 0.1597 - acc: 0.9359 - val_loss: 0.1714 - val_acc: 0.9222\n",
      "Epoch 77/100\n",
      "359/359 [==============================] - 0s 58us/step - loss: 0.1273 - acc: 0.9471 - val_loss: 0.1735 - val_acc: 0.9222\n",
      "Epoch 78/100\n",
      "359/359 [==============================] - 0s 48us/step - loss: 0.1251 - acc: 0.9387 - val_loss: 0.1755 - val_acc: 0.9222\n",
      "Epoch 79/100\n",
      "359/359 [==============================] - 0s 46us/step - loss: 0.1359 - acc: 0.9499 - val_loss: 0.1724 - val_acc: 0.9222\n",
      "Epoch 80/100\n",
      "359/359 [==============================] - 0s 44us/step - loss: 0.1415 - acc: 0.9276 - val_loss: 0.1707 - val_acc: 0.9222\n",
      "Epoch 81/100\n",
      "359/359 [==============================] - 0s 42us/step - loss: 0.1318 - acc: 0.9471 - val_loss: 0.1736 - val_acc: 0.9222\n",
      "Epoch 82/100\n",
      "359/359 [==============================] - 0s 43us/step - loss: 0.1450 - acc: 0.9387 - val_loss: 0.1739 - val_acc: 0.9222\n",
      "Epoch 83/100\n",
      "359/359 [==============================] - 0s 696us/step - loss: 0.1358 - acc: 0.9471 - val_loss: 0.1738 - val_acc: 0.9222\n",
      "Epoch 84/100\n",
      "359/359 [==============================] - 0s 45us/step - loss: 0.1525 - acc: 0.9387 - val_loss: 0.1798 - val_acc: 0.9222\n",
      "Epoch 85/100\n",
      "359/359 [==============================] - 0s 51us/step - loss: 0.1376 - acc: 0.9331 - val_loss: 0.1804 - val_acc: 0.9222\n",
      "Epoch 86/100\n",
      "359/359 [==============================] - 0s 55us/step - loss: 0.1211 - acc: 0.9582 - val_loss: 0.1807 - val_acc: 0.9222\n",
      "Epoch 87/100\n",
      "359/359 [==============================] - 0s 50us/step - loss: 0.1604 - acc: 0.9387 - val_loss: 0.1793 - val_acc: 0.9222\n",
      "Epoch 88/100\n",
      "359/359 [==============================] - 0s 48us/step - loss: 0.1478 - acc: 0.9415 - val_loss: 0.1784 - val_acc: 0.9222\n",
      "Epoch 89/100\n",
      "359/359 [==============================] - 0s 59us/step - loss: 0.1406 - acc: 0.9359 - val_loss: 0.1821 - val_acc: 0.9111\n",
      "Epoch 90/100\n",
      "359/359 [==============================] - 0s 49us/step - loss: 0.1205 - acc: 0.9610 - val_loss: 0.1782 - val_acc: 0.9222\n",
      "Epoch 91/100\n",
      "359/359 [==============================] - 0s 51us/step - loss: 0.1267 - acc: 0.9526 - val_loss: 0.1739 - val_acc: 0.9222\n",
      "Epoch 92/100\n",
      "359/359 [==============================] - 0s 61us/step - loss: 0.1412 - acc: 0.9359 - val_loss: 0.1766 - val_acc: 0.9222\n",
      "Epoch 93/100\n",
      "359/359 [==============================] - 0s 771us/step - loss: 0.1463 - acc: 0.9387 - val_loss: 0.1731 - val_acc: 0.9222\n",
      "Epoch 94/100\n",
      "359/359 [==============================] - 0s 57us/step - loss: 0.1310 - acc: 0.9471 - val_loss: 0.1721 - val_acc: 0.9222\n",
      "Epoch 95/100\n",
      "359/359 [==============================] - 0s 58us/step - loss: 0.1206 - acc: 0.9554 - val_loss: 0.1716 - val_acc: 0.9222\n",
      "Epoch 96/100\n",
      "359/359 [==============================] - 0s 47us/step - loss: 0.1376 - acc: 0.9443 - val_loss: 0.1763 - val_acc: 0.9111\n",
      "Epoch 97/100\n",
      "359/359 [==============================] - 0s 49us/step - loss: 0.1000 - acc: 0.9610 - val_loss: 0.1769 - val_acc: 0.9222\n",
      "Epoch 98/100\n",
      "359/359 [==============================] - 0s 49us/step - loss: 0.1391 - acc: 0.9443 - val_loss: 0.1711 - val_acc: 0.9222\n",
      "Epoch 99/100\n",
      "359/359 [==============================] - 0s 42us/step - loss: 0.1264 - acc: 0.9526 - val_loss: 0.1744 - val_acc: 0.9222\n",
      "Epoch 100/100\n",
      "359/359 [==============================] - 0s 41us/step - loss: 0.0996 - acc: 0.9554 - val_loss: 0.1715 - val_acc: 0.9222\n",
      "6\n",
      "['Donovan Mitchell' 'Kyle Kuzma' 'Lauri Markkanen' 'John Collins'\n",
      " 'Frank Ntilikina' 'Ben Simmon']\n"
     ]
    }
   ],
   "source": [
    "idx = list(range(x_train.shape[0]))\n",
    "np.random.shuffle(idx)\n",
    "hist = model.fit(x_train[idx],y_train[idx],validation_split=0.2,epochs=100,shuffle=True, callbacks = [tbCallBack])\n",
    "dnn_predict = model.predict_classes(x_test)\n",
    "print(sum(dnn_predict))\n",
    "print(y_test[dnn_predict == 1])"
   ]
  },
  {
   "cell_type": "code",
   "execution_count": 7,
   "metadata": {
    "ExecuteTime": {
     "end_time": "2018-01-07T22:46:24.321319Z",
     "start_time": "2018-01-07T22:46:23.910292Z"
    }
   },
   "outputs": [
    {
     "data": {
      "image/png": "[encoded data removed]",
      "text/plain": [
       "<matplotlib.figure.Figure at 0x7f91bdecbf60>"
      ]
     },
     "metadata": {},
     "output_type": "display_data"
    }
   ],
   "source": [
    "plt.figure(1)\n",
    "plt.plot(hist.history['acc'])\n",
    "plt.plot(hist.history['val_acc'])\n",
    "plt.title('model accuracy')\n",
    "plt.ylabel('accuracy')\n",
    "plt.xlabel('epoch')\n",
    "plt.legend(['train', 'test'], loc = 'lower right')\n",
    "plt.show()"
   ]
  },
  {
   "cell_type": "code",
   "execution_count": 8,
   "metadata": {
    "ExecuteTime": {
     "end_time": "2018-01-07T22:46:24.708475Z",
     "start_time": "2018-01-07T22:46:24.323264Z"
    }
   },
   "outputs": [
    {
     "data": {
      "image/png": "[encoded data removed]",
      "text/plain": [
       "<matplotlib.figure.Figure at 0x7f91bc33a1d0>"
      ]
     },
     "metadata": {},
     "output_type": "display_data"
    }
   ],
   "source": [
    "plt.figure(2)\n",
    "plt.plot(hist.history['loss'])\n",
    "plt.plot(hist.history['val_loss'])\n",
    "plt.title('model loss')\n",
    "plt.ylabel('loss')\n",
    "plt.xlabel('epoch')\n",
    "plt.legend(['train', 'test'], loc = 'upper right')\n",
    "plt.show()"
   ]
  },
  {
   "cell_type": "code",
   "execution_count": null,
   "metadata": {},
   "outputs": [],
   "source": []
  }
 ],
 "metadata": {
  "kernelspec": {
   "display_name": "Python 3",
   "language": "python",
   "name": "python3"
  },
  "language_info": {
   "codemirror_mode": {
    "name": "ipython",
    "version": 3
   },
   "file_extension": ".py",
   "mimetype": "text/x-python",
   "name": "python",
   "nbconvert_exporter": "python",
   "pygments_lexer": "ipython3",
   "version": "3.6.3"
  },
  "latex_envs": {
   "LaTeX_envs_menu_present": true,
   "autoclose": false,
   "autocomplete": true,
   "bibliofile": "biblio.bib",
   "cite_by": "apalike",
   "current_citInitial": 1,
   "eqLabelWithNumbers": true,
   "eqNumInitial": 1,
   "hotkeys": {
    "equation": "Ctrl-E",
    "itemize": "Ctrl-I"
   },
   "labels_anchors": false,
   "latex_user_defs": false,
   "report_style_numbering": false,
   "user_envs_cfg": false
  },
  "toc": {
   "nav_menu": {},
   "number_sections": true,
   "sideBar": true,
   "skip_h1_title": false,
   "toc_cell": false,
   "toc_position": {},
   "toc_section_display": "block",
   "toc_window_display": false
  },
  "varInspector": {
   "cols": {
    "lenName": 16,
    "lenType": 16,
    "lenVar": 40
   },
   "kernels_config": {
    "python": {
     "delete_cmd_postfix": "",
     "delete_cmd_prefix": "del ",
     "library": "var_list.py",
     "varRefreshCmd": "print(var_dic_list())"
    },
    "r": {
     "delete_cmd_postfix": ") ",
     "delete_cmd_prefix": "rm(",
     "library": "var_list.r",
     "varRefreshCmd": "cat(var_dic_list()) "
    }
   },
   "types_to_exclude": [
    "module",
    "function",
    "builtin_function_or_method",
    "instance",
    "_Feature"
   ],
   "window_display": false
  }
 },
 "nbformat": 4,
 "nbformat_minor": 2
}
