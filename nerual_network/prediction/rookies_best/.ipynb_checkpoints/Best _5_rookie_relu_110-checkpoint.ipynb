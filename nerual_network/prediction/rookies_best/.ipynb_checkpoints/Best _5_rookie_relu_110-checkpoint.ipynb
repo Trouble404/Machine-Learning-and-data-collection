{
 "cells": [
  {
   "cell_type": "code",
   "execution_count": 1,
   "metadata": {
    "ExecuteTime": {
     "end_time": "2018-01-07T23:01:08.253531Z",
     "start_time": "2018-01-07T23:01:05.688218Z"
    }
   },
   "outputs": [
    {
     "name": "stderr",
     "output_type": "stream",
     "text": [
      "Using TensorFlow backend.\n",
      "/usr/lib/python3.6/importlib/_bootstrap.py:219: RuntimeWarning: compiletime version 3.5 of module 'tensorflow.python.framework.fast_tensor_util' does not match runtime version 3.6\n",
      "  return f(*args, **kwds)\n"
     ]
    }
   ],
   "source": [
    "import numpy as np\n",
    "import pandas\n",
    "from keras.layers import *\n",
    "from keras.models import Sequential, Model\n",
    "import keras\n",
    "import matplotlib.pyplot as plt"
   ]
  },
  {
   "cell_type": "code",
   "execution_count": 2,
   "metadata": {
    "ExecuteTime": {
     "end_time": "2018-01-07T23:01:08.526963Z",
     "start_time": "2018-01-07T23:01:08.255156Z"
    }
   },
   "outputs": [],
   "source": [
    "def zeroMean(dataMat):        \n",
    "    meanVal=np.mean(dataMat,axis=0)     #get mean by columns\n",
    "    newData=dataMat-meanVal  \n",
    "    return newData,meanVal\n",
    "\n",
    "\n",
    "def percentage2n(eigVals,percentage):  \n",
    "    sortArray=np.sort(eigVals)          #ascend order \n",
    "    sortArray=sortArray[-1::-1]           \n",
    "    arraySum=sum(sortArray)  \n",
    "    tmpSum=0  \n",
    "    num=0  \n",
    "    for i in sortArray:  \n",
    "        tmpSum+=i  \n",
    "        num+=1  \n",
    "        if tmpSum>=arraySum*percentage:  \n",
    "            return num  \n",
    "\n",
    "\n",
    "def pca(dataMat,percentage=0.99):  \n",
    "    newData,meanVal=zeroMean(dataMat)  \n",
    "    covMat=np.cov(newData,rowvar=0)      #covariance  \n",
    "    eigVals,eigVects=np.linalg.eig(np.mat(covMat))      \n",
    "    n=percentage2n(eigVals,percentage)                 #need n dimensionol data to get the convariance percentage\n",
    "    n = 6   # pca of 2017 rookies data is 6 dimentional \n",
    "    eigValIndice=np.argsort(eigVals)            #ascend order \n",
    "    n_eigValIndice=eigValIndice[-1:-(n+1):-1]   \n",
    "    n_eigVect=eigVects[:,n_eigValIndice]        \n",
    "    lowDDataMat=newData*n_eigVect               #lower dimensional data  \n",
    "    reconMat=(lowDDataMat*n_eigVect.T)+meanVal  #reconstruct data  \n",
    "    return lowDDataMat,reconMat"
   ]
  },
  {
   "cell_type": "code",
   "execution_count": 3,
   "metadata": {
    "ExecuteTime": {
     "end_time": "2018-01-07T23:01:08.571498Z",
     "start_time": "2018-01-07T23:01:08.528574Z"
    }
   },
   "outputs": [],
   "source": [
    "df = pandas.read_csv(\"04-16_NBA_rookies_data.csv\", header=None)\n",
    "df1 = pandas.read_csv(\"04-16_NBA_rookies_label.csv\",header=None)\n",
    "df_test = pandas.read_csv(\"2017rookies_data.csv\",header=None)\n",
    "df1_test = pandas.read_csv(\"2017rookies_name.csv\",header=None)\n",
    "ds = df.values\n",
    "ds1 = df1.values\n",
    "lowDDataMat,reconMat=pca(ds)  #pca\n",
    "ds_test = df_test.values\n",
    "lowDDataMat1,reconMat1=pca(ds_test)  #pca\n",
    "ds1_test = df1_test.values"
   ]
  },
  {
   "cell_type": "code",
   "execution_count": 4,
   "metadata": {
    "ExecuteTime": {
     "end_time": "2018-01-07T23:01:08.654008Z",
     "start_time": "2018-01-07T23:01:08.573263Z"
    }
   },
   "outputs": [],
   "source": [
    "x_train = lowDDataMat[:,0:6]\n",
    "y_train = ds1[:,1]\n",
    "x_test = lowDDataMat1[:,0:6]\n",
    "y_test = ds1_test[:,0]\n",
    "\n",
    "dim = x_train.shape[1]\n",
    "model = Sequential()\n",
    "model.add(Dense(100, input_dim=dim, activation='tanh'))\n",
    "model.add(Dropout(0.5))\n",
    "model.add(Dense(2, activation='softmax'))\n",
    "\n",
    "model.compile(loss='sparse_categorical_crossentropy', optimizer='rmsprop',metrics=[\"accuracy\"])"
   ]
  },
  {
   "cell_type": "code",
   "execution_count": 5,
   "metadata": {
    "ExecuteTime": {
     "end_time": "2018-01-07T23:01:09.533377Z",
     "start_time": "2018-01-07T23:01:08.655621Z"
    }
   },
   "outputs": [],
   "source": [
    "# Change log_dir for differnt activation function, change the number for every run.\n",
    "tbCallBack = keras.callbacks.TensorBoard(log_dir='tensorboard/relu/3', histogram_freq=0, write_graph=True, write_images=True)"
   ]
  },
  {
   "cell_type": "code",
   "execution_count": 6,
   "metadata": {
    "ExecuteTime": {
     "end_time": "2018-01-07T23:01:14.222278Z",
     "start_time": "2018-01-07T23:01:09.534980Z"
    }
   },
   "outputs": [
    {
     "name": "stdout",
     "output_type": "stream",
     "text": [
      "Train on 359 samples, validate on 90 samples\n",
      "Epoch 1/110\n",
      "359/359 [==============================] - 0s 117us/step - loss: 0.9672 - acc: 0.5877 - val_loss: 0.6183 - val_acc: 0.6778\n",
      "Epoch 2/110\n",
      "359/359 [==============================] - 0s 45us/step - loss: 0.7541 - acc: 0.6602 - val_loss: 0.5141 - val_acc: 0.7889\n",
      "Epoch 3/110\n",
      "359/359 [==============================] - 0s 44us/step - loss: 0.6420 - acc: 0.7326 - val_loss: 0.4380 - val_acc: 0.8111\n",
      "Epoch 4/110\n",
      "359/359 [==============================] - 0s 43us/step - loss: 0.6345 - acc: 0.7019 - val_loss: 0.4048 - val_acc: 0.8222\n",
      "Epoch 5/110\n",
      "359/359 [==============================] - 0s 40us/step - loss: 0.5578 - acc: 0.7744 - val_loss: 0.3713 - val_acc: 0.8111\n",
      "Epoch 6/110\n",
      "359/359 [==============================] - 0s 48us/step - loss: 0.5429 - acc: 0.7939 - val_loss: 0.3450 - val_acc: 0.8444\n",
      "Epoch 7/110\n",
      "359/359 [==============================] - 0s 43us/step - loss: 0.4932 - acc: 0.7939 - val_loss: 0.3207 - val_acc: 0.8667\n",
      "Epoch 8/110\n",
      "359/359 [==============================] - 0s 45us/step - loss: 0.4611 - acc: 0.7716 - val_loss: 0.3096 - val_acc: 0.8667\n",
      "Epoch 9/110\n",
      "359/359 [==============================] - 0s 46us/step - loss: 0.4749 - acc: 0.8022 - val_loss: 0.3291 - val_acc: 0.8444\n",
      "Epoch 10/110\n",
      "359/359 [==============================] - 0s 44us/step - loss: 0.4009 - acc: 0.8134 - val_loss: 0.2979 - val_acc: 0.8667\n",
      "Epoch 11/110\n",
      "359/359 [==============================] - 0s 304us/step - loss: 0.4243 - acc: 0.8134 - val_loss: 0.2859 - val_acc: 0.8667\n",
      "Epoch 12/110\n",
      "359/359 [==============================] - 0s 53us/step - loss: 0.4363 - acc: 0.8301 - val_loss: 0.2737 - val_acc: 0.8778\n",
      "Epoch 13/110\n",
      "359/359 [==============================] - 0s 44us/step - loss: 0.3857 - acc: 0.8273 - val_loss: 0.2620 - val_acc: 0.8778\n",
      "Epoch 14/110\n",
      "359/359 [==============================] - 0s 47us/step - loss: 0.3888 - acc: 0.8106 - val_loss: 0.2632 - val_acc: 0.8778\n",
      "Epoch 15/110\n",
      "359/359 [==============================] - 0s 43us/step - loss: 0.4156 - acc: 0.8301 - val_loss: 0.2500 - val_acc: 0.8778\n",
      "Epoch 16/110\n",
      "359/359 [==============================] - 0s 46us/step - loss: 0.3585 - acc: 0.8663 - val_loss: 0.2433 - val_acc: 0.8778\n",
      "Epoch 17/110\n",
      "359/359 [==============================] - 0s 496us/step - loss: 0.4362 - acc: 0.8078 - val_loss: 0.2404 - val_acc: 0.8778\n",
      "Epoch 18/110\n",
      "359/359 [==============================] - 0s 61us/step - loss: 0.3636 - acc: 0.8189 - val_loss: 0.2296 - val_acc: 0.9000\n",
      "Epoch 19/110\n",
      "359/359 [==============================] - 0s 47us/step - loss: 0.3218 - acc: 0.8579 - val_loss: 0.2234 - val_acc: 0.9111\n",
      "Epoch 20/110\n",
      "359/359 [==============================] - 0s 45us/step - loss: 0.3366 - acc: 0.8524 - val_loss: 0.2195 - val_acc: 0.8889\n",
      "Epoch 21/110\n",
      "359/359 [==============================] - 0s 41us/step - loss: 0.3308 - acc: 0.8607 - val_loss: 0.2133 - val_acc: 0.9000\n",
      "Epoch 22/110\n",
      "359/359 [==============================] - 0s 48us/step - loss: 0.3239 - acc: 0.8719 - val_loss: 0.2080 - val_acc: 0.9000\n",
      "Epoch 23/110\n",
      "359/359 [==============================] - 0s 45us/step - loss: 0.3276 - acc: 0.8496 - val_loss: 0.2020 - val_acc: 0.9000\n",
      "Epoch 24/110\n",
      "359/359 [==============================] - 0s 49us/step - loss: 0.2400 - acc: 0.8997 - val_loss: 0.1974 - val_acc: 0.9222\n",
      "Epoch 25/110\n",
      "359/359 [==============================] - 0s 50us/step - loss: 0.2626 - acc: 0.8886 - val_loss: 0.1956 - val_acc: 0.9111\n",
      "Epoch 26/110\n",
      "359/359 [==============================] - 0s 46us/step - loss: 0.2813 - acc: 0.8719 - val_loss: 0.1912 - val_acc: 0.9111\n",
      "Epoch 27/110\n",
      "359/359 [==============================] - 0s 812us/step - loss: 0.2889 - acc: 0.8552 - val_loss: 0.1863 - val_acc: 0.9222\n",
      "Epoch 28/110\n",
      "359/359 [==============================] - 0s 49us/step - loss: 0.2601 - acc: 0.8774 - val_loss: 0.1814 - val_acc: 0.9333\n",
      "Epoch 29/110\n",
      "359/359 [==============================] - 0s 48us/step - loss: 0.2819 - acc: 0.8774 - val_loss: 0.1759 - val_acc: 0.9333\n",
      "Epoch 30/110\n",
      "359/359 [==============================] - 0s 46us/step - loss: 0.2620 - acc: 0.8914 - val_loss: 0.1706 - val_acc: 0.9333\n",
      "Epoch 31/110\n",
      "359/359 [==============================] - 0s 47us/step - loss: 0.2362 - acc: 0.9025 - val_loss: 0.1685 - val_acc: 0.9333\n",
      "Epoch 32/110\n",
      "359/359 [==============================] - 0s 46us/step - loss: 0.2420 - acc: 0.8914 - val_loss: 0.1672 - val_acc: 0.9222\n",
      "Epoch 33/110\n",
      "359/359 [==============================] - 0s 41us/step - loss: 0.2727 - acc: 0.8858 - val_loss: 0.1636 - val_acc: 0.9333\n",
      "Epoch 34/110\n",
      "359/359 [==============================] - 0s 42us/step - loss: 0.2229 - acc: 0.9109 - val_loss: 0.1650 - val_acc: 0.9222\n",
      "Epoch 35/110\n",
      "359/359 [==============================] - 0s 42us/step - loss: 0.2258 - acc: 0.8886 - val_loss: 0.1609 - val_acc: 0.9444\n",
      "Epoch 36/110\n",
      "359/359 [==============================] - 0s 46us/step - loss: 0.2485 - acc: 0.8997 - val_loss: 0.1574 - val_acc: 0.9333\n",
      "Epoch 37/110\n",
      "359/359 [==============================] - 0s 46us/step - loss: 0.2426 - acc: 0.9025 - val_loss: 0.1489 - val_acc: 0.9444\n",
      "Epoch 38/110\n",
      "359/359 [==============================] - 0s 782us/step - loss: 0.2232 - acc: 0.9053 - val_loss: 0.1488 - val_acc: 0.9333\n",
      "Epoch 39/110\n",
      "359/359 [==============================] - 0s 52us/step - loss: 0.2060 - acc: 0.9053 - val_loss: 0.1436 - val_acc: 0.9444\n",
      "Epoch 40/110\n",
      "359/359 [==============================] - 0s 43us/step - loss: 0.2422 - acc: 0.8886 - val_loss: 0.1412 - val_acc: 0.9444\n",
      "Epoch 41/110\n",
      "359/359 [==============================] - 0s 43us/step - loss: 0.2085 - acc: 0.9220 - val_loss: 0.1411 - val_acc: 0.9444\n",
      "Epoch 42/110\n",
      "359/359 [==============================] - 0s 43us/step - loss: 0.2267 - acc: 0.8997 - val_loss: 0.1397 - val_acc: 0.9444\n",
      "Epoch 43/110\n",
      "359/359 [==============================] - 0s 43us/step - loss: 0.2063 - acc: 0.8997 - val_loss: 0.1365 - val_acc: 0.9444\n",
      "Epoch 44/110\n",
      "359/359 [==============================] - 0s 49us/step - loss: 0.1656 - acc: 0.9331 - val_loss: 0.1385 - val_acc: 0.9444\n",
      "Epoch 45/110\n",
      "359/359 [==============================] - 0s 47us/step - loss: 0.2197 - acc: 0.9164 - val_loss: 0.1394 - val_acc: 0.9333\n",
      "Epoch 46/110\n",
      "359/359 [==============================] - 0s 43us/step - loss: 0.1914 - acc: 0.9359 - val_loss: 0.1369 - val_acc: 0.9444\n",
      "Epoch 47/110\n",
      "359/359 [==============================] - 0s 42us/step - loss: 0.2046 - acc: 0.9220 - val_loss: 0.1388 - val_acc: 0.9333\n",
      "Epoch 48/110\n",
      "359/359 [==============================] - 0s 41us/step - loss: 0.1803 - acc: 0.9331 - val_loss: 0.1350 - val_acc: 0.9444\n",
      "Epoch 49/110\n",
      "359/359 [==============================] - 0s 44us/step - loss: 0.2134 - acc: 0.9081 - val_loss: 0.1371 - val_acc: 0.9444\n",
      "Epoch 50/110\n",
      "359/359 [==============================] - 0s 850us/step - loss: 0.1928 - acc: 0.9276 - val_loss: 0.1382 - val_acc: 0.9333\n",
      "Epoch 51/110\n",
      "359/359 [==============================] - 0s 39us/step - loss: 0.2412 - acc: 0.8969 - val_loss: 0.1327 - val_acc: 0.9333\n",
      "Epoch 52/110\n",
      "359/359 [==============================] - 0s 42us/step - loss: 0.1680 - acc: 0.9304 - val_loss: 0.1331 - val_acc: 0.9444\n",
      "Epoch 53/110\n",
      "359/359 [==============================] - 0s 41us/step - loss: 0.1997 - acc: 0.9192 - val_loss: 0.1322 - val_acc: 0.9444\n",
      "Epoch 54/110\n",
      "359/359 [==============================] - 0s 41us/step - loss: 0.1722 - acc: 0.9164 - val_loss: 0.1289 - val_acc: 0.9444\n",
      "Epoch 55/110\n",
      "359/359 [==============================] - 0s 42us/step - loss: 0.2018 - acc: 0.9136 - val_loss: 0.1311 - val_acc: 0.9333\n",
      "Epoch 56/110\n",
      "359/359 [==============================] - 0s 42us/step - loss: 0.1964 - acc: 0.9276 - val_loss: 0.1306 - val_acc: 0.9333\n",
      "Epoch 57/110\n",
      "359/359 [==============================] - 0s 41us/step - loss: 0.2058 - acc: 0.9109 - val_loss: 0.1281 - val_acc: 0.9444\n",
      "Epoch 58/110\n",
      "359/359 [==============================] - 0s 41us/step - loss: 0.1736 - acc: 0.9109 - val_loss: 0.1319 - val_acc: 0.9444\n",
      "Epoch 59/110\n",
      "359/359 [==============================] - 0s 40us/step - loss: 0.2019 - acc: 0.9081 - val_loss: 0.1305 - val_acc: 0.9444\n",
      "Epoch 60/110\n",
      "359/359 [==============================] - 0s 46us/step - loss: 0.1619 - acc: 0.9331 - val_loss: 0.1239 - val_acc: 0.9444\n",
      "Epoch 61/110\n"
     ]
    },
    {
     "name": "stdout",
     "output_type": "stream",
     "text": [
      "359/359 [==============================] - 0s 45us/step - loss: 0.1726 - acc: 0.9164 - val_loss: 0.1247 - val_acc: 0.9444\n",
      "Epoch 62/110\n",
      "359/359 [==============================] - 0s 826us/step - loss: 0.2001 - acc: 0.9081 - val_loss: 0.1218 - val_acc: 0.9444\n",
      "Epoch 63/110\n",
      "359/359 [==============================] - 0s 58us/step - loss: 0.1640 - acc: 0.9387 - val_loss: 0.1216 - val_acc: 0.9444\n",
      "Epoch 64/110\n",
      "359/359 [==============================] - 0s 46us/step - loss: 0.1763 - acc: 0.9136 - val_loss: 0.1193 - val_acc: 0.9556\n",
      "Epoch 65/110\n",
      "359/359 [==============================] - 0s 44us/step - loss: 0.1927 - acc: 0.9220 - val_loss: 0.1186 - val_acc: 0.9444\n",
      "Epoch 66/110\n",
      "359/359 [==============================] - 0s 44us/step - loss: 0.1532 - acc: 0.9415 - val_loss: 0.1187 - val_acc: 0.9444\n",
      "Epoch 67/110\n",
      "359/359 [==============================] - 0s 45us/step - loss: 0.1770 - acc: 0.9164 - val_loss: 0.1187 - val_acc: 0.9444\n",
      "Epoch 68/110\n",
      "359/359 [==============================] - 0s 44us/step - loss: 0.1685 - acc: 0.9220 - val_loss: 0.1189 - val_acc: 0.9556\n",
      "Epoch 69/110\n",
      "359/359 [==============================] - 0s 45us/step - loss: 0.1710 - acc: 0.9276 - val_loss: 0.1132 - val_acc: 0.9556\n",
      "Epoch 70/110\n",
      "359/359 [==============================] - 0s 46us/step - loss: 0.1868 - acc: 0.9109 - val_loss: 0.1120 - val_acc: 0.9444\n",
      "Epoch 71/110\n",
      "359/359 [==============================] - 0s 43us/step - loss: 0.1991 - acc: 0.9192 - val_loss: 0.1110 - val_acc: 0.9444\n",
      "Epoch 72/110\n",
      "359/359 [==============================] - 0s 47us/step - loss: 0.1767 - acc: 0.9248 - val_loss: 0.1109 - val_acc: 0.9556\n",
      "Epoch 73/110\n",
      "359/359 [==============================] - 0s 44us/step - loss: 0.1642 - acc: 0.9276 - val_loss: 0.1081 - val_acc: 0.9444\n",
      "Epoch 74/110\n",
      "359/359 [==============================] - 0s 48us/step - loss: 0.1856 - acc: 0.9248 - val_loss: 0.1105 - val_acc: 0.9667\n",
      "Epoch 75/110\n",
      "359/359 [==============================] - 0s 646us/step - loss: 0.1654 - acc: 0.9248 - val_loss: 0.1060 - val_acc: 0.9556\n",
      "Epoch 76/110\n",
      "359/359 [==============================] - 0s 83us/step - loss: 0.1594 - acc: 0.9359 - val_loss: 0.1091 - val_acc: 0.9667\n",
      "Epoch 77/110\n",
      "359/359 [==============================] - 0s 53us/step - loss: 0.1496 - acc: 0.9304 - val_loss: 0.1042 - val_acc: 0.9667\n",
      "Epoch 78/110\n",
      "359/359 [==============================] - 0s 59us/step - loss: 0.1721 - acc: 0.9276 - val_loss: 0.1089 - val_acc: 0.9667\n",
      "Epoch 79/110\n",
      "359/359 [==============================] - 0s 58us/step - loss: 0.1559 - acc: 0.9359 - val_loss: 0.1046 - val_acc: 0.9667\n",
      "Epoch 80/110\n",
      "359/359 [==============================] - 0s 62us/step - loss: 0.1892 - acc: 0.9136 - val_loss: 0.1054 - val_acc: 0.9667\n",
      "Epoch 81/110\n",
      "359/359 [==============================] - 0s 66us/step - loss: 0.1577 - acc: 0.9387 - val_loss: 0.1091 - val_acc: 0.9667\n",
      "Epoch 82/110\n",
      "359/359 [==============================] - 0s 559us/step - loss: 0.1665 - acc: 0.9276 - val_loss: 0.1073 - val_acc: 0.9667\n",
      "Epoch 83/110\n",
      "359/359 [==============================] - 0s 42us/step - loss: 0.1558 - acc: 0.9276 - val_loss: 0.1029 - val_acc: 0.9667\n",
      "Epoch 84/110\n",
      "359/359 [==============================] - 0s 47us/step - loss: 0.1627 - acc: 0.9276 - val_loss: 0.1051 - val_acc: 0.9667\n",
      "Epoch 85/110\n",
      "359/359 [==============================] - 0s 48us/step - loss: 0.1826 - acc: 0.9248 - val_loss: 0.1020 - val_acc: 0.9667\n",
      "Epoch 86/110\n",
      "359/359 [==============================] - 0s 44us/step - loss: 0.1666 - acc: 0.9359 - val_loss: 0.1018 - val_acc: 0.9667\n",
      "Epoch 87/110\n",
      "359/359 [==============================] - 0s 49us/step - loss: 0.1601 - acc: 0.9192 - val_loss: 0.0994 - val_acc: 0.9556\n",
      "Epoch 88/110\n",
      "359/359 [==============================] - 0s 44us/step - loss: 0.1462 - acc: 0.9387 - val_loss: 0.0969 - val_acc: 0.9556\n",
      "Epoch 89/110\n",
      "359/359 [==============================] - 0s 44us/step - loss: 0.1883 - acc: 0.9220 - val_loss: 0.1005 - val_acc: 0.9556\n",
      "Epoch 90/110\n",
      "359/359 [==============================] - 0s 43us/step - loss: 0.1528 - acc: 0.9304 - val_loss: 0.1031 - val_acc: 0.9667\n",
      "Epoch 91/110\n",
      "359/359 [==============================] - 0s 41us/step - loss: 0.1713 - acc: 0.9220 - val_loss: 0.1049 - val_acc: 0.9556\n",
      "Epoch 92/110\n",
      "359/359 [==============================] - 0s 42us/step - loss: 0.1333 - acc: 0.9499 - val_loss: 0.0988 - val_acc: 0.9667\n",
      "Epoch 93/110\n",
      "359/359 [==============================] - 0s 43us/step - loss: 0.1798 - acc: 0.9304 - val_loss: 0.1000 - val_acc: 0.9667\n",
      "Epoch 94/110\n",
      "359/359 [==============================] - 0s 877us/step - loss: 0.1413 - acc: 0.9331 - val_loss: 0.0978 - val_acc: 0.9667\n",
      "Epoch 95/110\n",
      "359/359 [==============================] - 0s 42us/step - loss: 0.1460 - acc: 0.9471 - val_loss: 0.0991 - val_acc: 0.9667\n",
      "Epoch 96/110\n",
      "359/359 [==============================] - 0s 41us/step - loss: 0.1710 - acc: 0.9248 - val_loss: 0.0937 - val_acc: 0.9556\n",
      "Epoch 97/110\n",
      "359/359 [==============================] - 0s 42us/step - loss: 0.1650 - acc: 0.9331 - val_loss: 0.0945 - val_acc: 0.9556\n",
      "Epoch 98/110\n",
      "359/359 [==============================] - 0s 41us/step - loss: 0.1337 - acc: 0.9471 - val_loss: 0.1041 - val_acc: 0.9667\n",
      "Epoch 99/110\n",
      "359/359 [==============================] - 0s 42us/step - loss: 0.1685 - acc: 0.9248 - val_loss: 0.1007 - val_acc: 0.9667\n",
      "Epoch 100/110\n",
      "359/359 [==============================] - 0s 43us/step - loss: 0.1481 - acc: 0.9471 - val_loss: 0.1102 - val_acc: 0.9556\n",
      "Epoch 101/110\n",
      "359/359 [==============================] - 0s 41us/step - loss: 0.1443 - acc: 0.9415 - val_loss: 0.1039 - val_acc: 0.9667\n",
      "Epoch 102/110\n",
      "359/359 [==============================] - 0s 51us/step - loss: 0.1463 - acc: 0.9359 - val_loss: 0.0963 - val_acc: 0.9556\n",
      "Epoch 103/110\n",
      "359/359 [==============================] - 0s 40us/step - loss: 0.1287 - acc: 0.9526 - val_loss: 0.0958 - val_acc: 0.9556\n",
      "Epoch 104/110\n",
      "359/359 [==============================] - 0s 787us/step - loss: 0.1292 - acc: 0.9443 - val_loss: 0.0946 - val_acc: 0.9556\n",
      "Epoch 105/110\n",
      "359/359 [==============================] - 0s 43us/step - loss: 0.1313 - acc: 0.9415 - val_loss: 0.1013 - val_acc: 0.9667\n",
      "Epoch 106/110\n",
      "359/359 [==============================] - 0s 41us/step - loss: 0.1461 - acc: 0.9331 - val_loss: 0.0952 - val_acc: 0.9667\n",
      "Epoch 107/110\n",
      "359/359 [==============================] - 0s 39us/step - loss: 0.1533 - acc: 0.9304 - val_loss: 0.0992 - val_acc: 0.9667\n",
      "Epoch 108/110\n",
      "359/359 [==============================] - 0s 41us/step - loss: 0.1520 - acc: 0.9331 - val_loss: 0.1068 - val_acc: 0.9556\n",
      "Epoch 109/110\n",
      "359/359 [==============================] - 0s 41us/step - loss: 0.1408 - acc: 0.9415 - val_loss: 0.0984 - val_acc: 0.9667\n",
      "Epoch 110/110\n",
      "359/359 [==============================] - 0s 41us/step - loss: 0.1399 - acc: 0.9359 - val_loss: 0.1006 - val_acc: 0.9667\n",
      "3\n",
      "['Donovan Mitchell' 'Kyle Kuzma' 'Ben Simmon']\n"
     ]
    }
   ],
   "source": [
    "idx = list(range(x_train.shape[0]))\n",
    "np.random.shuffle(idx)\n",
    "hist = model.fit(x_train[idx],y_train[idx],validation_split=0.2,epochs=110,shuffle=True, callbacks = [tbCallBack])\n",
    "dnn_predict = model.predict_classes(x_test)\n",
    "print(sum(dnn_predict))\n",
    "print(y_test[dnn_predict == 1])"
   ]
  },
  {
   "cell_type": "code",
   "execution_count": 7,
   "metadata": {
    "ExecuteTime": {
     "end_time": "2018-01-07T23:01:14.642813Z",
     "start_time": "2018-01-07T23:01:14.224476Z"
    }
   },
   "outputs": [
    {
     "data": {
      "image/png": "[encoded data removed]",
      "text/plain": [
       "<matplotlib.figure.Figure at 0x7fcd67d7b908>"
      ]
     },
     "metadata": {},
     "output_type": "display_data"
    }
   ],
   "source": [
    "plt.figure(1)\n",
    "plt.plot(hist.history['acc'])\n",
    "plt.plot(hist.history['val_acc'])\n",
    "plt.title('model accuracy')\n",
    "plt.ylabel('accuracy')\n",
    "plt.xlabel('epoch')\n",
    "plt.legend(['train', 'test'], loc = 'lower right')\n",
    "plt.show()"
   ]
  },
  {
   "cell_type": "code",
   "execution_count": 8,
   "metadata": {
    "ExecuteTime": {
     "end_time": "2018-01-07T23:01:15.053749Z",
     "start_time": "2018-01-07T23:01:14.644285Z"
    }
   },
   "outputs": [
    {
     "data": {
      "image/png": "[encoded data removed]",
      "text/plain": [
       "<matplotlib.figure.Figure at 0x7fcd64449748>"
      ]
     },
     "metadata": {},
     "output_type": "display_data"
    }
   ],
   "source": [
    "plt.figure(2)\n",
    "plt.plot(hist.history['loss'])\n",
    "plt.plot(hist.history['val_loss'])\n",
    "plt.title('model loss')\n",
    "plt.ylabel('loss')\n",
    "plt.xlabel('epoch')\n",
    "plt.legend(['train', 'test'], loc = 'upper right')\n",
    "plt.show()"
   ]
  }
 ],
 "metadata": {
  "kernelspec": {
   "display_name": "Python 3",
   "language": "python",
   "name": "python3"
  },
  "language_info": {
   "codemirror_mode": {
    "name": "ipython",
    "version": 3
   },
   "file_extension": ".py",
   "mimetype": "text/x-python",
   "name": "python",
   "nbconvert_exporter": "python",
   "pygments_lexer": "ipython3",
   "version": "3.6.3"
  },
  "latex_envs": {
   "LaTeX_envs_menu_present": true,
   "autoclose": false,
   "autocomplete": true,
   "bibliofile": "biblio.bib",
   "cite_by": "apalike",
   "current_citInitial": 1,
   "eqLabelWithNumbers": true,
   "eqNumInitial": 1,
   "hotkeys": {
    "equation": "Ctrl-E",
    "itemize": "Ctrl-I"
   },
   "labels_anchors": false,
   "latex_user_defs": false,
   "report_style_numbering": false,
   "user_envs_cfg": false
  },
  "toc": {
   "nav_menu": {},
   "number_sections": true,
   "sideBar": true,
   "skip_h1_title": false,
   "toc_cell": false,
   "toc_position": {},
   "toc_section_display": "block",
   "toc_window_display": false
  },
  "varInspector": {
   "cols": {
    "lenName": 16,
    "lenType": 16,
    "lenVar": 40
   },
   "kernels_config": {
    "python": {
     "delete_cmd_postfix": "",
     "delete_cmd_prefix": "del ",
     "library": "var_list.py",
     "varRefreshCmd": "print(var_dic_list())"
    },
    "r": {
     "delete_cmd_postfix": ") ",
     "delete_cmd_prefix": "rm(",
     "library": "var_list.r",
     "varRefreshCmd": "cat(var_dic_list()) "
    }
   },
   "types_to_exclude": [
    "module",
    "function",
    "builtin_function_or_method",
    "instance",
    "_Feature"
   ],
   "window_display": false
  }
 },
 "nbformat": 4,
 "nbformat_minor": 2
}
