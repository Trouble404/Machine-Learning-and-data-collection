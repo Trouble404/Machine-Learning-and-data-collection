{
 "cells": [
  {
   "cell_type": "code",
   "execution_count": 1,
   "metadata": {
    "ExecuteTime": {
     "end_time": "2018-01-07T23:07:04.635590Z",
     "start_time": "2018-01-07T23:07:02.581195Z"
    }
   },
   "outputs": [
    {
     "name": "stderr",
     "output_type": "stream",
     "text": [
      "Using TensorFlow backend.\n",
      "/usr/lib/python3.6/importlib/_bootstrap.py:219: RuntimeWarning: compiletime version 3.5 of module 'tensorflow.python.framework.fast_tensor_util' does not match runtime version 3.6\n",
      "  return f(*args, **kwds)\n"
     ]
    }
   ],
   "source": [
    "import numpy as np\n",
    "import pandas\n",
    "from keras.layers import *\n",
    "from keras.models import Sequential, Model\n",
    "import keras\n",
    "import matplotlib.pyplot as plt"
   ]
  },
  {
   "cell_type": "code",
   "execution_count": 2,
   "metadata": {
    "ExecuteTime": {
     "end_time": "2018-01-07T23:07:04.670693Z",
     "start_time": "2018-01-07T23:07:04.637203Z"
    }
   },
   "outputs": [],
   "source": [
    "def zeroMean(dataMat):        \n",
    "    meanVal=np.mean(dataMat,axis=0)     #get mean by columns\n",
    "    newData=dataMat-meanVal  \n",
    "    return newData,meanVal\n",
    "\n",
    "\n",
    "def percentage2n(eigVals,percentage):  \n",
    "    sortArray=np.sort(eigVals)          #ascend order \n",
    "    sortArray=sortArray[-1::-1]           \n",
    "    arraySum=sum(sortArray)  \n",
    "    tmpSum=0  \n",
    "    num=0  \n",
    "    for i in sortArray:  \n",
    "        tmpSum+=i  \n",
    "        num+=1  \n",
    "        if tmpSum>=arraySum*percentage:  \n",
    "            return num  \n",
    "\n",
    "\n",
    "def pca(dataMat,percentage=0.99):  \n",
    "    newData,meanVal=zeroMean(dataMat)  \n",
    "    covMat=np.cov(newData,rowvar=0)      #covariance  \n",
    "    eigVals,eigVects=np.linalg.eig(np.mat(covMat))      \n",
    "    n=percentage2n(eigVals,percentage)                 #need n dimensionol data to get the convariance percentage\n",
    "    n = 6   # pca of 2017 rookies data is 6 dimentional \n",
    "    eigValIndice=np.argsort(eigVals)            #ascend order \n",
    "    n_eigValIndice=eigValIndice[-1:-(n+1):-1]   \n",
    "    n_eigVect=eigVects[:,n_eigValIndice]        \n",
    "    lowDDataMat=newData*n_eigVect               #lower dimensional data  \n",
    "    reconMat=(lowDDataMat*n_eigVect.T)+meanVal  #reconstruct data  \n",
    "    return lowDDataMat,reconMat"
   ]
  },
  {
   "cell_type": "code",
   "execution_count": 3,
   "metadata": {
    "ExecuteTime": {
     "end_time": "2018-01-07T23:07:04.690819Z",
     "start_time": "2018-01-07T23:07:04.672232Z"
    }
   },
   "outputs": [],
   "source": [
    "df = pandas.read_csv(\"04-16_NBA_rookies_data.csv\", header=None)\n",
    "df1 = pandas.read_csv(\"04-16_NBA_rookies_label.csv\",header=None)\n",
    "df_test = pandas.read_csv(\"2017rookies_data.csv\",header=None)\n",
    "df1_test = pandas.read_csv(\"2017rookies_name.csv\",header=None)\n",
    "ds = df.values\n",
    "ds1 = df1.values\n",
    "lowDDataMat,reconMat=pca(ds)  #pca\n",
    "ds_test = df_test.values\n",
    "lowDDataMat1,reconMat1=pca(ds_test)  #pca\n",
    "ds1_test = df1_test.values"
   ]
  },
  {
   "cell_type": "code",
   "execution_count": 4,
   "metadata": {
    "ExecuteTime": {
     "end_time": "2018-01-07T23:07:05.024626Z",
     "start_time": "2018-01-07T23:07:04.692392Z"
    }
   },
   "outputs": [],
   "source": [
    "x_train = lowDDataMat[:,0:6]\n",
    "y_train = ds1[:,1]\n",
    "x_test = lowDDataMat1[:,0:6]\n",
    "y_test = ds1_test[:,0]\n",
    "\n",
    "dim = x_train.shape[1]\n",
    "model = Sequential()\n",
    "model.add(Dense(100, input_dim=dim, activation='sigmoid'))\n",
    "model.add(Dropout(0.5))\n",
    "model.add(Dense(2, activation='softmax'))\n",
    "\n",
    "model.compile(loss='sparse_categorical_crossentropy', optimizer='rmsprop',metrics=[\"accuracy\"])"
   ]
  },
  {
   "cell_type": "code",
   "execution_count": 5,
   "metadata": {
    "ExecuteTime": {
     "end_time": "2018-01-07T23:07:05.579566Z",
     "start_time": "2018-01-07T23:07:05.026371Z"
    }
   },
   "outputs": [],
   "source": [
    "# Change log_dir for differnt activation function, change the number for every run.\n",
    "tbCallBack = keras.callbacks.TensorBoard(log_dir='tensorboard/sigmoid/2', histogram_freq=0, write_graph=True, write_images=True)"
   ]
  },
  {
   "cell_type": "code",
   "execution_count": 6,
   "metadata": {
    "ExecuteTime": {
     "end_time": "2018-01-07T23:07:07.443050Z",
     "start_time": "2018-01-07T23:07:05.581153Z"
    }
   },
   "outputs": [
    {
     "name": "stdout",
     "output_type": "stream",
     "text": [
      "Train on 359 samples, validate on 90 samples\n",
      "Epoch 1/35\n",
      "359/359 [==============================] - 0s 138us/step - loss: 1.7610 - acc: 0.3203 - val_loss: 1.0566 - val_acc: 0.4889\n",
      "Epoch 2/35\n",
      "359/359 [==============================] - 0s 64us/step - loss: 1.0136 - acc: 0.4875 - val_loss: 0.6162 - val_acc: 0.6000\n",
      "Epoch 3/35\n",
      "359/359 [==============================] - 0s 48us/step - loss: 0.6243 - acc: 0.6964 - val_loss: 0.4029 - val_acc: 0.8889\n",
      "Epoch 4/35\n",
      "359/359 [==============================] - 0s 47us/step - loss: 0.4385 - acc: 0.8050 - val_loss: 0.2976 - val_acc: 0.8889\n",
      "Epoch 5/35\n",
      "359/359 [==============================] - 0s 40us/step - loss: 0.3829 - acc: 0.8412 - val_loss: 0.2520 - val_acc: 0.8889\n",
      "Epoch 6/35\n",
      "359/359 [==============================] - 0s 45us/step - loss: 0.2892 - acc: 0.8914 - val_loss: 0.2246 - val_acc: 0.8778\n",
      "Epoch 7/35\n",
      "359/359 [==============================] - 0s 44us/step - loss: 0.2295 - acc: 0.8969 - val_loss: 0.2151 - val_acc: 0.8778\n",
      "Epoch 8/35\n",
      "359/359 [==============================] - 0s 46us/step - loss: 0.2640 - acc: 0.9025 - val_loss: 0.2059 - val_acc: 0.8889\n",
      "Epoch 9/35\n",
      "359/359 [==============================] - 0s 46us/step - loss: 0.2124 - acc: 0.9109 - val_loss: 0.2027 - val_acc: 0.8889\n",
      "Epoch 10/35\n",
      "359/359 [==============================] - 0s 44us/step - loss: 0.2100 - acc: 0.8969 - val_loss: 0.2002 - val_acc: 0.9000\n",
      "Epoch 11/35\n",
      "359/359 [==============================] - 0s 42us/step - loss: 0.1989 - acc: 0.9164 - val_loss: 0.1956 - val_acc: 0.9000\n",
      "Epoch 12/35\n",
      "359/359 [==============================] - 0s 71us/step - loss: 0.2019 - acc: 0.9136 - val_loss: 0.1903 - val_acc: 0.9222\n",
      "Epoch 13/35\n",
      "359/359 [==============================] - 0s 58us/step - loss: 0.1942 - acc: 0.9220 - val_loss: 0.1898 - val_acc: 0.9222\n",
      "Epoch 14/35\n",
      "359/359 [==============================] - 0s 45us/step - loss: 0.1611 - acc: 0.9136 - val_loss: 0.1880 - val_acc: 0.9111\n",
      "Epoch 15/35\n",
      "359/359 [==============================] - 0s 42us/step - loss: 0.1782 - acc: 0.9192 - val_loss: 0.1910 - val_acc: 0.9000\n",
      "Epoch 16/35\n",
      "359/359 [==============================] - 0s 42us/step - loss: 0.1941 - acc: 0.9025 - val_loss: 0.1850 - val_acc: 0.9111\n",
      "Epoch 17/35\n",
      "359/359 [==============================] - 0s 57us/step - loss: 0.1622 - acc: 0.9192 - val_loss: 0.1895 - val_acc: 0.9000\n",
      "Epoch 18/35\n",
      "359/359 [==============================] - 0s 46us/step - loss: 0.1884 - acc: 0.9025 - val_loss: 0.1863 - val_acc: 0.9111\n",
      "Epoch 19/35\n",
      "359/359 [==============================] - 0s 42us/step - loss: 0.1553 - acc: 0.9248 - val_loss: 0.1869 - val_acc: 0.9111\n",
      "Epoch 20/35\n",
      "359/359 [==============================] - 0s 44us/step - loss: 0.1610 - acc: 0.9192 - val_loss: 0.1812 - val_acc: 0.9111\n",
      "Epoch 21/35\n",
      "359/359 [==============================] - 0s 43us/step - loss: 0.1622 - acc: 0.9276 - val_loss: 0.1804 - val_acc: 0.9222\n",
      "Epoch 22/35\n",
      "359/359 [==============================] - 0s 42us/step - loss: 0.1733 - acc: 0.9192 - val_loss: 0.1786 - val_acc: 0.9333\n",
      "Epoch 23/35\n",
      "359/359 [==============================] - 0s 42us/step - loss: 0.1760 - acc: 0.9304 - val_loss: 0.1782 - val_acc: 0.9111\n",
      "Epoch 24/35\n",
      "359/359 [==============================] - 0s 585us/step - loss: 0.1705 - acc: 0.9164 - val_loss: 0.1793 - val_acc: 0.9111\n",
      "Epoch 25/35\n",
      "359/359 [==============================] - 0s 72us/step - loss: 0.1511 - acc: 0.9331 - val_loss: 0.1786 - val_acc: 0.9111\n",
      "Epoch 26/35\n",
      "359/359 [==============================] - 0s 45us/step - loss: 0.1731 - acc: 0.9276 - val_loss: 0.1770 - val_acc: 0.9111\n",
      "Epoch 27/35\n",
      "359/359 [==============================] - 0s 54us/step - loss: 0.1739 - acc: 0.9276 - val_loss: 0.1762 - val_acc: 0.9111\n",
      "Epoch 28/35\n",
      "359/359 [==============================] - 0s 46us/step - loss: 0.1411 - acc: 0.9359 - val_loss: 0.1760 - val_acc: 0.9222\n",
      "Epoch 29/35\n",
      "359/359 [==============================] - 0s 46us/step - loss: 0.1607 - acc: 0.9248 - val_loss: 0.1751 - val_acc: 0.9111\n",
      "Epoch 30/35\n",
      "359/359 [==============================] - 0s 43us/step - loss: 0.1677 - acc: 0.9164 - val_loss: 0.1739 - val_acc: 0.9111\n",
      "Epoch 31/35\n",
      "359/359 [==============================] - 0s 42us/step - loss: 0.1384 - acc: 0.9443 - val_loss: 0.1759 - val_acc: 0.9000\n",
      "Epoch 32/35\n",
      "359/359 [==============================] - 0s 48us/step - loss: 0.1474 - acc: 0.9304 - val_loss: 0.1758 - val_acc: 0.9111\n",
      "Epoch 33/35\n",
      "359/359 [==============================] - 0s 50us/step - loss: 0.1576 - acc: 0.9304 - val_loss: 0.1760 - val_acc: 0.9111\n",
      "Epoch 34/35\n",
      "359/359 [==============================] - 0s 48us/step - loss: 0.1538 - acc: 0.9220 - val_loss: 0.1758 - val_acc: 0.9111\n",
      "Epoch 35/35\n",
      "359/359 [==============================] - 0s 48us/step - loss: 0.1591 - acc: 0.9304 - val_loss: 0.1770 - val_acc: 0.9222\n",
      "4\n",
      "['Donovan Mitchell' 'Kyle Kuzma' 'John Collins' 'Ben Simmon']\n"
     ]
    }
   ],
   "source": [
    "idx = list(range(x_train.shape[0]))\n",
    "np.random.shuffle(idx)\n",
    "hist = model.fit(x_train[idx],y_train[idx],validation_split=0.2,epochs=35,shuffle=True, callbacks = [tbCallBack])\n",
    "dnn_predict = model.predict_classes(x_test)\n",
    "print(sum(dnn_predict))\n",
    "print(y_test[dnn_predict == 1])"
   ]
  },
  {
   "cell_type": "code",
   "execution_count": 7,
   "metadata": {
    "ExecuteTime": {
     "end_time": "2018-01-07T23:07:07.581741Z",
     "start_time": "2018-01-07T23:07:07.444624Z"
    }
   },
   "outputs": [
    {
     "data": {
      "image/png": "[encoded data removed]",
      "text/plain": [
       "<matplotlib.figure.Figure at 0x7f48c406c080>"
      ]
     },
     "metadata": {},
     "output_type": "display_data"
    }
   ],
   "source": [
    "plt.figure(1)\n",
    "plt.plot(hist.history['acc'])\n",
    "plt.plot(hist.history['val_acc'])\n",
    "plt.title('model accuracy')\n",
    "plt.ylabel('accuracy')\n",
    "plt.xlabel('epoch')\n",
    "plt.legend(['train', 'test'], loc = 'lower right')\n",
    "plt.show()"
   ]
  },
  {
   "cell_type": "code",
   "execution_count": 8,
   "metadata": {
    "ExecuteTime": {
     "end_time": "2018-01-07T23:07:08.060729Z",
     "start_time": "2018-01-07T23:07:07.583205Z"
    }
   },
   "outputs": [
    {
     "data": {
      "image/png": "[encoded data removed]",
      "text/plain": [
       "<matplotlib.figure.Figure at 0x7f48c0594fd0>"
      ]
     },
     "metadata": {},
     "output_type": "display_data"
    }
   ],
   "source": [
    "plt.figure(2)\n",
    "plt.plot(hist.history['loss'])\n",
    "plt.plot(hist.history['val_loss'])\n",
    "plt.title('model loss')\n",
    "plt.ylabel('loss')\n",
    "plt.xlabel('epoch')\n",
    "plt.legend(['train', 'test'], loc = 'upper right')\n",
    "plt.show()"
   ]
  }
 ],
 "metadata": {
  "kernelspec": {
   "display_name": "Python 3",
   "language": "python",
   "name": "python3"
  },
  "language_info": {
   "codemirror_mode": {
    "name": "ipython",
    "version": 3
   },
   "file_extension": ".py",
   "mimetype": "text/x-python",
   "name": "python",
   "nbconvert_exporter": "python",
   "pygments_lexer": "ipython3",
   "version": "3.6.3"
  },
  "latex_envs": {
   "LaTeX_envs_menu_present": true,
   "autoclose": false,
   "autocomplete": true,
   "bibliofile": "biblio.bib",
   "cite_by": "apalike",
   "current_citInitial": 1,
   "eqLabelWithNumbers": true,
   "eqNumInitial": 1,
   "hotkeys": {
    "equation": "Ctrl-E",
    "itemize": "Ctrl-I"
   },
   "labels_anchors": false,
   "latex_user_defs": false,
   "report_style_numbering": false,
   "user_envs_cfg": false
  },
  "toc": {
   "nav_menu": {},
   "number_sections": true,
   "sideBar": true,
   "skip_h1_title": false,
   "toc_cell": false,
   "toc_position": {},
   "toc_section_display": "block",
   "toc_window_display": false
  },
  "varInspector": {
   "cols": {
    "lenName": 16,
    "lenType": 16,
    "lenVar": 40
   },
   "kernels_config": {
    "python": {
     "delete_cmd_postfix": "",
     "delete_cmd_prefix": "del ",
     "library": "var_list.py",
     "varRefreshCmd": "print(var_dic_list())"
    },
    "r": {
     "delete_cmd_postfix": ") ",
     "delete_cmd_prefix": "rm(",
     "library": "var_list.r",
     "varRefreshCmd": "cat(var_dic_list()) "
    }
   },
   "types_to_exclude": [
    "module",
    "function",
    "builtin_function_or_method",
    "instance",
    "_Feature"
   ],
   "window_display": false
  }
 },
 "nbformat": 4,
 "nbformat_minor": 2
}
