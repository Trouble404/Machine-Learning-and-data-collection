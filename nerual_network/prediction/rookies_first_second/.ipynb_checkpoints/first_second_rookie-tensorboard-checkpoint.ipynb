{
 "cells": [
  {
   "cell_type": "code",
   "execution_count": 1,
   "metadata": {
    "ExecuteTime": {
     "end_time": "2018-01-07T15:25:17.887000Z",
     "start_time": "2018-01-07T15:25:15.143927Z"
    },
    "collapsed": false
   },
   "outputs": [
    {
     "name": "stderr",
     "output_type": "stream",
     "text": [
      "Using TensorFlow backend.\n"
     ]
    }
   ],
   "source": [
    "import numpy as np\n",
    "import pandas\n",
    "from keras.layers import *\n",
    "from keras.models import Sequential, Model\n",
    "import pca2\n",
    "import matplotlib.pyplot as plt\n",
    "from keras.utils import np_utils\n",
    "from keras.optimizers import RMSprop\n"
   ]
  },
  {
   "cell_type": "code",
   "execution_count": 2,
   "metadata": {
    "ExecuteTime": {
     "end_time": "2018-01-05T17:26:11.799454Z",
     "start_time": "2018-01-05T17:26:11.472764Z"
    },
    "collapsed": false
   },
   "outputs": [
    {
     "data": {
      "text/plain": [
       "array([0., 0., 1.])"
      ]
     },
     "execution_count": 2,
     "metadata": {},
     "output_type": "execute_result"
    }
   ],
   "source": [
    "\n",
    "df = pandas.read_csv(\"04-16_NBA_rookies_data.csv\", header=None)\n",
    "df1 = pandas.read_csv(\"04-16_NBA_rookies_label.csv\",header=None)\n",
    "df_test = pandas.read_csv(\"2017rookies_data.csv\",header=None)\n",
    "df1_test = pandas.read_csv(\"2017rookies_name.csv\",header=None)\n",
    "ds = df.values\n",
    "ds1 = df1.values\n",
    "lowDDataMat,reconMat=pca2.pca(ds)  #pca\n",
    "ds_test = df_test.values\n",
    "lowDDataMat1,reconMat1=pca2.pca(ds_test)  #pca\n",
    "ds1_test = df1_test.values\n",
    "x_train = ds[:,0:23]\n",
    "#x_train = x_train.reshape(x_train.shape[0], -1) / 100.   # normalize\n",
    "y_train = ds1[:,1]\n",
    "y_train = np_utils.to_categorical(y_train, num_classes=3)\n",
    "x_test = ds_test[:,0:23]\n",
    "#x_test = x_test.reshape(x_test.shape[0], -1) / 100.   # normalize\n",
    "y_test = ds1_test[:,0]\n",
    "\n",
    "y_train[7]\n",
    "\n",
    "\n"
   ]
  },
  {
   "cell_type": "code",
   "execution_count": 3,
   "metadata": {
    "collapsed": true
   },
   "outputs": [],
   "source": [
    "dim = x_train.shape[1]\n",
    "model = Sequential()\n",
    "model.add(Dense(64, input_dim=dim, activation='relu'))\n",
    "model.add(Dropout(0.5))\n",
    "model.add(Dense(3, activation='softmax'))\n",
    "# Another way to define your optimizer\n",
    "rmsprop = RMSprop(lr=0.001, rho=0.9, epsilon=1e-08, decay=0.0)\n",
    "# We add metrics to get more results you want to see\n",
    "model.compile(optimizer='rmsprop',\n",
    "              loss='categorical_crossentropy',\n",
    "              metrics=['accuracy'])"
   ]
  },
  {
   "cell_type": "code",
   "execution_count": 4,
   "metadata": {
    "ExecuteTime": {
     "end_time": "2018-01-05T17:26:16.731605Z",
     "start_time": "2018-01-05T17:26:13.213388Z"
    },
    "collapsed": false
   },
   "outputs": [
    {
     "name": "stdout",
     "output_type": "stream",
     "text": [
      "Train on 359 samples, validate on 90 samples\n",
      "Epoch 1/50\n",
      "359/359 [==============================] - 0s 877us/step - loss: 9.3617 - acc: 0.1699 - val_loss: 3.8277 - val_acc: 0.1222\n",
      "Epoch 2/50\n",
      "359/359 [==============================] - 0s 71us/step - loss: 4.5477 - acc: 0.4540 - val_loss: 2.6263 - val_acc: 0.7889\n",
      "Epoch 3/50\n",
      "359/359 [==============================] - 0s 57us/step - loss: 3.5146 - acc: 0.6240 - val_loss: 3.0444 - val_acc: 0.8000\n",
      "Epoch 4/50\n",
      "359/359 [==============================] - 0s 61us/step - loss: 3.0457 - acc: 0.6797 - val_loss: 3.0255 - val_acc: 0.8000\n",
      "Epoch 5/50\n",
      "359/359 [==============================] - 0s 64us/step - loss: 2.8505 - acc: 0.7465 - val_loss: 2.8866 - val_acc: 0.8000\n",
      "Epoch 6/50\n",
      "359/359 [==============================] - 0s 61us/step - loss: 3.0112 - acc: 0.7019 - val_loss: 2.7211 - val_acc: 0.8000\n",
      "Epoch 7/50\n",
      "359/359 [==============================] - 0s 65us/step - loss: 2.5850 - acc: 0.7549 - val_loss: 2.4400 - val_acc: 0.8111\n",
      "Epoch 8/50\n",
      "359/359 [==============================] - 0s 61us/step - loss: 2.6032 - acc: 0.7521 - val_loss: 2.3606 - val_acc: 0.8222\n",
      "Epoch 9/50\n",
      "359/359 [==============================] - 0s 56us/step - loss: 2.6020 - acc: 0.7688 - val_loss: 2.3709 - val_acc: 0.8222\n",
      "Epoch 10/50\n",
      "359/359 [==============================] - 0s 64us/step - loss: 2.6756 - acc: 0.7577 - val_loss: 2.3006 - val_acc: 0.8333\n",
      "Epoch 11/50\n",
      "359/359 [==============================] - 0s 60us/step - loss: 2.6496 - acc: 0.7493 - val_loss: 2.2834 - val_acc: 0.8333\n",
      "Epoch 12/50\n",
      "359/359 [==============================] - 0s 56us/step - loss: 2.4673 - acc: 0.7799 - val_loss: 2.3191 - val_acc: 0.8222\n",
      "Epoch 13/50\n",
      "359/359 [==============================] - 0s 64us/step - loss: 2.1058 - acc: 0.7688 - val_loss: 2.1816 - val_acc: 0.8333\n",
      "Epoch 14/50\n",
      "359/359 [==============================] - 0s 61us/step - loss: 2.1582 - acc: 0.7883 - val_loss: 2.2478 - val_acc: 0.8222\n",
      "Epoch 15/50\n",
      "359/359 [==============================] - 0s 63us/step - loss: 2.2506 - acc: 0.7604 - val_loss: 2.2149 - val_acc: 0.8222\n",
      "Epoch 16/50\n",
      "359/359 [==============================] - 0s 57us/step - loss: 2.1576 - acc: 0.7688 - val_loss: 1.8749 - val_acc: 0.8222\n",
      "Epoch 17/50\n",
      "359/359 [==============================] - 0s 56us/step - loss: 2.0044 - acc: 0.7521 - val_loss: 1.5866 - val_acc: 0.8222\n",
      "Epoch 18/50\n",
      "359/359 [==============================] - 0s 61us/step - loss: 1.8082 - acc: 0.7632 - val_loss: 1.6791 - val_acc: 0.8222\n",
      "Epoch 19/50\n",
      "359/359 [==============================] - 0s 56us/step - loss: 2.0937 - acc: 0.7549 - val_loss: 1.5918 - val_acc: 0.8222\n",
      "Epoch 20/50\n",
      "359/359 [==============================] - 0s 61us/step - loss: 1.7366 - acc: 0.7688 - val_loss: 1.6505 - val_acc: 0.8222\n",
      "Epoch 21/50\n",
      "359/359 [==============================] - 0s 61us/step - loss: 1.7641 - acc: 0.7577 - val_loss: 1.4548 - val_acc: 0.8111\n",
      "Epoch 22/50\n",
      "359/359 [==============================] - 0s 89us/step - loss: 1.6713 - acc: 0.7409 - val_loss: 1.2765 - val_acc: 0.8111\n",
      "Epoch 23/50\n",
      "359/359 [==============================] - 0s 56us/step - loss: 1.6758 - acc: 0.7409 - val_loss: 1.0825 - val_acc: 0.8111\n",
      "Epoch 24/50\n",
      "359/359 [==============================] - 0s 69us/step - loss: 1.3795 - acc: 0.7521 - val_loss: 1.1586 - val_acc: 0.8222\n",
      "Epoch 25/50\n",
      "359/359 [==============================] - 0s 50us/step - loss: 1.2499 - acc: 0.7716 - val_loss: 0.9058 - val_acc: 0.8222\n",
      "Epoch 26/50\n",
      "359/359 [==============================] - 0s 67us/step - loss: 1.0975 - acc: 0.7716 - val_loss: 0.7026 - val_acc: 0.8222\n",
      "Epoch 27/50\n",
      "359/359 [==============================] - 0s 61us/step - loss: 0.9865 - acc: 0.7688 - val_loss: 0.7452 - val_acc: 0.8111\n",
      "Epoch 28/50\n",
      "359/359 [==============================] - 0s 63us/step - loss: 0.9072 - acc: 0.7994 - val_loss: 0.6669 - val_acc: 0.8333\n",
      "Epoch 29/50\n",
      "359/359 [==============================] - 0s 64us/step - loss: 0.8064 - acc: 0.7799 - val_loss: 0.5774 - val_acc: 0.8333\n",
      "Epoch 30/50\n",
      "359/359 [==============================] - 0s 61us/step - loss: 0.6335 - acc: 0.8162 - val_loss: 0.5944 - val_acc: 0.8333\n",
      "Epoch 31/50\n",
      "359/359 [==============================] - 0s 59us/step - loss: 0.7089 - acc: 0.8050 - val_loss: 0.5776 - val_acc: 0.8333\n",
      "Epoch 32/50\n",
      "359/359 [==============================] - 0s 63us/step - loss: 0.6373 - acc: 0.8301 - val_loss: 0.5318 - val_acc: 0.8333\n",
      "Epoch 33/50\n",
      "359/359 [==============================] - 0s 74us/step - loss: 0.4674 - acc: 0.8607 - val_loss: 0.5559 - val_acc: 0.8333\n",
      "Epoch 34/50\n",
      "359/359 [==============================] - 0s 61us/step - loss: 0.6604 - acc: 0.8106 - val_loss: 0.5236 - val_acc: 0.8333\n",
      "Epoch 35/50\n",
      "359/359 [==============================] - 0s 50us/step - loss: 0.6433 - acc: 0.8050 - val_loss: 0.4878 - val_acc: 0.8556\n",
      "Epoch 36/50\n",
      "359/359 [==============================] - 0s 57us/step - loss: 0.5588 - acc: 0.8273 - val_loss: 0.4838 - val_acc: 0.8556\n",
      "Epoch 37/50\n",
      "359/359 [==============================] - 0s 51us/step - loss: 0.4885 - acc: 0.8301 - val_loss: 0.4693 - val_acc: 0.8333\n",
      "Epoch 38/50\n",
      "359/359 [==============================] - 0s 45us/step - loss: 0.4933 - acc: 0.8329 - val_loss: 0.5177 - val_acc: 0.8556\n",
      "Epoch 39/50\n",
      "359/359 [==============================] - 0s 50us/step - loss: 0.4815 - acc: 0.8524 - val_loss: 0.4639 - val_acc: 0.8333\n",
      "Epoch 40/50\n",
      "359/359 [==============================] - 0s 42us/step - loss: 0.5192 - acc: 0.8384 - val_loss: 0.4396 - val_acc: 0.8667\n",
      "Epoch 41/50\n",
      "359/359 [==============================] - 0s 53us/step - loss: 0.4737 - acc: 0.8245 - val_loss: 0.4485 - val_acc: 0.8333\n",
      "Epoch 42/50\n",
      "359/359 [==============================] - 0s 50us/step - loss: 0.4810 - acc: 0.8134 - val_loss: 0.4602 - val_acc: 0.8333\n",
      "Epoch 43/50\n",
      "359/359 [==============================] - 0s 47us/step - loss: 0.5165 - acc: 0.8189 - val_loss: 0.4724 - val_acc: 0.8333\n",
      "Epoch 44/50\n",
      "359/359 [==============================] - 0s 47us/step - loss: 0.4727 - acc: 0.8301 - val_loss: 0.4528 - val_acc: 0.8333\n",
      "Epoch 45/50\n",
      "359/359 [==============================] - 0s 47us/step - loss: 0.4677 - acc: 0.8412 - val_loss: 0.4563 - val_acc: 0.8333\n",
      "Epoch 46/50\n",
      "359/359 [==============================] - 0s 47us/step - loss: 0.4594 - acc: 0.8162 - val_loss: 0.4894 - val_acc: 0.8333\n",
      "Epoch 47/50\n",
      "359/359 [==============================] - 0s 52us/step - loss: 0.4976 - acc: 0.8440 - val_loss: 0.4620 - val_acc: 0.8333\n",
      "Epoch 48/50\n",
      "359/359 [==============================] - 0s 49us/step - loss: 0.4573 - acc: 0.8468 - val_loss: 0.4667 - val_acc: 0.8333\n",
      "Epoch 49/50\n",
      "359/359 [==============================] - 0s 45us/step - loss: 0.4423 - acc: 0.8468 - val_loss: 0.4441 - val_acc: 0.8444\n",
      "Epoch 50/50\n",
      "359/359 [==============================] - 0s 50us/step - loss: 0.4265 - acc: 0.8496 - val_loss: 0.4731 - val_acc: 0.8333\n"
     ]
    }
   ],
   "source": [
    "idx = list(range(x_train.shape[0]))\n",
    "np.random.shuffle(idx)\n",
    "#hist = model.fit(x_train[idx],y_train[idx],validation_split=0.2,epochs=30,shuffle=True)\n",
    "hist = model.fit(x_train,y_train,validation_split=0.2,epochs=50,shuffle=True,batch_size=32)\n",
    "dnn_predict = model.predict(x_test)"
   ]
  },
  {
   "cell_type": "code",
   "execution_count": 5,
   "metadata": {
    "ExecuteTime": {
     "end_time": "2018-01-05T17:26:24.521255Z",
     "start_time": "2018-01-05T17:26:23.967699Z"
    },
    "collapsed": false
   },
   "outputs": [
    {
     "data": {
      "image/png": "[encoded data removed]",
      "text/plain": [
       "<matplotlib.figure.Figure at 0x16ca8658400>"
      ]
     },
     "metadata": {},
     "output_type": "display_data"
    },
    {
     "data": {
      "image/png": "[encoded data removed]",
      "text/plain": [
       "<matplotlib.figure.Figure at 0x16ca8752be0>"
      ]
     },
     "metadata": {},
     "output_type": "display_data"
    }
   ],
   "source": [
    "plt.figure(1)\n",
    "plt.plot(hist.history['acc'])\n",
    "plt.plot(hist.history['val_acc'])\n",
    "plt.title('model accuracy')\n",
    "plt.ylabel('accuracy')\n",
    "plt.xlabel('epoch')\n",
    "plt.legend(['train', 'test'], loc = 'lower right')\n",
    "plt.show()\n",
    "\n",
    "plt.figure(2)\n",
    "plt.plot(hist.history['loss'])\n",
    "plt.plot(hist.history['val_loss'])\n",
    "plt.title('model loss')\n",
    "plt.ylabel('loss')\n",
    "plt.xlabel('epoch')\n",
    "plt.legend(['train', 'test'], loc = 'upper right')\n",
    "plt.show()"
   ]
  },
  {
   "cell_type": "markdown",
   "metadata": {},
   "source": [
    "# transfor one hot vector back to label 0,1,2"
   ]
  },
  {
   "cell_type": "code",
   "execution_count": 6,
   "metadata": {
    "collapsed": false
   },
   "outputs": [
    {
     "name": "stdout",
     "output_type": "stream",
     "text": [
      "first\n",
      "['Jayson Tatum', 'Lonzo Ball']\n",
      "second\n",
      "['OG Anunoby']\n"
     ]
    }
   ],
   "source": [
    "first=[]\n",
    "second=[]\n",
    "normal=[]\n",
    "result = []\n",
    "n=0\n",
    "for n in range (0,42):\n",
    "    check1 = dnn_predict[n,0]\n",
    "    check2 = dnn_predict[n,1]\n",
    "    check3 = dnn_predict[n,2]\n",
    "    maxnum = dnn_predict[n].max()\n",
    "    if (check1 == maxnum):\n",
    "        result.append(0)\n",
    "    if (check2 == maxnum):\n",
    "        result.append(1)\n",
    "    if (check3 == maxnum):\n",
    "        result.append(2)    \n",
    "k=0\n",
    "for k in range(0,42):\n",
    "    if (result[k]==1):\n",
    "        first.append(y_test[k])\n",
    "    if (result[k]==2):\n",
    "        second.append(y_test[k])\n",
    "        \n",
    "print('first')\n",
    "print(first)\n",
    "print('second')\n",
    "print(second)"
   ]
  }
 ],
 "metadata": {
  "anaconda-cloud": {},
  "kernelspec": {
   "display_name": "Python [conda env:tensorflow]",
   "language": "python",
   "name": "conda-env-tensorflow-py"
  },
  "language_info": {
   "codemirror_mode": {
    "name": "ipython",
    "version": 3
   },
   "file_extension": ".py",
   "mimetype": "text/x-python",
   "name": "python",
   "nbconvert_exporter": "python",
   "pygments_lexer": "ipython3",
   "version": "3.5.4"
  },
  "latex_envs": {
   "LaTeX_envs_menu_present": true,
   "autoclose": false,
   "autocomplete": true,
   "bibliofile": "biblio.bib",
   "cite_by": "apalike",
   "current_citInitial": 1,
   "eqLabelWithNumbers": true,
   "eqNumInitial": 1,
   "hotkeys": {
    "equation": "Ctrl-E",
    "itemize": "Ctrl-I"
   },
   "labels_anchors": false,
   "latex_user_defs": false,
   "report_style_numbering": false,
   "user_envs_cfg": false
  },
  "toc": {
   "nav_menu": {},
   "number_sections": true,
   "sideBar": true,
   "skip_h1_title": false,
   "toc_cell": false,
   "toc_position": {},
   "toc_section_display": "block",
   "toc_window_display": false
  },
  "varInspector": {
   "cols": {
    "lenName": 16,
    "lenType": 16,
    "lenVar": 40
   },
   "kernels_config": {
    "python": {
     "delete_cmd_postfix": "",
     "delete_cmd_prefix": "del ",
     "library": "var_list.py",
     "varRefreshCmd": "print(var_dic_list())"
    },
    "r": {
     "delete_cmd_postfix": ") ",
     "delete_cmd_prefix": "rm(",
     "library": "var_list.r",
     "varRefreshCmd": "cat(var_dic_list()) "
    }
   },
   "types_to_exclude": [
    "module",
    "function",
    "builtin_function_or_method",
    "instance",
    "_Feature"
   ],
   "window_display": false
  }
 },
 "nbformat": 4,
 "nbformat_minor": 2
}
