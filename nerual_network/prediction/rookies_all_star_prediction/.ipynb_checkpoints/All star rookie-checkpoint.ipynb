{
 "cells": [
  {
   "cell_type": "markdown",
   "metadata": {},
   "source": [
    "* **GP**-Games Played    **MIN**-Minutes Played    **FG%**-Field Goal Percentage    **FGM**-Field Goals Made\n",
    "* **FGA**-Field Goals Attempted    **3P%**-3 Point Field Goals Percentage    **3PM**-3 Point Field Goals Made\n",
    "* **3PA**-3 Point Field Goals Attempted    **FT%**-Free Throw Percentage    **FTM**-Free Throws Made\n",
    "* **FTA**-Free Throws Attempted **REB**-Rebounds **OREB**-Offensive Rebounds **DREB**-Defensive Rebounds\n",
    "* **AST**-Assists **STL**-Steals **BLK**-Blocks **TOV**-Turnovers **PF**-Personal Fouls **PTS**-Points\n",
    "* **PER**-efficiency value **WS**-Win Shares"
   ]
  },
  {
   "cell_type": "code",
   "execution_count": 1,
   "metadata": {
    "ExecuteTime": {
     "end_time": "2018-01-09T21:14:47.299902Z",
     "start_time": "2018-01-09T21:14:47.085008Z"
    }
   },
   "outputs": [],
   "source": [
    "import numpy as np\n",
    "import pandas as pd\n",
    "import matplotlib.pyplot as plt\n",
    "from keras.utils import plot_model;"
   ]
  },
  {
   "cell_type": "code",
   "execution_count": 2,
   "metadata": {
    "ExecuteTime": {
     "end_time": "2018-01-09T21:14:47.549961Z",
     "start_time": "2018-01-09T21:14:47.537929Z"
    }
   },
   "outputs": [],
   "source": [
    "#load dataset\n",
    "df1 = pd.read_csv(\"04-12_NBA_rookies_data_without3PP.csv\", header=None, encoding='utf-8')\n",
    "#df1 = df1.astype(float)\n",
    "ds = df1.values\n",
    "x = ds[:,0:23]"
   ]
  },
  {
   "cell_type": "markdown",
   "metadata": {},
   "source": [
    "#  PCA analysis"
   ]
  },
  {
   "cell_type": "code",
   "execution_count": 3,
   "metadata": {
    "ExecuteTime": {
     "end_time": "2018-01-09T21:14:48.725355Z",
     "start_time": "2018-01-09T21:14:48.692447Z"
    }
   },
   "outputs": [],
   "source": [
    "def zeroMean(dataMat):        \n",
    "    meanVal=np.mean(dataMat,axis=0)     #get mean by columns\n",
    "    newData=dataMat-meanVal  \n",
    "    return newData,meanVal\n",
    "\n",
    "\n",
    "def percentage2n(eigVals,percentage):  \n",
    "    sortArray=np.sort(eigVals)          #ascend order \n",
    "    sortArray=sortArray[-1::-1]           \n",
    "    arraySum=sum(sortArray)  \n",
    "    tmpSum=0  \n",
    "    num=0  \n",
    "    for i in sortArray:  \n",
    "        tmpSum+=i  \n",
    "        num+=1  \n",
    "        if tmpSum>=arraySum*percentage:  \n",
    "            return num  \n",
    "\n",
    "\n",
    "def pca(dataMat,percentage=0.99):  \n",
    "    newData,meanVal=zeroMean(dataMat)  \n",
    "    covMat=np.cov(newData,rowvar=0)      #covariance  \n",
    "    eigVals,eigVects=np.linalg.eig(np.mat(covMat))      \n",
    "    n=percentage2n(eigVals,percentage)                 #need n dimensionol data to get the convariance percentage\n",
    "    eigValIndice=np.argsort(eigVals)            #ascend order \n",
    "    n_eigValIndice=eigValIndice[-1:-(n+1):-1]   \n",
    "    n_eigVect=eigVects[:,n_eigValIndice]        \n",
    "    lowDDataMat=newData*n_eigVect               #lower dimensional data  \n",
    "    reconMat=(lowDDataMat*n_eigVect.T)+meanVal  #reconstruct data  \n",
    "    return lowDDataMat,reconMat,n "
   ]
  },
  {
   "cell_type": "markdown",
   "metadata": {},
   "source": [
    "# PCA processing"
   ]
  },
  {
   "cell_type": "code",
   "execution_count": 4,
   "metadata": {
    "ExecuteTime": {
     "end_time": "2018-01-09T21:14:50.338829Z",
     "start_time": "2018-01-09T21:14:50.330255Z"
    }
   },
   "outputs": [
    {
     "name": "stdout",
     "output_type": "stream",
     "text": [
      "auto choose 5 dimentional\n"
     ]
    },
    {
     "data": {
      "text/plain": [
       "matrix([[ 66.98303368, -32.80212741, -15.43392667,   7.5355039 ,\n",
       "          -2.23328347],\n",
       "        [ 48.94320987,  -5.03255543, -11.6712219 ,   1.10170476,\n",
       "           4.22327956],\n",
       "        [ 29.28591998,  18.11223535,  -5.3553855 ,   3.80480391,\n",
       "           0.69330913],\n",
       "        ..., \n",
       "        [-52.32370277, -14.23029569,  -2.44296531,  -6.16752451,   5.0028104 ],\n",
       "        [-46.42545777,  -8.67923521,  -3.30853984, -11.48551298,\n",
       "           7.75618201],\n",
       "        [-49.96009269, -11.45113396,  -4.59694688,  -6.95903878,\n",
       "           3.82868821]])"
      ]
     },
     "execution_count": 4,
     "metadata": {},
     "output_type": "execute_result"
    }
   ],
   "source": [
    "lowDDataMat,reconMat,n = pca(x)\n",
    "print('auto choose '+str(n)+' dimentional')\n",
    "lowDDataMat"
   ]
  },
  {
   "cell_type": "code",
   "execution_count": 5,
   "metadata": {
    "ExecuteTime": {
     "end_time": "2018-01-09T21:14:51.278559Z",
     "start_time": "2018-01-09T21:14:51.260379Z"
    }
   },
   "outputs": [
    {
     "name": "stdout",
     "output_type": "stream",
     "text": [
      "auto choose 5 dimentional\n"
     ]
    },
    {
     "data": {
      "text/plain": [
       "matrix([[  7.63409103e+01,  -4.05386792e+01,   9.39633821e+00,\n",
       "           7.56420792e+00,   1.98314752e+00],\n",
       "        [  3.12176168e+01,  -3.53570327e+01,  -1.26991325e+01,\n",
       "           4.86555926e+00,   8.43084221e+00],\n",
       "        [  5.93074214e+01,  -3.53310366e+01,   1.19507559e+01,\n",
       "           2.97419505e+00,   1.98037686e+00],\n",
       "        [  5.49939488e+01,  -2.07840565e+01,  -9.43292819e+00,\n",
       "          -2.14681061e+00,   1.18639701e+00],\n",
       "        [  5.87431252e+01,  -1.87599023e+01,  -1.74010095e+01,\n",
       "          -1.22384840e+00,  -2.59700130e-01],\n",
       "        [  5.19488039e+01,  -3.06635954e+01,   1.35120363e+01,\n",
       "          -3.50413420e+00,   7.04799662e+00],\n",
       "        [  2.41468557e+01,  -3.75634476e+00,   9.66137206e+00,\n",
       "           5.65830093e+00,   5.46556035e+00],\n",
       "        [  2.67566414e+01,   2.28724908e+01,  -2.83440481e+00,\n",
       "           1.49306143e+00,   7.00721574e+00],\n",
       "        [  3.22756314e+01,   3.30560310e+01,   3.29224114e+00,\n",
       "           5.77564759e+00,   4.09522715e+00],\n",
       "        [  1.36048954e+01,   1.65217138e+01,  -5.31745125e+00,\n",
       "           5.24719665e+00,   2.28179562e+00],\n",
       "        [  3.50421741e+01,  -1.08581997e+01,   1.85973398e+00,\n",
       "           1.86782337e+00,  -2.49522847e+00],\n",
       "        [  1.78095850e+00,   1.48612402e+01,   7.40432763e-01,\n",
       "           3.92451026e+00,   7.71005298e+00],\n",
       "        [  3.25935614e+01,   2.74973809e+01,   5.45744440e+00,\n",
       "           2.49463367e+00,   1.10119350e+01],\n",
       "        [  4.52071559e+01,   5.71658261e+00,   5.27893233e+00,\n",
       "          -1.25798676e+00,  -5.67993947e+00],\n",
       "        [  3.39968555e+01,   2.15585146e+01,  -1.01747546e+01,\n",
       "          -1.00576948e+00,  -2.63449809e+00],\n",
       "        [ -1.37225356e+01,  -1.63672980e+01,  -4.79802854e+00,\n",
       "           3.39644666e+00,   6.62902351e+00],\n",
       "        [ -2.57027879e+01,  -1.68313226e+00,  -5.58809832e+00,\n",
       "           4.53224758e+00,   3.89802448e+00],\n",
       "        [  2.17309275e+00,   4.37431338e+00,  -2.61235264e+01,\n",
       "           3.74036938e+00,  -5.24658348e+00],\n",
       "        [  2.96456893e+01,   2.06057368e+01,  -1.42373682e+01,\n",
       "           1.78303193e+00,  -4.39794372e+00],\n",
       "        [  6.59146675e+00,  -1.10732938e+00,   1.64223787e+01,\n",
       "           2.26867515e+00,   2.68748715e-01],\n",
       "        [  2.53848645e+01,  -4.42182687e+00,  -1.79411751e+01,\n",
       "           1.21650781e-01,  -3.54428518e+00],\n",
       "        [  2.66980959e+00,   2.58668671e+01,   1.69957092e+01,\n",
       "           5.42283908e+00,   1.75606570e+00],\n",
       "        [ -2.67235316e+01,  -7.08807574e+00,  -5.68489932e+00,\n",
       "           1.95405777e+00,   4.35642930e+00],\n",
       "        [ -1.48924640e+01,   3.83662738e+00,  -8.97659473e+00,\n",
       "           1.23427647e+00,   2.73998517e+00],\n",
       "        [ -5.52587574e+01,  -1.60307054e+01,   2.43870844e+00,\n",
       "           2.00689688e+01,  -3.99553158e+00],\n",
       "        [ -1.46695481e+01,   5.28739854e+00,  -3.06575476e+00,\n",
       "          -3.40256680e-02,  -1.54015262e+00],\n",
       "        [ -1.66140132e+01,  -1.18296673e+01,  -1.07271758e+01,\n",
       "          -6.03907360e+00,   7.16809459e+00],\n",
       "        [ -2.80545421e+01,   2.64325224e+00,   7.05741550e+00,\n",
       "           7.68343908e+00,  -9.58008715e-01],\n",
       "        [  6.24984535e+00,   1.11530177e+01,   1.48327870e+00,\n",
       "           1.25666914e+00,  -3.83154474e+00],\n",
       "        [ -1.26271439e+01,   9.01475797e+00,  -3.40964512e+00,\n",
       "          -5.55420058e-01,  -1.83195761e+00],\n",
       "        [  1.44968479e+01,   1.60170175e+01,  -2.37570094e-01,\n",
       "          -3.00141347e+00,  -5.23078559e+00],\n",
       "        [ -1.41289241e+01,   6.11587418e+00,  -4.11347858e+00,\n",
       "           3.60644439e+00,  -3.47380592e+00],\n",
       "        [  2.17229297e+01,   2.04855373e+01,  -8.07288980e+00,\n",
       "          -6.70398304e+00,  -3.50936263e+00],\n",
       "        [ -1.89362001e+01,   8.77658676e+00,   2.93255627e+00,\n",
       "          -2.43104265e+00,  -5.13503155e-01],\n",
       "        [ -1.63551755e+01,   1.17671307e+01,   4.80630235e+00,\n",
       "          -5.00231633e+00,  -8.98645867e-01],\n",
       "        [ -5.20061615e+01,  -1.13763723e+01,   3.90207634e+00,\n",
       "           6.83939514e+00,  -2.80359199e+00],\n",
       "        [ -4.06960777e+01,  -4.47104780e+00,   2.56084899e+00,\n",
       "           3.31710413e+00,  -4.82796951e+00],\n",
       "        [ -2.17708376e+01,   6.99802674e+00,  -3.58009723e-02,\n",
       "          -6.96452632e+00,  -4.74373960e+00],\n",
       "        [ -5.13570774e+01,  -9.17638412e+00,   4.63300169e+00,\n",
       "          -4.27928226e+00,  -8.37131576e-02],\n",
       "        [ -5.46983406e+01,  -1.22527473e+01,   2.00790064e+00,\n",
       "          -1.84988000e+00,  -3.94770881e+00],\n",
       "        [  6.04196539e+01,  -1.52303484e+01,   2.78103530e+00,\n",
       "          -3.18398159e+00,  -3.93819477e+00],\n",
       "        [  3.97557057e+01,   6.10995700e+00,   5.34774507e+00,\n",
       "           5.33796501e+00,   5.16788980e+00],\n",
       "        [  3.76865867e+01,   2.49612034e+01,  -4.19977808e+00,\n",
       "           3.77184615e+00,   2.89413098e+00],\n",
       "        [  5.19337139e+01,  -7.39857688e+00,  -8.08871405e+00,\n",
       "          -3.94624190e+00,   2.97915315e+00],\n",
       "        [  7.00729791e+01,  -3.39398435e+01,   2.29499269e+00,\n",
       "          -6.78643107e+00,  -1.06206203e+01],\n",
       "        [ -1.18963974e+01,  -1.05463276e+01,  -7.07249964e+00,\n",
       "           6.71338202e+00,   5.08360195e+00],\n",
       "        [  2.09713402e+01,  -9.41577769e+00,  -1.11725467e+01,\n",
       "          -2.06834969e-01,   7.49964109e-01],\n",
       "        [ -7.20944760e+00,  -8.13342497e+00,  -1.19600823e+01,\n",
       "           5.74323000e+00,   7.51733242e-01],\n",
       "        [  3.86589348e+01,  -2.28161134e+00,  -2.00723582e+01,\n",
       "          -5.59374880e+00,  -1.84333017e+00],\n",
       "        [  1.97238409e+01,   8.02977944e-01,  -1.81158582e+01,\n",
       "           7.91140131e-01,  -2.26962809e+00],\n",
       "        [  3.51149404e+01,   2.12468837e+01,   1.67378339e+01,\n",
       "           1.11936522e+00,  -6.16455931e-03],\n",
       "        [  2.87662501e+01,   5.35803439e+00,  -1.16659972e+01,\n",
       "          -3.91048000e+00,  -3.67277286e+00],\n",
       "        [  6.05300927e+01,  -1.50032592e+01,   2.78899061e+01,\n",
       "          -8.44026710e+00,  -4.79845593e+00],\n",
       "        [  1.24374120e+01,   1.12916961e+01,  -1.67830836e+00,\n",
       "          -2.01146483e-01,   6.92796179e-01],\n",
       "        [ -3.04539487e+01,  -5.04203810e+00,  -6.04894269e+00,\n",
       "           3.62466904e+00,   6.80200407e+00],\n",
       "        [  7.28808291e-01,  -3.60235146e+00,   3.11641334e+00,\n",
       "          -3.51758135e+00,   5.13341957e+00],\n",
       "        [ -3.72473694e+01,  -5.77773861e+00,   5.74043315e-01,\n",
       "           7.38015385e+00,   3.88250367e+00],\n",
       "        [  5.67988025e+00,   1.85831901e+01,  -4.31766225e+00,\n",
       "          -1.24071048e+00,   3.58030830e+00],\n",
       "        [  1.43579451e+01,   1.41947812e+01,  -1.27448037e+00,\n",
       "           2.66861198e+00,  -3.60485990e+00],\n",
       "        [  1.91259681e+01,  -7.98190739e+00,   2.17248527e+01,\n",
       "          -1.29771048e+00,  -2.20994741e+00],\n",
       "        [  2.52225088e+01,   2.32054755e+01,   3.11524958e+01,\n",
       "          -9.81324206e-02,   8.83063771e-01],\n",
       "        [  1.90610549e+01,  -5.85538876e+00,   1.42056884e+01,\n",
       "          -3.88343676e-01,  -9.03151193e+00],\n",
       "        [ -1.24862082e+01,   1.22778249e+01,   3.54111430e+00,\n",
       "           1.67551618e+00,  -1.24148547e+00],\n",
       "        [ -3.28413909e+01,  -2.13676007e+00,   1.86234718e+00,\n",
       "           2.87019526e+00,  -1.02841680e+00],\n",
       "        [  3.19477066e+01,   2.17201749e+01,  -1.38353182e+01,\n",
       "          -2.93802758e+00,  -4.16769877e+00],\n",
       "        [ -3.26104468e+01,  -2.60182414e+00,  -2.48191799e+00,\n",
       "          -1.08770535e+00,   6.81013499e-01],\n",
       "        [ -1.42833371e+01,   7.11305546e+00,   1.49239264e+01,\n",
       "          -4.76567026e-01,  -6.45990495e-01],\n",
       "        [ -8.75692070e+00,   6.80855805e+00,  -1.28390457e+01,\n",
       "          -5.32388316e+00,   4.35980188e-01],\n",
       "        [ -2.06080177e+01,   5.08711807e+00,   1.19177384e+00,\n",
       "          -3.06232592e+00,   3.19016876e+00],\n",
       "        [ -3.51884107e+01,  -5.40582140e+00,  -6.12093368e-01,\n",
       "          -3.44638732e+00,   6.98989240e-01],\n",
       "        [  1.09474324e+00,   1.98420476e+01,   1.30246935e+01,\n",
       "           3.28005636e+00,  -8.16238187e-01],\n",
       "        [ -5.01062555e+01,  -1.31577582e+01,   1.09950422e+00,\n",
       "           1.65341189e+00,   3.46184905e+00],\n",
       "        [ -1.59074417e+01,   7.97929156e+00,   5.38403862e-01,\n",
       "          -1.56971343e+00,  -1.08751312e+00],\n",
       "        [ -1.92714480e+01,   5.61773879e+00,  -2.06470332e+00,\n",
       "          -6.29725350e+00,  -2.51773923e+00],\n",
       "        [ -3.23675300e+01,  -4.70695791e+00,  -8.52662592e+00,\n",
       "          -3.49916576e+00,  -2.29084116e+00],\n",
       "        [ -5.15347572e+01,  -1.39950258e+01,   2.05150712e-02,\n",
       "           1.77127649e+01,  -7.88122753e+00],\n",
       "        [ -4.61874921e+01,  -7.19973339e+00,   3.79047252e+00,\n",
       "          -4.83623471e+00,   3.93308987e+00],\n",
       "        [ -4.47107614e+01,  -6.98671005e+00,   3.95754683e+00,\n",
       "           7.94008974e+00,  -4.06215016e+00],\n",
       "        [ -1.98509319e+01,   9.83401890e+00,   5.83397083e+00,\n",
       "           7.64531838e-02,  -3.28646626e+00],\n",
       "        [ -5.05747473e+01,  -7.55055958e+00,   5.33011201e+00,\n",
       "          -1.20180056e+01,   1.93286745e+00],\n",
       "        [ -5.40044005e+01,  -1.33489019e+01,   1.61216319e+00,\n",
       "           4.95417962e+00,  -3.41111256e+00],\n",
       "        [ -3.68192306e+01,  -3.36329034e+00,  -1.02217082e+00,\n",
       "          -4.16260471e+00,  -1.71684223e+00],\n",
       "        [ -3.33223469e+01,   5.53356640e-01,   2.47629821e-01,\n",
       "          -1.13435069e+01,  -1.89495474e+00],\n",
       "        [ -4.87292078e+01,  -6.01551830e+00,   5.30139120e+00,\n",
       "          -1.32557329e+01,   9.15340394e-01],\n",
       "        [ -5.49986028e+01,  -9.08259354e+00,   3.43075464e+00,\n",
       "          -2.82755451e+01,   5.62557691e+00]])"
      ]
     },
     "execution_count": 5,
     "metadata": {},
     "output_type": "execute_result"
    }
   ],
   "source": [
    "df2 = pd.read_csv(\"prediction_data.csv\", header=None, encoding='utf-8')\n",
    "#df1 = df1.astype(float)\n",
    "ds1 = df2.values\n",
    "x1 = ds1[:,0:23]\n",
    "lowDDataMat3,reconMat3,n3 = pca(x1)\n",
    "print('auto choose '+ str(n3) + ' dimentional')\n",
    "lowDDataMat3"
   ]
  },
  {
   "cell_type": "markdown",
   "metadata": {},
   "source": [
    "# Keras application"
   ]
  },
  {
   "cell_type": "code",
   "execution_count": 6,
   "metadata": {
    "ExecuteTime": {
     "end_time": "2018-01-09T21:14:57.276832Z",
     "start_time": "2018-01-09T21:14:57.273707Z"
    }
   },
   "outputs": [],
   "source": [
    "from keras.layers import *\n",
    "from keras.models import Sequential, Model\n",
    "from keras.utils import plot_model;"
   ]
  },
  {
   "cell_type": "code",
   "execution_count": 7,
   "metadata": {
    "ExecuteTime": {
     "end_time": "2018-01-09T21:14:58.082840Z",
     "start_time": "2018-01-09T21:14:57.984474Z"
    }
   },
   "outputs": [],
   "source": [
    "#load dataset\n",
    "#df = pandas.read_csv(\"04-12_NBA_rookies_data_without3PP.csv\", header=None)\n",
    "df1 = pd.read_csv(\"04-12_NBA_rookies_label.csv\",header=None)\n",
    "#df_test = pandas.read_csv(\"prediction_data.csv\",header=None)\n",
    "df1_test = pd.read_csv(\"rookies_name.csv\",header=None)\n",
    "#ds = df.values\n",
    "ds1 = df1.values\n",
    "#ds_test = df_test.values\n",
    "ds1_test = df1_test.values\n",
    "x_train = lowDDataMat[:,0:5]\n",
    "y_train = ds1[:,1]\n",
    "x_test = lowDDataMat3[:,0:5]\n",
    "y_test = ds1_test[:,0]\n",
    "\n",
    "dim = x_train.shape[1]\n",
    "model = Sequential()\n",
    "model.add(Dense(100, input_dim=dim, activation='relu'))\n",
    "model.add(Dropout(0.5))\n",
    "model.add(Dense(2, activation='softmax'))\n",
    "\n",
    "model.compile(loss='sparse_categorical_crossentropy', optimizer='rmsprop',metrics=[\"accuracy\"])\n",
    "#plot_model(model,to_file = 'all-stat-rooike-network.png', show_shapes= True)"
   ]
  },
  {
   "cell_type": "code",
   "execution_count": 9,
   "metadata": {
    "ExecuteTime": {
     "end_time": "2018-01-09T21:18:51.726740Z",
     "start_time": "2018-01-09T21:18:51.676237Z"
    }
   },
   "outputs": [],
   "source": [
    "plot_model(model, to_file = 'model_for_all_star_rookie.png', show_shapes = True)"
   ]
  },
  {
   "cell_type": "code",
   "execution_count": null,
   "metadata": {
    "collapsed": true
   },
   "outputs": [],
   "source": [
    "# Change log_dir for differnt activation function, change the number for every run.\n",
    "tbCallBack = keras.callbacks.TensorBoard(log_dir='./relu/7', histogram_freq=0, write_graph=True, write_images=True)"
   ]
  },
  {
   "cell_type": "code",
   "execution_count": 8,
   "metadata": {
    "ExecuteTime": {
     "end_time": "2018-01-05T16:20:45.001249Z",
     "start_time": "2018-01-05T16:20:39.364353Z"
    }
   },
   "outputs": [
    {
     "name": "stdout",
     "output_type": "stream",
     "text": [
      "Train on 291 samples, validate on 73 samples\n",
      "Epoch 1/120\n",
      "291/291 [==============================] - 0s 936us/step - loss: 2.7571 - acc: 0.6082 - val_loss: 1.1046 - val_acc: 0.7260\n",
      "Epoch 2/120\n",
      "291/291 [==============================] - 0s 97us/step - loss: 1.4777 - acc: 0.7629 - val_loss: 0.6592 - val_acc: 0.8356\n",
      "Epoch 3/120\n",
      "291/291 [==============================] - 0s 93us/step - loss: 1.3005 - acc: 0.7835 - val_loss: 0.6339 - val_acc: 0.8904\n",
      "Epoch 4/120\n",
      "291/291 [==============================] - 0s 103us/step - loss: 1.0845 - acc: 0.7938 - val_loss: 0.5655 - val_acc: 0.8630\n",
      "Epoch 5/120\n",
      "291/291 [==============================] - 0s 96us/step - loss: 0.9299 - acc: 0.8488 - val_loss: 0.5245 - val_acc: 0.8904\n",
      "Epoch 6/120\n",
      "291/291 [==============================] - 0s 90us/step - loss: 0.7516 - acc: 0.8729 - val_loss: 0.5537 - val_acc: 0.9178\n",
      "Epoch 7/120\n",
      "291/291 [==============================] - 0s 96us/step - loss: 0.9028 - acc: 0.8247 - val_loss: 0.4152 - val_acc: 0.9041\n",
      "Epoch 8/120\n",
      "291/291 [==============================] - 0s 91us/step - loss: 0.8081 - acc: 0.8488 - val_loss: 0.3864 - val_acc: 0.8904\n",
      "Epoch 9/120\n",
      "291/291 [==============================] - 0s 88us/step - loss: 0.7141 - acc: 0.8488 - val_loss: 0.3496 - val_acc: 0.8904\n",
      "Epoch 10/120\n",
      "291/291 [==============================] - 0s 93us/step - loss: 0.9039 - acc: 0.8144 - val_loss: 0.3486 - val_acc: 0.8767\n",
      "Epoch 11/120\n",
      "291/291 [==============================] - 0s 96us/step - loss: 0.6998 - acc: 0.8694 - val_loss: 0.3863 - val_acc: 0.9041\n",
      "Epoch 12/120\n",
      "291/291 [==============================] - 0s 92us/step - loss: 0.7781 - acc: 0.8522 - val_loss: 0.4005 - val_acc: 0.9178\n",
      "Epoch 13/120\n",
      "291/291 [==============================] - 0s 96us/step - loss: 0.7894 - acc: 0.8522 - val_loss: 0.3536 - val_acc: 0.9041\n",
      "Epoch 14/120\n",
      "291/291 [==============================] - 0s 90us/step - loss: 0.5791 - acc: 0.8763 - val_loss: 0.2901 - val_acc: 0.8904\n",
      "Epoch 15/120\n",
      "291/291 [==============================] - 0s 98us/step - loss: 0.7018 - acc: 0.8522 - val_loss: 0.2895 - val_acc: 0.8904\n",
      "Epoch 16/120\n",
      "291/291 [==============================] - 0s 110us/step - loss: 0.4808 - acc: 0.8866 - val_loss: 0.2539 - val_acc: 0.8767\n",
      "Epoch 17/120\n",
      "291/291 [==============================] - 0s 103us/step - loss: 0.5086 - acc: 0.8763 - val_loss: 0.3037 - val_acc: 0.9041\n",
      "Epoch 18/120\n",
      "291/291 [==============================] - 0s 93us/step - loss: 0.5649 - acc: 0.8832 - val_loss: 0.2943 - val_acc: 0.8904\n",
      "Epoch 19/120\n",
      "291/291 [==============================] - 0s 107us/step - loss: 0.4928 - acc: 0.8625 - val_loss: 0.2928 - val_acc: 0.8904\n",
      "Epoch 20/120\n",
      "291/291 [==============================] - 0s 100us/step - loss: 0.5264 - acc: 0.8763 - val_loss: 0.2872 - val_acc: 0.9041\n",
      "Epoch 21/120\n",
      "291/291 [==============================] - 0s 107us/step - loss: 0.5706 - acc: 0.8557 - val_loss: 0.3114 - val_acc: 0.9178\n",
      "Epoch 22/120\n",
      "291/291 [==============================] - 0s 96us/step - loss: 0.6135 - acc: 0.8660 - val_loss: 0.2883 - val_acc: 0.8904\n",
      "Epoch 23/120\n",
      "291/291 [==============================] - 0s 100us/step - loss: 0.4776 - acc: 0.8866 - val_loss: 0.2573 - val_acc: 0.8904\n",
      "Epoch 24/120\n",
      "291/291 [==============================] - 0s 93us/step - loss: 0.5267 - acc: 0.8557 - val_loss: 0.2551 - val_acc: 0.9178\n",
      "Epoch 25/120\n",
      "291/291 [==============================] - 0s 91us/step - loss: 0.4340 - acc: 0.8900 - val_loss: 0.2790 - val_acc: 0.9178\n",
      "Epoch 26/120\n",
      "291/291 [==============================] - 0s 103us/step - loss: 0.4950 - acc: 0.8729 - val_loss: 0.2447 - val_acc: 0.9315\n",
      "Epoch 27/120\n",
      "291/291 [==============================] - 0s 86us/step - loss: 0.4374 - acc: 0.8763 - val_loss: 0.2786 - val_acc: 0.9178\n",
      "Epoch 28/120\n",
      "291/291 [==============================] - 0s 96us/step - loss: 0.4370 - acc: 0.8969 - val_loss: 0.2593 - val_acc: 0.9178\n",
      "Epoch 29/120\n",
      "291/291 [==============================] - 0s 97us/step - loss: 0.3887 - acc: 0.8969 - val_loss: 0.2666 - val_acc: 0.9178\n",
      "Epoch 30/120\n",
      "291/291 [==============================] - 0s 117us/step - loss: 0.3713 - acc: 0.8832 - val_loss: 0.2462 - val_acc: 0.9178\n",
      "Epoch 31/120\n",
      "291/291 [==============================] - 0s 86us/step - loss: 0.4700 - acc: 0.8797 - val_loss: 0.2677 - val_acc: 0.9178\n",
      "Epoch 32/120\n",
      "291/291 [==============================] - 0s 105us/step - loss: 0.4038 - acc: 0.8866 - val_loss: 0.2724 - val_acc: 0.9178\n",
      "Epoch 33/120\n",
      "291/291 [==============================] - 0s 150us/step - loss: 0.4084 - acc: 0.8729 - val_loss: 0.2926 - val_acc: 0.9178\n",
      "Epoch 34/120\n",
      "291/291 [==============================] - 0s 100us/step - loss: 0.4686 - acc: 0.8625 - val_loss: 0.2472 - val_acc: 0.9315\n",
      "Epoch 35/120\n",
      "291/291 [==============================] - 0s 93us/step - loss: 0.3197 - acc: 0.8935 - val_loss: 0.2419 - val_acc: 0.9315\n",
      "Epoch 36/120\n",
      "291/291 [==============================] - 0s 107us/step - loss: 0.3686 - acc: 0.8969 - val_loss: 0.2472 - val_acc: 0.9178\n",
      "Epoch 37/120\n",
      "291/291 [==============================] - 0s 96us/step - loss: 0.4236 - acc: 0.8763 - val_loss: 0.2421 - val_acc: 0.9178\n",
      "Epoch 38/120\n",
      "291/291 [==============================] - 0s 109us/step - loss: 0.3592 - acc: 0.8866 - val_loss: 0.2465 - val_acc: 0.9178\n",
      "Epoch 39/120\n",
      "291/291 [==============================] - 0s 102us/step - loss: 0.4224 - acc: 0.8832 - val_loss: 0.2495 - val_acc: 0.9315\n",
      "Epoch 40/120\n",
      "291/291 [==============================] - 0s 117us/step - loss: 0.3325 - acc: 0.8900 - val_loss: 0.2391 - val_acc: 0.9315\n",
      "Epoch 41/120\n",
      "291/291 [==============================] - 0s 95us/step - loss: 0.3884 - acc: 0.8729 - val_loss: 0.2468 - val_acc: 0.9178\n",
      "Epoch 42/120\n",
      "291/291 [==============================] - 0s 115us/step - loss: 0.3656 - acc: 0.8969 - val_loss: 0.2459 - val_acc: 0.9315\n",
      "Epoch 43/120\n",
      "291/291 [==============================] - 0s 96us/step - loss: 0.3074 - acc: 0.9175 - val_loss: 0.2789 - val_acc: 0.9178\n",
      "Epoch 44/120\n",
      "291/291 [==============================] - 0s 124us/step - loss: 0.3410 - acc: 0.9141 - val_loss: 0.2436 - val_acc: 0.9452\n",
      "Epoch 45/120\n",
      "291/291 [==============================] - 0s 119us/step - loss: 0.3371 - acc: 0.8969 - val_loss: 0.2428 - val_acc: 0.9452\n",
      "Epoch 46/120\n",
      "291/291 [==============================] - 0s 103us/step - loss: 0.2993 - acc: 0.9038 - val_loss: 0.2450 - val_acc: 0.9315\n",
      "Epoch 47/120\n",
      "291/291 [==============================] - 0s 95us/step - loss: 0.3131 - acc: 0.9003 - val_loss: 0.2457 - val_acc: 0.9315\n",
      "Epoch 48/120\n",
      "291/291 [==============================] - 0s 98us/step - loss: 0.3275 - acc: 0.8969 - val_loss: 0.2491 - val_acc: 0.9178\n",
      "Epoch 49/120\n",
      "291/291 [==============================] - 0s 100us/step - loss: 0.3402 - acc: 0.9003 - val_loss: 0.2424 - val_acc: 0.9178\n",
      "Epoch 50/120\n",
      "291/291 [==============================] - 0s 93us/step - loss: 0.3236 - acc: 0.8969 - val_loss: 0.2464 - val_acc: 0.9178\n",
      "Epoch 51/120\n",
      "291/291 [==============================] - 0s 88us/step - loss: 0.3497 - acc: 0.9107 - val_loss: 0.2353 - val_acc: 0.9315\n",
      "Epoch 52/120\n",
      "291/291 [==============================] - 0s 119us/step - loss: 0.3573 - acc: 0.8969 - val_loss: 0.2325 - val_acc: 0.9315\n",
      "Epoch 53/120\n",
      "291/291 [==============================] - 0s 134us/step - loss: 0.3005 - acc: 0.8900 - val_loss: 0.2280 - val_acc: 0.9315\n",
      "Epoch 54/120\n",
      "291/291 [==============================] - 0s 114us/step - loss: 0.3025 - acc: 0.9003 - val_loss: 0.2543 - val_acc: 0.9178\n",
      "Epoch 55/120\n",
      "291/291 [==============================] - 0s 110us/step - loss: 0.2903 - acc: 0.9072 - val_loss: 0.2325 - val_acc: 0.9315\n",
      "Epoch 56/120\n",
      "291/291 [==============================] - 0s 107us/step - loss: 0.3201 - acc: 0.9141 - val_loss: 0.2330 - val_acc: 0.9315\n",
      "Epoch 57/120\n",
      "291/291 [==============================] - 0s 121us/step - loss: 0.3336 - acc: 0.9038 - val_loss: 0.2362 - val_acc: 0.9315\n",
      "Epoch 58/120\n",
      "291/291 [==============================] - 0s 107us/step - loss: 0.3094 - acc: 0.8832 - val_loss: 0.2273 - val_acc: 0.9315\n",
      "Epoch 59/120\n",
      "291/291 [==============================] - 0s 114us/step - loss: 0.3434 - acc: 0.8969 - val_loss: 0.2394 - val_acc: 0.9315\n",
      "Epoch 60/120\n",
      "291/291 [==============================] - 0s 114us/step - loss: 0.3258 - acc: 0.9141 - val_loss: 0.2245 - val_acc: 0.9315\n",
      "Epoch 61/120\n",
      "291/291 [==============================] - 0s 107us/step - loss: 0.3128 - acc: 0.9038 - val_loss: 0.2093 - val_acc: 0.9452\n",
      "Epoch 62/120\n",
      "291/291 [==============================] - 0s 90us/step - loss: 0.3485 - acc: 0.8935 - val_loss: 0.2206 - val_acc: 0.9315\n",
      "Epoch 63/120\n",
      "291/291 [==============================] - 0s 83us/step - loss: 0.3338 - acc: 0.8969 - val_loss: 0.2281 - val_acc: 0.9315\n",
      "Epoch 64/120\n",
      "291/291 [==============================] - 0s 133us/step - loss: 0.2957 - acc: 0.8935 - val_loss: 0.2154 - val_acc: 0.9452\n",
      "Epoch 65/120\n",
      "291/291 [==============================] - 0s 86us/step - loss: 0.2952 - acc: 0.8969 - val_loss: 0.2186 - val_acc: 0.9315\n",
      "Epoch 66/120\n",
      "291/291 [==============================] - 0s 83us/step - loss: 0.3123 - acc: 0.8797 - val_loss: 0.2215 - val_acc: 0.9315\n",
      "Epoch 67/120\n",
      "291/291 [==============================] - 0s 78us/step - loss: 0.3525 - acc: 0.8797 - val_loss: 0.2124 - val_acc: 0.9452\n",
      "Epoch 68/120\n",
      "291/291 [==============================] - 0s 86us/step - loss: 0.3109 - acc: 0.9107 - val_loss: 0.2332 - val_acc: 0.9315\n",
      "Epoch 69/120\n",
      "291/291 [==============================] - 0s 83us/step - loss: 0.2791 - acc: 0.8969 - val_loss: 0.2156 - val_acc: 0.9452\n",
      "Epoch 70/120\n",
      "291/291 [==============================] - 0s 79us/step - loss: 0.2799 - acc: 0.8969 - val_loss: 0.2129 - val_acc: 0.9452\n",
      "Epoch 71/120\n",
      "291/291 [==============================] - 0s 79us/step - loss: 0.3140 - acc: 0.8900 - val_loss: 0.2282 - val_acc: 0.9315\n",
      "Epoch 72/120\n",
      "291/291 [==============================] - 0s 79us/step - loss: 0.3070 - acc: 0.9038 - val_loss: 0.2190 - val_acc: 0.9452\n",
      "Epoch 73/120\n",
      "291/291 [==============================] - 0s 83us/step - loss: 0.3119 - acc: 0.9038 - val_loss: 0.2260 - val_acc: 0.9315\n",
      "Epoch 74/120\n",
      "291/291 [==============================] - 0s 76us/step - loss: 0.2983 - acc: 0.9107 - val_loss: 0.2491 - val_acc: 0.9178\n",
      "Epoch 75/120\n",
      "291/291 [==============================] - 0s 78us/step - loss: 0.2926 - acc: 0.9003 - val_loss: 0.2159 - val_acc: 0.9315\n",
      "Epoch 76/120\n",
      "291/291 [==============================] - 0s 74us/step - loss: 0.3265 - acc: 0.9003 - val_loss: 0.2190 - val_acc: 0.9315\n",
      "Epoch 77/120\n",
      "291/291 [==============================] - 0s 86us/step - loss: 0.3170 - acc: 0.8969 - val_loss: 0.2062 - val_acc: 0.9452\n",
      "Epoch 78/120\n",
      "291/291 [==============================] - 0s 83us/step - loss: 0.2607 - acc: 0.8969 - val_loss: 0.2133 - val_acc: 0.9452\n",
      "Epoch 79/120\n",
      "291/291 [==============================] - 0s 88us/step - loss: 0.2550 - acc: 0.9038 - val_loss: 0.2197 - val_acc: 0.9315\n",
      "Epoch 80/120\n",
      "291/291 [==============================] - 0s 74us/step - loss: 0.2757 - acc: 0.9175 - val_loss: 0.2296 - val_acc: 0.9315\n",
      "Epoch 81/120\n",
      "291/291 [==============================] - 0s 76us/step - loss: 0.3023 - acc: 0.8969 - val_loss: 0.2188 - val_acc: 0.9315\n",
      "Epoch 82/120\n",
      "291/291 [==============================] - 0s 79us/step - loss: 0.2984 - acc: 0.8969 - val_loss: 0.2182 - val_acc: 0.9178\n",
      "Epoch 83/120\n",
      "291/291 [==============================] - 0s 78us/step - loss: 0.2558 - acc: 0.9107 - val_loss: 0.2207 - val_acc: 0.9452\n",
      "Epoch 84/120\n",
      "291/291 [==============================] - 0s 81us/step - loss: 0.2847 - acc: 0.9210 - val_loss: 0.2127 - val_acc: 0.9452\n",
      "Epoch 85/120\n",
      "291/291 [==============================] - 0s 93us/step - loss: 0.2878 - acc: 0.9038 - val_loss: 0.2425 - val_acc: 0.9178\n",
      "Epoch 86/120\n",
      "291/291 [==============================] - 0s 93us/step - loss: 0.3596 - acc: 0.8935 - val_loss: 0.2163 - val_acc: 0.9452\n",
      "Epoch 87/120\n",
      "291/291 [==============================] - 0s 86us/step - loss: 0.2570 - acc: 0.9141 - val_loss: 0.2118 - val_acc: 0.9452\n",
      "Epoch 88/120\n",
      "291/291 [==============================] - 0s 88us/step - loss: 0.2698 - acc: 0.9072 - val_loss: 0.2189 - val_acc: 0.9315\n",
      "Epoch 89/120\n",
      "291/291 [==============================] - 0s 90us/step - loss: 0.2914 - acc: 0.9003 - val_loss: 0.2088 - val_acc: 0.9452\n",
      "Epoch 90/120\n",
      "291/291 [==============================] - 0s 90us/step - loss: 0.3360 - acc: 0.9072 - val_loss: 0.2104 - val_acc: 0.9315\n",
      "Epoch 91/120\n",
      "291/291 [==============================] - 0s 85us/step - loss: 0.2511 - acc: 0.9175 - val_loss: 0.2243 - val_acc: 0.9315\n",
      "Epoch 92/120\n",
      "291/291 [==============================] - 0s 83us/step - loss: 0.2939 - acc: 0.9107 - val_loss: 0.2021 - val_acc: 0.9452\n",
      "Epoch 93/120\n",
      "291/291 [==============================] - 0s 86us/step - loss: 0.2808 - acc: 0.9038 - val_loss: 0.2012 - val_acc: 0.9452\n",
      "Epoch 94/120\n",
      "291/291 [==============================] - 0s 79us/step - loss: 0.2921 - acc: 0.9072 - val_loss: 0.2226 - val_acc: 0.9315\n",
      "Epoch 95/120\n",
      "291/291 [==============================] - 0s 86us/step - loss: 0.2959 - acc: 0.9141 - val_loss: 0.2056 - val_acc: 0.9315\n",
      "Epoch 96/120\n",
      "291/291 [==============================] - 0s 79us/step - loss: 0.2804 - acc: 0.8935 - val_loss: 0.2044 - val_acc: 0.9315\n",
      "Epoch 97/120\n",
      "291/291 [==============================] - 0s 76us/step - loss: 0.2771 - acc: 0.9107 - val_loss: 0.1991 - val_acc: 0.9315\n",
      "Epoch 98/120\n",
      "291/291 [==============================] - 0s 76us/step - loss: 0.2851 - acc: 0.8969 - val_loss: 0.1936 - val_acc: 0.9315\n",
      "Epoch 99/120\n",
      "291/291 [==============================] - 0s 86us/step - loss: 0.3398 - acc: 0.8935 - val_loss: 0.2042 - val_acc: 0.9315\n",
      "Epoch 100/120\n",
      "291/291 [==============================] - 0s 79us/step - loss: 0.2903 - acc: 0.9107 - val_loss: 0.2033 - val_acc: 0.9452\n",
      "Epoch 101/120\n",
      "291/291 [==============================] - 0s 90us/step - loss: 0.3032 - acc: 0.9003 - val_loss: 0.2238 - val_acc: 0.9315\n",
      "Epoch 102/120\n",
      "291/291 [==============================] - 0s 79us/step - loss: 0.3011 - acc: 0.9107 - val_loss: 0.2147 - val_acc: 0.9452\n",
      "Epoch 103/120\n",
      "291/291 [==============================] - 0s 79us/step - loss: 0.2851 - acc: 0.8866 - val_loss: 0.2147 - val_acc: 0.9452\n",
      "Epoch 104/120\n",
      "291/291 [==============================] - 0s 124us/step - loss: 0.2913 - acc: 0.9107 - val_loss: 0.2343 - val_acc: 0.9315\n",
      "Epoch 105/120\n",
      "291/291 [==============================] - 0s 93us/step - loss: 0.2704 - acc: 0.9038 - val_loss: 0.2320 - val_acc: 0.9315\n",
      "Epoch 106/120\n",
      "291/291 [==============================] - 0s 84us/step - loss: 0.2806 - acc: 0.9175 - val_loss: 0.2447 - val_acc: 0.9315\n",
      "Epoch 107/120\n",
      "291/291 [==============================] - 0s 81us/step - loss: 0.3056 - acc: 0.9038 - val_loss: 0.2315 - val_acc: 0.9315\n",
      "Epoch 108/120\n",
      "291/291 [==============================] - 0s 76us/step - loss: 0.2279 - acc: 0.9003 - val_loss: 0.2159 - val_acc: 0.9452\n",
      "Epoch 109/120\n",
      "291/291 [==============================] - 0s 86us/step - loss: 0.2595 - acc: 0.9141 - val_loss: 0.2177 - val_acc: 0.9452\n",
      "Epoch 110/120\n",
      "291/291 [==============================] - 0s 86us/step - loss: 0.2927 - acc: 0.8935 - val_loss: 0.2283 - val_acc: 0.9452\n",
      "Epoch 111/120\n",
      "291/291 [==============================] - 0s 77us/step - loss: 0.2812 - acc: 0.9038 - val_loss: 0.2344 - val_acc: 0.9315\n",
      "Epoch 112/120\n",
      "291/291 [==============================] - 0s 79us/step - loss: 0.2796 - acc: 0.9175 - val_loss: 0.2239 - val_acc: 0.9452\n",
      "Epoch 113/120\n",
      "291/291 [==============================] - 0s 76us/step - loss: 0.2926 - acc: 0.9210 - val_loss: 0.2212 - val_acc: 0.9452\n",
      "Epoch 114/120\n",
      "291/291 [==============================] - 0s 79us/step - loss: 0.2758 - acc: 0.9072 - val_loss: 0.2358 - val_acc: 0.9315\n",
      "Epoch 115/120\n",
      "291/291 [==============================] - 0s 72us/step - loss: 0.2804 - acc: 0.9003 - val_loss: 0.2189 - val_acc: 0.9315\n",
      "Epoch 116/120\n",
      "291/291 [==============================] - 0s 76us/step - loss: 0.2884 - acc: 0.9107 - val_loss: 0.2193 - val_acc: 0.9315\n",
      "Epoch 117/120\n",
      "291/291 [==============================] - 0s 83us/step - loss: 0.2996 - acc: 0.9210 - val_loss: 0.2203 - val_acc: 0.9452\n",
      "Epoch 118/120\n",
      "291/291 [==============================] - 0s 86us/step - loss: 0.2167 - acc: 0.9278 - val_loss: 0.2289 - val_acc: 0.9315\n",
      "Epoch 119/120\n",
      "291/291 [==============================] - 0s 85us/step - loss: 0.2666 - acc: 0.9038 - val_loss: 0.2249 - val_acc: 0.9315\n",
      "Epoch 120/120\n",
      "291/291 [==============================] - 0s 83us/step - loss: 0.2596 - acc: 0.9175 - val_loss: 0.2212 - val_acc: 0.9452\n",
      "7\n",
      "['Karl-Anthony Towns' \"D'Angelo Russell\" 'Willie Cauley-Stein'\n",
      " 'Trey Lyles' 'Buddy Hield' 'Marquese Chriss' 'Thon Maker']\n"
     ]
    }
   ],
   "source": [
    "idx = list(range(x_train.shape[0]))\n",
    "np.random.shuffle(idx)\n",
    "hist = model.fit(x_train[idx],y_train[idx],validation_split=0.2,epochs=120,shuffle=True, batch_size = 16 ,callbacks = [tbCallBack]))\n",
    "dnn_predict = model.predict_classes(x_test)\n",
    "print(sum(dnn_predict))\n",
    "print(y_test[dnn_predict == 1])"
   ]
  },
  {
   "cell_type": "code",
   "execution_count": 9,
   "metadata": {
    "ExecuteTime": {
     "end_time": "2018-01-05T16:19:14.013739Z",
     "start_time": "2018-01-05T16:19:13.766970Z"
    }
   },
   "outputs": [
    {
     "data": {
      "image/png": "[encoded data removed]",
      "text/plain": [
       "<matplotlib.figure.Figure at 0x201cc466588>"
      ]
     },
     "metadata": {},
     "output_type": "display_data"
    }
   ],
   "source": [
    "plt.plot(hist.history['acc'])\n",
    "plt.plot(hist.history['val_acc'])\n",
    "plt.title('model accuracy')\n",
    "plt.ylabel('accuracy')\n",
    "plt.xlabel('epoch')\n",
    "plt.legend(['train', 'test'], loc = 'lower right')\n",
    "plt.show()"
   ]
  },
  {
   "cell_type": "code",
   "execution_count": 10,
   "metadata": {
    "ExecuteTime": {
     "end_time": "2018-01-05T16:19:14.419646Z",
     "start_time": "2018-01-05T16:19:14.113187Z"
    }
   },
   "outputs": [
    {
     "data": {
      "image/png": "[encoded data removed]",
      "text/plain": [
       "<matplotlib.figure.Figure at 0x201d191e550>"
      ]
     },
     "metadata": {},
     "output_type": "display_data"
    }
   ],
   "source": [
    "plt.plot(hist.history['loss'])\n",
    "plt.plot(hist.history['val_loss'])\n",
    "plt.title('model loss')\n",
    "plt.ylabel('loss')\n",
    "plt.xlabel('epoch')\n",
    "plt.legend(['train', 'test'], loc = 'upper right')\n",
    "plt.show()"
   ]
  }
 ],
 "metadata": {
  "anaconda-cloud": {},
  "kernelspec": {
   "display_name": "Python 3",
   "language": "python",
   "name": "python3"
  },
  "language_info": {
   "codemirror_mode": {
    "name": "ipython",
    "version": 3
   },
   "file_extension": ".py",
   "mimetype": "text/x-python",
   "name": "python",
   "nbconvert_exporter": "python",
   "pygments_lexer": "ipython3",
   "version": "3.6.3"
  },
  "latex_envs": {
   "LaTeX_envs_menu_present": true,
   "autoclose": false,
   "autocomplete": true,
   "bibliofile": "biblio.bib",
   "cite_by": "apalike",
   "current_citInitial": 1,
   "eqLabelWithNumbers": true,
   "eqNumInitial": 1,
   "hotkeys": {
    "equation": "Ctrl-E",
    "itemize": "Ctrl-I"
   },
   "labels_anchors": false,
   "latex_user_defs": false,
   "report_style_numbering": false,
   "user_envs_cfg": false
  },
  "toc": {
   "nav_menu": {},
   "number_sections": true,
   "sideBar": true,
   "skip_h1_title": false,
   "toc_cell": false,
   "toc_position": {},
   "toc_section_display": "block",
   "toc_window_display": false
  },
  "varInspector": {
   "cols": {
    "lenName": 16,
    "lenType": 16,
    "lenVar": 40
   },
   "kernels_config": {
    "python": {
     "delete_cmd_postfix": "",
     "delete_cmd_prefix": "del ",
     "library": "var_list.py",
     "varRefreshCmd": "print(var_dic_list())"
    },
    "r": {
     "delete_cmd_postfix": ") ",
     "delete_cmd_prefix": "rm(",
     "library": "var_list.r",
     "varRefreshCmd": "cat(var_dic_list()) "
    }
   },
   "types_to_exclude": [
    "module",
    "function",
    "builtin_function_or_method",
    "instance",
    "_Feature"
   ],
   "window_display": false
  }
 },
 "nbformat": 4,
 "nbformat_minor": 1
}
