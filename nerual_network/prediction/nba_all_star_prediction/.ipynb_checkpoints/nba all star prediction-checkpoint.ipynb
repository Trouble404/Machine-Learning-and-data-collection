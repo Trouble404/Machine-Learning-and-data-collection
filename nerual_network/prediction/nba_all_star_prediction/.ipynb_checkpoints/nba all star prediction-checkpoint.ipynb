{
 "cells": [
  {
   "cell_type": "code",
   "execution_count": 1,
   "metadata": {
    "collapsed": true
   },
   "outputs": [],
   "source": [
    "import numpy as np\n",
    "import pandas as pd\n",
    "import matplotlib.pyplot as plt"
   ]
  },
  {
   "cell_type": "code",
   "execution_count": 2,
   "metadata": {
    "collapsed": true
   },
   "outputs": [],
   "source": [
    "#load dataset\n",
    "df1 = pd.read_csv(\"00_16_alldata.csv\", header=None, encoding='utf-8')\n",
    "#df1 = df1.astype(float)\n",
    "ds = df1.values\n",
    "x = ds[:,0:172]"
   ]
  },
  {
   "cell_type": "code",
   "execution_count": 3,
   "metadata": {
    "collapsed": true
   },
   "outputs": [],
   "source": [
    "df2 = pd.read_csv(\"17_all data.csv\", header=None, encoding='utf-8')\n",
    "#df1 = df1.astype(float)\n",
    "ds2 = df2.values\n",
    "x1 = ds2[:,0:172]"
   ]
  },
  {
   "cell_type": "code",
   "execution_count": 4,
   "metadata": {},
   "outputs": [
    {
     "name": "stderr",
     "output_type": "stream",
     "text": [
      "Using TensorFlow backend.\n"
     ]
    }
   ],
   "source": [
    "from keras.layers import *\n",
    "from keras.models import Sequential, Model\n",
    "from keras.utils import plot_model;\n",
    "import keras"
   ]
  },
  {
   "cell_type": "code",
   "execution_count": 5,
   "metadata": {},
   "outputs": [],
   "source": [
    "#load dataset\n",
    "#df = pandas.read_csv(\"04-12_NBA_rookies_data_without3PP.csv\", header=None)\n",
    "df1 = pd.read_csv(\"00_16_allplayers_label.csv\",header=None)\n",
    "#df_test = pandas.read_csv(\"prediction_data.csv\",header=None)\n",
    "df1_test = pd.read_csv(\"17_name.csv\",header=None)\n",
    "#ds = df.values\n",
    "ds1 = df1.values\n",
    "#ds_test = df_test.values\n",
    "ds1_test = df1_test.values\n",
    "x_train = ds[:,0:172]\n",
    "y_train = ds1[:,1]\n",
    "x_test = ds2[:,0:172]\n",
    "y_test = ds1_test[:,0]\n",
    "\n",
    "dim = x_train.shape[1]\n",
    "model = Sequential()\n",
    "model.add(Dense(100, input_dim=dim, activation='tanh'))\n",
    "model.add(Dropout(0.5))\n",
    "model.add(Dense(2, activation='softmax'))\n",
    "\n",
    "model.compile(loss='sparse_categorical_crossentropy', optimizer='rmsprop',metrics=[\"accuracy\"])"
   ]
  },
  {
   "cell_type": "code",
   "execution_count": null,
   "metadata": {},
   "outputs": [],
   "source": [
    "plot_model(model, to_file = 'model_for_nba_all_star_prediction.png', show_shapes = True)"
   ]
  },
  {
   "cell_type": "code",
   "execution_count": 6,
   "metadata": {
    "collapsed": true
   },
   "outputs": [],
   "source": [
    "# Change log_dir for differnt activation function, change the number for every run.\n",
    "tbCallBack = keras.callbacks.TensorBoard(log_dir='C:/Users/MSI/Desktop/tensorboard', histogram_freq=0, write_graph=True, write_images=True)"
   ]
  },
  {
   "cell_type": "code",
   "execution_count": 7,
   "metadata": {},
   "outputs": [
    {
     "name": "stdout",
     "output_type": "stream",
     "text": [
      "Train on 5480 samples, validate on 1370 samples\n",
      "Epoch 1/30\n",
      "5480/5480 [==============================] - 0s 65us/step - loss: 0.2489 - acc: 0.9259 - val_loss: 0.1222 - val_acc: 0.9474\n",
      "Epoch 2/30\n",
      "5480/5480 [==============================] - 0s 57us/step - loss: 0.1465 - acc: 0.9491 - val_loss: 0.1103 - val_acc: 0.9591\n",
      "Epoch 3/30\n",
      "5480/5480 [==============================] - 0s 55us/step - loss: 0.1373 - acc: 0.9542 - val_loss: 0.0992 - val_acc: 0.9599\n",
      "Epoch 4/30\n",
      "5480/5480 [==============================] - 0s 58us/step - loss: 0.1222 - acc: 0.9531 - val_loss: 0.1012 - val_acc: 0.9628\n",
      "Epoch 5/30\n",
      "5480/5480 [==============================] - 0s 55us/step - loss: 0.1136 - acc: 0.9611 - val_loss: 0.0993 - val_acc: 0.9606\n",
      "Epoch 6/30\n",
      "5480/5480 [==============================] - 0s 53us/step - loss: 0.1205 - acc: 0.9558 - val_loss: 0.0856 - val_acc: 0.9679\n",
      "Epoch 7/30\n",
      "5480/5480 [==============================] - 0s 57us/step - loss: 0.1114 - acc: 0.9606 - val_loss: 0.1017 - val_acc: 0.9628\n",
      "Epoch 8/30\n",
      "5480/5480 [==============================] - 0s 55us/step - loss: 0.1097 - acc: 0.9633 - val_loss: 0.0878 - val_acc: 0.9679\n",
      "Epoch 9/30\n",
      "5480/5480 [==============================] - 0s 50us/step - loss: 0.1065 - acc: 0.9644 - val_loss: 0.0893 - val_acc: 0.9635\n",
      "Epoch 10/30\n",
      "5480/5480 [==============================] - 0s 57us/step - loss: 0.1051 - acc: 0.9662 - val_loss: 0.1105 - val_acc: 0.9599\n",
      "Epoch 11/30\n",
      "5480/5480 [==============================] - 0s 62us/step - loss: 0.1100 - acc: 0.9624 - val_loss: 0.0922 - val_acc: 0.9642\n",
      "Epoch 12/30\n",
      "5480/5480 [==============================] - 0s 53us/step - loss: 0.1016 - acc: 0.9653 - val_loss: 0.0929 - val_acc: 0.9664\n",
      "Epoch 13/30\n",
      "5480/5480 [==============================] - 0s 54us/step - loss: 0.0998 - acc: 0.9657 - val_loss: 0.0934 - val_acc: 0.9628\n",
      "Epoch 14/30\n",
      "5480/5480 [==============================] - 0s 59us/step - loss: 0.1032 - acc: 0.9622 - val_loss: 0.0864 - val_acc: 0.9650\n",
      "Epoch 15/30\n",
      "5480/5480 [==============================] - 0s 57us/step - loss: 0.1021 - acc: 0.9672 - val_loss: 0.0967 - val_acc: 0.9642\n",
      "Epoch 16/30\n",
      "5480/5480 [==============================] - 0s 54us/step - loss: 0.1082 - acc: 0.9624 - val_loss: 0.0961 - val_acc: 0.9642\n",
      "Epoch 17/30\n",
      "5480/5480 [==============================] - 0s 59us/step - loss: 0.0982 - acc: 0.9631 - val_loss: 0.0904 - val_acc: 0.9650\n",
      "Epoch 18/30\n",
      "5480/5480 [==============================] - 0s 54us/step - loss: 0.1013 - acc: 0.9630 - val_loss: 0.0927 - val_acc: 0.9613\n",
      "Epoch 19/30\n",
      "5480/5480 [==============================] - 0s 57us/step - loss: 0.0993 - acc: 0.9666 - val_loss: 0.0995 - val_acc: 0.9657\n",
      "Epoch 20/30\n",
      "5480/5480 [==============================] - 0s 63us/step - loss: 0.0999 - acc: 0.9677 - val_loss: 0.1034 - val_acc: 0.9635\n",
      "Epoch 21/30\n",
      "5480/5480 [==============================] - 0s 55us/step - loss: 0.1050 - acc: 0.9661 - val_loss: 0.0967 - val_acc: 0.9664\n",
      "Epoch 22/30\n",
      "5480/5480 [==============================] - 0s 54us/step - loss: 0.1042 - acc: 0.9651 - val_loss: 0.1063 - val_acc: 0.9657\n",
      "Epoch 23/30\n",
      "5480/5480 [==============================] - 0s 60us/step - loss: 0.1012 - acc: 0.9651 - val_loss: 0.0966 - val_acc: 0.9650\n",
      "Epoch 24/30\n",
      "5480/5480 [==============================] - 0s 57us/step - loss: 0.1066 - acc: 0.9615 - val_loss: 0.1026 - val_acc: 0.9657\n",
      "Epoch 25/30\n",
      "5480/5480 [==============================] - 0s 57us/step - loss: 0.1072 - acc: 0.9666 - val_loss: 0.1086 - val_acc: 0.9628\n",
      "Epoch 26/30\n",
      "5480/5480 [==============================] - 0s 58us/step - loss: 0.1084 - acc: 0.9648 - val_loss: 0.0920 - val_acc: 0.9664\n",
      "Epoch 27/30\n",
      "5480/5480 [==============================] - 0s 60us/step - loss: 0.1069 - acc: 0.9662 - val_loss: 0.0945 - val_acc: 0.9664\n",
      "Epoch 28/30\n",
      "5480/5480 [==============================] - 0s 54us/step - loss: 0.1030 - acc: 0.9679 - val_loss: 0.1001 - val_acc: 0.9635\n",
      "Epoch 29/30\n",
      "5480/5480 [==============================] - 0s 56us/step - loss: 0.1031 - acc: 0.9664 - val_loss: 0.1001 - val_acc: 0.9650\n",
      "Epoch 30/30\n",
      "5480/5480 [==============================] - 0s 61us/step - loss: 0.1001 - acc: 0.9657 - val_loss: 0.0938 - val_acc: 0.9650\n",
      "22\n",
      "['Anthony Davis' 'Blake Griffin' 'Bradley Beal' 'Chris Paul'\n",
      " 'Damian Lillard' 'DeMar DeRozan' 'DeMarcus Cousins'\n",
      " 'Giannis Antetokounmpo' 'James Harden' 'Jimmy Butler' 'Joel Embiid'\n",
      " 'John Wall' 'Karl-Anthony Towns' 'Kemba Walker' 'Kevin Durant'\n",
      " 'Kristaps Porzingis' 'Kyrie Irving' 'LaMarcus Aldridge' 'LeBron James'\n",
      " 'Russell Westbrook' 'Stephen Curry' 'Victor Oladipo']\n"
     ]
    }
   ],
   "source": [
    "idx = list(range(x_train.shape[0]))\n",
    "np.random.shuffle(idx)\n",
    "hist = model.fit(x_train[idx],y_train[idx],validation_split=0.2,epochs=30,shuffle=True ,callbacks = [tbCallBack])\n",
    "dnn_predict = model.predict_classes(x_test)\n",
    "print(sum(dnn_predict))\n",
    "print(y_test[dnn_predict == 1])"
   ]
  },
  {
   "cell_type": "code",
   "execution_count": 8,
   "metadata": {},
   "outputs": [
    {
     "data": {
      "image/png": "[encoded data removed]",
      "text/plain": [
       "<matplotlib.figure.Figure at 0x1cd4e715550>"
      ]
     },
     "metadata": {},
     "output_type": "display_data"
    }
   ],
   "source": [
    "plt.plot(hist.history['acc'])\n",
    "plt.plot(hist.history['val_acc'])\n",
    "plt.title('model accuracy')\n",
    "plt.ylabel('accuracy')\n",
    "plt.xlabel('epoch')\n",
    "plt.legend(['train', 'test'], loc = 'lower right')\n",
    "plt.show()"
   ]
  },
  {
   "cell_type": "code",
   "execution_count": 9,
   "metadata": {},
   "outputs": [
    {
     "data": {
      "image/png": "[encoded data removed]",
      "text/plain": [
       "<matplotlib.figure.Figure at 0x1cd4f636e80>"
      ]
     },
     "metadata": {},
     "output_type": "display_data"
    }
   ],
   "source": [
    "plt.plot(hist.history['loss'])\n",
    "plt.plot(hist.history['val_loss'])\n",
    "plt.title('model loss')\n",
    "plt.ylabel('loss')\n",
    "plt.xlabel('epoch')\n",
    "plt.legend(['train', 'test'], loc = 'upper right')\n",
    "plt.show()"
   ]
  },
  {
   "cell_type": "code",
   "execution_count": null,
   "metadata": {
    "collapsed": true
   },
   "outputs": [],
   "source": []
  }
 ],
 "metadata": {
  "anaconda-cloud": {},
  "kernelspec": {
   "display_name": "Python 3",
   "language": "python",
   "name": "python3"
  },
  "language_info": {
   "codemirror_mode": {
    "name": "ipython",
    "version": 3
   },
   "file_extension": ".py",
   "mimetype": "text/x-python",
   "name": "python",
   "nbconvert_exporter": "python",
   "pygments_lexer": "ipython3",
   "version": "3.6.3"
  },
  "latex_envs": {
   "LaTeX_envs_menu_present": true,
   "autoclose": false,
   "autocomplete": true,
   "bibliofile": "biblio.bib",
   "cite_by": "apalike",
   "current_citInitial": 1,
   "eqLabelWithNumbers": true,
   "eqNumInitial": 1,
   "hotkeys": {
    "equation": "Ctrl-E",
    "itemize": "Ctrl-I"
   },
   "labels_anchors": false,
   "latex_user_defs": false,
   "report_style_numbering": false,
   "user_envs_cfg": false
  },
  "toc": {
   "nav_menu": {},
   "number_sections": true,
   "sideBar": true,
   "skip_h1_title": false,
   "toc_cell": false,
   "toc_position": {},
   "toc_section_display": "block",
   "toc_window_display": false
  },
  "varInspector": {
   "cols": {
    "lenName": 16,
    "lenType": 16,
    "lenVar": 40
   },
   "kernels_config": {
    "python": {
     "delete_cmd_postfix": "",
     "delete_cmd_prefix": "del ",
     "library": "var_list.py",
     "varRefreshCmd": "print(var_dic_list())"
    },
    "r": {
     "delete_cmd_postfix": ") ",
     "delete_cmd_prefix": "rm(",
     "library": "var_list.r",
     "varRefreshCmd": "cat(var_dic_list()) "
    }
   },
   "types_to_exclude": [
    "module",
    "function",
    "builtin_function_or_method",
    "instance",
    "_Feature"
   ],
   "window_display": false
  }
 },
 "nbformat": 4,
 "nbformat_minor": 1
}
