{
 "cells": [
  {
   "cell_type": "code",
   "execution_count": 1,
   "metadata": {
    "ExecuteTime": {
     "end_time": "2018-01-09T21:23:17.265078Z",
     "start_time": "2018-01-09T21:23:15.360322Z"
    }
   },
   "outputs": [
    {
     "name": "stderr",
     "output_type": "stream",
     "text": [
      "Using TensorFlow backend.\n",
      "/usr/lib/python3.6/importlib/_bootstrap.py:219: RuntimeWarning: compiletime version 3.5 of module 'tensorflow.python.framework.fast_tensor_util' does not match runtime version 3.6\n",
      "  return f(*args, **kwds)\n"
     ]
    }
   ],
   "source": [
    "import numpy as np\n",
    "import pandas as pd\n",
    "import matplotlib.pyplot as plt\n",
    "from keras.utils import plot_model;"
   ]
  },
  {
   "cell_type": "code",
   "execution_count": 2,
   "metadata": {
    "ExecuteTime": {
     "end_time": "2018-01-09T21:23:17.658636Z",
     "start_time": "2018-01-09T21:23:17.274949Z"
    }
   },
   "outputs": [],
   "source": [
    "#load dataset\n",
    "df1 = pd.read_csv(\"00_16_alldata.csv\", header=None, encoding='utf-8')\n",
    "#df1 = df1.astype(float)\n",
    "ds = df1.values\n",
    "x = ds[:,0:172]"
   ]
  },
  {
   "cell_type": "markdown",
   "metadata": {},
   "source": [
    "# PCA analysis"
   ]
  },
  {
   "cell_type": "code",
   "execution_count": 3,
   "metadata": {
    "ExecuteTime": {
     "end_time": "2018-01-09T21:23:18.347590Z",
     "start_time": "2018-01-09T21:23:18.261734Z"
    }
   },
   "outputs": [],
   "source": [
    "def zeroMean(dataMat):        \n",
    "    meanVal=np.mean(dataMat,axis=0)     #get mean by columns\n",
    "    newData=dataMat-meanVal  \n",
    "    return newData,meanVal\n",
    "\n",
    "\n",
    "def percentage2n(eigVals,percentage):  \n",
    "    sortArray=np.sort(eigVals)          #ascend order \n",
    "    sortArray=sortArray[-1::-1]           \n",
    "    arraySum=sum(sortArray)  \n",
    "    tmpSum=0  \n",
    "    num=0  \n",
    "    for i in sortArray:  \n",
    "        tmpSum+=i  \n",
    "        num+=1  \n",
    "        if tmpSum>=arraySum*percentage:  \n",
    "            return num  \n",
    "\n",
    "\n",
    "def pca48(dataMat,percentage=0.99):  \n",
    "    newData,meanVal=zeroMean(dataMat)  \n",
    "    covMat=np.cov(newData,rowvar=0)      #covariance  \n",
    "    eigVals,eigVects=np.linalg.eig(np.mat(covMat))      \n",
    "    n=percentage2n(eigVals,percentage) #need n dimensionol data to get the convariance percentage\n",
    "    n = 48 # calculated in pca file\n",
    "    eigValIndice=np.argsort(eigVals)            #ascend order \n",
    "    n_eigValIndice=eigValIndice[-1:-(n+1):-1]   \n",
    "    n_eigVect=eigVects[:,n_eigValIndice]        \n",
    "    lowDDataMat=newData*n_eigVect               #lower dimensional data  \n",
    "    reconMat=(lowDDataMat*n_eigVect.T)+meanVal  #reconstruct data  \n",
    "    return lowDDataMat,reconMat,n"
   ]
  },
  {
   "cell_type": "markdown",
   "metadata": {},
   "source": [
    "# PCA processing"
   ]
  },
  {
   "cell_type": "code",
   "execution_count": 4,
   "metadata": {
    "ExecuteTime": {
     "end_time": "2018-01-09T21:23:20.236303Z",
     "start_time": "2018-01-09T21:23:19.843541Z"
    }
   },
   "outputs": [
    {
     "name": "stdout",
     "output_type": "stream",
     "text": [
      "auto choose 48 dimentional\n"
     ]
    },
    {
     "data": {
      "text/plain": [
       "matrix([[ -737.72958317,  -424.0102384 ,    79.84533274, ...,\n",
       "           -80.27404557,    61.10863795,   -23.20954613],\n",
       "        [-1093.18333989,  -398.76332102,   254.13678502, ...,\n",
       "           -17.02748226,    14.92451119,   -25.29754021],\n",
       "        [ -812.74520318,   383.63310124,   199.21362524, ...,\n",
       "            20.05017844,    -8.83067893,   -11.60573475],\n",
       "        ..., \n",
       "        [ -868.88001902,  -531.44916168,    32.98504856, ...,\n",
       "             2.40211855,    49.90657281,   -29.31671107],\n",
       "        [ -452.65192631,   536.59163677,   308.45987349, ...,\n",
       "           -13.24141449,    28.89456074,   -14.19115945],\n",
       "        [  111.86824181,   745.81614248,   -19.20228308, ...,\n",
       "            85.7081856 ,    -8.15965862,   -11.73434479]])"
      ]
     },
     "execution_count": 4,
     "metadata": {},
     "output_type": "execute_result"
    }
   ],
   "source": [
    "lowDDataMat,reconMat,n = pca48(x)\n",
    "print('auto choose '+str(n)+' dimentional')\n",
    "lowDDataMat=lowDDataMat.real\n",
    "lowDDataMat"
   ]
  },
  {
   "cell_type": "code",
   "execution_count": 5,
   "metadata": {
    "ExecuteTime": {
     "end_time": "2018-01-09T21:23:21.100274Z",
     "start_time": "2018-01-09T21:23:21.007179Z"
    }
   },
   "outputs": [
    {
     "name": "stdout",
     "output_type": "stream",
     "text": [
      "auto choose 48 dimentional\n"
     ]
    },
    {
     "data": {
      "text/plain": [
       "matrix([[  575.24552889,  -360.82032506,  -234.54566789, ...,\n",
       "            94.73776237,   -35.89350622,    -6.86651294],\n",
       "        [-1056.7064301 ,    59.69888333,   265.33639244, ...,\n",
       "            28.58700128,   -33.45620999,   -16.88039353],\n",
       "        [ 1019.62774633,  -321.85830349,    48.84026106, ...,\n",
       "            -3.9150648 ,   111.92091113,    33.35630552],\n",
       "        ..., \n",
       "        [ -861.2941087 ,   380.0039957 ,  -178.86529363, ...,\n",
       "             9.13693483,    17.35953165,    26.96526909],\n",
       "        [   -3.51572709,   835.85131386,   -70.67930323, ...,\n",
       "            60.04677567,   -27.3586752 ,    -5.23545994],\n",
       "        [  935.97014531,    97.02653935,    44.68369466, ...,\n",
       "           -11.19284849,    32.52808692,    77.62235472]])"
      ]
     },
     "execution_count": 5,
     "metadata": {},
     "output_type": "execute_result"
    }
   ],
   "source": [
    "df2 = pd.read_csv(\"17_all data.csv\", header=None, encoding='utf-8')\n",
    "#df1 = df1.astype(float)\n",
    "ds1 = df2.values\n",
    "x1 = ds1[:,0:172]\n",
    "lowDDataMat3,reconMat3,n3 = pca48(x1)\n",
    "print('auto choose '+ str(n3) + ' dimentional')\n",
    "lowDDataMat3=lowDDataMat3.real\n",
    "lowDDataMat3"
   ]
  },
  {
   "cell_type": "markdown",
   "metadata": {},
   "source": [
    "# Keras application "
   ]
  },
  {
   "cell_type": "code",
   "execution_count": 6,
   "metadata": {
    "ExecuteTime": {
     "end_time": "2018-01-09T21:23:23.085459Z",
     "start_time": "2018-01-09T21:23:23.082170Z"
    }
   },
   "outputs": [],
   "source": [
    "from keras.layers import *\n",
    "from keras.models import Sequential, Model\n",
    "from keras.utils import plot_model;\n",
    "import keras"
   ]
  },
  {
   "cell_type": "code",
   "execution_count": 7,
   "metadata": {
    "ExecuteTime": {
     "end_time": "2018-01-09T21:23:26.436082Z",
     "start_time": "2018-01-09T21:23:26.113172Z"
    }
   },
   "outputs": [],
   "source": [
    "#load dataset\n",
    "#df = pandas.read_csv(\"04-12_NBA_rookies_data_without3PP.csv\", header=None)\n",
    "df1 = pd.read_csv(\"00_16_allplayers_label.csv\",header=None)\n",
    "#df_test = pandas.read_csv(\"prediction_data.csv\",header=None)\n",
    "df1_test = pd.read_csv(\"17_name.csv\",header=None)\n",
    "#ds = df.values\n",
    "ds1 = df1.values\n",
    "#ds_test = df_test.values\n",
    "ds1_test = df1_test.values\n",
    "x_train = lowDDataMat[:,0:48]\n",
    "y_train = ds1[:,1]\n",
    "x_test = lowDDataMat3[:,0:48]\n",
    "y_test = ds1_test[:,0]\n",
    "\n",
    "dim = x_train.shape[1]\n",
    "model = Sequential()\n",
    "model.add(Dense(100, input_dim=dim, activation='tanh'))\n",
    "model.add(Dropout(0.5))\n",
    "model.add(Dense(2, activation='softmax'))\n",
    "\n",
    "model.compile(loss='sparse_categorical_crossentropy', optimizer='rmsprop',metrics=[\"accuracy\"])"
   ]
  },
  {
   "cell_type": "code",
   "execution_count": 8,
   "metadata": {
    "ExecuteTime": {
     "end_time": "2018-01-09T21:23:26.993129Z",
     "start_time": "2018-01-09T21:23:26.937855Z"
    }
   },
   "outputs": [],
   "source": [
    "plot_model(model, to_file = 'model_for_nba_all_star_with_pca_prediction.png', show_shapes = True)"
   ]
  },
  {
   "cell_type": "code",
   "execution_count": 8,
   "metadata": {
    "collapsed": true
   },
   "outputs": [],
   "source": [
    "# Change log_dir for differnt activation function, change the number for every run.\n",
    "tbCallBack = keras.callbacks.TensorBoard(log_dir='C:/Users/MSI/Desktop/tensorboard', histogram_freq=0, write_graph=True, write_images=True)"
   ]
  },
  {
   "cell_type": "code",
   "execution_count": 9,
   "metadata": {},
   "outputs": [
    {
     "name": "stdout",
     "output_type": "stream",
     "text": [
      "Train on 5480 samples, validate on 1370 samples\n",
      "Epoch 1/30\n",
      "5480/5480 [==============================] - 0s 63us/step - loss: 0.9394 - acc: 0.5593 - val_loss: 0.5538 - val_acc: 0.7380\n",
      "Epoch 2/30\n",
      "5480/5480 [==============================] - 0s 51us/step - loss: 0.5557 - acc: 0.7184 - val_loss: 0.4126 - val_acc: 0.8825\n",
      "Epoch 3/30\n",
      "5480/5480 [==============================] - 0s 56us/step - loss: 0.3898 - acc: 0.8695 - val_loss: 0.3275 - val_acc: 0.9453\n",
      "Epoch 4/30\n",
      "5480/5480 [==============================] - 0s 51us/step - loss: 0.3037 - acc: 0.9259 - val_loss: 0.2670 - val_acc: 0.9416\n",
      "Epoch 5/30\n",
      "5480/5480 [==============================] - 0s 51us/step - loss: 0.2445 - acc: 0.9453 - val_loss: 0.2227 - val_acc: 0.9453\n",
      "Epoch 6/30\n",
      "5480/5480 [==============================] - 0s 58us/step - loss: 0.2081 - acc: 0.9462 - val_loss: 0.1922 - val_acc: 0.9445\n",
      "Epoch 7/30\n",
      "5480/5480 [==============================] - 0s 50us/step - loss: 0.1791 - acc: 0.9474 - val_loss: 0.1688 - val_acc: 0.9504\n",
      "Epoch 8/30\n",
      "5480/5480 [==============================] - 0s 53us/step - loss: 0.1606 - acc: 0.9515 - val_loss: 0.1511 - val_acc: 0.9518\n",
      "Epoch 9/30\n",
      "5480/5480 [==============================] - 0s 51us/step - loss: 0.1469 - acc: 0.9487 - val_loss: 0.1407 - val_acc: 0.9540\n",
      "Epoch 10/30\n",
      "5480/5480 [==============================] - 0s 59us/step - loss: 0.1364 - acc: 0.9524 - val_loss: 0.1322 - val_acc: 0.9511\n",
      "Epoch 11/30\n",
      "5480/5480 [==============================] - 0s 55us/step - loss: 0.1323 - acc: 0.9524 - val_loss: 0.1284 - val_acc: 0.9504\n",
      "Epoch 12/30\n",
      "5480/5480 [==============================] - 0s 51us/step - loss: 0.1282 - acc: 0.9505 - val_loss: 0.1229 - val_acc: 0.9533\n",
      "Epoch 13/30\n",
      "5480/5480 [==============================] - 0s 58us/step - loss: 0.1212 - acc: 0.9536 - val_loss: 0.1164 - val_acc: 0.9606\n",
      "Epoch 14/30\n",
      "5480/5480 [==============================] - 0s 59us/step - loss: 0.1163 - acc: 0.9562 - val_loss: 0.1144 - val_acc: 0.9613\n",
      "Epoch 15/30\n",
      "5480/5480 [==============================] - 0s 61us/step - loss: 0.1129 - acc: 0.9602 - val_loss: 0.1124 - val_acc: 0.9628\n",
      "Epoch 16/30\n",
      "5480/5480 [==============================] - 0s 58us/step - loss: 0.1119 - acc: 0.9582 - val_loss: 0.1087 - val_acc: 0.9650\n",
      "Epoch 17/30\n",
      "5480/5480 [==============================] - 0s 65us/step - loss: 0.1105 - acc: 0.9573 - val_loss: 0.1063 - val_acc: 0.9664\n",
      "Epoch 18/30\n",
      "5480/5480 [==============================] - 0s 55us/step - loss: 0.1090 - acc: 0.9582 - val_loss: 0.1082 - val_acc: 0.9628\n",
      "Epoch 19/30\n",
      "5480/5480 [==============================] - 0s 68us/step - loss: 0.1081 - acc: 0.9577 - val_loss: 0.1059 - val_acc: 0.9672\n",
      "Epoch 20/30\n",
      "5480/5480 [==============================] - 0s 51us/step - loss: 0.1034 - acc: 0.9595 - val_loss: 0.1071 - val_acc: 0.9650\n",
      "Epoch 21/30\n",
      "5480/5480 [==============================] - 0s 50us/step - loss: 0.1060 - acc: 0.9586 - val_loss: 0.1045 - val_acc: 0.9635\n",
      "Epoch 22/30\n",
      "5480/5480 [==============================] - 0s 54us/step - loss: 0.1047 - acc: 0.9620 - val_loss: 0.1040 - val_acc: 0.9635\n",
      "Epoch 23/30\n",
      "5480/5480 [==============================] - 0s 58us/step - loss: 0.1004 - acc: 0.9613 - val_loss: 0.1028 - val_acc: 0.9642\n",
      "Epoch 24/30\n",
      "5480/5480 [==============================] - 0s 51us/step - loss: 0.1056 - acc: 0.9597 - val_loss: 0.1037 - val_acc: 0.9642\n",
      "Epoch 25/30\n",
      "5480/5480 [==============================] - 0s 50us/step - loss: 0.1054 - acc: 0.9604 - val_loss: 0.1032 - val_acc: 0.9628\n",
      "Epoch 26/30\n",
      "5480/5480 [==============================] - 0s 58us/step - loss: 0.1034 - acc: 0.9599 - val_loss: 0.1027 - val_acc: 0.9635\n",
      "Epoch 27/30\n",
      "5480/5480 [==============================] - 0s 50us/step - loss: 0.0998 - acc: 0.9608 - val_loss: 0.1034 - val_acc: 0.9591\n",
      "Epoch 28/30\n",
      "5480/5480 [==============================] - 0s 51us/step - loss: 0.1037 - acc: 0.9602 - val_loss: 0.1004 - val_acc: 0.9628\n",
      "Epoch 29/30\n",
      "5480/5480 [==============================] - 0s 61us/step - loss: 0.1016 - acc: 0.9609 - val_loss: 0.0998 - val_acc: 0.9635\n",
      "Epoch 30/30\n",
      "5480/5480 [==============================] - 0s 66us/step - loss: 0.0985 - acc: 0.9648 - val_loss: 0.1024 - val_acc: 0.9599\n",
      "8\n",
      "['Blake Griffin' 'DeMarcus Cousins' 'Karl-Anthony Towns' 'Kevin Love'\n",
      " 'Kristaps Porzingis' 'Kyle Kuzma' 'Marc Gasol' 'Zach Randolph']\n"
     ]
    }
   ],
   "source": [
    "idx = list(range(x_train.shape[0]))\n",
    "np.random.shuffle(idx)\n",
    "hist = model.fit(x_train[idx],y_train[idx],validation_split=0.2,epochs=30,shuffle=True ,callbacks = [tbCallBack])\n",
    "dnn_predict = model.predict_classes(x_test)\n",
    "print(sum(dnn_predict))\n",
    "print(y_test[dnn_predict == 1])"
   ]
  },
  {
   "cell_type": "code",
   "execution_count": 10,
   "metadata": {},
   "outputs": [
    {
     "data": {
      "image/png": "[encoded data removed]",
      "text/plain": [
       "<matplotlib.figure.Figure at 0x2579dea2780>"
      ]
     },
     "metadata": {},
     "output_type": "display_data"
    }
   ],
   "source": [
    "plt.plot(hist.history['acc'])\n",
    "plt.plot(hist.history['val_acc'])\n",
    "plt.title('model accuracy')\n",
    "plt.ylabel('accuracy')\n",
    "plt.xlabel('epoch')\n",
    "plt.legend(['train', 'test'], loc = 'lower right')\n",
    "plt.show()"
   ]
  },
  {
   "cell_type": "code",
   "execution_count": 11,
   "metadata": {},
   "outputs": [
    {
     "data": {
      "image/png": "[encoded data removed]",
      "text/plain": [
       "<matplotlib.figure.Figure at 0x2579f768b38>"
      ]
     },
     "metadata": {},
     "output_type": "display_data"
    }
   ],
   "source": [
    "plt.plot(hist.history['loss'])\n",
    "plt.plot(hist.history['val_loss'])\n",
    "plt.title('model loss')\n",
    "plt.ylabel('loss')\n",
    "plt.xlabel('epoch')\n",
    "plt.legend(['train', 'test'], loc = 'upper right')\n",
    "plt.show()"
   ]
  },
  {
   "cell_type": "code",
   "execution_count": null,
   "metadata": {
    "collapsed": true
   },
   "outputs": [],
   "source": []
  }
 ],
 "metadata": {
  "anaconda-cloud": {},
  "kernelspec": {
   "display_name": "Python 3",
   "language": "python",
   "name": "python3"
  },
  "language_info": {
   "codemirror_mode": {
    "name": "ipython",
    "version": 3
   },
   "file_extension": ".py",
   "mimetype": "text/x-python",
   "name": "python",
   "nbconvert_exporter": "python",
   "pygments_lexer": "ipython3",
   "version": "3.6.3"
  },
  "latex_envs": {
   "LaTeX_envs_menu_present": true,
   "autoclose": false,
   "autocomplete": true,
   "bibliofile": "biblio.bib",
   "cite_by": "apalike",
   "current_citInitial": 1,
   "eqLabelWithNumbers": true,
   "eqNumInitial": 1,
   "hotkeys": {
    "equation": "Ctrl-E",
    "itemize": "Ctrl-I"
   },
   "labels_anchors": false,
   "latex_user_defs": false,
   "report_style_numbering": false,
   "user_envs_cfg": false
  },
  "toc": {
   "nav_menu": {},
   "number_sections": true,
   "sideBar": true,
   "skip_h1_title": false,
   "toc_cell": false,
   "toc_position": {},
   "toc_section_display": "block",
   "toc_window_display": false
  },
  "varInspector": {
   "cols": {
    "lenName": 16,
    "lenType": 16,
    "lenVar": 40
   },
   "kernels_config": {
    "python": {
     "delete_cmd_postfix": "",
     "delete_cmd_prefix": "del ",
     "library": "var_list.py",
     "varRefreshCmd": "print(var_dic_list())"
    },
    "r": {
     "delete_cmd_postfix": ") ",
     "delete_cmd_prefix": "rm(",
     "library": "var_list.r",
     "varRefreshCmd": "cat(var_dic_list()) "
    }
   },
   "types_to_exclude": [
    "module",
    "function",
    "builtin_function_or_method",
    "instance",
    "_Feature"
   ],
   "window_display": false
  }
 },
 "nbformat": 4,
 "nbformat_minor": 1
}
