{
 "cells": [
  {
   "cell_type": "code",
   "execution_count": 1,
   "metadata": {
    "ExecuteTime": {
     "end_time": "2018-01-07T15:25:17.887000Z",
     "start_time": "2018-01-07T15:25:15.143927Z"
    }
   },
   "outputs": [
    {
     "name": "stderr",
     "output_type": "stream",
     "text": [
      "Using TensorFlow backend.\n",
      "/usr/lib/python3.6/importlib/_bootstrap.py:219: RuntimeWarning: compiletime version 3.5 of module 'tensorflow.python.framework.fast_tensor_util' does not match runtime version 3.6\n",
      "  return f(*args, **kwds)\n"
     ]
    }
   ],
   "source": [
    "import numpy as np\n",
    "import pandas\n",
    "from keras.layers import *\n",
    "from keras.models import Sequential, Model\n",
    "import keras\n",
    "import pca2\n",
    "import matplotlib.pyplot as plt"
   ]
  },
  {
   "cell_type": "code",
   "execution_count": 2,
   "metadata": {
    "ExecuteTime": {
     "end_time": "2018-01-05T17:26:11.799454Z",
     "start_time": "2018-01-05T17:26:11.472764Z"
    }
   },
   "outputs": [],
   "source": [
    "df = pandas.read_csv(\"04-16_NBA_rookies_data.csv\", header=None)\n",
    "df1 = pandas.read_csv(\"04-16_NBA_rookies_label.csv\",header=None)\n",
    "df_test = pandas.read_csv(\"2017rookies_data.csv\",header=None)\n",
    "df1_test = pandas.read_csv(\"2017rookies_name.csv\",header=None)\n",
    "ds = df.values\n",
    "ds1 = df1.values\n",
    "lowDDataMat,reconMat=pca2.pca(ds)  #pca\n",
    "ds_test = df_test.values\n",
    "lowDDataMat1,reconMat1=pca2.pca(ds_test)  #pca\n",
    "ds1_test = df1_test.values\n",
    "x_train = lowDDataMat[:,0:5]\n",
    "y_train = ds1[:,1]\n",
    "x_test = lowDDataMat1[:,0:5]\n",
    "y_test = ds1_test[:,0]\n",
    "\n",
    "dim = x_train.shape[1]\n",
    "model = Sequential()\n",
    "model.add(Dense(100, input_dim=dim, activation='relu'))\n",
    "model.add(Dropout(0.5))\n",
    "model.add(Dense(2, activation='softmax'))\n",
    "\n",
    "model.compile(loss='sparse_categorical_crossentropy', optimizer='rmsprop',metrics=[\"accuracy\"])"
   ]
  },
  {
   "cell_type": "code",
   "execution_count": null,
   "metadata": {},
   "outputs": [],
   "source": [
    "# Change log_dir for differnt activation function, change the number for every run.\n",
    "tbCallBack = keras.callbacks.TensorBoard(log_dir ='./relu/7', histogram_freq=0, write_graph=True, write_images=images = True )"
   ]
  },
  {
   "cell_type": "code",
   "execution_count": 3,
   "metadata": {
    "ExecuteTime": {
     "end_time": "2018-01-05T17:26:16.731605Z",
     "start_time": "2018-01-05T17:26:13.213388Z"
    }
   },
   "outputs": [
    {
     "name": "stdout",
     "output_type": "stream",
     "text": [
      "Train on 359 samples, validate on 90 samples\n",
      "Epoch 1/55\n",
      "359/359 [==============================] - 0s 1ms/step - loss: 4.0254 - acc: 0.3872 - val_loss: 0.8174 - val_acc: 0.6778\n",
      "Epoch 2/55\n",
      "359/359 [==============================] - 0s 40us/step - loss: 1.8889 - acc: 0.6518 - val_loss: 0.4275 - val_acc: 0.8667\n",
      "Epoch 3/55\n",
      "359/359 [==============================] - 0s 44us/step - loss: 1.6619 - acc: 0.7437 - val_loss: 0.3779 - val_acc: 0.9000\n",
      "Epoch 4/55\n",
      "359/359 [==============================] - 0s 39us/step - loss: 1.2615 - acc: 0.7939 - val_loss: 0.4002 - val_acc: 0.9111\n",
      "Epoch 5/55\n",
      "359/359 [==============================] - 0s 39us/step - loss: 1.0897 - acc: 0.8217 - val_loss: 0.3496 - val_acc: 0.9111\n",
      "Epoch 6/55\n",
      "359/359 [==============================] - 0s 45us/step - loss: 0.9659 - acc: 0.8635 - val_loss: 0.3018 - val_acc: 0.9111\n",
      "Epoch 7/55\n",
      "359/359 [==============================] - 0s 45us/step - loss: 1.0479 - acc: 0.8468 - val_loss: 0.2848 - val_acc: 0.9222\n",
      "Epoch 8/55\n",
      "359/359 [==============================] - 0s 1ms/step - loss: 1.0468 - acc: 0.8468 - val_loss: 0.2952 - val_acc: 0.9222\n",
      "Epoch 9/55\n",
      "359/359 [==============================] - 0s 43us/step - loss: 0.7072 - acc: 0.8942 - val_loss: 0.2869 - val_acc: 0.9000\n",
      "Epoch 10/55\n",
      "359/359 [==============================] - 0s 43us/step - loss: 0.8631 - acc: 0.8552 - val_loss: 0.2721 - val_acc: 0.9111\n",
      "Epoch 11/55\n",
      "359/359 [==============================] - 0s 45us/step - loss: 0.8145 - acc: 0.8858 - val_loss: 0.2778 - val_acc: 0.9111\n",
      "Epoch 12/55\n",
      "359/359 [==============================] - 0s 45us/step - loss: 0.6705 - acc: 0.8858 - val_loss: 0.2874 - val_acc: 0.9000\n",
      "Epoch 13/55\n",
      "359/359 [==============================] - 0s 44us/step - loss: 0.7193 - acc: 0.8886 - val_loss: 0.2835 - val_acc: 0.9222\n",
      "Epoch 14/55\n",
      "359/359 [==============================] - 0s 47us/step - loss: 0.7977 - acc: 0.8830 - val_loss: 0.2557 - val_acc: 0.9000\n",
      "Epoch 15/55\n",
      "359/359 [==============================] - 0s 48us/step - loss: 0.5582 - acc: 0.8942 - val_loss: 0.2611 - val_acc: 0.9111\n",
      "Epoch 16/55\n",
      "359/359 [==============================] - 0s 44us/step - loss: 0.5903 - acc: 0.8997 - val_loss: 0.2576 - val_acc: 0.9111\n",
      "Epoch 17/55\n",
      "359/359 [==============================] - 0s 60us/step - loss: 0.5944 - acc: 0.8886 - val_loss: 0.2486 - val_acc: 0.9111\n",
      "Epoch 18/55\n",
      "359/359 [==============================] - 0s 44us/step - loss: 0.8085 - acc: 0.8886 - val_loss: 0.2456 - val_acc: 0.9000\n",
      "Epoch 19/55\n",
      "359/359 [==============================] - 0s 53us/step - loss: 0.4586 - acc: 0.8886 - val_loss: 0.2532 - val_acc: 0.9000\n",
      "Epoch 20/55\n",
      "359/359 [==============================] - 0s 54us/step - loss: 0.5425 - acc: 0.9164 - val_loss: 0.2339 - val_acc: 0.9111\n",
      "Epoch 21/55\n",
      "359/359 [==============================] - 0s 54us/step - loss: 0.4470 - acc: 0.9192 - val_loss: 0.2398 - val_acc: 0.9111\n",
      "Epoch 22/55\n",
      "359/359 [==============================] - 0s 1ms/step - loss: 0.5460 - acc: 0.9025 - val_loss: 0.2418 - val_acc: 0.9000\n",
      "Epoch 23/55\n",
      "359/359 [==============================] - 0s 43us/step - loss: 0.4482 - acc: 0.9136 - val_loss: 0.2351 - val_acc: 0.9111\n",
      "Epoch 24/55\n",
      "359/359 [==============================] - 0s 328us/step - loss: 0.4973 - acc: 0.8969 - val_loss: 0.2427 - val_acc: 0.9000\n",
      "Epoch 25/55\n",
      "359/359 [==============================] - 0s 44us/step - loss: 0.5724 - acc: 0.8830 - val_loss: 0.2289 - val_acc: 0.9222\n",
      "Epoch 26/55\n",
      "359/359 [==============================] - 0s 50us/step - loss: 0.3666 - acc: 0.8997 - val_loss: 0.2363 - val_acc: 0.9111\n",
      "Epoch 27/55\n",
      "359/359 [==============================] - 0s 50us/step - loss: 0.3671 - acc: 0.9053 - val_loss: 0.2387 - val_acc: 0.9111\n",
      "Epoch 28/55\n",
      "359/359 [==============================] - 0s 46us/step - loss: 0.4609 - acc: 0.8997 - val_loss: 0.2371 - val_acc: 0.9111\n",
      "Epoch 29/55\n",
      "359/359 [==============================] - 0s 51us/step - loss: 0.4331 - acc: 0.9164 - val_loss: 0.2297 - val_acc: 0.9222\n",
      "Epoch 30/55\n",
      "359/359 [==============================] - 0s 215us/step - loss: 0.3546 - acc: 0.9053 - val_loss: 0.2265 - val_acc: 0.9222\n",
      "Epoch 31/55\n",
      "359/359 [==============================] - 0s 503us/step - loss: 0.4440 - acc: 0.9136 - val_loss: 0.2264 - val_acc: 0.9222\n",
      "Epoch 32/55\n",
      "359/359 [==============================] - 0s 43us/step - loss: 0.3624 - acc: 0.9192 - val_loss: 0.2325 - val_acc: 0.9000\n",
      "Epoch 33/55\n",
      "359/359 [==============================] - 0s 45us/step - loss: 0.4256 - acc: 0.9164 - val_loss: 0.2192 - val_acc: 0.9111\n",
      "Epoch 34/55\n",
      "359/359 [==============================] - 0s 667us/step - loss: 0.3291 - acc: 0.9136 - val_loss: 0.2096 - val_acc: 0.9222\n",
      "Epoch 35/55\n",
      "359/359 [==============================] - 0s 43us/step - loss: 0.3282 - acc: 0.8942 - val_loss: 0.2127 - val_acc: 0.9222\n",
      "Epoch 36/55\n",
      "359/359 [==============================] - 0s 46us/step - loss: 0.3003 - acc: 0.9053 - val_loss: 0.2165 - val_acc: 0.9111\n",
      "Epoch 37/55\n",
      "359/359 [==============================] - 0s 43us/step - loss: 0.3103 - acc: 0.9053 - val_loss: 0.2129 - val_acc: 0.9222\n",
      "Epoch 38/55\n",
      "359/359 [==============================] - 0s 49us/step - loss: 0.2620 - acc: 0.9192 - val_loss: 0.2099 - val_acc: 0.9111\n",
      "Epoch 39/55\n",
      "359/359 [==============================] - 0s 49us/step - loss: 0.3023 - acc: 0.9109 - val_loss: 0.1974 - val_acc: 0.9222\n",
      "Epoch 40/55\n",
      "359/359 [==============================] - 0s 45us/step - loss: 0.2524 - acc: 0.9276 - val_loss: 0.1920 - val_acc: 0.9222\n",
      "Epoch 41/55\n",
      "359/359 [==============================] - 0s 42us/step - loss: 0.2531 - acc: 0.9109 - val_loss: 0.1887 - val_acc: 0.9222\n",
      "Epoch 42/55\n",
      "359/359 [==============================] - 0s 48us/step - loss: 0.2376 - acc: 0.9276 - val_loss: 0.1865 - val_acc: 0.9333\n",
      "Epoch 43/55\n",
      "359/359 [==============================] - 0s 54us/step - loss: 0.2149 - acc: 0.9304 - val_loss: 0.1899 - val_acc: 0.9333\n",
      "Epoch 44/55\n",
      "359/359 [==============================] - 0s 40us/step - loss: 0.2420 - acc: 0.9109 - val_loss: 0.1841 - val_acc: 0.9333\n",
      "Epoch 45/55\n",
      "359/359 [==============================] - 0s 48us/step - loss: 0.2183 - acc: 0.9248 - val_loss: 0.1805 - val_acc: 0.9333\n",
      "Epoch 46/55\n",
      "359/359 [==============================] - 0s 1ms/step - loss: 0.2034 - acc: 0.9304 - val_loss: 0.1797 - val_acc: 0.9222\n",
      "Epoch 47/55\n",
      "359/359 [==============================] - 0s 49us/step - loss: 0.2561 - acc: 0.9136 - val_loss: 0.1930 - val_acc: 0.9111\n",
      "Epoch 48/55\n",
      "359/359 [==============================] - 0s 51us/step - loss: 0.2176 - acc: 0.9248 - val_loss: 0.1814 - val_acc: 0.9222\n",
      "Epoch 49/55\n",
      "359/359 [==============================] - 0s 47us/step - loss: 0.1834 - acc: 0.9443 - val_loss: 0.1736 - val_acc: 0.9222\n",
      "Epoch 50/55\n",
      "359/359 [==============================] - 0s 43us/step - loss: 0.2138 - acc: 0.9304 - val_loss: 0.1691 - val_acc: 0.9333\n",
      "Epoch 51/55\n",
      "359/359 [==============================] - 0s 38us/step - loss: 0.2353 - acc: 0.9304 - val_loss: 0.1650 - val_acc: 0.9222\n",
      "Epoch 52/55\n",
      "359/359 [==============================] - 0s 877us/step - loss: 0.2156 - acc: 0.9109 - val_loss: 0.1674 - val_acc: 0.9333\n",
      "Epoch 53/55\n",
      "359/359 [==============================] - 0s 45us/step - loss: 0.1838 - acc: 0.9276 - val_loss: 0.1642 - val_acc: 0.9222\n",
      "Epoch 54/55\n",
      "359/359 [==============================] - 0s 39us/step - loss: 0.1866 - acc: 0.9164 - val_loss: 0.1623 - val_acc: 0.9333\n",
      "Epoch 55/55\n",
      "359/359 [==============================] - 0s 37us/step - loss: 0.1645 - acc: 0.9192 - val_loss: 0.1647 - val_acc: 0.9222\n",
      "4\n",
      "['Donovan Mitchell' 'Kyle Kuzma' \"De'Aaron Fox\" 'Ben Simmon']\n"
     ]
    }
   ],
   "source": [
    "idx = list(range(x_train.shape[0]))\n",
    "np.random.shuffle(idx)\n",
    "hist = model.fit(x_train[idx],y_train[idx],validation_split=0.2,epochs=55,shuffle=True, callbacks = [tbCallBack])\n",
    "dnn_predict = model.predict_classes(x_test)\n",
    "print(sum(dnn_predict))\n",
    "print(y_test[dnn_predict == 1])"
   ]
  },
  {
   "cell_type": "code",
   "execution_count": 4,
   "metadata": {
    "ExecuteTime": {
     "end_time": "2018-01-05T17:26:24.521255Z",
     "start_time": "2018-01-05T17:26:23.967699Z"
    }
   },
   "outputs": [
    {
     "data": {
      "image/png": "[encoded data removed]",
      "text/plain": [
       "<matplotlib.figure.Figure at 0x7f35722647b8>"
      ]
     },
     "metadata": {},
     "output_type": "display_data"
    },
    {
     "data": {
      "image/png": "[encoded data removed]",
      "text/plain": [
       "<matplotlib.figure.Figure at 0x7f35721f4198>"
      ]
     },
     "metadata": {},
     "output_type": "display_data"
    }
   ],
   "source": [
    "plt.figure(1)\n",
    "plt.plot(hist.history['acc'])\n",
    "plt.plot(hist.history['val_acc'])\n",
    "plt.title('model accuracy')\n",
    "plt.ylabel('accuracy')\n",
    "plt.xlabel('epoch')\n",
    "plt.legend(['train', 'test'], loc = 'lower right')\n",
    "plt.show()\n",
    "\n",
    "plt.figure(2)\n",
    "plt.plot(hist.history['loss'])\n",
    "plt.plot(hist.history['val_loss'])\n",
    "plt.title('model loss')\n",
    "plt.ylabel('loss')\n",
    "plt.xlabel('epoch')\n",
    "plt.legend(['train', 'test'], loc = 'upper right')\n",
    "plt.show()"
   ]
  },
  {
   "cell_type": "code",
   "execution_count": null,
   "metadata": {},
   "outputs": [],
   "source": [
    "# Change log_dir for differnt activation function, change the number for every run.\n",
    "!tersorboard --logdir = /workspace/Fan-Map/nerual_network/relu/7"
   ]
  }
 ],
 "metadata": {
  "kernelspec": {
   "display_name": "Python 3",
   "language": "python",
   "name": "python3"
  },
  "language_info": {
   "codemirror_mode": {
    "name": "ipython",
    "version": 3
   },
   "file_extension": ".py",
   "mimetype": "text/x-python",
   "name": "python",
   "nbconvert_exporter": "python",
   "pygments_lexer": "ipython3",
   "version": "3.6.3"
  },
  "latex_envs": {
   "LaTeX_envs_menu_present": true,
   "autoclose": false,
   "autocomplete": true,
   "bibliofile": "biblio.bib",
   "cite_by": "apalike",
   "current_citInitial": 1,
   "eqLabelWithNumbers": true,
   "eqNumInitial": 1,
   "hotkeys": {
    "equation": "Ctrl-E",
    "itemize": "Ctrl-I"
   },
   "labels_anchors": false,
   "latex_user_defs": false,
   "report_style_numbering": false,
   "user_envs_cfg": false
  },
  "toc": {
   "nav_menu": {},
   "number_sections": true,
   "sideBar": true,
   "skip_h1_title": false,
   "toc_cell": false,
   "toc_position": {},
   "toc_section_display": "block",
   "toc_window_display": false
  },
  "varInspector": {
   "cols": {
    "lenName": 16,
    "lenType": 16,
    "lenVar": 40
   },
   "kernels_config": {
    "python": {
     "delete_cmd_postfix": "",
     "delete_cmd_prefix": "del ",
     "library": "var_list.py",
     "varRefreshCmd": "print(var_dic_list())"
    },
    "r": {
     "delete_cmd_postfix": ") ",
     "delete_cmd_prefix": "rm(",
     "library": "var_list.r",
     "varRefreshCmd": "cat(var_dic_list()) "
    }
   },
   "types_to_exclude": [
    "module",
    "function",
    "builtin_function_or_method",
    "instance",
    "_Feature"
   ],
   "window_display": false
  }
 },
 "nbformat": 4,
 "nbformat_minor": 2
}
